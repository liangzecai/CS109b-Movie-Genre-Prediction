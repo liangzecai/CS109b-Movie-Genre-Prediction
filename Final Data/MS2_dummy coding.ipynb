{
 "cells": [
  {
   "cell_type": "code",
   "execution_count": 17,
   "metadata": {
    "collapsed": true
   },
   "outputs": [],
   "source": [
    "### Function to convert to string list [u'Action', u'Adventure', u'Fantasy'] into dummy coding\n",
    "\n",
    "## input: \n",
    "           # data = orignal data frame, \n",
    "           # val_name = name of the variable\n",
    "## output: a data frame\n",
    "\n",
    "def string_to_vector(data, val_name):\n",
    "    \n",
    "    from sklearn.feature_extraction.text import CountVectorizer\n",
    "\n",
    "    vectorizer = CountVectorizer(analyzer = \"word\",   \n",
    "                                             tokenizer = None,    \n",
    "                                             preprocessor = None, \n",
    "                                             stop_words = None,   \n",
    "                                             max_features = 5000)\n",
    "\n",
    "    val_data = vectorizer.fit_transform(df[val_name])\n",
    "    df_val = pd.DataFrame(val_data.toarray())\n",
    "    df_val.columns = vectorizer.get_feature_names()\n",
    "    \n",
    "    return df_val"
   ]
  },
  {
   "cell_type": "code",
   "execution_count": 18,
   "metadata": {
    "collapsed": true
   },
   "outputs": [],
   "source": [
    "##### EXMAPLE CODE #####\n",
    "import pandas as pd\n",
    "df = pd.read_csv(\"imdb_top100_data.txt\")\n",
    "\n",
    "df_genres = string_to_vector(df, \"genres\")\n",
    "\n",
    "df_genres.head()"
   ]
  }
 ],
 "metadata": {
  "kernelspec": {
   "display_name": "Python [ipykernel_py2]",
   "language": "python",
   "name": "Python [ipykernel_py2]"
  },
  "language_info": {
   "codemirror_mode": {
    "name": "ipython",
    "version": 2
   },
   "file_extension": ".py",
   "mimetype": "text/x-python",
   "name": "python",
   "nbconvert_exporter": "python",
   "pygments_lexer": "ipython2",
   "version": "2.7.12"
  }
 },
 "nbformat": 4,
 "nbformat_minor": 0
}

