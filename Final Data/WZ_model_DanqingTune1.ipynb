{
 "cells": [
  {
   "cell_type": "code",
   "execution_count": 1,
   "metadata": {
    "collapsed": false,
    "deletable": true,
    "editable": true
   },
   "outputs": [],
   "source": [
    "import pandas as pd\n",
    "import numpy as np\n",
    "import random\n",
    "import matplotlib.pyplot as plt\n",
    "%matplotlib inline\n",
    "from sklearn.metrics import f1_score\n",
    "import scipy as sp\n",
    "from sklearn.linear_model import LogisticRegression\n",
    "from sklearn.model_selection import cross_val_score"
   ]
  },
  {
   "cell_type": "code",
   "execution_count": 111,
   "metadata": {
    "collapsed": true
   },
   "outputs": [],
   "source": [
    "# read in datasets\n",
    "x_test = pd.read_csv('x_test.csv',index_col=0)\n",
    "x_train = pd.read_csv('x_train.csv',index_col=0)\n",
    "y_test = pd.read_csv('y_test.csv',index_col=0)\n",
    "y_train = pd.read_csv('y_train.csv',index_col=0)"
   ]
  },
  {
   "cell_type": "code",
   "execution_count": 112,
   "metadata": {
    "collapsed": false
   },
   "outputs": [],
   "source": [
    "# Function f1_genre\n",
    "# input: two pandas dataframes, \n",
    "    # genre_real: predicted values\n",
    "    # genre_predict: real values\n",
    "# output: mean f1 score of each class\n",
    "def f1_genres(genre_real, genre_predict):\n",
    "    count_row = len(genre_real)\n",
    "    if count_row == 0:\n",
    "        print \"No data in dataframe!\"\n",
    "        return\n",
    "    if count_row != len(genre_predict):\n",
    "        print \"Different length of predicted and real dataframes!\"\n",
    "        return\n",
    "    count_col = len(genre_real.columns)\n",
    "    if count_col == 0:\n",
    "        print \"No data in dataframe!\"\n",
    "        return\n",
    "    if count_col != len(genre_predict.columns):\n",
    "        print \"Different genres of predicted and real dataframes!\"\n",
    "        return\n",
    "    score = 0\n",
    "    for i in range(count_col):\n",
    "        score += f1_score(genre_real[genre_real.columns.values[i]], genre_predict[genre_predict.columns.values[i]])\n",
    "    score = score/count_col\n",
    "    return(score)"
   ]
  },
  {
   "cell_type": "code",
   "execution_count": 113,
   "metadata": {
    "collapsed": false
   },
   "outputs": [],
   "source": [
    "scaler = preprocessing.StandardScaler().fit(x_train)\n",
    "x_train_np = scaler.transform(x_train)\n",
    "x_test_np = scaler.transform(x_test)\n",
    "\n",
    "indexs_train = x_train.index\n",
    "indexs_test = x_test.index\n",
    "x_train = pd.DataFrame(x_train_np, index = indexs_train, columns = x_train.columns)\n",
    "x_test = pd.DataFrame(x_test_np, index = indexs_test, columns = x_test.columns)"
   ]
  },
  {
   "cell_type": "markdown",
   "metadata": {},
   "source": [
    "## Tuning Logistic Regression"
   ]
  },
  {
   "cell_type": "code",
   "execution_count": 122,
   "metadata": {
    "collapsed": false
   },
   "outputs": [],
   "source": [
    "#### TUNING LOGISTIC REGRESSION #####\n",
    "#### parameter c (without cross validation)\n",
    "c = [1, 10, 50, 100, 500, 1000]\n",
    "score_weighted_log_tune = np.zeros(len(c))\n",
    "random.seed(0)\n",
    "\n",
    "from sklearn.model_selection import train_test_split\n",
    "X_train, X_test, Y_train, Y_test = train_test_split(x_train, y_train, test_size=0.4, random_state=0)\n",
    "\n",
    "for i in range(len(c)):\n",
    "    #weighted logistic regression\n",
    "    genre_pred = pd.DataFrame(index = X_test.index) # dataframe to store predicted values of train\n",
    "\n",
    "    for col in y_train.columns:\n",
    "        weighted_logistic = LogisticRegression(class_weight='balanced', C=c[i])\n",
    "        weighted_logistic.fit(X_train, Y_train[col])\n",
    "        genre_pred[col]= weighted_logistic.predict(X_test)\n",
    "\n",
    "    score_weighted_log_tune[i] = f1_genres(Y_test, genre_pred)\n"
   ]
  },
  {
   "cell_type": "code",
   "execution_count": 123,
   "metadata": {
    "collapsed": false
   },
   "outputs": [
    {
     "name": "stdout",
     "output_type": "stream",
     "text": [
      "Best C: 100\n"
     ]
    },
    {
     "data": {
      "image/png": "[encoded data removed]",
      "text/plain": [
       "<matplotlib.figure.Figure at 0x11d4ccd50>"
      ]
     },
     "metadata": {},
     "output_type": "display_data"
    }
   ],
   "source": [
    "c_best = c[np.argmax(score_weighted_log_tune)]\n",
    "print 'Best C:', c_best\n",
    "import matplotlib.pyplot as plt\n",
    "%matplotlib inline\n",
    "plt.plot(c, score_weighted_log_tune)\n",
    "plt.xlabel('C')\n",
    "plt.ylabel('score')\n",
    "plt.title('Tuning weighted logistic regression: C')\n",
    "plt.show()"
   ]
  },
  {
   "cell_type": "code",
   "execution_count": 124,
   "metadata": {
    "collapsed": false
   },
   "outputs": [
    {
     "name": "stdout",
     "output_type": "stream",
     "text": [
      "0.379093348673\n"
     ]
    }
   ],
   "source": [
    "#weighted logistic regression\n",
    "genre_pred = pd.DataFrame(index = x_test.index) # dataframe to store predicted values\n",
    "\n",
    "for col in y_train.columns:\n",
    "    weighted_logistic = LogisticRegression(class_weight='balanced', C = c_best)\n",
    "    weighted_logistic.fit(x_train, y_train[col])\n",
    "    genre_pred[col]= weighted_logistic.predict(x_test)\n",
    "\n",
    "score_weighted_log = f1_genres(y_test, genre_pred)\n",
    "print score_weighted_log"
   ]
  },
  {
   "cell_type": "markdown",
   "metadata": {},
   "source": [
    "-----"
   ]
  }
 ],
 "metadata": {
  "anaconda-cloud": {},
  "kernelspec": {
   "display_name": "Python 2",
   "language": "python",
   "name": "python2"
  },
  "language_info": {
   "codemirror_mode": {
    "name": "ipython",
    "version": 2
   },
   "file_extension": ".py",
   "mimetype": "text/x-python",
   "name": "python",
   "nbconvert_exporter": "python",
   "pygments_lexer": "ipython2",
   "version": "2.7.13"
  }
 },
 "nbformat": 4,
 "nbformat_minor": 0
}
