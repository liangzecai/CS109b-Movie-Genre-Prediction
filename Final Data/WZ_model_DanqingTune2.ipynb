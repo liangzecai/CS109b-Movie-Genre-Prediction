{
 "cells": [
  {
   "cell_type": "code",
   "execution_count": 1,
   "metadata": {
    "collapsed": false,
    "deletable": true,
    "editable": true
   },
   "outputs": [
    {
     "name": "stderr",
     "output_type": "stream",
     "text": [
      "/Users/danqingwang/anaconda/lib/python2.7/site-packages/sklearn/cross_validation.py:44: DeprecationWarning: This module was deprecated in version 0.18 in favor of the model_selection module into which all the refactored classes and functions are moved. Also note that the interface of the new CV iterators are different from that of this module. This module will be removed in 0.20.\n",
      "  \"This module will be removed in 0.20.\", DeprecationWarning)\n"
     ]
    }
   ],
   "source": [
    "import pandas as pd\n",
    "import numpy as np\n",
    "import urllib\n",
    "import random\n",
    "import matplotlib.pyplot as plt\n",
    "%matplotlib inline\n",
    "from sklearn.metrics import f1_score\n",
    "import scipy as sp\n",
    "from sklearn.cross_validation import KFold\n",
    "from sklearn import preprocessing\n",
    "from sklearn.linear_model import LogisticRegression\n",
    "from sklearn.svm import SVC\n",
    "from sklearn.model_selection import cross_val_score"
   ]
  },
  {
   "cell_type": "code",
   "execution_count": 111,
   "metadata": {
    "collapsed": true
   },
   "outputs": [],
   "source": [
    "# read in datasets\n",
    "x_test = pd.read_csv('x_test.csv',index_col=0)\n",
    "x_train = pd.read_csv('x_train.csv',index_col=0)\n",
    "y_test = pd.read_csv('y_test.csv',index_col=0)\n",
    "y_train = pd.read_csv('y_train.csv',index_col=0)"
   ]
  },
  {
   "cell_type": "code",
   "execution_count": 112,
   "metadata": {
    "collapsed": false
   },
   "outputs": [],
   "source": [
    "# Function f1_genre\n",
    "# input: two pandas dataframes, \n",
    "    # genre_real: predicted values\n",
    "    # genre_predict: real values\n",
    "# output: mean f1 score of each class\n",
    "def f1_genres(genre_real, genre_predict):\n",
    "    count_row = len(genre_real)\n",
    "    if count_row == 0:\n",
    "        print \"No data in dataframe!\"\n",
    "        return\n",
    "    if count_row != len(genre_predict):\n",
    "        print \"Different length of predicted and real dataframes!\"\n",
    "        return\n",
    "    count_col = len(genre_real.columns)\n",
    "    if count_col == 0:\n",
    "        print \"No data in dataframe!\"\n",
    "        return\n",
    "    if count_col != len(genre_predict.columns):\n",
    "        print \"Different genres of predicted and real dataframes!\"\n",
    "        return\n",
    "    score = 0\n",
    "    for i in range(count_col):\n",
    "        score += f1_score(genre_real[genre_real.columns.values[i]], genre_predict[genre_predict.columns.values[i]])\n",
    "    score = score/count_col\n",
    "    return(score)"
   ]
  },
  {
   "cell_type": "code",
   "execution_count": 113,
   "metadata": {
    "collapsed": false
   },
   "outputs": [],
   "source": [
    "scaler = preprocessing.StandardScaler().fit(x_train)\n",
    "x_train_np = scaler.transform(x_train)\n",
    "x_test_np = scaler.transform(x_test)\n",
    "\n",
    "indexs_train = x_train.index\n",
    "indexs_test = x_test.index\n",
    "x_train = pd.DataFrame(x_train_np, index = indexs_train, columns = x_train.columns)\n",
    "x_test = pd.DataFrame(x_test_np, index = indexs_test, columns = x_test.columns)"
   ]
  },
  {
   "cell_type": "markdown",
   "metadata": {},
   "source": [
    "## Tuning SVM"
   ]
  },
  {
   "cell_type": "code",
   "execution_count": 134,
   "metadata": {
    "collapsed": false
   },
   "outputs": [
    {
     "name": "stdout",
     "output_type": "stream",
     "text": [
      "Action 1\n",
      "Adventure 1\n",
      "Comedy 1\n",
      "Crime 1\n",
      "Fantasy 1\n",
      "Family 1\n",
      "Romance 1\n",
      "Horror 1\n",
      "Western 10\n",
      "Documentary 1\n",
      "Biography 1\n",
      "Drama 1\n",
      "Animation 1000\n",
      "Sci-Fi 10\n",
      "Thriller 1\n",
      "Short 1\n",
      "Mystery 1\n",
      "Sport 100000\n",
      "War 10\n",
      "History 1\n",
      "Music 10\n",
      "Foreign 1\n",
      "Other 100000\n",
      "0.390064260284\n"
     ]
    }
   ],
   "source": [
    "genre_pred = pd.DataFrame(index = x_test.index) # dataframe to store predicted values\n",
    "c = range(-7, 7)\n",
    "\n",
    "for col in y_train.columns:\n",
    "    k_cv = 5\n",
    "    score_cv = []\n",
    "    for i in range(len(c)):\n",
    "        # fit regularized logistic regression model on training set      \n",
    "        svm = SVC(C=10**c[i], class_weight='balanced')\n",
    "        score_cv += [sum(cross_val_score(svm, x_train, y_train[col], cv = k_cv, scoring = F_score_cv)) / k_cv]\n",
    "    # find best score and corresponding tuning parameter\n",
    "    C_best = 10**c[np.argmax(score_cv)]\n",
    "    print col, C_best\n",
    "    svm = SVC(class_weight='balanced',  C = C_best)\n",
    "    svm.fit(x_train, y_train[col])\n",
    "    genre_pred[col]= svm.predict(x_test)\n",
    "\n",
    "score_svm = f1_genres(y_test, genre_pred)\n",
    "print score_svm"
   ]
  },
  {
   "cell_type": "code",
   "execution_count": 135,
   "metadata": {
    "collapsed": false
   },
   "outputs": [
    {
     "name": "stdout",
     "output_type": "stream",
     "text": [
      "0.390064260284\n"
     ]
    }
   ],
   "source": [
    "print score_svm"
   ]
  },
  {
   "cell_type": "markdown",
   "metadata": {},
   "source": [
    "-----"
   ]
  }
 ],
 "metadata": {
  "anaconda-cloud": {},
  "kernelspec": {
   "display_name": "Python 2",
   "language": "python",
   "name": "python2"
  },
  "language_info": {
   "codemirror_mode": {
    "name": "ipython",
    "version": 2
   },
   "file_extension": ".py",
   "mimetype": "text/x-python",
   "name": "python",
   "nbconvert_exporter": "python",
   "pygments_lexer": "ipython2",
   "version": "2.7.13"
  }
 },
 "nbformat": 4,
 "nbformat_minor": 0
}
