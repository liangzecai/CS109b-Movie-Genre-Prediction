{
 "cells": [
  {
   "cell_type": "markdown",
   "metadata": {},
   "source": [
    "# Downloading the top 500 movies on TMBd from the IMDb database"
   ]
  },
  {
   "cell_type": "code",
   "execution_count": 60,
   "metadata": {},
   "outputs": [],
   "source": [
    "import numpy as np \n",
    "import pandas as pd\n",
    "import matplotlib\n",
    "import matplotlib.pyplot as plt\n",
    "import random\n",
    "\n",
    "%matplotlib inline"
   ]
  },
  {
   "cell_type": "code",
   "execution_count": 61,
   "metadata": {},
   "outputs": [],
   "source": [
    "from imdb import IMDb\n",
    "ia = IMDb()"
   ]
  },
  {
   "cell_type": "code",
   "execution_count": 62,
   "metadata": {},
   "outputs": [],
   "source": [
    "# import TMDb top 500 movies imdb_ids\n",
    "id_list = pd.read_csv('popular_imdb_id.txt', header=None)\n",
    "ID = np.array(id_list)"
   ]
  },
  {
   "cell_type": "code",
   "execution_count": 63,
   "metadata": {},
   "outputs": [],
   "source": [
    "# columns of interest \n",
    "columns = ['title','genres', 'director', 'distributors', 'year', 'rating', 'votes', 'runtimes', \n",
    "          'language codes', 'languages', 'producer', 'mpaa', 'writer', 'top 250 rank', 'kind', \n",
    "           'country codes', 'countries', 'cover url', 'aspect_ratio', 'production companies', \n",
    "           'cinematographer', 'plot outline', 'plot', 'cast', 'animation department', 'original music',\n",
    "           'canonical title', 'editorial department', 'canonical title', 'long imdb title',\n",
    "           'long imdb canonical title', 'smart canonical title', 'smart long imdb canonical title',\n",
    "           'full-size cover url']\n",
    "index = range(1, len(ID)+1) \n",
    "df = pd.DataFrame(index = index, columns=columns)\n",
    "df = df.fillna(0)"
   ]
  },
  {
   "cell_type": "code",
   "execution_count": 64,
   "metadata": {},
   "outputs": [
    {
     "data": {
      "text/plain": [
       "(500, 34)"
      ]
     },
     "execution_count": 64,
     "metadata": {},
     "output_type": "execute_result"
    }
   ],
   "source": [
    "df.shape"
   ]
  },
  {
   "cell_type": "code",
   "execution_count": 1,
   "metadata": {
    "scrolled": false
   },
   "outputs": [
    {
     "ename": "SyntaxError",
     "evalue": "Missing parentheses in call to 'print' (<ipython-input-1-adb75d4e1d70>, line 5)",
     "output_type": "error",
     "traceback": [
      "\u001b[0;36m  File \u001b[0;32m\"<ipython-input-1-adb75d4e1d70>\"\u001b[0;36m, line \u001b[0;32m5\u001b[0m\n\u001b[0;31m    print i\u001b[0m\n\u001b[0m          ^\u001b[0m\n\u001b[0;31mSyntaxError\u001b[0m\u001b[0;31m:\u001b[0m Missing parentheses in call to 'print'\n"
     ]
    }
   ],
   "source": [
    "for i in range(0, len(index)):\n",
    "    movie = ia.get_movie(ID[i])\n",
    "    ia.update(movie)\n",
    "    keys = movie.keys()\n",
    "    print i \n",
    "    for j in range(0, len(columns)):\n",
    "        if columns[j] in keys:\n",
    "            if type(movie[columns[j]]) == list:\n",
    "                result = str(movie[columns[j]])\n",
    "            else:\n",
    "                result = movie[columns[j]]\n",
    "            df.iloc[i,j] = result\n",
    "        else:\n",
    "            df.iloc[i,j] = 'nan'"
   ]
  },
  {
   "cell_type": "code",
   "execution_count": 67,
   "metadata": {},
   "outputs": [],
   "source": [
    "df['imdb_ids'] = pd.Series(ID.reshape(500,), index = df.index)"
   ]
  },
  {
   "cell_type": "code",
   "execution_count": 69,
   "metadata": {},
   "outputs": [],
   "source": [
    "df.to_csv('IMDb_data.txt', encoding='utf-8')"
   ]
  },
  {
   "cell_type": "code",
   "execution_count": 58,
   "metadata": {},
   "outputs": [],
   "source": [
    "# def print_full(x):\n",
    "#     pd.set_option('display.max_rows', len(x))\n",
    "#     print(x)\n",
    "#     pd.reset_option('display.max_rows')"
   ]
  },
  {
   "cell_type": "code",
   "execution_count": null,
   "metadata": {},
   "outputs": [],
   "source": []
  },
  {
   "cell_type": "code",
   "execution_count": null,
   "metadata": {
    "collapsed": true
   },
   "outputs": [],
   "source": []
  }
 ],
 "metadata": {
  "anaconda-cloud": {},
  "kernelspec": {
   "display_name": "cs109_cpu",
   "language": "python",
   "name": "cs109_cpu"
  },
  "language_info": {
   "codemirror_mode": {
    "name": "ipython",
    "version": 3
   },
   "file_extension": ".py",
   "mimetype": "text/x-python",
   "name": "python",
   "nbconvert_exporter": "python",
   "pygments_lexer": "ipython3",
   "version": "3.6.0"
  }
 },
 "nbformat": 4,
 "nbformat_minor": 1
}
