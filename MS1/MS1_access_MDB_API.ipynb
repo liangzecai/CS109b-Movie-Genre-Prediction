{
 "cells": [
  {
   "cell_type": "code",
   "execution_count": 10,
   "metadata": {
    "collapsed": false,
    "deletable": true,
    "editable": true
   },
   "outputs": [],
   "source": [
    "import pandas as pd\n",
    "import urllib\n",
    "from bs4 import BeautifulSoup"
   ]
  },
  {
   "cell_type": "code",
   "execution_count": 11,
   "metadata": {
    "collapsed": false
   },
   "outputs": [],
   "source": [
    "APIKeyZ = \"4074d0170761c40d9c07d9016ddd4965\""
   ]
  },
  {
   "cell_type": "code",
   "execution_count": 12,
   "metadata": {
    "collapsed": true
   },
   "outputs": [],
   "source": [
    "base_url_search = \"https://api.themoviedb.org/3/discover/movie?api_key={}\"\n",
    "sort_desc = \"&sort_by=popularity.desc\"\n",
    "year =  \"&primary_release_year={}\""
   ]
  },
  {
   "cell_type": "code",
   "execution_count": 13,
   "metadata": {
    "collapsed": false
   },
   "outputs": [],
   "source": [
    "# find popular moives in 2016\n",
    "popular_movies = base_url_search.format(APIKeyZ) + sort_desc + year.format(\"2016\")\n",
    "page = urllib.urlopen(popular_movies).read()\n",
    "soup = BeautifulSoup(page, \"lxml\")\n"
   ]
  },
  {
   "cell_type": "code",
   "execution_count": 15,
   "metadata": {
    "collapsed": false
   },
   "outputs": [
    {
     "data": {
      "text/plain": [
       "u'<html>\\n <body>\\n  <p>\\n   {\"page\":1,\"results\":[{\"poster_path\":\"\\\\/s9ye87pvq2IaDvjv9x4IOXVjvA7.jpg\",\"adult\":false,\"overview\":\"A koala named Buster recruits his best friend to help him drum up business for his theater by hosting a singing competition.\",\"release_date\":\"2016-11-23\",\"genre_ids\":[16,35,18,10751,10402],\"id\":335797,\"original_title\":\"Sing\",\"original_language\":\"en\",\"title\":\"Sing\",\"backdrop_path\":\"\\\\/fxDXp8un4qNY9b1dLd7SH6CKzC.jpg\",\"popularity\":99.310355,\"vote_count\":1004,\"video\":false,\"vote_average\":6.7},{\"poster_path\":\"\\\\/gri0DDxsERr6B2sOR1fGLxLpSLx.jpg\",\"adult\":false,\"overview\":\"In 1926, Newt Scamander arrives at the Magical Congress of the United States of America with a magically expanded briefcase, which houses a number of dangerous creatures and their habitats. When the creatures escape from the briefcase, it sends the American wizarding authorities after Newt, and threatens to strain even further the state of magical and non-magical relations.\",\"release_date\":\"2016-11-16\",\"gen'"
      ]
     },
     "execution_count": 15,
     "metadata": {},
     "output_type": "execute_result"
    }
   ],
   "source": [
    "prettified[:1000]"
   ]
  },
  {
   "cell_type": "code",
   "execution_count": 16,
   "metadata": {
    "collapsed": true
   },
   "outputs": [],
   "source": [
    "prettified = soup.prettify()"
   ]
  },
  {
   "cell_type": "code",
   "execution_count": 17,
   "metadata": {
    "collapsed": false
   },
   "outputs": [],
   "source": [
    "import re\n",
    "movie_list = [m.start() for m in re.finditer('\"id\"', prettified)] # this finds all indexes of occurences of \"id\""
   ]
  },
  {
   "cell_type": "code",
   "execution_count": 18,
   "metadata": {
    "collapsed": false
   },
   "outputs": [],
   "source": [
    "# retrive top 10 IDs\n",
    "movie_id_list = []\n",
    "for i in range(10):\n",
    "    j_beginning = 5\n",
    "    movie_id_temp = ''\n",
    "    while (prettified[movie_list[i] + j_beginning].isdigit()):\n",
    "        movie_id_temp += str(prettified[movie_list[i] + j_beginning])\n",
    "        j_beginning += 1\n",
    "    movie_id_list += [int(movie_id_temp)]"
   ]
  },
  {
   "cell_type": "code",
   "execution_count": 19,
   "metadata": {
    "collapsed": false
   },
   "outputs": [
    {
     "data": {
      "text/plain": [
       "[335797,\n",
       " 259316,\n",
       " 127380,\n",
       " 293660,\n",
       " 330459,\n",
       " 329865,\n",
       " 284052,\n",
       " 271110,\n",
       " 346672,\n",
       " 269149]"
      ]
     },
     "execution_count": 19,
     "metadata": {},
     "output_type": "execute_result"
    }
   ],
   "source": [
    "movie_id_list"
   ]
  },
  {
   "cell_type": "code",
   "execution_count": 20,
   "metadata": {
    "collapsed": false
   },
   "outputs": [],
   "source": [
    "import tmdbsimple as tmdb\n",
    "# use \"!pip install tmdbsimple\" to install\n",
    "tmdb.API_KEY = '4074d0170761c40d9c07d9016ddd4965'"
   ]
  },
  {
   "cell_type": "code",
   "execution_count": 179,
   "metadata": {
    "collapsed": false
   },
   "outputs": [
    {
     "data": {
      "text/plain": [
       "[{u'id': 16, u'name': u'Animation'},\n",
       " {u'id': 35, u'name': u'Comedy'},\n",
       " {u'id': 18, u'name': u'Drama'},\n",
       " {u'id': 10751, u'name': u'Family'},\n",
       " {u'id': 10402, u'name': u'Music'}]"
      ]
     },
     "execution_count": 179,
     "metadata": {},
     "output_type": "execute_result"
    }
   ],
   "source": [
    "# search movie by ID and access genres\n",
    "movie = tmdb.Movies(movie_id_list[0])\n",
    "response = movie.info()\n",
    "movie.genres # seems that it returns genre id and corresponding genre"
   ]
  },
  {
   "cell_type": "code",
   "execution_count": 189,
   "metadata": {
    "collapsed": false
   },
   "outputs": [
    {
     "data": {
      "text/plain": [
       "dict"
      ]
     },
     "execution_count": 189,
     "metadata": {},
     "output_type": "execute_result"
    }
   ],
   "source": [
    "type(movie.genres[0])"
   ]
  }
 ],
 "metadata": {
  "anaconda-cloud": {},
  "kernelspec": {
   "display_name": "Python [default]",
   "language": "python",
   "name": "python2"
  },
  "language_info": {
   "codemirror_mode": {
    "name": "ipython",
    "version": 2
   },
   "file_extension": ".py",
   "mimetype": "text/x-python",
   "name": "python",
   "nbconvert_exporter": "python",
   "pygments_lexer": "ipython2",
   "version": "2.7.12"
  }
 },
 "nbformat": 4,
 "nbformat_minor": 0
}
