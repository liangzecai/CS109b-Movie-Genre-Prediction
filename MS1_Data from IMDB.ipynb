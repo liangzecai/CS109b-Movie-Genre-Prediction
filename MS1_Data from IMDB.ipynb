{
 "cells": [
  {
   "cell_type": "markdown",
   "metadata": {},
   "source": [
    "## IMDB"
   ]
  },
  {
   "cell_type": "markdown",
   "metadata": {},
   "source": [
    "# Install"
   ]
  },
  {
   "cell_type": "code",
   "execution_count": null,
   "metadata": {
    "collapsed": true
   },
   "outputs": [],
   "source": [
    "# install imdb by anaconda:\n",
    "\n",
    "conda install --channel https://conda.anaconda.org/edurand imdbpy\n"
   ]
  },
  {
   "cell_type": "code",
   "execution_count": 1,
   "metadata": {
    "collapsed": false,
    "scrolled": true
   },
   "outputs": [],
   "source": [
    "from imdb import IMDb"
   ]
  },
  {
   "cell_type": "markdown",
   "metadata": {},
   "source": [
    "# Functions"
   ]
  },
  {
   "cell_type": "markdown",
   "metadata": {},
   "source": [
    "### .py scripts (functions of the package)\n",
    "https://github.com/alberanid/imdbpy/tree/master/bin\n",
    "\n",
    "get_top_bottom_movies()\n",
    "\n",
    "get.character(\"character ID\")\n",
    "\n",
    "get.company(\"company ID\")\n",
    "\n",
    "get_first_character(\"character name\")\n",
    "\n",
    "get_first_company(\"company name\")\n",
    "\n",
    "get_first_movie(\"movie title\")\n",
    "\n",
    "get_first_person(\"person name\")\n",
    "\n",
    "get_keywords(\"keywords\")\n",
    "\n",
    "get_movie(\"movieID\")\n",
    "\n",
    "get_person(\"personID\")\n",
    "\n",
    "\n",
    "search_character(\"character name\")\n",
    "\n",
    "search_company(\"company name\")\n",
    "\n",
    "search_keyword(\"keyword\")\n",
    "\n",
    "search_movie(\"movie title\")\n",
    "\n",
    "search_person(\"person name\")"
   ]
  },
  {
   "cell_type": "markdown",
   "metadata": {},
   "source": [
    "## Data"
   ]
  },
  {
   "cell_type": "markdown",
   "metadata": {},
   "source": [
    "### 1. Save data to local SQL\n",
    "description: http://imdbpy.sourceforge.net/docs/README.sqldb.txt\n",
    "\n",
    "\n",
    "I still need to figure this out. We can use the next method for Milestone 1 for now."
   ]
  },
  {
   "cell_type": "markdown",
   "metadata": {},
   "source": [
    "### 2. Extract from IMDB server"
   ]
  },
  {
   "cell_type": "code",
   "execution_count": 31,
   "metadata": {
    "collapsed": false
   },
   "outputs": [
    {
     "name": "stdout",
     "output_type": "stream",
     "text": [
      "[u'music department', 'sound crew', 'camera and electrical department', u'distributors', 'rating', 'runtimes', 'costume designer', 'make up', 'year', 'production design', 'miscellaneous crew', 'color info', u'casting department', 'languages', 'votes', 'producer', 'title', 'mpaa', 'assistant director', 'writer', 'production manager', 'casting director', 'visual effects', 'top 250 rank', 'set decoration', 'editor', 'certificates', u'costume department', 'country codes', 'language codes', 'cover url', u'special effects department', 'special effects companies', 'sound mix', u'location management', 'genres', 'director', 'stunt performer', 'miscellaneous companies', 'cinematographer', 'art direction', 'akas', 'aspect ratio', u'production companies', 'kind', u'art department', 'countries', u'transportation department', 'plot outline', 'plot', 'cast', u'animation department', 'original music', u'editorial department', 'canonical title', 'long imdb title', 'long imdb canonical title', 'smart canonical title', 'smart long imdb canonical title', 'full-size cover url']\n"
     ]
    }
   ],
   "source": [
    "## extract from IMDB server\n",
    "ia = IMDb(\"http\")\n",
    "\n",
    "s_result = ia.search_movie('Matrix')\n",
    "\n",
    "the_unt = s_result[0]\n",
    "ia.update(the_unt)\n",
    "print the_unt.keys() # all possible keys"
   ]
  },
  {
   "cell_type": "code",
   "execution_count": 29,
   "metadata": {
    "collapsed": false
   },
   "outputs": [
    {
     "data": {
      "text/plain": [
       "[u'Action', u'Sci-Fi']"
      ]
     },
     "execution_count": 29,
     "metadata": {},
     "output_type": "execute_result"
    }
   ],
   "source": [
    "## extract specific information calling the key\n",
    "the_unt[\"genres\"]"
   ]
  }
 ],
 "metadata": {
  "anaconda-cloud": {},
  "kernelspec": {
   "display_name": "Python [Root]",
   "language": "python",
   "name": "Python [Root]"
  },
  "language_info": {
   "codemirror_mode": {
    "name": "ipython",
    "version": 2
   },
   "file_extension": ".py",
   "mimetype": "text/x-python",
   "name": "python",
   "nbconvert_exporter": "python",
   "pygments_lexer": "ipython2",
   "version": "2.7.12"
  }
 },
 "nbformat": 4,
 "nbformat_minor": 0
}
