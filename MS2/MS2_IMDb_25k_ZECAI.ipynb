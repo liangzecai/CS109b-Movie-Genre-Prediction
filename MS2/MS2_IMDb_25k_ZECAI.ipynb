{
 "cells": [
  {
   "cell_type": "markdown",
   "metadata": {},
   "source": [
    "## Downloading 25k IMDb data"
   ]
  },
  {
   "cell_type": "code",
   "execution_count": 32,
   "metadata": {
    "collapsed": true
   },
   "outputs": [],
   "source": [
    "# import libraries\n",
    "import numpy as np \n",
    "import pandas as pd\n",
    "import matplotlib\n",
    "import matplotlib.pyplot as plt\n",
    "import random\n",
    "from imdb import IMDb\n",
    "\n",
    "%matplotlib inline"
   ]
  },
  {
   "cell_type": "code",
   "execution_count": 33,
   "metadata": {
    "collapsed": false
   },
   "outputs": [],
   "source": [
    "# Import TMDb top 500 movies using imdb_ids\n",
    "id_list = pd.read_csv('imdb_id25K.txt', header=None)\n",
    "ID_full = np.array(id_list)\n",
    "\n",
    "# Separate into top half and bottom half IDs for danqing and zecai to download\n",
    "ID_tophalf = ID_full[:12500]\n",
    "ID_bottomhalf = ID_full[12500:]"
   ]
  },
  {
   "cell_type": "code",
   "execution_count": 38,
   "metadata": {
    "collapsed": false
   },
   "outputs": [],
   "source": [
    "####### ZECAI DOWNLOADS THE BOTTON 12500 ENTRIES ######\n",
    "ID = ID_bottomhalf "
   ]
  },
  {
   "cell_type": "code",
   "execution_count": 20,
   "metadata": {
    "collapsed": true
   },
   "outputs": [],
   "source": [
    "# Prepare an empty dataframe to record data \n",
    "# Among the different variables, we select the following variables of interest in our analysis  \n",
    "columns = ['title','genres', 'director', 'distributors', 'year', 'rating', 'votes', 'runtimes', \n",
    "          'language codes', 'languages', 'producer', 'mpaa', 'writer', 'top 250 rank', 'kind', \n",
    "           'country codes', 'countries', 'cover url', 'aspect_ratio', 'production companies', \n",
    "           'cinematographer', 'plot outline', 'plot', 'cast', 'animation department', 'original music',\n",
    "           'canonical title', 'editorial department', 'canonical title', 'long imdb title',\n",
    "           'long imdb canonical title', 'smart canonical title', 'smart long imdb canonical title',\n",
    "           'full-size cover url']\n",
    "index = range(1, len(ID)+1) \n",
    "\n",
    "df = pd.DataFrame(index = index, columns=columns)\n",
    "df = df.fillna(0)"
   ]
  },
  {
   "cell_type": "markdown",
   "metadata": {},
   "source": [
    "### REAL DOWNLOAD STARTS HERE"
   ]
  },
  {
   "cell_type": "code",
   "execution_count": null,
   "metadata": {
    "collapsed": true
   },
   "outputs": [],
   "source": [
    "# Fill in dataframe df \n",
    "ia = IMDb()\n",
    "for i in range(0, len(index)):\n",
    "    movie = ia.get_movie(ID[i]) # grab movie data by id\n",
    "    ia.update(movie)\n",
    "    keys = movie.keys() # generate the available keys of this particular movie \n",
    "    \n",
    "    for j in range(0, len(columns)):\n",
    "        if columns[j] in keys:\n",
    "            if type(movie[columns[j]]) == list:\n",
    "                result = str(movie[columns[j]])\n",
    "            else:\n",
    "                result = movie[columns[j]]\n",
    "            df.iloc[i,j] = result\n",
    "        else:\n",
    "            df.iloc[i,j] = 'nan'\n",
    "\n",
    "# add column if IDs to the dataframe\n",
    "df['imdb_ids'] = pd.Series(ID.reshape(500,), index = df.index)"
   ]
  },
  {
   "cell_type": "code",
   "execution_count": 40,
   "metadata": {
    "collapsed": true
   },
   "outputs": [],
   "source": [
    "# export dataframe to txt file\n",
    "df.to_csv('IMDb_25K_BottomHalf.txt', encoding='utf-8')"
   ]
  }
 ],
 "metadata": {
  "kernelspec": {
   "display_name": "Python [Root]",
   "language": "python",
   "name": "Python [Root]"
  },
  "language_info": {
   "codemirror_mode": {
    "name": "ipython",
    "version": 2
   },
   "file_extension": ".py",
   "mimetype": "text/x-python",
   "name": "python",
   "nbconvert_exporter": "python",
   "pygments_lexer": "ipython2",
   "version": "2.7.12"
  }
 },
 "nbformat": 4,
 "nbformat_minor": 0
}
