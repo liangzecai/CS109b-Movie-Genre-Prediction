{
 "cells": [
  {
   "cell_type": "code",
   "execution_count": null,
   "metadata": {
    "collapsed": true
   },
   "outputs": [],
   "source": [
    "##### The function to parse data downloaded from IMDB\n",
    "##### import the raw data by data_name, and specify the file name of the parsed data frame\n",
    "\n",
    "def parse_tmdb(data_name = \"tmdb_data_25K.txt\", new_name = \"tmdb_data_25K_parse.txt\"):\n",
    "\n",
    "        import pandas as pd\n",
    "        import numpy as np\n",
    "        import re\n",
    "        import warnings\n",
    "        warnings.filterwarnings(\"ignore\")\n",
    "\n",
    "        #### load the imdb data to be parsed\n",
    "        df = pd.read_csv(data_name)\n",
    "\n",
    "        ## copy column \"mpaa\" to store the reason of MPAA rating\n",
    "        df2 = df\n",
    "\n",
    "        \n",
    "        #### for each row of the data\n",
    "        for i in range(len(df)):\n",
    "\n",
    "                ### -----------------------------------------------------------------------\n",
    "                ## for variables with multiple items, return a list (later turn into dummy coding)\n",
    "\n",
    "                for val in [\"production_countries\", \"genres\", \"spoken_languages\", \"production_companies\"]:\n",
    "                        if type(df.ix[i,val]) == str:  # when the entry is not 'float(nan)'\n",
    "                                st = df.ix[i,val]\n",
    "                                value = st[3:-2].split(\"', u'\") \n",
    "                                df2[val][i] = value\n",
    "  \n",
    "                    \n",
    "        df2.to_csv(new_name)"
   ]
  }
 ],
 "metadata": {
  "kernelspec": {
   "display_name": "Python [ipykernel_py2]",
   "language": "python",
   "name": "Python [ipykernel_py2]"
  },
  "language_info": {
   "codemirror_mode": {
    "name": "ipython",
    "version": 2
   },
   "file_extension": ".py",
   "mimetype": "text/x-python",
   "name": "python",
   "nbconvert_exporter": "python",
   "pygments_lexer": "ipython2",
   "version": "2.7.12"
  }
 },
 "nbformat": 4,
 "nbformat_minor": 0
}
