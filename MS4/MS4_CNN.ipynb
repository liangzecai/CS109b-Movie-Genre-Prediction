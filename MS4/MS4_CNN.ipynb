{
 "cells": [
  {
   "cell_type": "code",
   "execution_count": 28,
   "metadata": {
    "collapsed": false,
    "deletable": true,
    "editable": true
   },
   "outputs": [],
   "source": [
    "### load data [1000, 244, 244, 3]\n",
    "import numpy as np\n",
    "\n",
    "data_x = np.load(\"data_image_cnn_1000.npy\")\n",
    "data_y = np.load(\"data_genre_1000.npy\")"
   ]
  },
  {
   "cell_type": "code",
   "execution_count": 29,
   "metadata": {
    "collapsed": false,
    "deletable": true,
    "editable": true
   },
   "outputs": [
    {
     "name": "stdout",
     "output_type": "stream",
     "text": [
      "float16\n",
      "int16\n"
     ]
    }
   ],
   "source": [
    "### change data type\n",
    "data_x = np.float16(data_x)\n",
    "print (data_x.dtype)\n",
    "\n",
    "data_y = np.int16(data_y)\n",
    "print (data_y.dtype)"
   ]
  },
  {
   "cell_type": "code",
   "execution_count": 30,
   "metadata": {
    "collapsed": false,
    "deletable": true,
    "editable": true
   },
   "outputs": [
    {
     "name": "stdout",
     "output_type": "stream",
     "text": [
      "(1000, 224, 224, 3)\n",
      "(1000, 8)\n"
     ]
    }
   ],
   "source": [
    "print(data_x.shape)\n",
    "print(data_y.shape)"
   ]
  },
  {
   "cell_type": "markdown",
   "metadata": {
    "deletable": true,
    "editable": true
   },
   "source": [
    "#### Sampled Data (n = 1000) for CNN model:\n",
    "X: data_image_cnn (1000 x 224 x 224 x 3)\n",
    "\n",
    "y: data_genre (1000 x 8)"
   ]
  },
  {
   "cell_type": "code",
   "execution_count": 31,
   "metadata": {
    "collapsed": false,
    "deletable": true,
    "editable": true
   },
   "outputs": [],
   "source": [
    "from __future__ import print_function\n",
    "\n",
    "import keras\n",
    "from keras.models import Sequential\n",
    "from keras.layers import Dense, Activation, Conv2D, MaxPooling2D, Flatten, Dropout\n",
    "\n",
    "from keras.optimizers import SGD\n",
    "\n",
    "from keras import initializers\n",
    "from keras import regularizers\n",
    "from keras.callbacks import ReduceLROnPlateau, EarlyStopping\n",
    "\n",
    "from keras import backend as K\n",
    "\n",
    "import matplotlib.pyplot as plt"
   ]
  },
  {
   "cell_type": "code",
   "execution_count": 39,
   "metadata": {
    "collapsed": false,
    "deletable": true,
    "editable": true
   },
   "outputs": [
    {
     "name": "stdout",
     "output_type": "stream",
     "text": [
      "_________________________________________________________________\n",
      "Layer (type)                 Output Shape              Param #   \n",
      "=================================================================\n",
      "block1_conv1 (Conv2D)        (None, 56, 56, 32)        896       \n",
      "_________________________________________________________________\n",
      "block1_pool (MaxPooling2D)   (None, 18, 18, 32)        0         \n",
      "_________________________________________________________________\n",
      "dropout_24 (Dropout)         (None, 18, 18, 32)        0         \n",
      "_________________________________________________________________\n",
      "block2_conv1 (Conv2D)        (None, 8, 8, 32)          9248      \n",
      "_________________________________________________________________\n",
      "block2_pool (MaxPooling2D)   (None, 4, 4, 32)          0         \n",
      "_________________________________________________________________\n",
      "flatten_24 (Flatten)         (None, 512)               0         \n",
      "_________________________________________________________________\n",
      "dense_69 (Dense)             (None, 64)                32832     \n",
      "_________________________________________________________________\n",
      "dense_70 (Dense)             (None, 64)                4160      \n",
      "_________________________________________________________________\n",
      "dense_71 (Dense)             (None, 8)                 520       \n",
      "=================================================================\n",
      "Total params: 47,656.0\n",
      "Trainable params: 47,656.0\n",
      "Non-trainable params: 0.0\n",
      "_________________________________________________________________\n"
     ]
    }
   ],
   "source": [
    "he = initializers.he_normal()  # initializer\n",
    "\n",
    "### ------- Baseline CNN - Layers ------- ###\n",
    "model = Sequential()\n",
    "# add [kernel_initializer] and [kernel_regularizer] for each activation layer\n",
    "model.add(Conv2D(32, kernel_size=(3, 3), strides = 4, activation='relu', \n",
    "                 kernel_initializer=he, kernel_regularizer=regularizers.l2(0.01),\n",
    "                 name = \"block1_conv1\",\n",
    "                 input_shape=(224,224,3)))\n",
    "model.add(MaxPooling2D(pool_size=(3, 3), name = \"block1_pool\"))\n",
    "model.add(Dropout(0.5))  # dropout layer\n",
    "model.add(Conv2D(32, kernel_size=(3, 3), strides = 2, activation='relu', \n",
    "          kernel_initializer=he, kernel_regularizer=regularizers.l2(0.01), name = \"block2_conv1\"))\n",
    "model.add(MaxPooling2D(pool_size=(2, 2), name = \"block2_pool\"))\n",
    "model.add(Flatten())\n",
    "model.add(Dense(64, activation='relu'))\n",
    "model.add(Dense(64, activation='relu'))\n",
    "\n",
    "# and an output layer\n",
    "model.add(Dense(8, activation='sigmoid'))\n",
    "\n",
    "model.summary()"
   ]
  },
  {
   "cell_type": "code",
   "execution_count": 33,
   "metadata": {
    "collapsed": true,
    "deletable": true,
    "editable": true
   },
   "outputs": [],
   "source": [
    "### Parameters\n",
    "lr = 0.001\n",
    "momentum = 0.9\n",
    "batch_size = 64\n",
    "epochs = 100"
   ]
  },
  {
   "cell_type": "code",
   "execution_count": 40,
   "metadata": {
    "collapsed": true
   },
   "outputs": [],
   "source": [
    "## learning rate\n",
    "reduce_lr = ReduceLROnPlateau(monitor='val_acc', factor=0.2, patience=10, min_lr=0.0001)\n",
    "\n",
    "## early stopping\n",
    "from keras.callbacks import EarlyStopping\n",
    "early_stopping = EarlyStopping(monitor='val_acc', patience=50)\n",
    "\n",
    "callbacks_list = [early_stopping, reduce_lr]"
   ]
  },
  {
   "cell_type": "code",
   "execution_count": 41,
   "metadata": {
    "collapsed": false,
    "deletable": true,
    "editable": true
   },
   "outputs": [],
   "source": [
    "### ------- Baseline CNN - Optimization ------- ###\n",
    "sgd = SGD(lr=lr, momentum=momentum)  # momentum = [0.9, 0.99]\n",
    "model.compile(loss='binary_crossentropy',\n",
    "                  optimizer=sgd,\n",
    "                  metrics=['accuracy'])"
   ]
  },
  {
   "cell_type": "code",
   "execution_count": 42,
   "metadata": {
    "collapsed": false,
    "deletable": true,
    "editable": true
   },
   "outputs": [],
   "source": [
    "### ------- Baseline CNN - Train Model ------- ###\n",
    "history0 = model.fit(data_x, data_y,\n",
    "                        batch_size=batch_size,\n",
    "                        epochs=epochs,\n",
    "                        verbose=0,\n",
    "                        validation_split=0.2,\n",
    "                        callbacks = callbacks_list)\n"
   ]
  },
  {
   "cell_type": "code",
   "execution_count": 43,
   "metadata": {
    "collapsed": false,
    "deletable": true,
    "editable": true
   },
   "outputs": [
    {
     "data": {
      "image/png": "[encoded data removed]",
      "text/plain": [
       "<matplotlib.figure.Figure at 0x7fb660e43a50>"
      ]
     },
     "metadata": {},
     "output_type": "display_data"
    }
   ],
   "source": [
    "### Baseline CNN - Evaluation ###\n",
    "plt.plot(history0.history['acc'], color = 'blue', label = 'train')\n",
    "plt.plot(history0.history['val_acc'], color = 'red', label = 'test')\n",
    "plt.xlabel(\"epoch\")\n",
    "plt.ylabel(\"accuracy\")\n",
    "plt.legend()\n",
    "plt.title('CNN - Model 0')\n",
    "plt.show()"
   ]
  },
  {
   "cell_type": "code",
   "execution_count": null,
   "metadata": {
    "collapsed": true
   },
   "outputs": [],
   "source": []
  },
  {
   "cell_type": "markdown",
   "metadata": {},
   "source": [
    "Question:\n",
    "- error: OOM when [Trainable params] reaches ~ 70,000\n",
    "- what to tune when acc stagnize\n",
    "- shared variable ampng layers (kernel_initializer=he, kernel_regularizer, ...)\n",
    "- use of early_stop and reduce_lr or lr_decay\n",
    "- where is dropput() layer"
   ]
  },
  {
   "cell_type": "code",
   "execution_count": null,
   "metadata": {
    "collapsed": true
   },
   "outputs": [],
   "source": []
  }
 ],
 "metadata": {
  "kernelspec": {
   "display_name": "Python 2",
   "language": "python",
   "name": "python2"
  },
  "language_info": {
   "codemirror_mode": {
    "name": "ipython",
    "version": 2
   },
   "file_extension": ".py",
   "mimetype": "text/x-python",
   "name": "python",
   "nbconvert_exporter": "python",
   "pygments_lexer": "ipython2",
   "version": "2.7.12"
  }
 },
 "nbformat": 4,
 "nbformat_minor": 0
}
