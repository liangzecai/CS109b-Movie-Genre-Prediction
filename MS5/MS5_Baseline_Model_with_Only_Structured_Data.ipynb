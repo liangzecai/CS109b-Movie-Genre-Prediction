{
 "cells": [
  {
   "cell_type": "code",
   "execution_count": 29,
   "metadata": {},
   "outputs": [],
   "source": [
    "import warnings\n",
    "warnings.filterwarnings('ignore')"
   ]
  },
  {
   "cell_type": "code",
   "execution_count": 5,
   "metadata": {},
   "outputs": [],
   "source": [
    "import pandas as pd\n",
    "import numpy as np\n",
    "import random\n",
    "\n",
    "import matplotlib.pyplot as plt\n",
    "%matplotlib inline\n",
    "\n",
    "import scipy as sp\n",
    "from sklearn.metrics import f1_score\n",
    "from sklearn.model_selection import KFold\n",
    "from sklearn import preprocessing\n",
    "from sklearn.linear_model import LogisticRegression\n",
    "from sklearn.discriminant_analysis import LinearDiscriminantAnalysis as LDA\n",
    "from sklearn.discriminant_analysis import QuadraticDiscriminantAnalysis as QDA\n",
    "from sklearn.neighbors import KNeighborsClassifier as KNN\n",
    "from sklearn.tree import DecisionTreeClassifier as DecisionTree\n",
    "from sklearn.ensemble import RandomForestClassifier as RandomForest\n",
    "from sklearn.svm import SVC\n",
    "from sklearn.model_selection import cross_val_score"
   ]
  },
  {
   "cell_type": "code",
   "execution_count": 2,
   "metadata": {},
   "outputs": [],
   "source": [
    "def f1_genres(genre_real, genre_predict):\n",
    "    ''' loss function f1_genre\n",
    "    input: two pandas dataframes, \n",
    "        genre_real: predicted values\n",
    "        genre_predict: real values\n",
    "    output: mean f1 score of each class \n",
    "    '''\n",
    "    count_row = len(genre_real)\n",
    "    if count_row == 0:\n",
    "        print(\"No data in dataframe!\")\n",
    "        return\n",
    "    if count_row != len(genre_predict):\n",
    "        print(\"Different length of predicted and real dataframes!\")\n",
    "        return\n",
    "    count_col = len(genre_real.columns)\n",
    "    if count_col == 0:\n",
    "        print(\"No data in dataframe!\")\n",
    "        return\n",
    "    if count_col != len(genre_predict.columns):\n",
    "        print(\"Different genres of predicted and real dataframes!\")\n",
    "        return\n",
    "    score = 0\n",
    "    for i in range(count_col):\n",
    "        score += f1_score(genre_real[genre_real.columns.values[i]], genre_predict[genre_predict.columns.values[i]])\n",
    "    score = score/count_col\n",
    "    return(score)"
   ]
  },
  {
   "cell_type": "code",
   "execution_count": 6,
   "metadata": {},
   "outputs": [],
   "source": [
    "data_dir = \"../Final_Data/\""
   ]
  },
  {
   "cell_type": "code",
   "execution_count": 10,
   "metadata": {},
   "outputs": [],
   "source": [
    "## read in datasets\n",
    "x_test = pd.read_csv(data_dir + \"x_test.csv\",index_col=0)\n",
    "x_train = pd.read_csv(data_dir + \"x_train.csv\",index_col=0)\n",
    "y_test = pd.read_csv(data_dir + \"y_test.csv\",index_col=0)\n",
    "y_train = pd.read_csv(data_dir + \"y_train.csv\",index_col=0)"
   ]
  },
  {
   "cell_type": "code",
   "execution_count": 13,
   "metadata": {},
   "outputs": [
    {
     "name": "stdout",
     "output_type": "stream",
     "text": [
      "(2500, 118)\n",
      "(2500, 118)\n",
      "(2500, 23)\n",
      "(2500, 23)\n"
     ]
    }
   ],
   "source": [
    "print(x_train.shape)\n",
    "print(x_test.shape)\n",
    "print(y_train.shape)\n",
    "print(y_test.shape)"
   ]
  },
  {
   "cell_type": "code",
   "execution_count": 32,
   "metadata": {},
   "outputs": [
    {
     "data": {
      "text/plain": [
       "array(['year', 'rating', 'votes', 'popularity_TMDB', 'runtime_TMDB',\n",
       "       'text_PC1', 'text_PC2', 'text_PC3', 'text_PC4', 'text_PC5',\n",
       "       'text_PC6', 'text_PC7', 'text_PC8', 'text_PC9', 'text_PC10',\n",
       "       'text_PC11', 'text_PC12', 'text_PC13', 'text_PC14', 'text_PC15',\n",
       "       'text_PC16', 'text_PC17', 'text_PC18', 'text_PC19', 'text_PC20',\n",
       "       'text_PC21', 'text_PC22', 'text_PC23', 'text_PC24', 'text_PC25',\n",
       "       'text_PC26', 'text_PC27', 'text_PC28', 'text_PC29', 'text_PC30',\n",
       "       'mpaa_PC1', 'mpaa_PC2', 'mpaa_PC3', 'mpaa_PC4', 'mpaa_PC5',\n",
       "       'mpaa_PC6', 'mpaa_PC7', 'mpaa_PC8', 'mpaa_PC9', 'mpaa_PC10',\n",
       "       'director0', 'director1', 'director2', 'director3', 'director4',\n",
       "       'director5', 'director6', 'director7', 'director8', 'director9',\n",
       "       'director10', 'director11', 'director12', 'director13',\n",
       "       'director14', 'director15', 'director16', 'director17',\n",
       "       'director18', 'director19', 'director20', 'director21',\n",
       "       'director22', 'writer0', 'writer1', 'writer2', 'writer3',\n",
       "       'writer4', 'writer5', 'writer6', 'writer7', 'writer8', 'writer9',\n",
       "       'writer10', 'writer11', 'writer12', 'writer13', 'writer14',\n",
       "       'writer15', 'writer16', 'writer17', 'writer18', 'writer19',\n",
       "       'writer20', 'writer21', 'writer22', 'cast_PC1', 'cast_PC2',\n",
       "       'cast_PC3', 'cast_PC4', 'cast_PC5', 'cast_PC6', 'cast_PC7',\n",
       "       'cast_PC8', 'cast_PC9', 'cast_PC10', 'production companies_PC1',\n",
       "       'production companies_PC2', 'production companies_PC3',\n",
       "       'production companies_PC4', 'production companies_PC5',\n",
       "       'animation department count', 'original music count', 'country_n',\n",
       "       'country_usa', 'country_france', 'country_uk', 'country_germany',\n",
       "       'country_italy', 'country_canada', 'country_japan',\n",
       "       'country_india', 'country_spain'], dtype=object)"
      ]
     },
     "execution_count": 32,
     "metadata": {},
     "output_type": "execute_result"
    }
   ],
   "source": [
    "x_train.columns.values"
   ]
  },
  {
   "cell_type": "code",
   "execution_count": 33,
   "metadata": {},
   "outputs": [],
   "source": [
    "baseline_feature = ['year', 'rating', 'votes', 'popularity_TMDB', 'runtime_TMDB',\n",
    "                   'animation department count', 'original music count', 'country_n',\n",
    "                    'country_usa', 'country_france', 'country_uk', 'country_germany',\n",
    "                    'country_italy', 'country_canada', 'country_japan',\n",
    "                    'country_india', 'country_spain']\n",
    "x_train_base = x_train[baseline_feature]\n",
    "x_test_base = x_test[baseline_feature]"
   ]
  },
  {
   "cell_type": "code",
   "execution_count": 34,
   "metadata": {},
   "outputs": [
    {
     "name": "stdout",
     "output_type": "stream",
     "text": [
      "F1 Score: 0.13717116396031673\n"
     ]
    }
   ],
   "source": [
    "# Unweighted logistic regression\n",
    "random.seed(123)\n",
    "\n",
    "genre_pred = pd.DataFrame(index = x_test_base.index) # dataframe to store predicted values\n",
    "\n",
    "for col in y_train.columns:\n",
    "    unweighted_logistic = LogisticRegression()\n",
    "    unweighted_logistic.fit(x_train_base, y_train[col])\n",
    "    genre_pred[col]= unweighted_logistic.predict(x_test_base)\n",
    "\n",
    "score_unweighted_log = f1_genres(y_test, genre_pred)\n",
    "print(\"F1 Score:\", score_unweighted_log)"
   ]
  },
  {
   "cell_type": "code",
   "execution_count": null,
   "metadata": {},
   "outputs": [],
   "source": []
  }
 ],
 "metadata": {
  "kernelspec": {
   "display_name": "cs109_cpu",
   "language": "python",
   "name": "cs109_cpu"
  },
  "language_info": {
   "codemirror_mode": {
    "name": "ipython",
    "version": 3
   },
   "file_extension": ".py",
   "mimetype": "text/x-python",
   "name": "python",
   "nbconvert_exporter": "python",
   "pygments_lexer": "ipython3",
   "version": "3.6.0"
  }
 },
 "nbformat": 4,
 "nbformat_minor": 2
}
