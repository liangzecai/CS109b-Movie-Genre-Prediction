{
 "cells": [
  {
   "cell_type": "markdown",
   "metadata": {},
   "source": [
    "# CS109b Final Project\n",
    "\n",
    "# Milestone 5 CLASSICAL PART\n",
    "\n",
    "\n",
    "by Danqing Wang, Wenshan Zheng, Zecai Liang\n",
    "\n",
    "\n",
    "---"
   ]
  },
  {
   "cell_type": "markdown",
   "metadata": {},
   "source": [
    "# Part 1. Feature Engineering"
   ]
  },
  {
   "cell_type": "markdown",
   "metadata": {},
   "source": [
    "### Variable Group 1: ['year', 'rating', 'votes', 'popularity_TMDB', 'runtime_TMDB']\n",
    "- variable ['year', 'rating', 'votes'] have missing values as 'NaN': we impute the missing value in training and test data with the mean value of training data\n",
    "- [popularity_TMDB'] have missing values as 0: we impute the missing value in training and test data with the mean value of training data\n",
    "- ['runtime_TMDB'] have missing values as 0 and as 'NaN': we perform the same mean imputation\n",
    "\n",
    "### Variables Group 2: ['title', 'plot', 'plot outline', 'overview_TMDB', 'tagline_TMDB']\n",
    "- we combine all the text information for one movie, split the paragraph of string into bag-of-words, and return the top 30 PCs\n",
    "- we used the PCA model trained from the training data to transform the test data\n",
    "\n",
    "### Variable Group 3: ['mpaa']\n",
    "- we extracted the text as the reason for 'mpaa', and applied similar text analysis as variable group 2, and return return the top 10 PCs\n",
    "\n",
    "### Variable Group 4: ['director', 'cast', 'production company', 'writer']\n",
    "- ['director', 'writer']: We analyse the training data and rank the top few most representative directors/writer in each genre. We extract the top director/writer from each genre and use them as new predictor columns, and transform the training data into a new dataframe using one-hot-encoding. We also form a similar dataframe for the test dataset using the same columns. Since the dataframes are sparse, we expect some of the directors/writers selected by the training data analysis not represented at all in the test dataset, and therefore will have columns with NULL values. We replace these NULL values with 0s.\n",
    "- ['cast', 'production companies']: We analyse the training data and rank the top 5 most representative cast members/production companies in each genre. We extract the lists of cast members/production companies and use one-hot-encoding to form a dataframe of 1s and 0s consisting of all movies in the training set. We then perform PCA on the dataframe and select the top five PCs for both cast and production companies. We then use these PCs to transform the test dataset into the new basis, and prepare it for model fitting.\n",
    "\n",
    "### Variables Group 5: ['animation department', 'original music']\n",
    "- we extract the number of person ID for both department, representing the number of staff working there\n",
    "\n",
    "### Variables Group 6: ['countries']\n",
    "- we return the number of countries for each movie with variable name 'country_n'\n",
    "- we also record if the movie is produced in one of the following major countries: ['usa', 'france', 'uk', 'germany', 'italy', 'canada', 'japan', 'india', 'spain'] "
   ]
  },
  {
   "cell_type": "markdown",
   "metadata": {},
   "source": [
    "### Response: ['genres']\n",
    "\n",
    "- There are in total 28 genres in imdb, which are: 'Action', 'Adventure', 'Comedy', 'Crime', 'Fantasy', 'Family', 'Romance', 'Horror', 'Reality-TV', 'Western', 'Documentary', 'Biography', 'News', 'Film-Noir', 'Drama', 'Animation', 'Sci-Fi', 'Thriller', 'Short', 'Mystery', 'Sport', 'War', 'History', 'Game-Show', 'Music', 'Musical' and 'Talk-Show'.\n",
    "Becaues 'Music' and 'Musical' is very similar, we combine these 2 genres thus we have 27 genres.\n",
    "\n",
    "- In tmdb, there are 19 genres. However, most genres in tmdb are included in imdb, the only exception is 'TV movie' thus it is added to genre list and now we have 28 genres.\n",
    "\n",
    "- Then we assign each movie's genres into a multi binomial genre list with 28 values correspongding to if it belongs to each of these 28 genres.\n",
    "\n",
    "- Then we found that 'TV movie', 'Game-Show', 'Reality-TV', 'Talk-Show', 'News' and 'Film-Noir' only have less then 300 movies assigned, which is far less than our 25K moives number, so we combine these 6 genres into a genre'Other'.\n",
    "\n",
    "- After these, we have in total 23 genres which are 'Action', 'Adventure', 'Comedy', 'Crime', 'Fantasy', 'Family', 'Romance', 'Horror', 'Western', 'Documentary', 'Biography', 'Drama', 'Animatio', 'Sci-Fi', 'Thriller', 'Short', 'Mystery', 'Sport', 'War', 'History', 'Music', 'Foreign' and 'Other'."
   ]
  },
  {
   "cell_type": "code",
   "execution_count": 38,
   "metadata": {
    "collapsed": true
   },
   "outputs": [],
   "source": [
    "import pandas as pd\n",
    "\n",
    "x_full = pd.read_csv('data_feature_4865.csv')\n",
    "y_full = pd.read_csv('y_full.csv')"
   ]
  },
  {
   "cell_type": "code",
   "execution_count": 41,
   "metadata": {},
   "outputs": [
    {
     "data": {
      "text/plain": [
       "Index([u'Unnamed: 0', u'imdb_ids', u'title', u'director', u'distributors',\n",
       "       u'year', u'rating', u'votes', u'languages', u'producer', u'mpaa',\n",
       "       u'writer', u'top 250 rank', u'countries', u'aspect_ratio',\n",
       "       u'production companies', u'cinematographer', u'plot outline', u'plot',\n",
       "       u'cast', u'animation department', u'original music',\n",
       "       u'editorial department', u'mpaa_reason', u'revenue_TMDB',\n",
       "       u'overview_TMDB', u'tagline_TMDB', u'vote_count_TMDB',\n",
       "       u'belongs_to_collection_TMDB', u'original_language_TMDB',\n",
       "       u'status_TMDB', u'release_date_TMDB', u'popularity_TMDB',\n",
       "       u'budget_TMDB', u'vote_average_TMDB', u'runtime_TMDB'],\n",
       "      dtype='object')"
      ]
     },
     "execution_count": 41,
     "metadata": {},
     "output_type": "execute_result"
    }
   ],
   "source": [
    "x_train.columns"
   ]
  },
  {
   "cell_type": "code",
   "execution_count": 73,
   "metadata": {},
   "outputs": [],
   "source": [
    "x_train, x_test, y_train, y_test = generate_train_test_data(x_full, y_full)"
   ]
  },
  {
   "cell_type": "code",
   "execution_count": 74,
   "metadata": {},
   "outputs": [
    {
     "data": {
      "text/plain": [
       "(3000, 9)"
      ]
     },
     "execution_count": 74,
     "metadata": {},
     "output_type": "execute_result"
    }
   ],
   "source": [
    "y_train.shape"
   ]
  },
  {
   "cell_type": "code",
   "execution_count": 75,
   "metadata": {
    "collapsed": true
   },
   "outputs": [],
   "source": [
    "x_train.to_csv(\"x_train.csv\")\n",
    "x_test.to_csv(\"x_test.csv\")\n",
    "y_train.to_csv(\"y_train.csv\")\n",
    "y_test.to_csv(\"y_test.csv\")"
   ]
  },
  {
   "cell_type": "markdown",
   "metadata": {},
   "source": [
    "### Run functions in the supplement before running this function"
   ]
  },
  {
   "cell_type": "code",
   "execution_count": 72,
   "metadata": {
    "collapsed": true
   },
   "outputs": [],
   "source": [
    "###### Function to generate train and test data for classification models #######\n",
    "### ------ Input ---------- ###\n",
    "# feature_data: a data frame with original features from IMDB and TMDB\n",
    "# genre_data: a data grame with genres (already merged turned into one-hot coding), \n",
    "#             matching the feature_data by 'imdb_ids'\n",
    "# n_sample: the number of data points to sample from the input data frame to fit model\n",
    "# train_ratio: the percentage of training data among sampled data\n",
    "# ran_state: seed for random sampling\n",
    "\n",
    "\n",
    "def generate_train_test_data(x_full, y_full):\n",
    "    \n",
    "    import pandas as pd\n",
    "    import numpy as np\n",
    "    import re\n",
    "    import random\n",
    "    import warnings\n",
    "    warnings.filterwarnings(\"ignore\")\n",
    "\n",
    "    # ------------------------------------------------------------------------------------------------------ #     \n",
    "    \n",
    "    ### split into train and test data ###\n",
    "    \n",
    "    x_train = x_full[:3000]\n",
    "    x_test = x_full[3000:]\n",
    "    y_train = y_full[:3000]\n",
    "    y_test = y_full[3000:]\n",
    "    \n",
    "    \n",
    "    # ------------------------------------------------------------------------------------------------------ # \n",
    "    ### Variable Group 1: ['year', 'rating', 'votes', 'popularity_TMDB', 'runtime_TMDB'] ###\n",
    "\n",
    "    val_group1 = ['year', 'rating', 'votes', 'popularity_TMDB', 'runtime_TMDB']\n",
    "    \n",
    "    ## missing value imputation ##\n",
    "    # use the mean from train data to fill test data \n",
    "\n",
    "    # 'year', 'rating', 'votes' have missing values as 'NaN', fill by column mean\n",
    "    x_train.ix[x_train['year'].isnull(), 'year'] = x_train['year'].mean()\n",
    "    x_test.ix[x_test['year'].isnull(), 'year'] = x_train['year'].mean()\n",
    "\n",
    "    x_train.ix[x_train['rating'].isnull(), 'rating'] = x_train['rating'].mean()\n",
    "    x_test.ix[x_test['rating'].isnull(), 'rating'] = x_train['rating'].mean()\n",
    "\n",
    "    x_train.ix[x_train['votes'].isnull(), 'votes'] = x_train['votes'].mean()\n",
    "    x_test.ix[x_test['votes'].isnull(), 'votes'] = x_train['votes'].mean()\n",
    "\n",
    "    # 'popularity_TMDB' have missing values as 0, replace by column mean\n",
    "    x_train.ix[x_train['popularity_TMDB'] == 0, 'popularity_TMDB'] = x_train['popularity_TMDB'].mean()\n",
    "    x_test.ix[x_test['popularity_TMDB'] == 0, 'popularity_TMDB'] = x_train['popularity_TMDB'].mean()\n",
    "    \n",
    "    # 'runtime_TMDB' have missing values as 0 and 'NaN'\n",
    "    value = x_train['runtime_TMDB'].mean()\n",
    "    x_train.ix[x_train['runtime_TMDB'] == 0, 'runtime_TMDB'] = value\n",
    "    x_train.ix[x_train['runtime_TMDB'].isnull(), 'runtime_TMDB'] = value\n",
    "    x_test.ix[x_test['runtime_TMDB'] == 0, 'runtime_TMDB'] = value\n",
    "    x_test.ix[x_test['runtime_TMDB'].isnull(), 'runtime_TMDB'] = value\n",
    "    \n",
    "    \n",
    "    ## use x_train_new, x_test_new to record the transformed data\n",
    "    x_train_group1 = x_train[val_group1]\n",
    "    x_test_group1 = x_test[val_group1]\n",
    "\n",
    "    \n",
    "    # ------------------------------------------------------------------------------------------------------ # \n",
    "    ### Variables Group 2: ['title', 'plot', 'plot outline', 'overview_TMDB', 'tagline_TMDB', 'mpaa_reason'] ###\n",
    "\n",
    "    ## combine the text in ['title', 'plot', 'plot outline', 'overview_TMDB', 'tagline_TMDB']\n",
    "\n",
    "#     x_train_text = x_train['title'].str.cat([x_train['plot'], x_train['plot outline'], \n",
    "#                               x_train['overview_TMDB'], x_train['tagline_TMDB']], \n",
    "#                               na_rep = \" \")\n",
    "#     x_train_text = pd.DataFrame(x_train_text, index = x_train.index)\n",
    "\n",
    "#     x_test_text = x_test['title'].str.cat([x_test['plot'], x_train['plot outline'], \n",
    "#                               x_test['overview_TMDB'], x_test['tagline_TMDB']], \n",
    "#                               na_rep = \" \")\n",
    "#     x_test_text = pd.DataFrame(x_test_text, index = x_test.index)\n",
    "\n",
    "#     ## apply text analysis on combined text and return the top 30 PCs\n",
    "#     x_train_group2, x_test_group2 = text_analysis(x_train_text, x_test_text,\n",
    "#                                              val_name = 'text', n_components = 30)\n",
    "\n",
    "    \n",
    "    # ------------------------------------------------------------------------------------------------------ # \n",
    "    ### Variables Group 3: [mpaa_reason'] ###\n",
    "\n",
    "    ## apply text analysis on 'mpaa_reason' and return thr PCs that cover 60% variance\n",
    "    x_train_mpaa = pd.DataFrame(x_train['mpaa_reason'], index = x_train.index)\n",
    "    x_test_mpaa = pd.DataFrame(x_test['mpaa_reason'], index = x_test.index)\n",
    "    \n",
    "    x_train_group3, x_test_group3 = text_analysis(x_train_mpaa, x_test_mpaa,\n",
    "                                             val_name = 'mpaa', n_components = 10)\n",
    "    \n",
    "    \n",
    "    # ------------------------------------------------------------------------------------------------------ # \n",
    "    ### Variables Group 4: ['director', 'cast', 'production company', 'writer'] ###\n",
    "    \n",
    "    x_train_group4_1, x_test_group4_1 = top_features(train_feature = x_train, train_genre = y_train,\n",
    "                                        test_feature = x_test, test_genre = y_test,\n",
    "                                        val_name = 'director',\n",
    "                                        val_n = 1)\n",
    "    \n",
    "    x_train_group4_2, x_test_group4_2 = top_features(train_feature = x_train, train_genre = y_train,\n",
    "                                        test_feature = x_test, test_genre = y_test,\n",
    "                                        val_name = 'writer',\n",
    "                                        val_n = 1)\n",
    "\n",
    "    x_train_group4_3, x_test_group4_3 = top_features_pca(train_feature = x_train, train_genre = y_train,\n",
    "                                        test_feature = x_test, test_genre = y_test,\n",
    "                                         val_name = 'cast',\n",
    "                                         val_n = 5,\n",
    "                                         pca_n = 10)\n",
    "\n",
    "    x_train_group4_4, x_test_group4_4 = top_features_pca(train_feature = x_train, train_genre = y_train,\n",
    "                                        test_feature = x_test, test_genre = y_test,\n",
    "                                         val_name = 'production companies',\n",
    "                                         val_n = 5,\n",
    "                                         pca_n = 5)\n",
    "     \n",
    "    x_train_group4 = pd.concat([x_train_group4_1, x_train_group4_2,\n",
    "                               x_train_group4_3, x_train_group4_4], axis = 1)\n",
    "    x_test_group4 = pd.concat([x_test_group4_1, x_test_group4_2,\n",
    "                               x_test_group4_3, x_test_group4_4], axis = 1)\n",
    "    \n",
    "    # ------------------------------------------------------------------------------------------------------ # \n",
    "    ### Variables Group 5: ['animation department', 'original music'] ###\n",
    "    \n",
    "    # return x_train_group5, x_test_group5\n",
    "    \n",
    "    x_train_group5_1, x_test_group5_1 = feature_to_count(train_feature = x_train, train_genre = y_train,\n",
    "                                        test_feature = x_test, test_genre = y_test,\n",
    "                                        val_name = 'animation department')\n",
    "\n",
    "    x_train_group5_2, x_test_group5_2 = feature_to_count(train_feature = x_train, train_genre = y_train,\n",
    "                                        test_feature = x_test, test_genre = y_test,\n",
    "                                        val_name = 'original music')\n",
    "    \n",
    "    \n",
    "    x_train_group5 = pd.concat([x_train_group5_1, x_train_group5_2], axis = 1)\n",
    "    x_test_group5 = pd.concat([x_test_group5_1, x_test_group5_2], axis = 1)\n",
    "    \n",
    "    \n",
    "    # ------------------------------------------------------------------------------------------------------ # \n",
    "    ### Variables Group 6: ['countries'] ###\n",
    "    x_train_country = text_to_matrix(pd.DataFrame(x_train['countries'], index = x_train.index))\n",
    "    x_test_country = text_to_matrix(pd.DataFrame(x_test['countries'], index = x_test.index))\n",
    "    \n",
    "    x_train_country.index = x_train.index\n",
    "    x_test_country.index = x_test.index\n",
    "    \n",
    "      # count the number of countries for each movie\n",
    "    x_train_group6_1 = pd.DataFrame(x_train_country.sum(axis = 1), columns = ['country_n'])\n",
    "    x_test_group6_1 = pd.DataFrame(x_test_country.sum(axis = 1), columns = ['country_n'])\n",
    "    \n",
    "      # keep the information of major countries\n",
    "    country_major = ['usa', 'france', 'uk', 'germany', 'italy', 'canada', 'japan', 'india', 'spain']\n",
    "    x_train_group6_2 = x_train_country[country_major]\n",
    "    x_train_group6_2.columns = ['country_usa', 'country_france', \n",
    "                                 'country_uk', 'country_germany',\n",
    "                                 'country_italy', 'country_canada', \n",
    "                                 'country_japan', 'country_india', 'country_spain'] \n",
    "    x_test_group6_2 = x_test_country[country_major]\n",
    "    x_test_group6_2.columns = ['country_usa', 'country_france', \n",
    "                                 'country_uk', 'country_germany',\n",
    "                                 'country_italy', 'country_canada', \n",
    "                                 'country_japan', 'country_india', 'country_spain']\n",
    "    \n",
    "    # ------------------------------------------------------------------------------------------------------ # \n",
    "    ### Combine Engineered Features ###\n",
    "    x_train_new = pd.concat([x_train_group1, x_train_group3, \n",
    "                             x_train_group4, x_train_group5,\n",
    "                             x_train_group6_1, x_train_group6_2], axis=1)\n",
    "    \n",
    "    x_test_new = pd.concat([x_test_group1, x_test_group3, \n",
    "                             x_test_group4, x_test_group5,\n",
    "                            x_test_group6_1, x_test_group6_2], axis=1)\n",
    "     \n",
    "    return (x_train_new, x_test_new, y_train, y_test)"
   ]
  },
  {
   "cell_type": "markdown",
   "metadata": {},
   "source": [
    "## Supplement: functions that are used in the above meta-function:"
   ]
  },
  {
   "cell_type": "code",
   "execution_count": 29,
   "metadata": {
    "collapsed": true
   },
   "outputs": [],
   "source": [
    "##### part of the function to apply text analysis to a data series #####\n",
    "#### to transform a text paragraph to bag-of-words than to one-hot coding\n",
    "\n",
    "\n",
    "#----------------------------------------------------------------------------------------------------\n",
    "### Input ###\n",
    "        # data: a series for text analysis\n",
    "\n",
    "        \n",
    "### Output ###\n",
    "        # the transformed data in one-hot coding\n",
    "#----------------------------------------------------------------------------------------------------        \n",
    "\n",
    "\n",
    "\n",
    "def text_to_matrix(data):\n",
    "    \n",
    "    import pandas as pd\n",
    "    import numpy as np\n",
    "    import re\n",
    "    import warnings\n",
    "    warnings.filterwarnings(\"ignore\")\n",
    "    \n",
    "    \n",
    "    \n",
    "    ## --------------- Bag-of-Words --------------- ##\n",
    "    \n",
    "    ## string to list\n",
    "    import re\n",
    "    col_words = []\n",
    "    \n",
    "    for i in range(data.shape[0]):\n",
    "    \n",
    "        if type(data.iloc[i,0]) == str: \n",
    "            letters_only = re.sub(\"[^a-zA-Z]\", \" \" , data.iloc[i,0]) # remove non-letter\n",
    "            lower_case = letters_only.lower().split()   # Convert to lower case # Split into words\n",
    "            \n",
    "            # avoid downloading nltk\n",
    "            # from NLTK stopwords https://pythonprogramming.net/stop-words-nltk-tutorial/\n",
    "            stops = {'ourselves', 'hers', 'between', 'yourself', 'but', 'again', 'there', 'about', 'once', \n",
    "                     'during', 'out', 'very', 'having', 'with', 'they', 'own', 'an', 'be', 'some', 'for', \n",
    "                     'do', 'its', 'yours', 'such', 'into', 'of', 'most', 'itself', 'other', 'off', 'is', \n",
    "                     's', 'am', 'or', 'who', 'as', 'from', 'him', 'each', 'the', 'themselves', 'until', \n",
    "                     'below', 'are', 'we', 'these', 'your', 'his', 'through', 'don', 'nor', 'me', 'were', \n",
    "                     'her', 'more', 'himself', 'this', 'down', 'should', 'our', 'their', 'while', 'above', \n",
    "                     'both', 'up', 'to', 'ours', 'had', 'she', 'all', 'no', 'when', 'at', 'any', 'before', \n",
    "                     'them', 'same', 'and', 'been', 'have', 'in', 'will', 'on', 'does', 'yourselves', 'then', \n",
    "                     'that', 'because', 'what', 'over', 'why', 'so', 'can', 'did', 'not', 'now', 'under', 'he', \n",
    "                     'you', 'herself', 'has', 'just', 'where', 'too', 'only', 'myself', 'which', 'those', 'i', \n",
    "                     'after', 'few', 'whom', 't', 'being', 'if', 'theirs', 'my', 'against', 'a', 'by', 'doing', \n",
    "                     'it', 'how', 'further', 'was', 'here', 'than'} \n",
    "            meaningful_words = [w for w in lower_case if not w in stops]  # Remove stop words from \"words\"\n",
    "            \n",
    "            words = ( \" \".join(meaningful_words))\n",
    "    \n",
    "        else: words = \"NA\"\n",
    "       \n",
    "        col_words.append(words)\n",
    "        \n",
    "        \n",
    "    \n",
    "    ## list to vector\n",
    "    from sklearn.feature_extraction.text import CountVectorizer\n",
    "\n",
    "    # Initialize the \"CountVectorizer\" object\n",
    "    vectorizer = CountVectorizer(analyzer = \"word\",   \n",
    "                                 tokenizer = None,    \n",
    "                                 preprocessor = None, \n",
    "                                 stop_words = None,   \n",
    "                                 max_features = 20000)\n",
    "\n",
    "    data_array = vectorizer.fit_transform(col_words)\n",
    "    data_array = pd.DataFrame(data_array.toarray())\n",
    "    data_array.columns = vectorizer.get_feature_names()\n",
    "    \n",
    "    return data_array\n",
    "    "
   ]
  },
  {
   "cell_type": "markdown",
   "metadata": {},
   "source": [
    "### Function for Variable ['title', 'plot', 'plot outline', 'overview_TMDB', 'tagline_TMDB', 'mpaa_reason']"
   ]
  },
  {
   "cell_type": "code",
   "execution_count": 30,
   "metadata": {
    "collapsed": true
   },
   "outputs": [],
   "source": [
    "##### Function to apply text analysis to a column with `colname` in the data file `filename`\n",
    "\n",
    "\n",
    "#----------------------------------------------------------------------------------------------------\n",
    "### Input ###\n",
    "        # train: the train data in one-hot coding\n",
    "        # test: the test data in one-hot coding\n",
    "        # val_name:  variable name that's used in naming the columns as \"val_name_PCi\"\n",
    "        # n_components: if value is int, the number of PCs to return\n",
    "                       # if value between (0,1), the variance explained by the PCs returnd\n",
    "        \n",
    "### Output ###\n",
    "        # data matrix of engineered feature, one for train data and one for test data\n",
    "#----------------------------------------------------------------------------------------------------        \n",
    "\n",
    "\n",
    "def text_analysis(train, test, val_name, n_components):\n",
    "    \n",
    "    ## turn each text paragraph into one-hot coding\n",
    "    train_array = text_to_matrix(train)\n",
    "    test_array = text_to_matrix(test)\n",
    "    \n",
    "    ## take the union set of words in train and text data as column\n",
    "    ## words that don't show up are assigned 0\n",
    "    align_column = pd.concat([train_array,test_array], axis=0).fillna(0)\n",
    "    # keep only the gas-of-words from training data\n",
    "    align_column = align_column[train_array.columns]\n",
    "    \n",
    "    ## split into train and text after aligning the columns\n",
    "    train_array = align_column.iloc[0:train_array.shape[0], ]\n",
    "    test_array = align_column.iloc[train_array.shape[0]:, ]\n",
    "    \n",
    "    ## PCA\n",
    "    from sklearn.decomposition import PCA\n",
    "    pca = PCA(n_components = n_components)\n",
    "    pca.fit(train_array)\n",
    "    train_new = pd.DataFrame(pca.transform(train_array), index = train.index)\n",
    "    test_new = pd.DataFrame(pca.transform(test_array), index = test.index)\n",
    "    test_new = test_new.fillna(value = 0)\n",
    "    \n",
    "    col_names = []\n",
    "    for i in range(train_new.shape[1]):\n",
    "        i_name = val_name + \"_PC\" + str(i+1)\n",
    "        col_names.append(i_name)\n",
    "        \n",
    "    train_new.columns = col_names\n",
    "    test_new.columns = col_names\n",
    "    \n",
    "    return (train_new, test_new)\n",
    "    "
   ]
  },
  {
   "cell_type": "markdown",
   "metadata": {},
   "source": [
    "### Function used in the following functions"
   ]
  },
  {
   "cell_type": "code",
   "execution_count": 31,
   "metadata": {
    "collapsed": true
   },
   "outputs": [],
   "source": [
    "### Function to convert to string list [u'Action', u'Adventure', u'Fantasy'] into dummy coding\n",
    "## input: \n",
    "           # data = orignal data frame, \n",
    "           # val_name = name of the variable\n",
    "## output: a data frame\n",
    "\n",
    "def string_to_vector(data, val_name):\n",
    "    \n",
    "    from sklearn.feature_extraction.text import CountVectorizer\n",
    "    \n",
    "    # convert any np.nan to a string 'nan'\n",
    "    data[val_name][pd.isnull(data[val_name])] = 'nan'\n",
    "    \n",
    "    vectorizer = CountVectorizer(analyzer = \"word\",   \n",
    "                                             tokenizer = None,    \n",
    "                                             preprocessor = None, \n",
    "                                             stop_words = None,   \n",
    "                                             max_features = 50000)\n",
    "\n",
    "    val_data = vectorizer.fit_transform(data[val_name])\n",
    "    df_val = pd.DataFrame(val_data.toarray())\n",
    "    df_val.columns = vectorizer.get_feature_names()\n",
    "    df_val.index = data.index\n",
    "    \n",
    "    return df_val"
   ]
  },
  {
   "cell_type": "markdown",
   "metadata": {},
   "source": [
    "### Function for Variable ['director', 'writer']"
   ]
  },
  {
   "cell_type": "code",
   "execution_count": 32,
   "metadata": {
    "collapsed": true
   },
   "outputs": [],
   "source": [
    "### Function considers a particular feature of interest (e.g. director, writer) \n",
    "### and picks out the top val_n most important value in each genre\n",
    "### Input: \n",
    "# - train_feature: df with 2500 train observations, all feature columns, indexed with imdb_ids\n",
    "# - train_genre: df with 2500 train observations, all genre columns, indexed with imdb_ids\n",
    "# - test_feature: df with 2500 test observations, all feature columns, indexed with imdb_ids \n",
    "# - test_genre: df with 2500 test observations, all genre columns, indexed with imdb_ids\n",
    "# - val_name # feature of interest, eg. director\n",
    "# - val_n # number of top values to take, eg. 1\n",
    "### Output:\n",
    "# - train_val: df with 2500 train observations, new columns of top directors, indexed with imdb_ids\n",
    "# - test_val: df with 2500 test observations, new columns of top directors, indexed with imdb_ids\n",
    "\n",
    "def top_features(train_feature, train_genre, test_feature, test_genre,\n",
    "                val_name = 'director', val_n = 1):\n",
    "\n",
    "    # convert feature of interest into dummy variables in train set and test set\n",
    "    feature_val_train = string_to_vector(train_feature, val_name)\n",
    "    feature_val_test = string_to_vector(test_feature, val_name)\n",
    "\n",
    "    # create a dataframe with columns consisting of all directors and all genres, rows are movie entries \n",
    "    feature_val_genre = pd.concat([feature_val_train, train_genre], axis = 1)\n",
    "    \n",
    "    # generate list of top directors in each genre \n",
    "    val_list = []\n",
    "    for i in train_genre.columns:\n",
    "        sum_val_in_genre = feature_val_genre.ix[feature_val_genre[i] == 1, range(feature_val_train.shape[1]-1)].sum(axis = 0)\n",
    "        sum_val_in_genre_sorted = sum_val_in_genre.sort(inplace=False, ascending = False)\n",
    "        for j in range(val_n):\n",
    "            top_val_in_genre = sum_val_in_genre_sorted.index[j]\n",
    "            val_list.append(top_val_in_genre)      \n",
    "\n",
    "    # output dataframes of movies with new columns\n",
    "    train_val = feature_val_train.ix[:, val_list] \n",
    "    test_val = feature_val_test.ix[:, val_list]\n",
    "    \n",
    "    # replace any NA vaalues in the test set with 0\n",
    "    test_val = test_val.fillna(value = 0)\n",
    "    \n",
    "    # rename columns as director1, director2, etc\n",
    "    col_names = []\n",
    "    for i in range(train_val.shape[1]):\n",
    "            i_name = val_name + str(i)\n",
    "            col_names.append(i_name)\n",
    "    train_val.columns = col_names\n",
    "    test_val.columns = col_names\n",
    "\n",
    "    return(train_val, test_val)"
   ]
  },
  {
   "cell_type": "markdown",
   "metadata": {},
   "source": [
    "### Function for Variable ['cast','production company']"
   ]
  },
  {
   "cell_type": "code",
   "execution_count": 33,
   "metadata": {
    "collapsed": true
   },
   "outputs": [],
   "source": [
    "### Function considers a particular feature of interest (e.g. cast, production companies) \n",
    "### and picks out the top val_n most important value in each genre\n",
    "### and then performs PCA, picks out the top pca_n numbers of components\n",
    "### Input: \n",
    "# - train_feature: df with 2500 train observations, all feature columns, indexed with imdb_ids\n",
    "# - train_genre: df with 2500 train observations, all genre columns, indexed with imdb_ids\n",
    "# - test_feature: df with 2500 test observations, all feature columns, indexed with imdb_ids \n",
    "# - test_genre: df with 2500 test observations, all genre columns, indexed with imdb_ids\n",
    "# - val_name # feature of interest, eg. director\n",
    "# - val_n # number of top values to take, eg. 5\n",
    "# - pca_n # number of pca components to retain, eg. 5\n",
    "### Output:\n",
    "# - train_val: df with 3000 train observations, columns as pca components, indexed with imdb_ids\n",
    "# - test_val: df with 2000 test observations, columns as pca components, indexed with imdb_ids\n",
    "\n",
    "def top_features_pca(train_feature, train_genre, test_feature, test_genre,\n",
    "                     val_name = 'cast',\n",
    "                     val_n = 5,\n",
    "                     pca_n = 5):\n",
    "    \n",
    "    ## Step 1, pick top casts in each genre using top_feature function \n",
    "    train_val, test_val = top_features(train_feature = train_feature,\n",
    "                    train_genre = train_genre,\n",
    "                    test_feature = test_feature,\n",
    "                    test_genre = test_genre,\n",
    "                    val_name = val_name,\n",
    "                    val_n = val_n)\n",
    "    \n",
    "    # replace any NA values in test set with 0 (or will have problem in pca.transform)\n",
    "    test_val = test_val.fillna(value=0)\n",
    "\n",
    "    ## Step 2, perform PCA\n",
    "    from sklearn.decomposition import PCA\n",
    "    \n",
    "    pca = PCA(n_components = pca_n, svd_solver = \"full\") # keep the first pca_n PCs\n",
    "    pca = pca.fit(train_val)\n",
    "    train_pca = pd.DataFrame(pca.transform(train_val), index = train_val.index)\n",
    "    test_pca = pd.DataFrame(pca.transform(test_val), index = test_val.index)\n",
    "\n",
    "    ## Step 3, rename the columns as cast_PC1, cast_PC2, etc. \n",
    "    col_names = []\n",
    "    for i in range(pca_n):\n",
    "            i_name = val_name + \"_PC\" + str(i+1)\n",
    "            col_names.append(i_name)\n",
    "    train_pca.columns = col_names\n",
    "    test_pca.columns = col_names\n",
    "\n",
    "    return (train_pca, test_pca)"
   ]
  },
  {
   "cell_type": "markdown",
   "metadata": {},
   "source": [
    "### Function for Variable ['animatino department', 'original music']"
   ]
  },
  {
   "cell_type": "code",
   "execution_count": 34,
   "metadata": {
    "collapsed": true
   },
   "outputs": [],
   "source": [
    "### Function considers a particular feature of interest (e.g. animation department, original music) \n",
    "### and counts the number of member occurance in each movie \n",
    "### Input: \n",
    "# - train_feature: df with 2500 train observations, all feature columns, indexed with imdb_ids\n",
    "# - test_feature: df with 2500 test observations, all feature columns, indexed with imdb_ids \n",
    "# - val_name # feature of interest, eg. animation department\n",
    "### Output:\n",
    "# - train_count: df with 2500 train observations, new column of count, indexed with imdb_ids\n",
    "# - test_count: df with 2500 test observations, new column of count, indexed with imdb_ids\n",
    "\n",
    "def feature_to_count(train_feature, train_genre, test_feature, test_genre,\n",
    "                val_name = 'animation department'):\n",
    "    \n",
    "    # convert column to number of counts of members \n",
    "    train_count = pd.DataFrame(string_to_vector(train_feature, val_name).ix[:,:-1].sum(axis=1), \n",
    "                               columns = {val_name + ' count'})\n",
    "    test_count = pd.DataFrame(string_to_vector(test_feature, val_name).ix[:,:-1].sum(axis=1), \n",
    "                              columns = {val_name + ' count'})\n",
    "    \n",
    "    return(train_count, test_count)"
   ]
  },
  {
   "cell_type": "markdown",
   "metadata": {},
   "source": [
    "---\n",
    "# Part 2. Performance Metrics"
   ]
  },
  {
   "cell_type": "markdown",
   "metadata": {},
   "source": [
    "ref: http://scikit-learn.org/stable/modules/generated/sklearn.metrics.f1_score.html\n",
    "\n",
    "We considered three metircs to use:\n",
    "\n",
    "#### F1 Score: #### \n",
    "- For each movie to be predicted, we use the `f1_score` function from `sklearn.metrics` package to compare the predicted value (23-long vector with 0 and 1 for each genre) and true value. To start with, we can calculate metrics for each label, and find their unweighted mean. This does not take label imbalance into account.\n",
    "- We choose F1 score because we care about both false positive and false negative mistakes. For now we are giving them the same weights, so we take the harmonic mean of precision and recall. But this can be further adjusted depending on the application of this prediction (whether it's worse to mis-classified a genre or to miss a genre).\n",
    "\n",
    "#### weighted F1 Score: #### \n",
    "- We can also use the 'weighted average' for F1 score: calculate metrics for each label, and find their average, weighted by support (the number of true instances for each label). This accounts for inbalanced data.\n",
    "\n",
    "#### IoU Score ####\n",
    "- We also exlored another metric: Intersection over Union (IoU). Accuracy score here is defined as (intersection between real and predicted vectors) / (union between real and predicted vectors). It also moniters both false positive and false negtive mistakes.\n",
    "\n",
    "For the following model tuning, we'll use unweighted F1 score."
   ]
  },
  {
   "cell_type": "markdown",
   "metadata": {},
   "source": [
    "#### The function to calculate averaged F1 score:"
   ]
  },
  {
   "cell_type": "code",
   "execution_count": 1,
   "metadata": {
    "collapsed": true
   },
   "outputs": [],
   "source": [
    "# Function f1_genre\n",
    "# input: two pandas dataframes, \n",
    "    # genre_real: predicted values\n",
    "    # genre_predict: real values\n",
    "# output: mean f1 score of each class\n",
    "def f1_genres(genre_real, genre_predict):\n",
    "    count_row = len(genre_real)\n",
    "    if count_row == 0:\n",
    "        print \"No data in dataframe!\"\n",
    "        return\n",
    "    if count_row != len(genre_predict):\n",
    "        print \"Different length of predicted and real dataframes!\"\n",
    "        return\n",
    "    count_col = len(genre_real.columns)\n",
    "    if count_col == 0:\n",
    "        print \"No data in dataframe!\"\n",
    "        return\n",
    "    if count_col != len(genre_predict.columns):\n",
    "        print \"Different genres of predicted and real dataframes!\"\n",
    "        return\n",
    "    score = 0\n",
    "    for i in range(count_col):\n",
    "        score += f1_score(genre_real[genre_real.columns.values[i]], genre_predict[genre_predict.columns.values[i]])\n",
    "    score = score/count_col\n",
    "    return(score)"
   ]
  },
  {
   "cell_type": "markdown",
   "metadata": {},
   "source": [
    "#### Function to calculate the aveage IoU score:"
   ]
  },
  {
   "cell_type": "code",
   "execution_count": 2,
   "metadata": {
    "collapsed": true
   },
   "outputs": [],
   "source": [
    "# Function score_genre\n",
    "# input: two pandas dataframes, \n",
    "    # genre_real: predicted values\n",
    "    # genre_predict: real values\n",
    "# output: mean accuracy of prediction\n",
    "# accuracy score here is defined as \n",
    "    # (intersection between real and predicted vectors) / (union between real and predicted vectors)\n",
    "\n",
    "def score_genre(genre_real, genre_predict):\n",
    "    count_row = len(genre_real)\n",
    "    if count_row == 0:\n",
    "        print \"No data in dataframe!\"\n",
    "        return\n",
    "    if count_row != len(genre_predict):\n",
    "        print \"Different length of predicted and real dataframes!\"\n",
    "        return\n",
    "    count_col = len(genre_real.columns)\n",
    "    if count_col == 0:\n",
    "        print \"No data in dataframe!\"\n",
    "        return\n",
    "    if count_col != len(genre_predict.columns):\n",
    "        print \"Different genres of predicted and real dataframes!\"\n",
    "        return\n",
    "    accuracy_genre = 0.0\n",
    "    for i in range(count_row):\n",
    "        count_intersection = 0.0\n",
    "        count_unity = 0.0\n",
    "        accuracy_temp = 0.0\n",
    "        for j in range(len(genre_real.columns)):\n",
    "            if genre_real.iloc[i][j] == 1 or genre_predict.iloc[i][j] == 1:\n",
    "                count_unity += 1.0\n",
    "            if genre_real.iloc[i][j] == 1 and genre_predict.iloc[i][j] == 1:\n",
    "                count_intersection += 1.0 \n",
    "        if count_unity == 0: # a few ovservations has no genre assigned, delete these values from evaluation\n",
    "            count_row = count_row - 1\n",
    "        else:\n",
    "            accuracy_temp = count_intersection / count_unity\n",
    "            accuracy_genre += accuracy_temp\n",
    "    if count_row <= 0:\n",
    "        print \"No meaning value!\"\n",
    "        return\n",
    "    return (accuracy_genre/count_row)"
   ]
  },
  {
   "cell_type": "markdown",
   "metadata": {},
   "source": [
    "---\n",
    "# Part 3. Benchmark Models"
   ]
  },
  {
   "cell_type": "code",
   "execution_count": 3,
   "metadata": {},
   "outputs": [
    {
     "name": "stderr",
     "output_type": "stream",
     "text": [
      "/Users/wdq/my-venv/lib/python2.7/site-packages/sklearn/cross_validation.py:44: DeprecationWarning: This module was deprecated in version 0.18 in favor of the model_selection module into which all the refactored classes and functions are moved. Also note that the interface of the new CV iterators are different from that of this module. This module will be removed in 0.20.\n",
      "  \"This module will be removed in 0.20.\", DeprecationWarning)\n"
     ]
    }
   ],
   "source": [
    "import pandas as pd\n",
    "import numpy as np\n",
    "import random\n",
    "\n",
    "import matplotlib.pyplot as plt\n",
    "%matplotlib inline\n",
    "import seaborn as sns\n",
    "\n",
    "from sklearn.metrics import f1_score\n",
    "import scipy as sp\n",
    "from sklearn.cross_validation import KFold\n",
    "from sklearn import preprocessing\n",
    "from sklearn.linear_model import LogisticRegression\n",
    "from sklearn.discriminant_analysis import LinearDiscriminantAnalysis as LDA\n",
    "from sklearn.discriminant_analysis import QuadraticDiscriminantAnalysis as QDA\n",
    "from sklearn.neighbors import KNeighborsClassifier as KNN\n",
    "from sklearn.tree import DecisionTreeClassifier as DecisionTree\n",
    "from sklearn.ensemble import RandomForestClassifier as RandomForest\n",
    "from sklearn.svm import SVC\n",
    "from sklearn.model_selection import cross_val_score"
   ]
  },
  {
   "cell_type": "code",
   "execution_count": 76,
   "metadata": {},
   "outputs": [],
   "source": [
    "## read in datasets\n",
    "x_test = pd.read_csv('x_test.csv',index_col=0)\n",
    "x_train = pd.read_csv('x_train.csv',index_col=0)\n",
    "y_test = pd.read_csv('y_test.csv',index_col=0)\n",
    "y_train = pd.read_csv('y_train.csv',index_col=0)"
   ]
  },
  {
   "cell_type": "code",
   "execution_count": 77,
   "metadata": {},
   "outputs": [
    {
     "data": {
      "text/html": [
       "<div>\n",
       "<table border=\"1\" class=\"dataframe\">\n",
       "  <thead>\n",
       "    <tr style=\"text-align: right;\">\n",
       "      <th></th>\n",
       "      <th>year</th>\n",
       "      <th>rating</th>\n",
       "      <th>votes</th>\n",
       "      <th>popularity_TMDB</th>\n",
       "      <th>runtime_TMDB</th>\n",
       "      <th>mpaa_PC1</th>\n",
       "      <th>mpaa_PC2</th>\n",
       "      <th>mpaa_PC3</th>\n",
       "      <th>mpaa_PC4</th>\n",
       "      <th>mpaa_PC5</th>\n",
       "      <th>...</th>\n",
       "      <th>country_n</th>\n",
       "      <th>country_usa</th>\n",
       "      <th>country_france</th>\n",
       "      <th>country_uk</th>\n",
       "      <th>country_germany</th>\n",
       "      <th>country_italy</th>\n",
       "      <th>country_canada</th>\n",
       "      <th>country_japan</th>\n",
       "      <th>country_india</th>\n",
       "      <th>country_spain</th>\n",
       "    </tr>\n",
       "  </thead>\n",
       "  <tbody>\n",
       "    <tr>\n",
       "      <th>0</th>\n",
       "      <td>1982.0</td>\n",
       "      <td>7.8</td>\n",
       "      <td>15.0</td>\n",
       "      <td>0.000008</td>\n",
       "      <td>60.000000</td>\n",
       "      <td>-0.266757</td>\n",
       "      <td>0.003165</td>\n",
       "      <td>-0.020917</td>\n",
       "      <td>-0.003125</td>\n",
       "      <td>-0.002995</td>\n",
       "      <td>...</td>\n",
       "      <td>1</td>\n",
       "      <td>0</td>\n",
       "      <td>0</td>\n",
       "      <td>1</td>\n",
       "      <td>0</td>\n",
       "      <td>0</td>\n",
       "      <td>0</td>\n",
       "      <td>0</td>\n",
       "      <td>0</td>\n",
       "      <td>0</td>\n",
       "    </tr>\n",
       "    <tr>\n",
       "      <th>1</th>\n",
       "      <td>1987.0</td>\n",
       "      <td>7.4</td>\n",
       "      <td>9.0</td>\n",
       "      <td>0.033750</td>\n",
       "      <td>75.000000</td>\n",
       "      <td>-0.266757</td>\n",
       "      <td>0.003165</td>\n",
       "      <td>-0.020917</td>\n",
       "      <td>-0.003125</td>\n",
       "      <td>-0.002995</td>\n",
       "      <td>...</td>\n",
       "      <td>1</td>\n",
       "      <td>1</td>\n",
       "      <td>0</td>\n",
       "      <td>0</td>\n",
       "      <td>0</td>\n",
       "      <td>0</td>\n",
       "      <td>0</td>\n",
       "      <td>0</td>\n",
       "      <td>0</td>\n",
       "      <td>0</td>\n",
       "    </tr>\n",
       "    <tr>\n",
       "      <th>2</th>\n",
       "      <td>2010.0</td>\n",
       "      <td>2.5</td>\n",
       "      <td>127.0</td>\n",
       "      <td>0.000715</td>\n",
       "      <td>92.000000</td>\n",
       "      <td>-0.266757</td>\n",
       "      <td>0.003165</td>\n",
       "      <td>-0.020917</td>\n",
       "      <td>-0.003125</td>\n",
       "      <td>-0.002995</td>\n",
       "      <td>...</td>\n",
       "      <td>1</td>\n",
       "      <td>1</td>\n",
       "      <td>0</td>\n",
       "      <td>0</td>\n",
       "      <td>0</td>\n",
       "      <td>0</td>\n",
       "      <td>0</td>\n",
       "      <td>0</td>\n",
       "      <td>0</td>\n",
       "      <td>0</td>\n",
       "    </tr>\n",
       "    <tr>\n",
       "      <th>3</th>\n",
       "      <td>2007.0</td>\n",
       "      <td>6.9</td>\n",
       "      <td>12.0</td>\n",
       "      <td>0.001205</td>\n",
       "      <td>87.957095</td>\n",
       "      <td>-0.266757</td>\n",
       "      <td>0.003165</td>\n",
       "      <td>-0.020917</td>\n",
       "      <td>-0.003125</td>\n",
       "      <td>-0.002995</td>\n",
       "      <td>...</td>\n",
       "      <td>1</td>\n",
       "      <td>0</td>\n",
       "      <td>1</td>\n",
       "      <td>0</td>\n",
       "      <td>0</td>\n",
       "      <td>0</td>\n",
       "      <td>0</td>\n",
       "      <td>0</td>\n",
       "      <td>0</td>\n",
       "      <td>0</td>\n",
       "    </tr>\n",
       "    <tr>\n",
       "      <th>4</th>\n",
       "      <td>1968.0</td>\n",
       "      <td>6.6</td>\n",
       "      <td>13.0</td>\n",
       "      <td>0.000215</td>\n",
       "      <td>5.000000</td>\n",
       "      <td>-0.266757</td>\n",
       "      <td>0.003165</td>\n",
       "      <td>-0.020917</td>\n",
       "      <td>-0.003125</td>\n",
       "      <td>-0.002995</td>\n",
       "      <td>...</td>\n",
       "      <td>1</td>\n",
       "      <td>0</td>\n",
       "      <td>1</td>\n",
       "      <td>0</td>\n",
       "      <td>0</td>\n",
       "      <td>0</td>\n",
       "      <td>0</td>\n",
       "      <td>0</td>\n",
       "      <td>0</td>\n",
       "      <td>0</td>\n",
       "    </tr>\n",
       "  </tbody>\n",
       "</table>\n",
       "<p>5 rows × 60 columns</p>\n",
       "</div>"
      ],
      "text/plain": [
       "     year  rating  votes  popularity_TMDB  runtime_TMDB  mpaa_PC1  mpaa_PC2  \\\n",
       "0  1982.0     7.8   15.0         0.000008     60.000000 -0.266757  0.003165   \n",
       "1  1987.0     7.4    9.0         0.033750     75.000000 -0.266757  0.003165   \n",
       "2  2010.0     2.5  127.0         0.000715     92.000000 -0.266757  0.003165   \n",
       "3  2007.0     6.9   12.0         0.001205     87.957095 -0.266757  0.003165   \n",
       "4  1968.0     6.6   13.0         0.000215      5.000000 -0.266757  0.003165   \n",
       "\n",
       "   mpaa_PC3  mpaa_PC4  mpaa_PC5      ...        country_n  country_usa  \\\n",
       "0 -0.020917 -0.003125 -0.002995      ...                1            0   \n",
       "1 -0.020917 -0.003125 -0.002995      ...                1            1   \n",
       "2 -0.020917 -0.003125 -0.002995      ...                1            1   \n",
       "3 -0.020917 -0.003125 -0.002995      ...                1            0   \n",
       "4 -0.020917 -0.003125 -0.002995      ...                1            0   \n",
       "\n",
       "   country_france  country_uk  country_germany  country_italy  country_canada  \\\n",
       "0               0           1                0              0               0   \n",
       "1               0           0                0              0               0   \n",
       "2               0           0                0              0               0   \n",
       "3               1           0                0              0               0   \n",
       "4               1           0                0              0               0   \n",
       "\n",
       "   country_japan  country_india  country_spain  \n",
       "0              0              0              0  \n",
       "1              0              0              0  \n",
       "2              0              0              0  \n",
       "3              0              0              0  \n",
       "4              0              0              0  \n",
       "\n",
       "[5 rows x 60 columns]"
      ]
     },
     "execution_count": 77,
     "metadata": {},
     "output_type": "execute_result"
    }
   ],
   "source": [
    "x_train.head()"
   ]
  },
  {
   "cell_type": "code",
   "execution_count": 78,
   "metadata": {},
   "outputs": [
    {
     "data": {
      "text/html": [
       "<div>\n",
       "<table border=\"1\" class=\"dataframe\">\n",
       "  <thead>\n",
       "    <tr style=\"text-align: right;\">\n",
       "      <th></th>\n",
       "      <th>Unnamed: 0.1</th>\n",
       "      <th>Act_Adven_West</th>\n",
       "      <th>Mus_Bio_His_War_Doc</th>\n",
       "      <th>Sh_Ani_Fam</th>\n",
       "      <th>Fant_SF</th>\n",
       "      <th>Mys_Cri_Hor_Thr</th>\n",
       "      <th>Romance</th>\n",
       "      <th>Drama</th>\n",
       "      <th>Comedy</th>\n",
       "    </tr>\n",
       "  </thead>\n",
       "  <tbody>\n",
       "    <tr>\n",
       "      <th>0</th>\n",
       "      <td>220440</td>\n",
       "      <td>0</td>\n",
       "      <td>1</td>\n",
       "      <td>0</td>\n",
       "      <td>0</td>\n",
       "      <td>0</td>\n",
       "      <td>0</td>\n",
       "      <td>0</td>\n",
       "      <td>0</td>\n",
       "    </tr>\n",
       "    <tr>\n",
       "      <th>1</th>\n",
       "      <td>136227</td>\n",
       "      <td>0</td>\n",
       "      <td>0</td>\n",
       "      <td>0</td>\n",
       "      <td>0</td>\n",
       "      <td>0</td>\n",
       "      <td>0</td>\n",
       "      <td>0</td>\n",
       "      <td>0</td>\n",
       "    </tr>\n",
       "    <tr>\n",
       "      <th>2</th>\n",
       "      <td>1686303</td>\n",
       "      <td>0</td>\n",
       "      <td>0</td>\n",
       "      <td>0</td>\n",
       "      <td>0</td>\n",
       "      <td>1</td>\n",
       "      <td>0</td>\n",
       "      <td>0</td>\n",
       "      <td>1</td>\n",
       "    </tr>\n",
       "    <tr>\n",
       "      <th>3</th>\n",
       "      <td>1103253</td>\n",
       "      <td>0</td>\n",
       "      <td>0</td>\n",
       "      <td>0</td>\n",
       "      <td>0</td>\n",
       "      <td>0</td>\n",
       "      <td>0</td>\n",
       "      <td>1</td>\n",
       "      <td>0</td>\n",
       "    </tr>\n",
       "    <tr>\n",
       "      <th>4</th>\n",
       "      <td>459149</td>\n",
       "      <td>1</td>\n",
       "      <td>0</td>\n",
       "      <td>1</td>\n",
       "      <td>0</td>\n",
       "      <td>0</td>\n",
       "      <td>0</td>\n",
       "      <td>1</td>\n",
       "      <td>0</td>\n",
       "    </tr>\n",
       "  </tbody>\n",
       "</table>\n",
       "</div>"
      ],
      "text/plain": [
       "   Unnamed: 0.1  Act_Adven_West  Mus_Bio_His_War_Doc  Sh_Ani_Fam  Fant_SF  \\\n",
       "0        220440               0                    1           0        0   \n",
       "1        136227               0                    0           0        0   \n",
       "2       1686303               0                    0           0        0   \n",
       "3       1103253               0                    0           0        0   \n",
       "4        459149               1                    0           1        0   \n",
       "\n",
       "   Mys_Cri_Hor_Thr  Romance  Drama  Comedy  \n",
       "0                0        0      0       0  \n",
       "1                0        0      0       0  \n",
       "2                1        0      0       1  \n",
       "3                0        0      1       0  \n",
       "4                0        0      1       0  "
      ]
     },
     "execution_count": 78,
     "metadata": {},
     "output_type": "execute_result"
    }
   ],
   "source": [
    "y_train.head()"
   ]
  },
  {
   "cell_type": "code",
   "execution_count": 79,
   "metadata": {
    "collapsed": true
   },
   "outputs": [],
   "source": [
    "### standardize\n",
    "scaler = preprocessing .StandardScaler().fit(x_train)\n",
    "x_train_np = scaler.transform(x_train)\n",
    "x_test_np = scaler.transform(x_test)\n",
    "\n",
    "indexs_train = x_train.index\n",
    "indexs_test = x_test.index\n",
    "x_train = pd.DataFrame(x_train_np, index = indexs_train, columns = x_train.columns)\n",
    "x_test = pd.DataFrame(x_test_np, index = indexs_test, columns = x_test.columns)"
   ]
  },
  {
   "cell_type": "markdown",
   "metadata": {},
   "source": [
    "## 3.1 Baseline Model\n",
    "We'll quickly go through classification models without feature selection or model tuning, and have a sense of their base peformance."
   ]
  },
  {
   "cell_type": "markdown",
   "metadata": {},
   "source": [
    "#### methods support multilabel classification:"
   ]
  },
  {
   "cell_type": "code",
   "execution_count": 80,
   "metadata": {},
   "outputs": [
    {
     "ename": "ValueError",
     "evalue": "Target is multiclass but average='binary'. Please choose another average setting.",
     "output_type": "error",
     "traceback": [
      "\u001b[0;31m---------------------------------------------------------------------------\u001b[0m",
      "\u001b[0;31mValueError\u001b[0m                                Traceback (most recent call last)",
      "\u001b[0;32m<ipython-input-80-22c524c1da5a>\u001b[0m in \u001b[0;36m<module>\u001b[0;34m()\u001b[0m\n\u001b[1;32m      6\u001b[0m \u001b[0my_pred\u001b[0m\u001b[0;34m=\u001b[0m \u001b[0mpd\u001b[0m\u001b[0;34m.\u001b[0m\u001b[0mDataFrame\u001b[0m\u001b[0;34m(\u001b[0m\u001b[0my_pred\u001b[0m\u001b[0;34m,\u001b[0m \u001b[0mcolumns\u001b[0m \u001b[0;34m=\u001b[0m \u001b[0my_test\u001b[0m\u001b[0;34m.\u001b[0m\u001b[0mcolumns\u001b[0m\u001b[0;34m.\u001b[0m\u001b[0mvalues\u001b[0m\u001b[0;34m)\u001b[0m\u001b[0;34m\u001b[0m\u001b[0m\n\u001b[1;32m      7\u001b[0m \u001b[0;34m\u001b[0m\u001b[0m\n\u001b[0;32m----> 8\u001b[0;31m \u001b[0mscore_knn\u001b[0m \u001b[0;34m=\u001b[0m \u001b[0mf1_genres\u001b[0m\u001b[0;34m(\u001b[0m\u001b[0my_test\u001b[0m\u001b[0;34m,\u001b[0m \u001b[0my_pred\u001b[0m\u001b[0;34m)\u001b[0m\u001b[0;34m\u001b[0m\u001b[0m\n\u001b[0m\u001b[1;32m      9\u001b[0m \u001b[0;32mprint\u001b[0m \u001b[0;34m\"F1 Score:\"\u001b[0m\u001b[0;34m,\u001b[0m \u001b[0mscore_knn\u001b[0m\u001b[0;34m\u001b[0m\u001b[0m\n",
      "\u001b[0;32m<ipython-input-1-3847072597c2>\u001b[0m in \u001b[0;36mf1_genres\u001b[0;34m(genre_real, genre_predict)\u001b[0m\n\u001b[1;32m     21\u001b[0m     \u001b[0mscore\u001b[0m \u001b[0;34m=\u001b[0m \u001b[0;36m0\u001b[0m\u001b[0;34m\u001b[0m\u001b[0m\n\u001b[1;32m     22\u001b[0m     \u001b[0;32mfor\u001b[0m \u001b[0mi\u001b[0m \u001b[0;32min\u001b[0m \u001b[0mrange\u001b[0m\u001b[0;34m(\u001b[0m\u001b[0mcount_col\u001b[0m\u001b[0;34m)\u001b[0m\u001b[0;34m:\u001b[0m\u001b[0;34m\u001b[0m\u001b[0m\n\u001b[0;32m---> 23\u001b[0;31m         \u001b[0mscore\u001b[0m \u001b[0;34m+=\u001b[0m \u001b[0mf1_score\u001b[0m\u001b[0;34m(\u001b[0m\u001b[0mgenre_real\u001b[0m\u001b[0;34m[\u001b[0m\u001b[0mgenre_real\u001b[0m\u001b[0;34m.\u001b[0m\u001b[0mcolumns\u001b[0m\u001b[0;34m.\u001b[0m\u001b[0mvalues\u001b[0m\u001b[0;34m[\u001b[0m\u001b[0mi\u001b[0m\u001b[0;34m]\u001b[0m\u001b[0;34m]\u001b[0m\u001b[0;34m,\u001b[0m \u001b[0mgenre_predict\u001b[0m\u001b[0;34m[\u001b[0m\u001b[0mgenre_predict\u001b[0m\u001b[0;34m.\u001b[0m\u001b[0mcolumns\u001b[0m\u001b[0;34m.\u001b[0m\u001b[0mvalues\u001b[0m\u001b[0;34m[\u001b[0m\u001b[0mi\u001b[0m\u001b[0;34m]\u001b[0m\u001b[0;34m]\u001b[0m\u001b[0;34m)\u001b[0m\u001b[0;34m\u001b[0m\u001b[0m\n\u001b[0m\u001b[1;32m     24\u001b[0m     \u001b[0mscore\u001b[0m \u001b[0;34m=\u001b[0m \u001b[0mscore\u001b[0m\u001b[0;34m/\u001b[0m\u001b[0mcount_col\u001b[0m\u001b[0;34m\u001b[0m\u001b[0m\n\u001b[1;32m     25\u001b[0m     \u001b[0;32mreturn\u001b[0m\u001b[0;34m(\u001b[0m\u001b[0mscore\u001b[0m\u001b[0;34m)\u001b[0m\u001b[0;34m\u001b[0m\u001b[0m\n",
      "\u001b[0;32m/Users/wdq/my-venv/lib/python2.7/site-packages/sklearn/metrics/classification.pyc\u001b[0m in \u001b[0;36mf1_score\u001b[0;34m(y_true, y_pred, labels, pos_label, average, sample_weight)\u001b[0m\n\u001b[1;32m    690\u001b[0m     return fbeta_score(y_true, y_pred, 1, labels=labels,\n\u001b[1;32m    691\u001b[0m                        \u001b[0mpos_label\u001b[0m\u001b[0;34m=\u001b[0m\u001b[0mpos_label\u001b[0m\u001b[0;34m,\u001b[0m \u001b[0maverage\u001b[0m\u001b[0;34m=\u001b[0m\u001b[0maverage\u001b[0m\u001b[0;34m,\u001b[0m\u001b[0;34m\u001b[0m\u001b[0m\n\u001b[0;32m--> 692\u001b[0;31m                        sample_weight=sample_weight)\n\u001b[0m\u001b[1;32m    693\u001b[0m \u001b[0;34m\u001b[0m\u001b[0m\n\u001b[1;32m    694\u001b[0m \u001b[0;34m\u001b[0m\u001b[0m\n",
      "\u001b[0;32m/Users/wdq/my-venv/lib/python2.7/site-packages/sklearn/metrics/classification.pyc\u001b[0m in \u001b[0;36mfbeta_score\u001b[0;34m(y_true, y_pred, beta, labels, pos_label, average, sample_weight)\u001b[0m\n\u001b[1;32m    804\u001b[0m                                                  \u001b[0maverage\u001b[0m\u001b[0;34m=\u001b[0m\u001b[0maverage\u001b[0m\u001b[0;34m,\u001b[0m\u001b[0;34m\u001b[0m\u001b[0m\n\u001b[1;32m    805\u001b[0m                                                  \u001b[0mwarn_for\u001b[0m\u001b[0;34m=\u001b[0m\u001b[0;34m(\u001b[0m\u001b[0;34m'f-score'\u001b[0m\u001b[0;34m,\u001b[0m\u001b[0;34m)\u001b[0m\u001b[0;34m,\u001b[0m\u001b[0;34m\u001b[0m\u001b[0m\n\u001b[0;32m--> 806\u001b[0;31m                                                  sample_weight=sample_weight)\n\u001b[0m\u001b[1;32m    807\u001b[0m     \u001b[0;32mreturn\u001b[0m \u001b[0mf\u001b[0m\u001b[0;34m\u001b[0m\u001b[0m\n\u001b[1;32m    808\u001b[0m \u001b[0;34m\u001b[0m\u001b[0m\n",
      "\u001b[0;32m/Users/wdq/my-venv/lib/python2.7/site-packages/sklearn/metrics/classification.pyc\u001b[0m in \u001b[0;36mprecision_recall_fscore_support\u001b[0;34m(y_true, y_pred, beta, labels, pos_label, average, warn_for, sample_weight)\u001b[0m\n\u001b[1;32m   1016\u001b[0m         \u001b[0;32melse\u001b[0m\u001b[0;34m:\u001b[0m\u001b[0;34m\u001b[0m\u001b[0m\n\u001b[1;32m   1017\u001b[0m             raise ValueError(\"Target is %s but average='binary'. Please \"\n\u001b[0;32m-> 1018\u001b[0;31m                              \"choose another average setting.\" % y_type)\n\u001b[0m\u001b[1;32m   1019\u001b[0m     \u001b[0;32melif\u001b[0m \u001b[0mpos_label\u001b[0m \u001b[0;32mnot\u001b[0m \u001b[0;32min\u001b[0m \u001b[0;34m(\u001b[0m\u001b[0mNone\u001b[0m\u001b[0;34m,\u001b[0m \u001b[0;36m1\u001b[0m\u001b[0;34m)\u001b[0m\u001b[0;34m:\u001b[0m\u001b[0;34m\u001b[0m\u001b[0m\n\u001b[1;32m   1020\u001b[0m         warnings.warn(\"Note that pos_label (set to %r) is ignored when \"\n",
      "\u001b[0;31mValueError\u001b[0m: Target is multiclass but average='binary'. Please choose another average setting."
     ]
    }
   ],
   "source": [
    "# KNN\n",
    "random.seed(0)\n",
    "knn = KNN(n_neighbors=1)\n",
    "knn.fit(x_train, y_train)\n",
    "y_pred = knn.predict(x_test)\n",
    "y_pred= pd.DataFrame(y_pred, columns = y_test.columns.values)\n",
    "\n",
    "score_knn = f1_genres(y_test, y_pred)\n",
    "print \"F1 Score:\", score_knn"
   ]
  },
  {
   "cell_type": "code",
   "execution_count": 81,
   "metadata": {},
   "outputs": [
    {
     "ename": "ValueError",
     "evalue": "Target is multiclass but average='binary'. Please choose another average setting.",
     "output_type": "error",
     "traceback": [
      "\u001b[0;31m---------------------------------------------------------------------------\u001b[0m",
      "\u001b[0;31mValueError\u001b[0m                                Traceback (most recent call last)",
      "\u001b[0;32m<ipython-input-81-b1a26bbbc725>\u001b[0m in \u001b[0;36m<module>\u001b[0;34m()\u001b[0m\n\u001b[1;32m      7\u001b[0m \u001b[0my_pred\u001b[0m\u001b[0;34m=\u001b[0m \u001b[0mpd\u001b[0m\u001b[0;34m.\u001b[0m\u001b[0mDataFrame\u001b[0m\u001b[0;34m(\u001b[0m\u001b[0my_pred\u001b[0m\u001b[0;34m,\u001b[0m \u001b[0mcolumns\u001b[0m \u001b[0;34m=\u001b[0m \u001b[0my_test\u001b[0m\u001b[0;34m.\u001b[0m\u001b[0mcolumns\u001b[0m\u001b[0;34m.\u001b[0m\u001b[0mvalues\u001b[0m\u001b[0;34m)\u001b[0m\u001b[0;34m\u001b[0m\u001b[0m\n\u001b[1;32m      8\u001b[0m \u001b[0;34m\u001b[0m\u001b[0m\n\u001b[0;32m----> 9\u001b[0;31m \u001b[0mscore_tree\u001b[0m \u001b[0;34m=\u001b[0m \u001b[0mf1_genres\u001b[0m\u001b[0;34m(\u001b[0m\u001b[0my_test\u001b[0m\u001b[0;34m,\u001b[0m \u001b[0my_pred\u001b[0m\u001b[0;34m)\u001b[0m\u001b[0;34m\u001b[0m\u001b[0m\n\u001b[0m\u001b[1;32m     10\u001b[0m \u001b[0;32mprint\u001b[0m \u001b[0;34m\"F1 Score:\"\u001b[0m\u001b[0;34m,\u001b[0m \u001b[0mscore_tree\u001b[0m\u001b[0;34m\u001b[0m\u001b[0m\n",
      "\u001b[0;32m<ipython-input-1-3847072597c2>\u001b[0m in \u001b[0;36mf1_genres\u001b[0;34m(genre_real, genre_predict)\u001b[0m\n\u001b[1;32m     21\u001b[0m     \u001b[0mscore\u001b[0m \u001b[0;34m=\u001b[0m \u001b[0;36m0\u001b[0m\u001b[0;34m\u001b[0m\u001b[0m\n\u001b[1;32m     22\u001b[0m     \u001b[0;32mfor\u001b[0m \u001b[0mi\u001b[0m \u001b[0;32min\u001b[0m \u001b[0mrange\u001b[0m\u001b[0;34m(\u001b[0m\u001b[0mcount_col\u001b[0m\u001b[0;34m)\u001b[0m\u001b[0;34m:\u001b[0m\u001b[0;34m\u001b[0m\u001b[0m\n\u001b[0;32m---> 23\u001b[0;31m         \u001b[0mscore\u001b[0m \u001b[0;34m+=\u001b[0m \u001b[0mf1_score\u001b[0m\u001b[0;34m(\u001b[0m\u001b[0mgenre_real\u001b[0m\u001b[0;34m[\u001b[0m\u001b[0mgenre_real\u001b[0m\u001b[0;34m.\u001b[0m\u001b[0mcolumns\u001b[0m\u001b[0;34m.\u001b[0m\u001b[0mvalues\u001b[0m\u001b[0;34m[\u001b[0m\u001b[0mi\u001b[0m\u001b[0;34m]\u001b[0m\u001b[0;34m]\u001b[0m\u001b[0;34m,\u001b[0m \u001b[0mgenre_predict\u001b[0m\u001b[0;34m[\u001b[0m\u001b[0mgenre_predict\u001b[0m\u001b[0;34m.\u001b[0m\u001b[0mcolumns\u001b[0m\u001b[0;34m.\u001b[0m\u001b[0mvalues\u001b[0m\u001b[0;34m[\u001b[0m\u001b[0mi\u001b[0m\u001b[0;34m]\u001b[0m\u001b[0;34m]\u001b[0m\u001b[0;34m)\u001b[0m\u001b[0;34m\u001b[0m\u001b[0m\n\u001b[0m\u001b[1;32m     24\u001b[0m     \u001b[0mscore\u001b[0m \u001b[0;34m=\u001b[0m \u001b[0mscore\u001b[0m\u001b[0;34m/\u001b[0m\u001b[0mcount_col\u001b[0m\u001b[0;34m\u001b[0m\u001b[0m\n\u001b[1;32m     25\u001b[0m     \u001b[0;32mreturn\u001b[0m\u001b[0;34m(\u001b[0m\u001b[0mscore\u001b[0m\u001b[0;34m)\u001b[0m\u001b[0;34m\u001b[0m\u001b[0m\n",
      "\u001b[0;32m/Users/wdq/my-venv/lib/python2.7/site-packages/sklearn/metrics/classification.pyc\u001b[0m in \u001b[0;36mf1_score\u001b[0;34m(y_true, y_pred, labels, pos_label, average, sample_weight)\u001b[0m\n\u001b[1;32m    690\u001b[0m     return fbeta_score(y_true, y_pred, 1, labels=labels,\n\u001b[1;32m    691\u001b[0m                        \u001b[0mpos_label\u001b[0m\u001b[0;34m=\u001b[0m\u001b[0mpos_label\u001b[0m\u001b[0;34m,\u001b[0m \u001b[0maverage\u001b[0m\u001b[0;34m=\u001b[0m\u001b[0maverage\u001b[0m\u001b[0;34m,\u001b[0m\u001b[0;34m\u001b[0m\u001b[0m\n\u001b[0;32m--> 692\u001b[0;31m                        sample_weight=sample_weight)\n\u001b[0m\u001b[1;32m    693\u001b[0m \u001b[0;34m\u001b[0m\u001b[0m\n\u001b[1;32m    694\u001b[0m \u001b[0;34m\u001b[0m\u001b[0m\n",
      "\u001b[0;32m/Users/wdq/my-venv/lib/python2.7/site-packages/sklearn/metrics/classification.pyc\u001b[0m in \u001b[0;36mfbeta_score\u001b[0;34m(y_true, y_pred, beta, labels, pos_label, average, sample_weight)\u001b[0m\n\u001b[1;32m    804\u001b[0m                                                  \u001b[0maverage\u001b[0m\u001b[0;34m=\u001b[0m\u001b[0maverage\u001b[0m\u001b[0;34m,\u001b[0m\u001b[0;34m\u001b[0m\u001b[0m\n\u001b[1;32m    805\u001b[0m                                                  \u001b[0mwarn_for\u001b[0m\u001b[0;34m=\u001b[0m\u001b[0;34m(\u001b[0m\u001b[0;34m'f-score'\u001b[0m\u001b[0;34m,\u001b[0m\u001b[0;34m)\u001b[0m\u001b[0;34m,\u001b[0m\u001b[0;34m\u001b[0m\u001b[0m\n\u001b[0;32m--> 806\u001b[0;31m                                                  sample_weight=sample_weight)\n\u001b[0m\u001b[1;32m    807\u001b[0m     \u001b[0;32mreturn\u001b[0m \u001b[0mf\u001b[0m\u001b[0;34m\u001b[0m\u001b[0m\n\u001b[1;32m    808\u001b[0m \u001b[0;34m\u001b[0m\u001b[0m\n",
      "\u001b[0;32m/Users/wdq/my-venv/lib/python2.7/site-packages/sklearn/metrics/classification.pyc\u001b[0m in \u001b[0;36mprecision_recall_fscore_support\u001b[0;34m(y_true, y_pred, beta, labels, pos_label, average, warn_for, sample_weight)\u001b[0m\n\u001b[1;32m   1016\u001b[0m         \u001b[0;32melse\u001b[0m\u001b[0;34m:\u001b[0m\u001b[0;34m\u001b[0m\u001b[0m\n\u001b[1;32m   1017\u001b[0m             raise ValueError(\"Target is %s but average='binary'. Please \"\n\u001b[0;32m-> 1018\u001b[0;31m                              \"choose another average setting.\" % y_type)\n\u001b[0m\u001b[1;32m   1019\u001b[0m     \u001b[0;32melif\u001b[0m \u001b[0mpos_label\u001b[0m \u001b[0;32mnot\u001b[0m \u001b[0;32min\u001b[0m \u001b[0;34m(\u001b[0m\u001b[0mNone\u001b[0m\u001b[0;34m,\u001b[0m \u001b[0;36m1\u001b[0m\u001b[0;34m)\u001b[0m\u001b[0;34m:\u001b[0m\u001b[0;34m\u001b[0m\u001b[0m\n\u001b[1;32m   1020\u001b[0m         warnings.warn(\"Note that pos_label (set to %r) is ignored when \"\n",
      "\u001b[0;31mValueError\u001b[0m: Target is multiclass but average='binary'. Please choose another average setting."
     ]
    }
   ],
   "source": [
    "# Decision Tree\n",
    "random.seed(0)\n",
    "tree = DecisionTree(max_depth=6)\n",
    "tree.fit(x_train, y_train)\n",
    "\n",
    "y_pred = tree.predict(x_test)\n",
    "y_pred= pd.DataFrame(y_pred, columns = y_test.columns.values)\n",
    "\n",
    "score_tree = f1_genres(y_test, y_pred)\n",
    "print \"F1 Score:\", score_tree"
   ]
  },
  {
   "cell_type": "code",
   "execution_count": 82,
   "metadata": {},
   "outputs": [
    {
     "ename": "ValueError",
     "evalue": "Target is multiclass but average='binary'. Please choose another average setting.",
     "output_type": "error",
     "traceback": [
      "\u001b[0;31m---------------------------------------------------------------------------\u001b[0m",
      "\u001b[0;31mValueError\u001b[0m                                Traceback (most recent call last)",
      "\u001b[0;32m<ipython-input-82-71cde57b2223>\u001b[0m in \u001b[0;36m<module>\u001b[0;34m()\u001b[0m\n\u001b[1;32m      7\u001b[0m \u001b[0my_pred\u001b[0m\u001b[0;34m=\u001b[0m \u001b[0mpd\u001b[0m\u001b[0;34m.\u001b[0m\u001b[0mDataFrame\u001b[0m\u001b[0;34m(\u001b[0m\u001b[0my_pred\u001b[0m\u001b[0;34m,\u001b[0m \u001b[0mcolumns\u001b[0m \u001b[0;34m=\u001b[0m \u001b[0my_test\u001b[0m\u001b[0;34m.\u001b[0m\u001b[0mcolumns\u001b[0m\u001b[0;34m.\u001b[0m\u001b[0mvalues\u001b[0m\u001b[0;34m)\u001b[0m\u001b[0;34m\u001b[0m\u001b[0m\n\u001b[1;32m      8\u001b[0m \u001b[0;34m\u001b[0m\u001b[0m\n\u001b[0;32m----> 9\u001b[0;31m \u001b[0mscore_rf\u001b[0m \u001b[0;34m=\u001b[0m \u001b[0mf1_genres\u001b[0m\u001b[0;34m(\u001b[0m\u001b[0my_test\u001b[0m\u001b[0;34m,\u001b[0m \u001b[0my_pred\u001b[0m\u001b[0;34m)\u001b[0m\u001b[0;34m\u001b[0m\u001b[0m\n\u001b[0m\u001b[1;32m     10\u001b[0m \u001b[0;32mprint\u001b[0m \u001b[0;34m\"F1 Score:\"\u001b[0m\u001b[0;34m,\u001b[0m \u001b[0mscore_rf\u001b[0m\u001b[0;34m\u001b[0m\u001b[0m\n",
      "\u001b[0;32m<ipython-input-1-3847072597c2>\u001b[0m in \u001b[0;36mf1_genres\u001b[0;34m(genre_real, genre_predict)\u001b[0m\n\u001b[1;32m     21\u001b[0m     \u001b[0mscore\u001b[0m \u001b[0;34m=\u001b[0m \u001b[0;36m0\u001b[0m\u001b[0;34m\u001b[0m\u001b[0m\n\u001b[1;32m     22\u001b[0m     \u001b[0;32mfor\u001b[0m \u001b[0mi\u001b[0m \u001b[0;32min\u001b[0m \u001b[0mrange\u001b[0m\u001b[0;34m(\u001b[0m\u001b[0mcount_col\u001b[0m\u001b[0;34m)\u001b[0m\u001b[0;34m:\u001b[0m\u001b[0;34m\u001b[0m\u001b[0m\n\u001b[0;32m---> 23\u001b[0;31m         \u001b[0mscore\u001b[0m \u001b[0;34m+=\u001b[0m \u001b[0mf1_score\u001b[0m\u001b[0;34m(\u001b[0m\u001b[0mgenre_real\u001b[0m\u001b[0;34m[\u001b[0m\u001b[0mgenre_real\u001b[0m\u001b[0;34m.\u001b[0m\u001b[0mcolumns\u001b[0m\u001b[0;34m.\u001b[0m\u001b[0mvalues\u001b[0m\u001b[0;34m[\u001b[0m\u001b[0mi\u001b[0m\u001b[0;34m]\u001b[0m\u001b[0;34m]\u001b[0m\u001b[0;34m,\u001b[0m \u001b[0mgenre_predict\u001b[0m\u001b[0;34m[\u001b[0m\u001b[0mgenre_predict\u001b[0m\u001b[0;34m.\u001b[0m\u001b[0mcolumns\u001b[0m\u001b[0;34m.\u001b[0m\u001b[0mvalues\u001b[0m\u001b[0;34m[\u001b[0m\u001b[0mi\u001b[0m\u001b[0;34m]\u001b[0m\u001b[0;34m]\u001b[0m\u001b[0;34m)\u001b[0m\u001b[0;34m\u001b[0m\u001b[0m\n\u001b[0m\u001b[1;32m     24\u001b[0m     \u001b[0mscore\u001b[0m \u001b[0;34m=\u001b[0m \u001b[0mscore\u001b[0m\u001b[0;34m/\u001b[0m\u001b[0mcount_col\u001b[0m\u001b[0;34m\u001b[0m\u001b[0m\n\u001b[1;32m     25\u001b[0m     \u001b[0;32mreturn\u001b[0m\u001b[0;34m(\u001b[0m\u001b[0mscore\u001b[0m\u001b[0;34m)\u001b[0m\u001b[0;34m\u001b[0m\u001b[0m\n",
      "\u001b[0;32m/Users/wdq/my-venv/lib/python2.7/site-packages/sklearn/metrics/classification.pyc\u001b[0m in \u001b[0;36mf1_score\u001b[0;34m(y_true, y_pred, labels, pos_label, average, sample_weight)\u001b[0m\n\u001b[1;32m    690\u001b[0m     return fbeta_score(y_true, y_pred, 1, labels=labels,\n\u001b[1;32m    691\u001b[0m                        \u001b[0mpos_label\u001b[0m\u001b[0;34m=\u001b[0m\u001b[0mpos_label\u001b[0m\u001b[0;34m,\u001b[0m \u001b[0maverage\u001b[0m\u001b[0;34m=\u001b[0m\u001b[0maverage\u001b[0m\u001b[0;34m,\u001b[0m\u001b[0;34m\u001b[0m\u001b[0m\n\u001b[0;32m--> 692\u001b[0;31m                        sample_weight=sample_weight)\n\u001b[0m\u001b[1;32m    693\u001b[0m \u001b[0;34m\u001b[0m\u001b[0m\n\u001b[1;32m    694\u001b[0m \u001b[0;34m\u001b[0m\u001b[0m\n",
      "\u001b[0;32m/Users/wdq/my-venv/lib/python2.7/site-packages/sklearn/metrics/classification.pyc\u001b[0m in \u001b[0;36mfbeta_score\u001b[0;34m(y_true, y_pred, beta, labels, pos_label, average, sample_weight)\u001b[0m\n\u001b[1;32m    804\u001b[0m                                                  \u001b[0maverage\u001b[0m\u001b[0;34m=\u001b[0m\u001b[0maverage\u001b[0m\u001b[0;34m,\u001b[0m\u001b[0;34m\u001b[0m\u001b[0m\n\u001b[1;32m    805\u001b[0m                                                  \u001b[0mwarn_for\u001b[0m\u001b[0;34m=\u001b[0m\u001b[0;34m(\u001b[0m\u001b[0;34m'f-score'\u001b[0m\u001b[0;34m,\u001b[0m\u001b[0;34m)\u001b[0m\u001b[0;34m,\u001b[0m\u001b[0;34m\u001b[0m\u001b[0m\n\u001b[0;32m--> 806\u001b[0;31m                                                  sample_weight=sample_weight)\n\u001b[0m\u001b[1;32m    807\u001b[0m     \u001b[0;32mreturn\u001b[0m \u001b[0mf\u001b[0m\u001b[0;34m\u001b[0m\u001b[0m\n\u001b[1;32m    808\u001b[0m \u001b[0;34m\u001b[0m\u001b[0m\n",
      "\u001b[0;32m/Users/wdq/my-venv/lib/python2.7/site-packages/sklearn/metrics/classification.pyc\u001b[0m in \u001b[0;36mprecision_recall_fscore_support\u001b[0;34m(y_true, y_pred, beta, labels, pos_label, average, warn_for, sample_weight)\u001b[0m\n\u001b[1;32m   1016\u001b[0m         \u001b[0;32melse\u001b[0m\u001b[0;34m:\u001b[0m\u001b[0;34m\u001b[0m\u001b[0m\n\u001b[1;32m   1017\u001b[0m             raise ValueError(\"Target is %s but average='binary'. Please \"\n\u001b[0;32m-> 1018\u001b[0;31m                              \"choose another average setting.\" % y_type)\n\u001b[0m\u001b[1;32m   1019\u001b[0m     \u001b[0;32melif\u001b[0m \u001b[0mpos_label\u001b[0m \u001b[0;32mnot\u001b[0m \u001b[0;32min\u001b[0m \u001b[0;34m(\u001b[0m\u001b[0mNone\u001b[0m\u001b[0;34m,\u001b[0m \u001b[0;36m1\u001b[0m\u001b[0;34m)\u001b[0m\u001b[0;34m:\u001b[0m\u001b[0;34m\u001b[0m\u001b[0m\n\u001b[1;32m   1020\u001b[0m         warnings.warn(\"Note that pos_label (set to %r) is ignored when \"\n",
      "\u001b[0;31mValueError\u001b[0m: Target is multiclass but average='binary'. Please choose another average setting."
     ]
    }
   ],
   "source": [
    "# Random Forest\n",
    "random.seed(0)\n",
    "rf = RandomForest()\n",
    "rf.fit(x_train, y_train)\n",
    "\n",
    "y_pred = rf.predict(x_test)\n",
    "y_pred= pd.DataFrame(y_pred, columns = y_test.columns.values)\n",
    "\n",
    "score_rf = f1_genres(y_test, y_pred)\n",
    "print \"F1 Score:\", score_rf"
   ]
  },
  {
   "cell_type": "markdown",
   "metadata": {},
   "source": [
    "#### Other classifiers that don't support multilabel classification, thus need to fit classifier for each genre, then combine:"
   ]
  },
  {
   "cell_type": "code",
   "execution_count": 83,
   "metadata": {},
   "outputs": [
    {
     "ename": "ValueError",
     "evalue": "Target is multiclass but average='binary'. Please choose another average setting.",
     "output_type": "error",
     "traceback": [
      "\u001b[0;31m---------------------------------------------------------------------------\u001b[0m",
      "\u001b[0;31mValueError\u001b[0m                                Traceback (most recent call last)",
      "\u001b[0;32m<ipython-input-83-be1c77703d7f>\u001b[0m in \u001b[0;36m<module>\u001b[0;34m()\u001b[0m\n\u001b[1;32m      9\u001b[0m     \u001b[0mgenre_pred\u001b[0m\u001b[0;34m[\u001b[0m\u001b[0mcol\u001b[0m\u001b[0;34m]\u001b[0m\u001b[0;34m=\u001b[0m \u001b[0munweighted_logistic\u001b[0m\u001b[0;34m.\u001b[0m\u001b[0mpredict\u001b[0m\u001b[0;34m(\u001b[0m\u001b[0mx_test\u001b[0m\u001b[0;34m)\u001b[0m\u001b[0;34m\u001b[0m\u001b[0m\n\u001b[1;32m     10\u001b[0m \u001b[0;34m\u001b[0m\u001b[0m\n\u001b[0;32m---> 11\u001b[0;31m \u001b[0mscore_unweighted_log\u001b[0m \u001b[0;34m=\u001b[0m \u001b[0mf1_genres\u001b[0m\u001b[0;34m(\u001b[0m\u001b[0my_test\u001b[0m\u001b[0;34m,\u001b[0m \u001b[0my_pred\u001b[0m\u001b[0;34m)\u001b[0m\u001b[0;34m\u001b[0m\u001b[0m\n\u001b[0m\u001b[1;32m     12\u001b[0m \u001b[0;32mprint\u001b[0m \u001b[0;34m\"F1 Score:\"\u001b[0m\u001b[0;34m,\u001b[0m \u001b[0mscore_unweighted_log\u001b[0m\u001b[0;34m\u001b[0m\u001b[0m\n",
      "\u001b[0;32m<ipython-input-1-3847072597c2>\u001b[0m in \u001b[0;36mf1_genres\u001b[0;34m(genre_real, genre_predict)\u001b[0m\n\u001b[1;32m     21\u001b[0m     \u001b[0mscore\u001b[0m \u001b[0;34m=\u001b[0m \u001b[0;36m0\u001b[0m\u001b[0;34m\u001b[0m\u001b[0m\n\u001b[1;32m     22\u001b[0m     \u001b[0;32mfor\u001b[0m \u001b[0mi\u001b[0m \u001b[0;32min\u001b[0m \u001b[0mrange\u001b[0m\u001b[0;34m(\u001b[0m\u001b[0mcount_col\u001b[0m\u001b[0;34m)\u001b[0m\u001b[0;34m:\u001b[0m\u001b[0;34m\u001b[0m\u001b[0m\n\u001b[0;32m---> 23\u001b[0;31m         \u001b[0mscore\u001b[0m \u001b[0;34m+=\u001b[0m \u001b[0mf1_score\u001b[0m\u001b[0;34m(\u001b[0m\u001b[0mgenre_real\u001b[0m\u001b[0;34m[\u001b[0m\u001b[0mgenre_real\u001b[0m\u001b[0;34m.\u001b[0m\u001b[0mcolumns\u001b[0m\u001b[0;34m.\u001b[0m\u001b[0mvalues\u001b[0m\u001b[0;34m[\u001b[0m\u001b[0mi\u001b[0m\u001b[0;34m]\u001b[0m\u001b[0;34m]\u001b[0m\u001b[0;34m,\u001b[0m \u001b[0mgenre_predict\u001b[0m\u001b[0;34m[\u001b[0m\u001b[0mgenre_predict\u001b[0m\u001b[0;34m.\u001b[0m\u001b[0mcolumns\u001b[0m\u001b[0;34m.\u001b[0m\u001b[0mvalues\u001b[0m\u001b[0;34m[\u001b[0m\u001b[0mi\u001b[0m\u001b[0;34m]\u001b[0m\u001b[0;34m]\u001b[0m\u001b[0;34m)\u001b[0m\u001b[0;34m\u001b[0m\u001b[0m\n\u001b[0m\u001b[1;32m     24\u001b[0m     \u001b[0mscore\u001b[0m \u001b[0;34m=\u001b[0m \u001b[0mscore\u001b[0m\u001b[0;34m/\u001b[0m\u001b[0mcount_col\u001b[0m\u001b[0;34m\u001b[0m\u001b[0m\n\u001b[1;32m     25\u001b[0m     \u001b[0;32mreturn\u001b[0m\u001b[0;34m(\u001b[0m\u001b[0mscore\u001b[0m\u001b[0;34m)\u001b[0m\u001b[0;34m\u001b[0m\u001b[0m\n",
      "\u001b[0;32m/Users/wdq/my-venv/lib/python2.7/site-packages/sklearn/metrics/classification.pyc\u001b[0m in \u001b[0;36mf1_score\u001b[0;34m(y_true, y_pred, labels, pos_label, average, sample_weight)\u001b[0m\n\u001b[1;32m    690\u001b[0m     return fbeta_score(y_true, y_pred, 1, labels=labels,\n\u001b[1;32m    691\u001b[0m                        \u001b[0mpos_label\u001b[0m\u001b[0;34m=\u001b[0m\u001b[0mpos_label\u001b[0m\u001b[0;34m,\u001b[0m \u001b[0maverage\u001b[0m\u001b[0;34m=\u001b[0m\u001b[0maverage\u001b[0m\u001b[0;34m,\u001b[0m\u001b[0;34m\u001b[0m\u001b[0m\n\u001b[0;32m--> 692\u001b[0;31m                        sample_weight=sample_weight)\n\u001b[0m\u001b[1;32m    693\u001b[0m \u001b[0;34m\u001b[0m\u001b[0m\n\u001b[1;32m    694\u001b[0m \u001b[0;34m\u001b[0m\u001b[0m\n",
      "\u001b[0;32m/Users/wdq/my-venv/lib/python2.7/site-packages/sklearn/metrics/classification.pyc\u001b[0m in \u001b[0;36mfbeta_score\u001b[0;34m(y_true, y_pred, beta, labels, pos_label, average, sample_weight)\u001b[0m\n\u001b[1;32m    804\u001b[0m                                                  \u001b[0maverage\u001b[0m\u001b[0;34m=\u001b[0m\u001b[0maverage\u001b[0m\u001b[0;34m,\u001b[0m\u001b[0;34m\u001b[0m\u001b[0m\n\u001b[1;32m    805\u001b[0m                                                  \u001b[0mwarn_for\u001b[0m\u001b[0;34m=\u001b[0m\u001b[0;34m(\u001b[0m\u001b[0;34m'f-score'\u001b[0m\u001b[0;34m,\u001b[0m\u001b[0;34m)\u001b[0m\u001b[0;34m,\u001b[0m\u001b[0;34m\u001b[0m\u001b[0m\n\u001b[0;32m--> 806\u001b[0;31m                                                  sample_weight=sample_weight)\n\u001b[0m\u001b[1;32m    807\u001b[0m     \u001b[0;32mreturn\u001b[0m \u001b[0mf\u001b[0m\u001b[0;34m\u001b[0m\u001b[0m\n\u001b[1;32m    808\u001b[0m \u001b[0;34m\u001b[0m\u001b[0m\n",
      "\u001b[0;32m/Users/wdq/my-venv/lib/python2.7/site-packages/sklearn/metrics/classification.pyc\u001b[0m in \u001b[0;36mprecision_recall_fscore_support\u001b[0;34m(y_true, y_pred, beta, labels, pos_label, average, warn_for, sample_weight)\u001b[0m\n\u001b[1;32m   1016\u001b[0m         \u001b[0;32melse\u001b[0m\u001b[0;34m:\u001b[0m\u001b[0;34m\u001b[0m\u001b[0m\n\u001b[1;32m   1017\u001b[0m             raise ValueError(\"Target is %s but average='binary'. Please \"\n\u001b[0;32m-> 1018\u001b[0;31m                              \"choose another average setting.\" % y_type)\n\u001b[0m\u001b[1;32m   1019\u001b[0m     \u001b[0;32melif\u001b[0m \u001b[0mpos_label\u001b[0m \u001b[0;32mnot\u001b[0m \u001b[0;32min\u001b[0m \u001b[0;34m(\u001b[0m\u001b[0mNone\u001b[0m\u001b[0;34m,\u001b[0m \u001b[0;36m1\u001b[0m\u001b[0;34m)\u001b[0m\u001b[0;34m:\u001b[0m\u001b[0;34m\u001b[0m\u001b[0m\n\u001b[1;32m   1020\u001b[0m         warnings.warn(\"Note that pos_label (set to %r) is ignored when \"\n",
      "\u001b[0;31mValueError\u001b[0m: Target is multiclass but average='binary'. Please choose another average setting."
     ]
    }
   ],
   "source": [
    "# Unweighted logistic regression\n",
    "random.seed(0)\n",
    "\n",
    "genre_pred = pd.DataFrame(index = x_test.index) # dataframe to store predicted values\n",
    "\n",
    "for col in y_train.columns:\n",
    "    unweighted_logistic = LogisticRegression()\n",
    "    unweighted_logistic.fit(x_train, y_train[col])\n",
    "    genre_pred[col]= unweighted_logistic.predict(x_test)\n",
    "\n",
    "score_unweighted_log = f1_genres(y_test, y_pred)\n",
    "print \"F1 Score:\", score_unweighted_log"
   ]
  },
  {
   "cell_type": "code",
   "execution_count": 11,
   "metadata": {},
   "outputs": [
    {
     "name": "stdout",
     "output_type": "stream",
     "text": [
      "F1 Score: 0.136608687734\n"
     ]
    }
   ],
   "source": [
    "# weighted logistic regression\n",
    "random.seed(0)\n",
    "genre_pred = pd.DataFrame(index = x_test.index) # dataframe to store predicted values\n",
    "\n",
    "for col in y_train.columns:\n",
    "    weighted_logistic = LogisticRegression(class_weight='balanced')\n",
    "    weighted_logistic.fit(x_train, y_train[col])\n",
    "    genre_pred[col]= weighted_logistic.predict(x_test)\n",
    "\n",
    "score_weighted_log = f1_genres(y_test, y_pred)\n",
    "print \"F1 Score:\", score_weighted_log"
   ]
  },
  {
   "cell_type": "code",
   "execution_count": 12,
   "metadata": {},
   "outputs": [
    {
     "name": "stderr",
     "output_type": "stream",
     "text": [
      "/Users/wdq/my-venv/lib/python2.7/site-packages/sklearn/discriminant_analysis.py:387: UserWarning: Variables are collinear.\n",
      "  warnings.warn(\"Variables are collinear.\")\n"
     ]
    },
    {
     "name": "stdout",
     "output_type": "stream",
     "text": [
      "F1 Score: 0.136608687734\n"
     ]
    }
   ],
   "source": [
    "#LDA\n",
    "random.seed(0)\n",
    "genre_pred = pd.DataFrame(index = x_test.index) # dataframe to store predicted values\n",
    "\n",
    "for col in y_train.columns:\n",
    "    lda = LDA()\n",
    "    lda.fit(x_train, y_train[col])\n",
    "    genre_pred[col]= lda.predict(x_test)\n",
    "\n",
    "score_lda = f1_genres(y_test, y_pred)\n",
    "print \"F1 Score:\", score_lda"
   ]
  },
  {
   "cell_type": "code",
   "execution_count": 13,
   "metadata": {},
   "outputs": [
    {
     "name": "stderr",
     "output_type": "stream",
     "text": [
      "/Users/wdq/my-venv/lib/python2.7/site-packages/sklearn/discriminant_analysis.py:695: UserWarning: Variables are collinear\n",
      "  warnings.warn(\"Variables are collinear\")\n"
     ]
    },
    {
     "name": "stdout",
     "output_type": "stream",
     "text": [
      "F1 Score: 0.136608687734\n"
     ]
    }
   ],
   "source": [
    "#QDA\n",
    "random.seed(0)\n",
    "genre_pred = pd.DataFrame(index = x_test.index) # dataframe to store predicted values\n",
    "\n",
    "for col in y_train.columns:\n",
    "    qda = QDA()\n",
    "    qda.fit(x_train, y_train[col])\n",
    "    genre_pred[col]= qda.predict(x_test)\n",
    "\n",
    "score_qda = f1_genres(y_test, y_pred)\n",
    "print \"F1 Score:\", score_qda"
   ]
  },
  {
   "cell_type": "code",
   "execution_count": 14,
   "metadata": {},
   "outputs": [
    {
     "name": "stdout",
     "output_type": "stream",
     "text": [
      "F1 Score: 0.136608687734\n"
     ]
    }
   ],
   "source": [
    "# SVM\n",
    "random.seed(0)\n",
    "genre_pred = pd.DataFrame(index = x_test.index) # dataframe to store predicted values\n",
    "\n",
    "for col in y_train.columns:\n",
    "    svm = SVC(C=5, class_weight='balanced')\n",
    "    svm.fit(x_train, y_train[col])\n",
    "    genre_pred[col]= svm.predict(x_test)\n",
    "\n",
    "score_svm = f1_genres(y_test, y_pred)\n",
    "print \"F1 Score:\", score_svm"
   ]
  },
  {
   "cell_type": "code",
   "execution_count": 15,
   "metadata": {},
   "outputs": [
    {
     "data": {
      "text/html": [
       "<div>\n",
       "<table border=\"1\" class=\"dataframe\">\n",
       "  <thead>\n",
       "    <tr style=\"text-align: right;\">\n",
       "      <th></th>\n",
       "      <th>knn</th>\n",
       "      <th>lda</th>\n",
       "      <th>qda</th>\n",
       "      <th>rf</th>\n",
       "      <th>tree</th>\n",
       "      <th>unweighted logistic</th>\n",
       "      <th>weighted logistic</th>\n",
       "      <th>weighted svm</th>\n",
       "    </tr>\n",
       "  </thead>\n",
       "  <tbody>\n",
       "    <tr>\n",
       "      <th>f1_score</th>\n",
       "      <td>0.2735</td>\n",
       "      <td>0.136609</td>\n",
       "      <td>0.136609</td>\n",
       "      <td>0.136609</td>\n",
       "      <td>0.171634</td>\n",
       "      <td>0.136609</td>\n",
       "      <td>0.136609</td>\n",
       "      <td>0.136609</td>\n",
       "    </tr>\n",
       "    <tr>\n",
       "      <th>weighted_f1_score</th>\n",
       "      <td>0.2735</td>\n",
       "      <td>0.136609</td>\n",
       "      <td>0.136609</td>\n",
       "      <td>0.136609</td>\n",
       "      <td>0.171634</td>\n",
       "      <td>0.136609</td>\n",
       "      <td>0.136609</td>\n",
       "      <td>0.136609</td>\n",
       "    </tr>\n",
       "  </tbody>\n",
       "</table>\n",
       "</div>"
      ],
      "text/plain": [
       "                      knn       lda       qda        rf      tree  \\\n",
       "f1_score           0.2735  0.136609  0.136609  0.136609  0.171634   \n",
       "weighted_f1_score  0.2735  0.136609  0.136609  0.136609  0.171634   \n",
       "\n",
       "                   unweighted logistic  weighted logistic  weighted svm  \n",
       "f1_score                      0.136609           0.136609      0.136609  \n",
       "weighted_f1_score             0.136609           0.136609      0.136609  "
      ]
     },
     "execution_count": 15,
     "metadata": {},
     "output_type": "execute_result"
    }
   ],
   "source": [
    "#Score Dataframe\n",
    "score_df = pd.DataFrame({'knn': score_knn, \n",
    "                         'tree': score_tree,\n",
    "                         'rf': score_rf,\n",
    "                         'unweighted logistic': score_unweighted_log,\n",
    "                         'weighted logistic': score_weighted_log,\n",
    "                         'lda': score_lda,\n",
    "                         'qda': score_qda,                        \n",
    "                         'weighted svm': score_svm}, index = ['f1_score', 'weighted_f1_score'])\n",
    "score_df"
   ]
  },
  {
   "cell_type": "code",
   "execution_count": 17,
   "metadata": {},
   "outputs": [
    {
     "data": {
      "text/plain": [
       "<matplotlib.text.Text at 0x10a1d2fd0>"
      ]
     },
     "execution_count": 17,
     "metadata": {},
     "output_type": "execute_result"
    },
    {
     "data": {
      "image/png": "[encoded data removed]",
      "text/plain": [
       "<matplotlib.figure.Figure at 0x109015a10>"
      ]
     },
     "metadata": {},
     "output_type": "display_data"
    }
   ],
   "source": [
    "score_df.plot(kind = \"bar\")\n",
    "plt.title(\"Model Score for Un-tuned Baseline Models\")"
   ]
  },
  {
   "cell_type": "markdown",
   "metadata": {},
   "source": [
    "Without feature selection or model tuning, we found that weighted logistic regression gives the best score. Although both random forest and SVM are both very sensitive to model tuning and have space for improvement.\n",
    "\n",
    "Next, we are going to tune the follwoing three models:\n",
    "- Weighted Logistic Regression\n",
    "- RF\n",
    "- SVM\n",
    "\n",
    "We'll also perform feature selection."
   ]
  },
  {
   "cell_type": "markdown",
   "metadata": {},
   "source": [
    "## 3.2 Weighted Logistic Regression"
   ]
  },
  {
   "cell_type": "code",
   "execution_count": 18,
   "metadata": {},
   "outputs": [
    {
     "ename": "NameError",
     "evalue": "name 'c' is not defined",
     "output_type": "error",
     "traceback": [
      "\u001b[0;31m---------------------------------------------------------------------------\u001b[0m",
      "\u001b[0;31mNameError\u001b[0m                                 Traceback (most recent call last)",
      "\u001b[0;32m<ipython-input-18-b7772f4c303e>\u001b[0m in \u001b[0;36m<module>\u001b[0;34m()\u001b[0m\n\u001b[0;32m----> 1\u001b[0;31m \u001b[0mc_best\u001b[0m \u001b[0;34m=\u001b[0m \u001b[0mc\u001b[0m\u001b[0;34m[\u001b[0m\u001b[0mnp\u001b[0m\u001b[0;34m.\u001b[0m\u001b[0margmax\u001b[0m\u001b[0;34m(\u001b[0m\u001b[0mscore_weighted_log_tune\u001b[0m\u001b[0;34m)\u001b[0m\u001b[0;34m]\u001b[0m\u001b[0;34m\u001b[0m\u001b[0m\n\u001b[0m\u001b[1;32m      2\u001b[0m \u001b[0;32mprint\u001b[0m \u001b[0;34m'Best C:'\u001b[0m\u001b[0;34m,\u001b[0m \u001b[0mc_best\u001b[0m\u001b[0;34m\u001b[0m\u001b[0m\n\u001b[1;32m      3\u001b[0m \u001b[0;32mimport\u001b[0m \u001b[0mmatplotlib\u001b[0m\u001b[0;34m.\u001b[0m\u001b[0mpyplot\u001b[0m \u001b[0;32mas\u001b[0m \u001b[0mplt\u001b[0m\u001b[0;34m\u001b[0m\u001b[0m\n\u001b[1;32m      4\u001b[0m \u001b[0mget_ipython\u001b[0m\u001b[0;34m(\u001b[0m\u001b[0;34m)\u001b[0m\u001b[0;34m.\u001b[0m\u001b[0mmagic\u001b[0m\u001b[0;34m(\u001b[0m\u001b[0;34mu'matplotlib inline'\u001b[0m\u001b[0;34m)\u001b[0m\u001b[0;34m\u001b[0m\u001b[0m\n\u001b[1;32m      5\u001b[0m \u001b[0mplt\u001b[0m\u001b[0;34m.\u001b[0m\u001b[0mplot\u001b[0m\u001b[0;34m(\u001b[0m\u001b[0mc\u001b[0m\u001b[0;34m,\u001b[0m \u001b[0mscore_weighted_log_tune\u001b[0m\u001b[0;34m)\u001b[0m\u001b[0;34m\u001b[0m\u001b[0m\n",
      "\u001b[0;31mNameError\u001b[0m: name 'c' is not defined"
     ]
    }
   ],
   "source": [
    "c_best = c[np.argmax(score_weighted_log_tune)]\n",
    "print 'Best C:', c_best\n",
    "import matplotlib.pyplot as plt\n",
    "%matplotlib inline\n",
    "plt.plot(c, score_weighted_log_tune)\n",
    "plt.xlabel('C')\n",
    "plt.ylabel('F1 Score')\n",
    "plt.title('Tuning weighted logistic regression: C')\n",
    "plt.show()"
   ]
  },
  {
   "cell_type": "code",
   "execution_count": 249,
   "metadata": {},
   "outputs": [
    {
     "name": "stdout",
     "output_type": "stream",
     "text": [
      "F1 Score of tuned Weighted Logistic Regression: 0.383416268959\n"
     ]
    }
   ],
   "source": [
    "# weighted logistic regression\n",
    "genre_pred = pd.DataFrame(index = x_test.index) # dataframe to store predicted values\n",
    "\n",
    "for col in y_train.columns:\n",
    "    weighted_logistic = LogisticRegression(class_weight='balanced', C = c_best)\n",
    "    weighted_logistic.fit(x_train, y_train[col])\n",
    "    genre_pred[col]= weighted_logistic.predict(x_test)\n",
    "\n",
    "score_weighted_log = f1_genres(y_test, genre_pred)\n",
    "print \"F1 Score of tuned Weighted Logistic Regression:\", score_weighted_log"
   ]
  },
  {
   "cell_type": "markdown",
   "metadata": {},
   "source": [
    "#### We also want to tune the parameter C for each columns to optimize its performance:"
   ]
  },
  {
   "cell_type": "code",
   "execution_count": 254,
   "metadata": {},
   "outputs": [
    {
     "name": "stdout",
     "output_type": "stream",
     "text": [
      "Action 0.001\n",
      "Adventure 1e-05\n",
      "Comedy 0.1\n",
      "Crime 0.0001\n",
      "Fantasy 0.1\n",
      "Family 0.0001\n",
      "Romance 1e-05\n",
      "Horror 0.0001\n",
      "Western 0.0001\n",
      "Documentary 0.01\n",
      "Biography 1e-05\n",
      "Drama 0.001\n",
      "Animation 1e-05\n",
      "Sci-Fi 0.1\n",
      "Thriller 0.0001\n",
      "Short 1e-06\n",
      "Mystery 1e-05\n",
      "Sport 0.01\n",
      "War 1e-05\n",
      "History 0.01\n",
      "Music 0.001\n",
      "Foreign 0.001\n",
      "Other 1e-05\n",
      "0.31695870521\n"
     ]
    }
   ],
   "source": [
    "genre_pred = pd.DataFrame(index = x_test.index) # dataframe to store predicted values\n",
    "\n",
    "for col in y_train.columns:\n",
    "    k_cv = 5\n",
    "    score_cv = []\n",
    "    for i in range(-6, 7, 2):\n",
    "        # fit regularized logistic regression model on training set      \n",
    "        weighted_logistic = LogisticRegression(class_weight='balanced', C = 10**i)\n",
    "        score_cv += [sum(cross_val_score(weighted_logistic, x_train, y_train[col], cv = k_cv, scoring = F_score_cv)) / k_cv]\n",
    "    # find best score and corresponding tuning parameter\n",
    "    max_value = max(score_cv)\n",
    "    max_index = score_cv.index(max_value)\n",
    "    C_best = 10**(max_index -7)\n",
    "    print col, C_best\n",
    "    weighted_logistic = LogisticRegression(class_weight='balanced',  C = C_best)\n",
    "    weighted_logistic.fit(x_train, y_train[col])\n",
    "    genre_pred[col]= weighted_logistic.predict(x_test)\n",
    "\n",
    "score_weighted_log = f1_genres(y_test, genre_pred)\n",
    "print score_weighted_log"
   ]
  },
  {
   "cell_type": "markdown",
   "metadata": {},
   "source": [
    "#### Functions used in tuning logistic regression:"
   ]
  },
  {
   "cell_type": "code",
   "execution_count": 20,
   "metadata": {
    "collapsed": true
   },
   "outputs": [],
   "source": [
    "# function F_score takes model, predictors X and true y values and returns f1_score\n",
    "# this function is modified to suit cross validation format\n",
    "\n",
    "def F_score_cv(model, X, y_true):\n",
    "    y_predict = model.predict(X)\n",
    "    score = f1_score(y_predict, y_true)\n",
    "    return score"
   ]
  },
  {
   "cell_type": "code",
   "execution_count": 246,
   "metadata": {
    "collapsed": true
   },
   "outputs": [],
   "source": [
    "#### TUNING LOGISTIC REGRESSION #####\n",
    "#### parameter c (without cross validation)\n",
    "c = [1, 10, 50, 100, 500, 1000]\n",
    "score_weighted_log_tune = np.zeros(len(c))\n",
    "random.seed(0)\n",
    "\n",
    "from sklearn.model_selection import train_test_split\n",
    "X_train, X_test, Y_train, Y_test = train_test_split(x_train, y_train, test_size=0.4, random_state=0)\n",
    "\n",
    "for i in range(len(c)):\n",
    "    #weighted logistic regression\n",
    "    genre_pred = pd.DataFrame(index = X_test.index) # dataframe to store predicted values of train\n",
    "\n",
    "    for col in y_train.columns:\n",
    "        weighted_logistic = LogisticRegression(class_weight='balanced', C=c[i])\n",
    "        weighted_logistic.fit(X_train, Y_train[col])\n",
    "        genre_pred[col]= weighted_logistic.predict(X_test)\n",
    "\n",
    "    score_weighted_log_tune[i] = f1_genres(Y_test, genre_pred)"
   ]
  },
  {
   "cell_type": "markdown",
   "metadata": {},
   "source": [
    "## 3.3 Random Forest"
   ]
  },
  {
   "cell_type": "code",
   "execution_count": 115,
   "metadata": {},
   "outputs": [
    {
     "name": "stdout",
     "output_type": "stream",
     "text": [
      "score of random forest model: 0.144091737997\n"
     ]
    }
   ],
   "source": [
    "# Random Forest\n",
    "random.seed(0)\n",
    "rf = RandomForest(n_estimators=100)\n",
    "rf.fit(x_train, y_train)\n",
    "y_pred = rf.predict(x_test)\n",
    "y_pred= pd.DataFrame(y_pred, columns = y_test.columns.values)\n",
    "score_rf = f1_genres(y_test, y_pred)\n",
    "print \"score of random forest model:\",score_rf"
   ]
  },
  {
   "cell_type": "code",
   "execution_count": 158,
   "metadata": {
    "collapsed": true
   },
   "outputs": [],
   "source": [
    "feature_rank = pd.DataFrame({'feature':x_train.columns.values, 'importance':rf.feature_importances_})\n",
    "feature_rank = feature_rank.sort_values(by = 'importance', ascending = False)"
   ]
  },
  {
   "cell_type": "code",
   "execution_count": 159,
   "metadata": {},
   "outputs": [
    {
     "data": {
      "image/png": "[encoded data removed]",
      "text/plain": [
       "<matplotlib.figure.Figure at 0x12505a550>"
      ]
     },
     "metadata": {},
     "output_type": "display_data"
    }
   ],
   "source": [
    "feature_rank.plot(x = 'feature', y = 'importance', kind = 'bar', figsize = (20, 10), use_index = False)\n",
    "plt.show()"
   ]
  },
  {
   "cell_type": "code",
   "execution_count": 161,
   "metadata": {},
   "outputs": [
    {
     "data": {
      "text/html": [
       "<div>\n",
       "<table border=\"1\" class=\"dataframe\">\n",
       "  <thead>\n",
       "    <tr style=\"text-align: right;\">\n",
       "      <th></th>\n",
       "      <th>feature</th>\n",
       "      <th>importance</th>\n",
       "    </tr>\n",
       "  </thead>\n",
       "  <tbody>\n",
       "    <tr>\n",
       "      <th>4</th>\n",
       "      <td>runtime_TMDB</td>\n",
       "      <td>0.041638</td>\n",
       "    </tr>\n",
       "    <tr>\n",
       "      <th>1</th>\n",
       "      <td>rating</td>\n",
       "      <td>0.037289</td>\n",
       "    </tr>\n",
       "    <tr>\n",
       "      <th>6</th>\n",
       "      <td>text_PC2</td>\n",
       "      <td>0.031434</td>\n",
       "    </tr>\n",
       "    <tr>\n",
       "      <th>9</th>\n",
       "      <td>text_PC5</td>\n",
       "      <td>0.029211</td>\n",
       "    </tr>\n",
       "    <tr>\n",
       "      <th>12</th>\n",
       "      <td>text_PC8</td>\n",
       "      <td>0.027413</td>\n",
       "    </tr>\n",
       "    <tr>\n",
       "      <th>13</th>\n",
       "      <td>text_PC9</td>\n",
       "      <td>0.027389</td>\n",
       "    </tr>\n",
       "    <tr>\n",
       "      <th>2</th>\n",
       "      <td>votes</td>\n",
       "      <td>0.024481</td>\n",
       "    </tr>\n",
       "    <tr>\n",
       "      <th>3</th>\n",
       "      <td>popularity_TMDB</td>\n",
       "      <td>0.024120</td>\n",
       "    </tr>\n",
       "    <tr>\n",
       "      <th>0</th>\n",
       "      <td>year</td>\n",
       "      <td>0.023958</td>\n",
       "    </tr>\n",
       "    <tr>\n",
       "      <th>7</th>\n",
       "      <td>text_PC3</td>\n",
       "      <td>0.023744</td>\n",
       "    </tr>\n",
       "    <tr>\n",
       "      <th>14</th>\n",
       "      <td>text_PC10</td>\n",
       "      <td>0.023556</td>\n",
       "    </tr>\n",
       "    <tr>\n",
       "      <th>8</th>\n",
       "      <td>text_PC4</td>\n",
       "      <td>0.023193</td>\n",
       "    </tr>\n",
       "    <tr>\n",
       "      <th>5</th>\n",
       "      <td>text_PC1</td>\n",
       "      <td>0.022982</td>\n",
       "    </tr>\n",
       "    <tr>\n",
       "      <th>15</th>\n",
       "      <td>text_PC11</td>\n",
       "      <td>0.022884</td>\n",
       "    </tr>\n",
       "    <tr>\n",
       "      <th>22</th>\n",
       "      <td>text_PC18</td>\n",
       "      <td>0.022207</td>\n",
       "    </tr>\n",
       "    <tr>\n",
       "      <th>20</th>\n",
       "      <td>text_PC16</td>\n",
       "      <td>0.021354</td>\n",
       "    </tr>\n",
       "    <tr>\n",
       "      <th>21</th>\n",
       "      <td>text_PC17</td>\n",
       "      <td>0.020994</td>\n",
       "    </tr>\n",
       "    <tr>\n",
       "      <th>11</th>\n",
       "      <td>text_PC7</td>\n",
       "      <td>0.020929</td>\n",
       "    </tr>\n",
       "    <tr>\n",
       "      <th>28</th>\n",
       "      <td>text_PC24</td>\n",
       "      <td>0.020887</td>\n",
       "    </tr>\n",
       "    <tr>\n",
       "      <th>31</th>\n",
       "      <td>text_PC27</td>\n",
       "      <td>0.020711</td>\n",
       "    </tr>\n",
       "    <tr>\n",
       "      <th>18</th>\n",
       "      <td>text_PC14</td>\n",
       "      <td>0.020671</td>\n",
       "    </tr>\n",
       "    <tr>\n",
       "      <th>32</th>\n",
       "      <td>text_PC28</td>\n",
       "      <td>0.020515</td>\n",
       "    </tr>\n",
       "    <tr>\n",
       "      <th>34</th>\n",
       "      <td>text_PC30</td>\n",
       "      <td>0.020316</td>\n",
       "    </tr>\n",
       "    <tr>\n",
       "      <th>23</th>\n",
       "      <td>text_PC19</td>\n",
       "      <td>0.020193</td>\n",
       "    </tr>\n",
       "    <tr>\n",
       "      <th>24</th>\n",
       "      <td>text_PC20</td>\n",
       "      <td>0.019966</td>\n",
       "    </tr>\n",
       "    <tr>\n",
       "      <th>26</th>\n",
       "      <td>text_PC22</td>\n",
       "      <td>0.019948</td>\n",
       "    </tr>\n",
       "    <tr>\n",
       "      <th>33</th>\n",
       "      <td>text_PC29</td>\n",
       "      <td>0.019845</td>\n",
       "    </tr>\n",
       "    <tr>\n",
       "      <th>29</th>\n",
       "      <td>text_PC25</td>\n",
       "      <td>0.019681</td>\n",
       "    </tr>\n",
       "    <tr>\n",
       "      <th>25</th>\n",
       "      <td>text_PC21</td>\n",
       "      <td>0.019593</td>\n",
       "    </tr>\n",
       "    <tr>\n",
       "      <th>30</th>\n",
       "      <td>text_PC26</td>\n",
       "      <td>0.019555</td>\n",
       "    </tr>\n",
       "    <tr>\n",
       "      <th>10</th>\n",
       "      <td>text_PC6</td>\n",
       "      <td>0.019450</td>\n",
       "    </tr>\n",
       "    <tr>\n",
       "      <th>19</th>\n",
       "      <td>text_PC15</td>\n",
       "      <td>0.019440</td>\n",
       "    </tr>\n",
       "    <tr>\n",
       "      <th>16</th>\n",
       "      <td>text_PC12</td>\n",
       "      <td>0.019417</td>\n",
       "    </tr>\n",
       "    <tr>\n",
       "      <th>106</th>\n",
       "      <td>animation department count</td>\n",
       "      <td>0.019313</td>\n",
       "    </tr>\n",
       "    <tr>\n",
       "      <th>17</th>\n",
       "      <td>text_PC13</td>\n",
       "      <td>0.019061</td>\n",
       "    </tr>\n",
       "    <tr>\n",
       "      <th>27</th>\n",
       "      <td>text_PC23</td>\n",
       "      <td>0.018835</td>\n",
       "    </tr>\n",
       "  </tbody>\n",
       "</table>\n",
       "</div>"
      ],
      "text/plain": [
       "                        feature  importance\n",
       "4                  runtime_TMDB    0.041638\n",
       "1                        rating    0.037289\n",
       "6                      text_PC2    0.031434\n",
       "9                      text_PC5    0.029211\n",
       "12                     text_PC8    0.027413\n",
       "13                     text_PC9    0.027389\n",
       "2                         votes    0.024481\n",
       "3               popularity_TMDB    0.024120\n",
       "0                          year    0.023958\n",
       "7                      text_PC3    0.023744\n",
       "14                    text_PC10    0.023556\n",
       "8                      text_PC4    0.023193\n",
       "5                      text_PC1    0.022982\n",
       "15                    text_PC11    0.022884\n",
       "22                    text_PC18    0.022207\n",
       "20                    text_PC16    0.021354\n",
       "21                    text_PC17    0.020994\n",
       "11                     text_PC7    0.020929\n",
       "28                    text_PC24    0.020887\n",
       "31                    text_PC27    0.020711\n",
       "18                    text_PC14    0.020671\n",
       "32                    text_PC28    0.020515\n",
       "34                    text_PC30    0.020316\n",
       "23                    text_PC19    0.020193\n",
       "24                    text_PC20    0.019966\n",
       "26                    text_PC22    0.019948\n",
       "33                    text_PC29    0.019845\n",
       "29                    text_PC25    0.019681\n",
       "25                    text_PC21    0.019593\n",
       "30                    text_PC26    0.019555\n",
       "10                     text_PC6    0.019450\n",
       "19                    text_PC15    0.019440\n",
       "16                    text_PC12    0.019417\n",
       "106  animation department count    0.019313\n",
       "17                    text_PC13    0.019061\n",
       "27                    text_PC23    0.018835"
      ]
     },
     "execution_count": 161,
     "metadata": {},
     "output_type": "execute_result"
    }
   ],
   "source": [
    "feature_rank[:36]"
   ]
  },
  {
   "cell_type": "markdown",
   "metadata": {},
   "source": [
    "#### Acoording to the feature importance, take the first 35 features to train the random forest model:"
   ]
  },
  {
   "cell_type": "code",
   "execution_count": 163,
   "metadata": {
    "collapsed": true
   },
   "outputs": [],
   "source": [
    "feature_select = feature_rank.ix[:36, 'feature']"
   ]
  },
  {
   "cell_type": "markdown",
   "metadata": {},
   "source": [
    "#### F1 score after feature selection:"
   ]
  },
  {
   "cell_type": "code",
   "execution_count": 270,
   "metadata": {},
   "outputs": [
    {
     "name": "stdout",
     "output_type": "stream",
     "text": [
      "score of random forest model: 0.161006388284\n"
     ]
    }
   ],
   "source": [
    "# Random Forest\n",
    "random.seed(0)\n",
    "rf = RandomForest(n_estimators=200)\n",
    "rf.fit(x_train[feature_select], y_train)\n",
    "y_pred = rf.predict(x_test[feature_select])\n",
    "y_pred= pd.DataFrame(y_pred, columns = y_test.columns.values)\n",
    "score_rf = f1_genres(y_test, y_pred)\n",
    "print \"score of random forest model:\",score_rf"
   ]
  },
  {
   "cell_type": "markdown",
   "metadata": {},
   "source": [
    "Still, there doesn't seem to be hugh improvement."
   ]
  },
  {
   "cell_type": "code",
   "execution_count": 283,
   "metadata": {
    "collapsed": true
   },
   "outputs": [],
   "source": [
    "### Tuning with all the data\n",
    "\n",
    "## set parameter range for tuning\n",
    "n_tree = 100\n",
    "n_feature = [0.2, 0.4, 0.6, 0.8, 1.0]\n",
    "n_cv = 5\n",
    "\n",
    "rf_tune = []\n",
    "   \n",
    "for i in range(len(n_feature)):\n",
    "        rf = RandomForest(n_estimators=n_tree, max_features = n_feature[i])\n",
    "        score = sum(cross_val_score(rf, x_train, y_train, cv = n_cv, scoring = 'f1_macro'))/n_cv\n",
    "        rf_tune.append(score)"
   ]
  },
  {
   "cell_type": "code",
   "execution_count": 287,
   "metadata": {},
   "outputs": [
    {
     "data": {
      "image/png": "[encoded data removed]",
      "text/plain": [
       "<matplotlib.figure.Figure at 0x126019250>"
      ]
     },
     "metadata": {},
     "output_type": "display_data"
    }
   ],
   "source": [
    "plt.plot(n_feature,rf_tune)\n",
    "plt.xlabel('max_feature')\n",
    "plt.ylabel('F1 Score')\n",
    "plt.show()"
   ]
  },
  {
   "cell_type": "code",
   "execution_count": null,
   "metadata": {
    "collapsed": true
   },
   "outputs": [],
   "source": [
    "### Tuning with selected feature\n",
    "\n",
    "## set parameter range for tuning\n",
    "n_tree = 100\n",
    "n_feature = [0.2, 0.4, 0.6, 0.8, 1.0]\n",
    "n_cv = 5\n",
    "\n",
    "rf_tune = []\n",
    "   \n",
    "for i in range(len(n_feature)):\n",
    "        rf = RandomForest(n_estimators=n_tree, max_features = n_feature[i])\n",
    "        score = sum(cross_val_score(rf, x_train[feature_select], y_train[feature_select], \n",
    "                                    cv = n_cv, scoring = 'f1_macro'))/n_cv\n",
    "        rf_tune.append(score)"
   ]
  },
  {
   "cell_type": "code",
   "execution_count": 288,
   "metadata": {},
   "outputs": [
    {
     "data": {
      "image/png": "[encoded data removed]",
      "text/plain": [
       "<matplotlib.figure.Figure at 0x126683050>"
      ]
     },
     "metadata": {},
     "output_type": "display_data"
    }
   ],
   "source": [
    "plt.plot(n_feature,rf_tune)\n",
    "plt.title('with selected features')\n",
    "plt.xlabel('max_feature')\n",
    "plt.ylabel('F1 Score')\n",
    "plt.show()"
   ]
  },
  {
   "cell_type": "markdown",
   "metadata": {},
   "source": [
    "## 3.4 SVM"
   ]
  },
  {
   "cell_type": "code",
   "execution_count": 21,
   "metadata": {},
   "outputs": [
    {
     "name": "stderr",
     "output_type": "stream",
     "text": [
      "/Users/wdq/my-venv/lib/python2.7/site-packages/sklearn/metrics/classification.py:1115: UndefinedMetricWarning: F-score is ill-defined and being set to 0.0 due to no true samples.\n",
      "  'recall', 'true', average, warn_for)\n"
     ]
    },
    {
     "name": "stdout",
     "output_type": "stream",
     "text": [
      "Action 1\n",
      "Adventure 1\n"
     ]
    },
    {
     "ename": "KeyboardInterrupt",
     "evalue": "",
     "output_type": "error",
     "traceback": [
      "\u001b[0;31m---------------------------------------------------------------------------\u001b[0m",
      "\u001b[0;31mKeyboardInterrupt\u001b[0m                         Traceback (most recent call last)",
      "\u001b[0;32m<ipython-input-21-142486b3cee3>\u001b[0m in \u001b[0;36m<module>\u001b[0;34m()\u001b[0m\n\u001b[1;32m      8\u001b[0m         \u001b[0;31m# fit regularized logistic regression model on training set\u001b[0m\u001b[0;34m\u001b[0m\u001b[0;34m\u001b[0m\u001b[0m\n\u001b[1;32m      9\u001b[0m         \u001b[0msvm\u001b[0m \u001b[0;34m=\u001b[0m \u001b[0mSVC\u001b[0m\u001b[0;34m(\u001b[0m\u001b[0mC\u001b[0m\u001b[0;34m=\u001b[0m\u001b[0;36m10\u001b[0m\u001b[0;34m**\u001b[0m\u001b[0mc\u001b[0m\u001b[0;34m[\u001b[0m\u001b[0mi\u001b[0m\u001b[0;34m]\u001b[0m\u001b[0;34m,\u001b[0m \u001b[0mclass_weight\u001b[0m\u001b[0;34m=\u001b[0m\u001b[0;34m'balanced'\u001b[0m\u001b[0;34m)\u001b[0m\u001b[0;34m\u001b[0m\u001b[0m\n\u001b[0;32m---> 10\u001b[0;31m         \u001b[0mscore_cv\u001b[0m \u001b[0;34m+=\u001b[0m \u001b[0;34m[\u001b[0m\u001b[0msum\u001b[0m\u001b[0;34m(\u001b[0m\u001b[0mcross_val_score\u001b[0m\u001b[0;34m(\u001b[0m\u001b[0msvm\u001b[0m\u001b[0;34m,\u001b[0m \u001b[0mx_train\u001b[0m\u001b[0;34m,\u001b[0m \u001b[0my_train\u001b[0m\u001b[0;34m[\u001b[0m\u001b[0mcol\u001b[0m\u001b[0;34m]\u001b[0m\u001b[0;34m,\u001b[0m \u001b[0mcv\u001b[0m \u001b[0;34m=\u001b[0m \u001b[0mk_cv\u001b[0m\u001b[0;34m,\u001b[0m \u001b[0mscoring\u001b[0m \u001b[0;34m=\u001b[0m \u001b[0mF_score_cv\u001b[0m\u001b[0;34m)\u001b[0m\u001b[0;34m)\u001b[0m \u001b[0;34m/\u001b[0m \u001b[0mk_cv\u001b[0m\u001b[0;34m]\u001b[0m\u001b[0;34m\u001b[0m\u001b[0m\n\u001b[0m\u001b[1;32m     11\u001b[0m     \u001b[0;31m# find best score and corresponding tuning parameter\u001b[0m\u001b[0;34m\u001b[0m\u001b[0;34m\u001b[0m\u001b[0m\n\u001b[1;32m     12\u001b[0m     \u001b[0mC_best\u001b[0m \u001b[0;34m=\u001b[0m \u001b[0;36m10\u001b[0m\u001b[0;34m**\u001b[0m\u001b[0mc\u001b[0m\u001b[0;34m[\u001b[0m\u001b[0mnp\u001b[0m\u001b[0;34m.\u001b[0m\u001b[0margmax\u001b[0m\u001b[0;34m(\u001b[0m\u001b[0mscore_cv\u001b[0m\u001b[0;34m)\u001b[0m\u001b[0;34m]\u001b[0m\u001b[0;34m\u001b[0m\u001b[0m\n",
      "\u001b[0;32m/Users/wdq/my-venv/lib/python2.7/site-packages/sklearn/model_selection/_validation.pyc\u001b[0m in \u001b[0;36mcross_val_score\u001b[0;34m(estimator, X, y, groups, scoring, cv, n_jobs, verbose, fit_params, pre_dispatch)\u001b[0m\n\u001b[1;32m    138\u001b[0m                                               \u001b[0mtrain\u001b[0m\u001b[0;34m,\u001b[0m \u001b[0mtest\u001b[0m\u001b[0;34m,\u001b[0m \u001b[0mverbose\u001b[0m\u001b[0;34m,\u001b[0m \u001b[0mNone\u001b[0m\u001b[0;34m,\u001b[0m\u001b[0;34m\u001b[0m\u001b[0m\n\u001b[1;32m    139\u001b[0m                                               fit_params)\n\u001b[0;32m--> 140\u001b[0;31m                       for train, test in cv_iter)\n\u001b[0m\u001b[1;32m    141\u001b[0m     \u001b[0;32mreturn\u001b[0m \u001b[0mnp\u001b[0m\u001b[0;34m.\u001b[0m\u001b[0marray\u001b[0m\u001b[0;34m(\u001b[0m\u001b[0mscores\u001b[0m\u001b[0;34m)\u001b[0m\u001b[0;34m[\u001b[0m\u001b[0;34m:\u001b[0m\u001b[0;34m,\u001b[0m \u001b[0;36m0\u001b[0m\u001b[0;34m]\u001b[0m\u001b[0;34m\u001b[0m\u001b[0m\n\u001b[1;32m    142\u001b[0m \u001b[0;34m\u001b[0m\u001b[0m\n",
      "\u001b[0;32m/Users/wdq/my-venv/lib/python2.7/site-packages/sklearn/externals/joblib/parallel.pyc\u001b[0m in \u001b[0;36m__call__\u001b[0;34m(self, iterable)\u001b[0m\n\u001b[1;32m    756\u001b[0m             \u001b[0;31m# was dispatched. In particular this covers the edge\u001b[0m\u001b[0;34m\u001b[0m\u001b[0;34m\u001b[0m\u001b[0m\n\u001b[1;32m    757\u001b[0m             \u001b[0;31m# case of Parallel used with an exhausted iterator.\u001b[0m\u001b[0;34m\u001b[0m\u001b[0;34m\u001b[0m\u001b[0m\n\u001b[0;32m--> 758\u001b[0;31m             \u001b[0;32mwhile\u001b[0m \u001b[0mself\u001b[0m\u001b[0;34m.\u001b[0m\u001b[0mdispatch_one_batch\u001b[0m\u001b[0;34m(\u001b[0m\u001b[0miterator\u001b[0m\u001b[0;34m)\u001b[0m\u001b[0;34m:\u001b[0m\u001b[0;34m\u001b[0m\u001b[0m\n\u001b[0m\u001b[1;32m    759\u001b[0m                 \u001b[0mself\u001b[0m\u001b[0;34m.\u001b[0m\u001b[0m_iterating\u001b[0m \u001b[0;34m=\u001b[0m \u001b[0mTrue\u001b[0m\u001b[0;34m\u001b[0m\u001b[0m\n\u001b[1;32m    760\u001b[0m             \u001b[0;32melse\u001b[0m\u001b[0;34m:\u001b[0m\u001b[0;34m\u001b[0m\u001b[0m\n",
      "\u001b[0;32m/Users/wdq/my-venv/lib/python2.7/site-packages/sklearn/externals/joblib/parallel.pyc\u001b[0m in \u001b[0;36mdispatch_one_batch\u001b[0;34m(self, iterator)\u001b[0m\n\u001b[1;32m    606\u001b[0m                 \u001b[0;32mreturn\u001b[0m \u001b[0mFalse\u001b[0m\u001b[0;34m\u001b[0m\u001b[0m\n\u001b[1;32m    607\u001b[0m             \u001b[0;32melse\u001b[0m\u001b[0;34m:\u001b[0m\u001b[0;34m\u001b[0m\u001b[0m\n\u001b[0;32m--> 608\u001b[0;31m                 \u001b[0mself\u001b[0m\u001b[0;34m.\u001b[0m\u001b[0m_dispatch\u001b[0m\u001b[0;34m(\u001b[0m\u001b[0mtasks\u001b[0m\u001b[0;34m)\u001b[0m\u001b[0;34m\u001b[0m\u001b[0m\n\u001b[0m\u001b[1;32m    609\u001b[0m                 \u001b[0;32mreturn\u001b[0m \u001b[0mTrue\u001b[0m\u001b[0;34m\u001b[0m\u001b[0m\n\u001b[1;32m    610\u001b[0m \u001b[0;34m\u001b[0m\u001b[0m\n",
      "\u001b[0;32m/Users/wdq/my-venv/lib/python2.7/site-packages/sklearn/externals/joblib/parallel.pyc\u001b[0m in \u001b[0;36m_dispatch\u001b[0;34m(self, batch)\u001b[0m\n\u001b[1;32m    569\u001b[0m         \u001b[0mdispatch_timestamp\u001b[0m \u001b[0;34m=\u001b[0m \u001b[0mtime\u001b[0m\u001b[0;34m.\u001b[0m\u001b[0mtime\u001b[0m\u001b[0;34m(\u001b[0m\u001b[0;34m)\u001b[0m\u001b[0;34m\u001b[0m\u001b[0m\n\u001b[1;32m    570\u001b[0m         \u001b[0mcb\u001b[0m \u001b[0;34m=\u001b[0m \u001b[0mBatchCompletionCallBack\u001b[0m\u001b[0;34m(\u001b[0m\u001b[0mdispatch_timestamp\u001b[0m\u001b[0;34m,\u001b[0m \u001b[0mlen\u001b[0m\u001b[0;34m(\u001b[0m\u001b[0mbatch\u001b[0m\u001b[0;34m)\u001b[0m\u001b[0;34m,\u001b[0m \u001b[0mself\u001b[0m\u001b[0;34m)\u001b[0m\u001b[0;34m\u001b[0m\u001b[0m\n\u001b[0;32m--> 571\u001b[0;31m         \u001b[0mjob\u001b[0m \u001b[0;34m=\u001b[0m \u001b[0mself\u001b[0m\u001b[0;34m.\u001b[0m\u001b[0m_backend\u001b[0m\u001b[0;34m.\u001b[0m\u001b[0mapply_async\u001b[0m\u001b[0;34m(\u001b[0m\u001b[0mbatch\u001b[0m\u001b[0;34m,\u001b[0m \u001b[0mcallback\u001b[0m\u001b[0;34m=\u001b[0m\u001b[0mcb\u001b[0m\u001b[0;34m)\u001b[0m\u001b[0;34m\u001b[0m\u001b[0m\n\u001b[0m\u001b[1;32m    572\u001b[0m         \u001b[0mself\u001b[0m\u001b[0;34m.\u001b[0m\u001b[0m_jobs\u001b[0m\u001b[0;34m.\u001b[0m\u001b[0mappend\u001b[0m\u001b[0;34m(\u001b[0m\u001b[0mjob\u001b[0m\u001b[0;34m)\u001b[0m\u001b[0;34m\u001b[0m\u001b[0m\n\u001b[1;32m    573\u001b[0m \u001b[0;34m\u001b[0m\u001b[0m\n",
      "\u001b[0;32m/Users/wdq/my-venv/lib/python2.7/site-packages/sklearn/externals/joblib/_parallel_backends.pyc\u001b[0m in \u001b[0;36mapply_async\u001b[0;34m(self, func, callback)\u001b[0m\n\u001b[1;32m    107\u001b[0m     \u001b[0;32mdef\u001b[0m \u001b[0mapply_async\u001b[0m\u001b[0;34m(\u001b[0m\u001b[0mself\u001b[0m\u001b[0;34m,\u001b[0m \u001b[0mfunc\u001b[0m\u001b[0;34m,\u001b[0m \u001b[0mcallback\u001b[0m\u001b[0;34m=\u001b[0m\u001b[0mNone\u001b[0m\u001b[0;34m)\u001b[0m\u001b[0;34m:\u001b[0m\u001b[0;34m\u001b[0m\u001b[0m\n\u001b[1;32m    108\u001b[0m         \u001b[0;34m\"\"\"Schedule a func to be run\"\"\"\u001b[0m\u001b[0;34m\u001b[0m\u001b[0m\n\u001b[0;32m--> 109\u001b[0;31m         \u001b[0mresult\u001b[0m \u001b[0;34m=\u001b[0m \u001b[0mImmediateResult\u001b[0m\u001b[0;34m(\u001b[0m\u001b[0mfunc\u001b[0m\u001b[0;34m)\u001b[0m\u001b[0;34m\u001b[0m\u001b[0m\n\u001b[0m\u001b[1;32m    110\u001b[0m         \u001b[0;32mif\u001b[0m \u001b[0mcallback\u001b[0m\u001b[0;34m:\u001b[0m\u001b[0;34m\u001b[0m\u001b[0m\n\u001b[1;32m    111\u001b[0m             \u001b[0mcallback\u001b[0m\u001b[0;34m(\u001b[0m\u001b[0mresult\u001b[0m\u001b[0;34m)\u001b[0m\u001b[0;34m\u001b[0m\u001b[0m\n",
      "\u001b[0;32m/Users/wdq/my-venv/lib/python2.7/site-packages/sklearn/externals/joblib/_parallel_backends.pyc\u001b[0m in \u001b[0;36m__init__\u001b[0;34m(self, batch)\u001b[0m\n\u001b[1;32m    324\u001b[0m         \u001b[0;31m# Don't delay the application, to avoid keeping the input\u001b[0m\u001b[0;34m\u001b[0m\u001b[0;34m\u001b[0m\u001b[0m\n\u001b[1;32m    325\u001b[0m         \u001b[0;31m# arguments in memory\u001b[0m\u001b[0;34m\u001b[0m\u001b[0;34m\u001b[0m\u001b[0m\n\u001b[0;32m--> 326\u001b[0;31m         \u001b[0mself\u001b[0m\u001b[0;34m.\u001b[0m\u001b[0mresults\u001b[0m \u001b[0;34m=\u001b[0m \u001b[0mbatch\u001b[0m\u001b[0;34m(\u001b[0m\u001b[0;34m)\u001b[0m\u001b[0;34m\u001b[0m\u001b[0m\n\u001b[0m\u001b[1;32m    327\u001b[0m \u001b[0;34m\u001b[0m\u001b[0m\n\u001b[1;32m    328\u001b[0m     \u001b[0;32mdef\u001b[0m \u001b[0mget\u001b[0m\u001b[0;34m(\u001b[0m\u001b[0mself\u001b[0m\u001b[0;34m)\u001b[0m\u001b[0;34m:\u001b[0m\u001b[0;34m\u001b[0m\u001b[0m\n",
      "\u001b[0;32m/Users/wdq/my-venv/lib/python2.7/site-packages/sklearn/externals/joblib/parallel.pyc\u001b[0m in \u001b[0;36m__call__\u001b[0;34m(self)\u001b[0m\n\u001b[1;32m    129\u001b[0m \u001b[0;34m\u001b[0m\u001b[0m\n\u001b[1;32m    130\u001b[0m     \u001b[0;32mdef\u001b[0m \u001b[0m__call__\u001b[0m\u001b[0;34m(\u001b[0m\u001b[0mself\u001b[0m\u001b[0;34m)\u001b[0m\u001b[0;34m:\u001b[0m\u001b[0;34m\u001b[0m\u001b[0m\n\u001b[0;32m--> 131\u001b[0;31m         \u001b[0;32mreturn\u001b[0m \u001b[0;34m[\u001b[0m\u001b[0mfunc\u001b[0m\u001b[0;34m(\u001b[0m\u001b[0;34m*\u001b[0m\u001b[0margs\u001b[0m\u001b[0;34m,\u001b[0m \u001b[0;34m**\u001b[0m\u001b[0mkwargs\u001b[0m\u001b[0;34m)\u001b[0m \u001b[0;32mfor\u001b[0m \u001b[0mfunc\u001b[0m\u001b[0;34m,\u001b[0m \u001b[0margs\u001b[0m\u001b[0;34m,\u001b[0m \u001b[0mkwargs\u001b[0m \u001b[0;32min\u001b[0m \u001b[0mself\u001b[0m\u001b[0;34m.\u001b[0m\u001b[0mitems\u001b[0m\u001b[0;34m]\u001b[0m\u001b[0;34m\u001b[0m\u001b[0m\n\u001b[0m\u001b[1;32m    132\u001b[0m \u001b[0;34m\u001b[0m\u001b[0m\n\u001b[1;32m    133\u001b[0m     \u001b[0;32mdef\u001b[0m \u001b[0m__len__\u001b[0m\u001b[0;34m(\u001b[0m\u001b[0mself\u001b[0m\u001b[0;34m)\u001b[0m\u001b[0;34m:\u001b[0m\u001b[0;34m\u001b[0m\u001b[0m\n",
      "\u001b[0;32m/Users/wdq/my-venv/lib/python2.7/site-packages/sklearn/model_selection/_validation.pyc\u001b[0m in \u001b[0;36m_fit_and_score\u001b[0;34m(estimator, X, y, scorer, train, test, verbose, parameters, fit_params, return_train_score, return_parameters, return_n_test_samples, return_times, error_score)\u001b[0m\n\u001b[1;32m    236\u001b[0m             \u001b[0mestimator\u001b[0m\u001b[0;34m.\u001b[0m\u001b[0mfit\u001b[0m\u001b[0;34m(\u001b[0m\u001b[0mX_train\u001b[0m\u001b[0;34m,\u001b[0m \u001b[0;34m**\u001b[0m\u001b[0mfit_params\u001b[0m\u001b[0;34m)\u001b[0m\u001b[0;34m\u001b[0m\u001b[0m\n\u001b[1;32m    237\u001b[0m         \u001b[0;32melse\u001b[0m\u001b[0;34m:\u001b[0m\u001b[0;34m\u001b[0m\u001b[0m\n\u001b[0;32m--> 238\u001b[0;31m             \u001b[0mestimator\u001b[0m\u001b[0;34m.\u001b[0m\u001b[0mfit\u001b[0m\u001b[0;34m(\u001b[0m\u001b[0mX_train\u001b[0m\u001b[0;34m,\u001b[0m \u001b[0my_train\u001b[0m\u001b[0;34m,\u001b[0m \u001b[0;34m**\u001b[0m\u001b[0mfit_params\u001b[0m\u001b[0;34m)\u001b[0m\u001b[0;34m\u001b[0m\u001b[0m\n\u001b[0m\u001b[1;32m    239\u001b[0m \u001b[0;34m\u001b[0m\u001b[0m\n\u001b[1;32m    240\u001b[0m     \u001b[0;32mexcept\u001b[0m \u001b[0mException\u001b[0m \u001b[0;32mas\u001b[0m \u001b[0me\u001b[0m\u001b[0;34m:\u001b[0m\u001b[0;34m\u001b[0m\u001b[0m\n",
      "\u001b[0;32m/Users/wdq/my-venv/lib/python2.7/site-packages/sklearn/svm/base.pyc\u001b[0m in \u001b[0;36mfit\u001b[0;34m(self, X, y, sample_weight)\u001b[0m\n\u001b[1;32m    187\u001b[0m \u001b[0;34m\u001b[0m\u001b[0m\n\u001b[1;32m    188\u001b[0m         \u001b[0mseed\u001b[0m \u001b[0;34m=\u001b[0m \u001b[0mrnd\u001b[0m\u001b[0;34m.\u001b[0m\u001b[0mrandint\u001b[0m\u001b[0;34m(\u001b[0m\u001b[0mnp\u001b[0m\u001b[0;34m.\u001b[0m\u001b[0miinfo\u001b[0m\u001b[0;34m(\u001b[0m\u001b[0;34m'i'\u001b[0m\u001b[0;34m)\u001b[0m\u001b[0;34m.\u001b[0m\u001b[0mmax\u001b[0m\u001b[0;34m)\u001b[0m\u001b[0;34m\u001b[0m\u001b[0m\n\u001b[0;32m--> 189\u001b[0;31m         \u001b[0mfit\u001b[0m\u001b[0;34m(\u001b[0m\u001b[0mX\u001b[0m\u001b[0;34m,\u001b[0m \u001b[0my\u001b[0m\u001b[0;34m,\u001b[0m \u001b[0msample_weight\u001b[0m\u001b[0;34m,\u001b[0m \u001b[0msolver_type\u001b[0m\u001b[0;34m,\u001b[0m \u001b[0mkernel\u001b[0m\u001b[0;34m,\u001b[0m \u001b[0mrandom_seed\u001b[0m\u001b[0;34m=\u001b[0m\u001b[0mseed\u001b[0m\u001b[0;34m)\u001b[0m\u001b[0;34m\u001b[0m\u001b[0m\n\u001b[0m\u001b[1;32m    190\u001b[0m         \u001b[0;31m# see comment on the other call to np.iinfo in this file\u001b[0m\u001b[0;34m\u001b[0m\u001b[0;34m\u001b[0m\u001b[0m\n\u001b[1;32m    191\u001b[0m \u001b[0;34m\u001b[0m\u001b[0m\n",
      "\u001b[0;32m/Users/wdq/my-venv/lib/python2.7/site-packages/sklearn/svm/base.pyc\u001b[0m in \u001b[0;36m_dense_fit\u001b[0;34m(self, X, y, sample_weight, solver_type, kernel, random_seed)\u001b[0m\n\u001b[1;32m    254\u001b[0m                 \u001b[0mcache_size\u001b[0m\u001b[0;34m=\u001b[0m\u001b[0mself\u001b[0m\u001b[0;34m.\u001b[0m\u001b[0mcache_size\u001b[0m\u001b[0;34m,\u001b[0m \u001b[0mcoef0\u001b[0m\u001b[0;34m=\u001b[0m\u001b[0mself\u001b[0m\u001b[0;34m.\u001b[0m\u001b[0mcoef0\u001b[0m\u001b[0;34m,\u001b[0m\u001b[0;34m\u001b[0m\u001b[0m\n\u001b[1;32m    255\u001b[0m                 \u001b[0mgamma\u001b[0m\u001b[0;34m=\u001b[0m\u001b[0mself\u001b[0m\u001b[0;34m.\u001b[0m\u001b[0m_gamma\u001b[0m\u001b[0;34m,\u001b[0m \u001b[0mepsilon\u001b[0m\u001b[0;34m=\u001b[0m\u001b[0mself\u001b[0m\u001b[0;34m.\u001b[0m\u001b[0mepsilon\u001b[0m\u001b[0;34m,\u001b[0m\u001b[0;34m\u001b[0m\u001b[0m\n\u001b[0;32m--> 256\u001b[0;31m                 max_iter=self.max_iter, random_seed=random_seed)\n\u001b[0m\u001b[1;32m    257\u001b[0m \u001b[0;34m\u001b[0m\u001b[0m\n\u001b[1;32m    258\u001b[0m         \u001b[0mself\u001b[0m\u001b[0;34m.\u001b[0m\u001b[0m_warn_from_fit_status\u001b[0m\u001b[0;34m(\u001b[0m\u001b[0;34m)\u001b[0m\u001b[0;34m\u001b[0m\u001b[0m\n",
      "\u001b[0;31mKeyboardInterrupt\u001b[0m: "
     ]
    }
   ],
   "source": [
    "genre_pred = pd.DataFrame(index = x_test.index) # dataframe to store predicted values\n",
    "c = range(-7, 7)\n",
    "\n",
    "for col in y_train.columns:\n",
    "    k_cv = 5\n",
    "    score_cv = []\n",
    "    for i in range(len(c)):\n",
    "        # fit regularized logistic regression model on training set      \n",
    "        svm = SVC(C=10**c[i], class_weight='balanced')\n",
    "        score_cv += [sum(cross_val_score(svm, x_train, y_train[col], cv = k_cv, scoring = F_score_cv)) / k_cv]\n",
    "    # find best score and corresponding tuning parameter\n",
    "    C_best = 10**c[np.argmax(score_cv)]\n",
    "    print col, C_best\n",
    "    svm = SVC(class_weight='balanced',  C = C_best)\n",
    "    svm.fit(x_train, y_train[col])\n",
    "    genre_pred[col]= svm.predict(x_test)\n",
    "\n",
    "score_svm = f1_genres(y_test, genre_pred)\n",
    "print score_svm"
   ]
  },
  {
   "cell_type": "code",
   "execution_count": null,
   "metadata": {
    "collapsed": true
   },
   "outputs": [],
   "source": [
    "from IPython.display import Image\n",
    "Image(\"svm_result.png\")"
   ]
  },
  {
   "cell_type": "markdown",
   "metadata": {},
   "source": [
    "The F1 score of tuned SVM is: 0.390064260284"
   ]
  },
  {
   "cell_type": "markdown",
   "metadata": {},
   "source": [
    "---\n",
    "# Part 4. Discussion"
   ]
  },
  {
   "cell_type": "markdown",
   "metadata": {},
   "source": [
    "### Q. Detailed description and implementation of two different models. Careful performance evaluations for both models.Visualizations of the metrics for performance evaluation.\n",
    "(please see Part 3 for details in model implementation and evaluation.)\n",
    "- We briely tested KNN, decision tree, random forest, LQA, DQA, SVM and logistic regression models, without model tuning or feature selection. The baseline models in general\n",
    "\n",
    "### Q. Description of your performance metrics\n",
    "(as already be discussed in Part 2)\n",
    "- For each movie to be predicted, we use the `f1_score` function from `sklearn.metrics` package to compare the predicted value (23-long vector with 0 and 1 for each genre) and true value. To evaluate the model, we use the averaged F1 score.\n",
    "- We also exlored another metric: Intersection over Union (IoU). Accuracy score here is defined as (intersection between real and predicted vectors) / (union between real and predicted vectors). It also moniters both false positive and false negtive mistakes.\n",
    "\n",
    "- We choose F1 score because we care about both false positive and false negative mistakes. For now we are giving them the same weights, so we take the harmonic mean of precision and recall. But this can be further adjusted depending on the application of this prediction (whether it's worse to mis-classified a genre or to miss a genre).\n",
    "\n",
    "### Q. Discussion of the differences between the models, their strengths, weaknesses, etc.\n",
    "- The weighted logistic regression model and the SVM model seem to have relatively high F1 score (>0.35), while the other models performs poorly.\n",
    "- The SVM and RF models are computationally expensive, but have larger space to improve (by tuning data). LDA and QDA perform poorply as expected, as much complicated data is less likely to be linearly seperable. The logistic regression is quick and easy to intepretate.\n",
    "\n",
    "### Q. Discussion of the performances you achieved, and how you might be able to improve them in the future\n",
    "- The F1 score of different tranditional ML models are generally low. We may need to do seom feature selection, since the total 118 variables may be too much, especially when we are only training on 2500 data points.\n",
    "- Training the model on a much bigger data set may also help improve (we have 25k data in total).\n",
    "- We may also want ot include the poster information."
   ]
  },
  {
   "cell_type": "code",
   "execution_count": null,
   "metadata": {
    "collapsed": true
   },
   "outputs": [],
   "source": []
  }
 ],
 "metadata": {
  "anaconda-cloud": {},
  "kernelspec": {
   "display_name": "Python 2",
   "language": "python",
   "name": "python2"
  },
  "language_info": {
   "codemirror_mode": {
    "name": "ipython",
    "version": 2
   },
   "file_extension": ".py",
   "mimetype": "text/x-python",
   "name": "python",
   "nbconvert_exporter": "python",
   "pygments_lexer": "ipython2",
   "version": "2.7.10"
  }
 },
 "nbformat": 4,
 "nbformat_minor": 1
}
