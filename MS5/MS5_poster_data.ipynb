{
 "cells": [
  {
   "cell_type": "code",
   "execution_count": null,
   "metadata": {
    "collapsed": true
   },
   "outputs": [],
   "source": [
    "### import libraries\n"
   ]
  },
  {
   "cell_type": "markdown",
   "metadata": {},
   "source": [
    "...after you generated the data frame data_genre_5000...\n"
   ]
  },
  {
   "cell_type": "code",
   "execution_count": null,
   "metadata": {
    "collapsed": true
   },
   "outputs": [],
   "source": [
    "## change the data_genre to int16\n",
    "data_genre = np.int8(data_genre)\n",
    "print (data_genre.dtype)\n",
    "\n",
    "## save data\n",
    "np.save('data_genre_5000.npy', data_genre)"
   ]
  },
  {
   "cell_type": "markdown",
   "metadata": {},
   "source": [
    "### Sampled Data (n = 5000) for MLP model:\n",
    "X: data_image (5000 x 150528) |  centered by the mean pixel of all three channels\n",
    "\n",
    "y: data_genre (5000 x 8)"
   ]
  },
  {
   "cell_type": "code",
   "execution_count": null,
   "metadata": {
    "collapsed": true
   },
   "outputs": [],
   "source": [
    "# read in each image, use following code\n",
    "# read in sampled genre dataframe\n",
    "genre = pd.read_csv('genre_sample.csv', index_col=0)\n",
    "data_genre = np.array(genre)\n",
    "\n",
    "# create a dataframe to store information of image\n",
    "index = genre.index.values\n",
    "data_image = []\n",
    "\n",
    "for i in range(len(index)):\n",
    "    x = np.load('npy/' + str(genre.index.values[i]) + '.npy')\n",
    "    data_image.append(x.flatten())\n",
    "\n",
    "data_image = np.array(data_image)\n",
    "\n",
    "# center each poster by subtracting the mean of each row\n",
    "data_image = data_image - np.mean(data_image, axis = 1).reshape(-1,1)"
   ]
  },
  {
   "cell_type": "code",
   "execution_count": null,
   "metadata": {
    "collapsed": true
   },
   "outputs": [],
   "source": [
    "## change data type\n",
    "data_image = np.float16(data_image)\n",
    "print (data_image.dtype)"
   ]
  },
  {
   "cell_type": "code",
   "execution_count": null,
   "metadata": {
    "collapsed": true
   },
   "outputs": [],
   "source": [
    "## check dimension\n",
    "print (data_image.shape)"
   ]
  },
  {
   "cell_type": "code",
   "execution_count": null,
   "metadata": {
    "collapsed": true
   },
   "outputs": [],
   "source": [
    "## save data\n",
    "np.save('data_image_5000.npy', data_image)"
   ]
  },
  {
   "cell_type": "markdown",
   "metadata": {},
   "source": [
    "### Sampled Data (n = 5000) for CNN model:\n",
    "X: data_image_cnn (5000 x 244 x 244 x 3) |  centered by the mean pixel of each RGB channel\n",
    "\n",
    "y: data_genre (5000 x 8)"
   ]
  },
  {
   "cell_type": "code",
   "execution_count": null,
   "metadata": {
    "collapsed": true
   },
   "outputs": [],
   "source": [
    "# read in each image, use following code\n",
    "# read in sampled genre dataframe\n",
    "genre = pd.read_csv('genre_sample.csv', index_col=0)\n",
    "data_genre = np.array(genre)\n",
    "\n",
    "# create a dataframe to store information of image\n",
    "index = genre.index.values\n",
    "data_image_cnn = np.empty([1, 224, 224, 3])\n",
    "\n",
    "for i in range(len(index)):\n",
    "    # load poster\n",
    "    x = np.load('npy/' + str(genre.index.values[i]) + '.npy').reshape(224*224,3)\n",
    "    # center the picture, by each RGB channel\n",
    "    x = x - x.mean(axis = 0)\n",
    "    x = x.reshape(224, 224, 3)\n",
    "    data_image_cnn = np.concatenate((data_image_cnn[...],x[np.newaxis,...]),axis=0)\n",
    "\n",
    "# delete the first empty layer\n",
    "data_image_cnn = data_image_cnn[1:,...]"
   ]
  },
  {
   "cell_type": "code",
   "execution_count": null,
   "metadata": {
    "collapsed": true
   },
   "outputs": [],
   "source": [
    "## change data type\n",
    "data_image_cnn = np.float16(data_image_cnn)\n",
    "print (data_image_cnn.dtype)"
   ]
  },
  {
   "cell_type": "code",
   "execution_count": null,
   "metadata": {
    "collapsed": true
   },
   "outputs": [],
   "source": [
    "## check dimension\n",
    "print (data_image_cnn.shape)"
   ]
  },
  {
   "cell_type": "code",
   "execution_count": null,
   "metadata": {
    "collapsed": true
   },
   "outputs": [],
   "source": [
    "## save data\n",
    "np.save('data_image_cnn_5000.npy', data_image_cnn)"
   ]
  }
 ],
 "metadata": {
  "kernelspec": {
   "display_name": "Python [ipykernel_py2]",
   "language": "python",
   "name": "Python [ipykernel_py2]"
  },
  "language_info": {
   "codemirror_mode": {
    "name": "ipython",
    "version": 2
   },
   "file_extension": ".py",
   "mimetype": "text/x-python",
   "name": "python",
   "nbconvert_exporter": "python",
   "pygments_lexer": "ipython2",
   "version": "2.7.12"
  }
 },
 "nbformat": 4,
 "nbformat_minor": 0
}
