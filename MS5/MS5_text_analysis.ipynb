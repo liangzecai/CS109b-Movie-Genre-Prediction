{
 "cells": [
  {
   "cell_type": "markdown",
   "metadata": {
    "deletable": true,
    "editable": true
   },
   "source": [
    "ref: \n",
    "https://www.kaggle.com/c/word2vec-nlp-tutorial/details/part-1-for-beginners-bag-of-words\n",
    "http://brandonrose.org/clustering\n",
    "\n",
    "http://scikit-learn.org/stable/modules/feature_extraction.html#text-feature-extraction"
   ]
  },
  {
   "cell_type": "code",
   "execution_count": 1,
   "metadata": {
    "collapsed": true,
    "deletable": true,
    "editable": true
   },
   "outputs": [],
   "source": [
    "import pandas as pd\n",
    "import numpy as np\n",
    "import re\n",
    "import warnings\n",
    "warnings.filterwarnings(\"ignore\")"
   ]
  },
  {
   "cell_type": "code",
   "execution_count": 7,
   "metadata": {
    "collapsed": false,
    "deletable": true,
    "editable": true
   },
   "outputs": [],
   "source": [
    "##### Function to apply text analysis to a column with `colname` in the data file `filename`\n",
    "\n",
    "\n",
    "#----------------------------------------------------------------------------------------------------\n",
    "### Input ###\n",
    "        # colname: colname name of the variable\n",
    "        # filename: filename of the data\n",
    "        # var_explain: the threshold of the variance explained to select the top PCs in PCA analysis, \n",
    "                        # value between (0,1)\n",
    "        # savename: name of the data file generated\n",
    "        \n",
    "### Input ###\n",
    "        # a data file with each column named as `colname_pci`, saved in local directory as `savename`\n",
    "#----------------------------------------------------------------------------------------------------        \n",
    "\n",
    "\n",
    "\n",
    "def text_analysis(colname = \"plot outline\", filename = \"feature_multi_top100.txt\", var_explain = 0.6,\n",
    "                  savename = \"plot_outline_text_analysis.csv\"):\n",
    "    \n",
    "    import pandas as pd\n",
    "    import numpy as np\n",
    "    import re\n",
    "    import warnings\n",
    "    warnings.filterwarnings(\"ignore\")\n",
    "    \n",
    "    \n",
    "    \n",
    "    ### --------------- Load Data --------------- ###\n",
    "    df = pd.read_csv(filename)\n",
    "    df_col = df[colname]\n",
    "    \n",
    "    \n",
    "    ## --------------- Bag-of-Words --------------- ##\n",
    "    \n",
    "    ## string to list\n",
    "    import re\n",
    "    col_words = []\n",
    "    \n",
    "    for i in range(len(df_col)):\n",
    "    \n",
    "        if type(df_col[i]) == str: \n",
    "            letters_only = re.sub(\"[^a-zA-Z]\", \" \" , df_col[i]) # remove non-letter\n",
    "            lower_case = letters_only.lower().split()   # Convert to lower case # Split into words\n",
    "            \n",
    "            # avoid downloading nltk\n",
    "            # from NLTK stopwords https://pythonprogramming.net/stop-words-nltk-tutorial/\n",
    "            stops = {'ourselves', 'hers', 'between', 'yourself', 'but', 'again', 'there', 'about', 'once', \n",
    "                     'during', 'out', 'very', 'having', 'with', 'they', 'own', 'an', 'be', 'some', 'for', \n",
    "                     'do', 'its', 'yours', 'such', 'into', 'of', 'most', 'itself', 'other', 'off', 'is', \n",
    "                     's', 'am', 'or', 'who', 'as', 'from', 'him', 'each', 'the', 'themselves', 'until', \n",
    "                     'below', 'are', 'we', 'these', 'your', 'his', 'through', 'don', 'nor', 'me', 'were', \n",
    "                     'her', 'more', 'himself', 'this', 'down', 'should', 'our', 'their', 'while', 'above', \n",
    "                     'both', 'up', 'to', 'ours', 'had', 'she', 'all', 'no', 'when', 'at', 'any', 'before', \n",
    "                     'them', 'same', 'and', 'been', 'have', 'in', 'will', 'on', 'does', 'yourselves', 'then', \n",
    "                     'that', 'because', 'what', 'over', 'why', 'so', 'can', 'did', 'not', 'now', 'under', 'he', \n",
    "                     'you', 'herself', 'has', 'just', 'where', 'too', 'only', 'myself', 'which', 'those', 'i', \n",
    "                     'after', 'few', 'whom', 't', 'being', 'if', 'theirs', 'my', 'against', 'a', 'by', 'doing', \n",
    "                     'it', 'how', 'further', 'was', 'here', 'than'} \n",
    "            meaningful_words = [w for w in lower_case if not w in stops]  # Remove stop words from \"words\"\n",
    "            \n",
    "            words = ( \" \".join(meaningful_words))\n",
    "    \n",
    "        else: words = \"NA\"\n",
    "       \n",
    "        col_words.append(words)\n",
    "        \n",
    "        \n",
    "    \n",
    "    ## list to vector\n",
    "    from sklearn.feature_extraction.text import TfidfVectorizer\n",
    "\n",
    "    # Initialize the \"TfidfVectorizer\" object\n",
    "    vectorizer = TfidfVectorizer(max_df=0.8, max_features=200000,\n",
    "                                 min_df=0.2, stop_words='english',\n",
    "                                 use_idf=True, tokenizer=tokenize_and_stem, ngram_range=(1,3))\n",
    "\n",
    "    col_data = vectorizer.fit_transform(col_words)\n",
    "    col_data = col_data.toarray()\n",
    "\n",
    "    \n",
    "    ## --------------- PCA --------------- ##\n",
    "    \n",
    "    from sklearn.decomposition import PCA\n",
    "    pca = PCA(n_components = var_explain, svd_solver = \"full\") # keep the first n PCs with ?% variance explained\n",
    "    df_pca = pd.DataFrame(pca.fit_transform(col_data))\n",
    "    \n",
    "    ## ------------- Align with imdb_id and save ------------##\n",
    "    \n",
    "    df_new_pca = pd.concat([df[\"imdb_ids\"], df_pca], axis = 1)\n",
    "\n",
    "    col_names = [\"imdb_ids\"]\n",
    "    for i in range(df_pca.shape[1]):\n",
    "        i_name = colname + \"_PC\" + str(i+1)\n",
    "        col_names.append(i_name)\n",
    "    \n",
    "    df_new_pca.columns = col_names\n",
    "    df_new_pca.to_csv(savename, index = False)\n",
    "    \n"
   ]
  },
  {
   "cell_type": "code",
   "execution_count": 19,
   "metadata": {
    "collapsed": false,
    "deletable": true,
    "editable": true
   },
   "outputs": [],
   "source": [
    "text_analysis(colname = \"plot outline\", filename = \"feature_final.csv\", var_explain = 0.6,\n",
    "                  savename = \"plot_outline_text_analysis.csv\")"
   ]
  },
  {
   "cell_type": "code",
   "execution_count": 17,
   "metadata": {
    "collapsed": false,
    "deletable": true,
    "editable": true
   },
   "outputs": [
    {
     "data": {
      "text/html": [
       "<div>\n",
       "<table border=\"1\" class=\"dataframe\">\n",
       "  <thead>\n",
       "    <tr style=\"text-align: right;\">\n",
       "      <th></th>\n",
       "      <th>imdb_ids</th>\n",
       "      <th>title_PC1</th>\n",
       "      <th>title_PC2</th>\n",
       "      <th>title_PC3</th>\n",
       "      <th>title_PC4</th>\n",
       "      <th>title_PC5</th>\n",
       "      <th>title_PC6</th>\n",
       "      <th>title_PC7</th>\n",
       "      <th>title_PC8</th>\n",
       "      <th>title_PC9</th>\n",
       "      <th>...</th>\n",
       "      <th>title_PC765</th>\n",
       "      <th>title_PC766</th>\n",
       "      <th>title_PC767</th>\n",
       "      <th>title_PC768</th>\n",
       "      <th>title_PC769</th>\n",
       "      <th>title_PC770</th>\n",
       "      <th>title_PC771</th>\n",
       "      <th>title_PC772</th>\n",
       "      <th>title_PC773</th>\n",
       "      <th>title_PC774</th>\n",
       "    </tr>\n",
       "  </thead>\n",
       "  <tbody>\n",
       "    <tr>\n",
       "      <th>0</th>\n",
       "      <td>113101</td>\n",
       "      <td>-0.016966</td>\n",
       "      <td>-0.035989</td>\n",
       "      <td>-0.017697</td>\n",
       "      <td>0.006934</td>\n",
       "      <td>-0.008735</td>\n",
       "      <td>-0.012857</td>\n",
       "      <td>-0.008954</td>\n",
       "      <td>-0.012074</td>\n",
       "      <td>-0.007223</td>\n",
       "      <td>...</td>\n",
       "      <td>0.008489</td>\n",
       "      <td>-0.009503</td>\n",
       "      <td>-0.002953</td>\n",
       "      <td>0.009314</td>\n",
       "      <td>0.003922</td>\n",
       "      <td>0.000010</td>\n",
       "      <td>0.001277</td>\n",
       "      <td>0.006853</td>\n",
       "      <td>0.001184</td>\n",
       "      <td>0.001695</td>\n",
       "    </tr>\n",
       "    <tr>\n",
       "      <th>1</th>\n",
       "      <td>425473</td>\n",
       "      <td>-0.016873</td>\n",
       "      <td>-0.036524</td>\n",
       "      <td>-0.018524</td>\n",
       "      <td>0.007006</td>\n",
       "      <td>-0.008815</td>\n",
       "      <td>0.002324</td>\n",
       "      <td>-0.009406</td>\n",
       "      <td>-0.012041</td>\n",
       "      <td>-0.007390</td>\n",
       "      <td>...</td>\n",
       "      <td>-0.021043</td>\n",
       "      <td>-0.030399</td>\n",
       "      <td>-0.034877</td>\n",
       "      <td>-0.003425</td>\n",
       "      <td>0.030808</td>\n",
       "      <td>-0.037812</td>\n",
       "      <td>-0.034678</td>\n",
       "      <td>-0.052084</td>\n",
       "      <td>0.012161</td>\n",
       "      <td>-0.055545</td>\n",
       "    </tr>\n",
       "    <tr>\n",
       "      <th>2</th>\n",
       "      <td>76759</td>\n",
       "      <td>-0.018372</td>\n",
       "      <td>-0.039272</td>\n",
       "      <td>-0.020346</td>\n",
       "      <td>0.007949</td>\n",
       "      <td>-0.010655</td>\n",
       "      <td>-0.016468</td>\n",
       "      <td>-0.011533</td>\n",
       "      <td>-0.015880</td>\n",
       "      <td>-0.010302</td>\n",
       "      <td>...</td>\n",
       "      <td>0.010894</td>\n",
       "      <td>0.012331</td>\n",
       "      <td>0.001787</td>\n",
       "      <td>-0.007056</td>\n",
       "      <td>0.011386</td>\n",
       "      <td>-0.004958</td>\n",
       "      <td>-0.016144</td>\n",
       "      <td>-0.011850</td>\n",
       "      <td>-0.010595</td>\n",
       "      <td>-0.000447</td>\n",
       "    </tr>\n",
       "    <tr>\n",
       "      <th>3</th>\n",
       "      <td>266543</td>\n",
       "      <td>-0.016508</td>\n",
       "      <td>-0.034921</td>\n",
       "      <td>-0.016871</td>\n",
       "      <td>0.006602</td>\n",
       "      <td>-0.008198</td>\n",
       "      <td>-0.012275</td>\n",
       "      <td>-0.008378</td>\n",
       "      <td>-0.011226</td>\n",
       "      <td>-0.006614</td>\n",
       "      <td>...</td>\n",
       "      <td>0.002916</td>\n",
       "      <td>-0.002969</td>\n",
       "      <td>-0.020402</td>\n",
       "      <td>-0.002817</td>\n",
       "      <td>0.011288</td>\n",
       "      <td>0.004961</td>\n",
       "      <td>-0.002594</td>\n",
       "      <td>-0.010984</td>\n",
       "      <td>0.018433</td>\n",
       "      <td>0.004039</td>\n",
       "    </tr>\n",
       "    <tr>\n",
       "      <th>4</th>\n",
       "      <td>411267</td>\n",
       "      <td>-0.018310</td>\n",
       "      <td>-0.039123</td>\n",
       "      <td>-0.020304</td>\n",
       "      <td>0.007932</td>\n",
       "      <td>-0.010589</td>\n",
       "      <td>-0.016833</td>\n",
       "      <td>-0.011297</td>\n",
       "      <td>-0.015811</td>\n",
       "      <td>-0.010358</td>\n",
       "      <td>...</td>\n",
       "      <td>0.005634</td>\n",
       "      <td>-0.000116</td>\n",
       "      <td>-0.003709</td>\n",
       "      <td>-0.000806</td>\n",
       "      <td>0.004753</td>\n",
       "      <td>-0.001202</td>\n",
       "      <td>0.003232</td>\n",
       "      <td>-0.002492</td>\n",
       "      <td>0.004136</td>\n",
       "      <td>-0.002692</td>\n",
       "    </tr>\n",
       "  </tbody>\n",
       "</table>\n",
       "<p>5 rows × 775 columns</p>\n",
       "</div>"
      ],
      "text/plain": [
       "   imdb_ids  title_PC1  title_PC2  title_PC3  title_PC4  title_PC5  title_PC6  \\\n",
       "0    113101  -0.016966  -0.035989  -0.017697   0.006934  -0.008735  -0.012857   \n",
       "1    425473  -0.016873  -0.036524  -0.018524   0.007006  -0.008815   0.002324   \n",
       "2     76759  -0.018372  -0.039272  -0.020346   0.007949  -0.010655  -0.016468   \n",
       "3    266543  -0.016508  -0.034921  -0.016871   0.006602  -0.008198  -0.012275   \n",
       "4    411267  -0.018310  -0.039123  -0.020304   0.007932  -0.010589  -0.016833   \n",
       "\n",
       "   title_PC7  title_PC8  title_PC9     ...       title_PC765  title_PC766  \\\n",
       "0  -0.008954  -0.012074  -0.007223     ...          0.008489    -0.009503   \n",
       "1  -0.009406  -0.012041  -0.007390     ...         -0.021043    -0.030399   \n",
       "2  -0.011533  -0.015880  -0.010302     ...          0.010894     0.012331   \n",
       "3  -0.008378  -0.011226  -0.006614     ...          0.002916    -0.002969   \n",
       "4  -0.011297  -0.015811  -0.010358     ...          0.005634    -0.000116   \n",
       "\n",
       "   title_PC767  title_PC768  title_PC769  title_PC770  title_PC771  \\\n",
       "0    -0.002953     0.009314     0.003922     0.000010     0.001277   \n",
       "1    -0.034877    -0.003425     0.030808    -0.037812    -0.034678   \n",
       "2     0.001787    -0.007056     0.011386    -0.004958    -0.016144   \n",
       "3    -0.020402    -0.002817     0.011288     0.004961    -0.002594   \n",
       "4    -0.003709    -0.000806     0.004753    -0.001202     0.003232   \n",
       "\n",
       "   title_PC772  title_PC773  title_PC774  \n",
       "0     0.006853     0.001184     0.001695  \n",
       "1    -0.052084     0.012161    -0.055545  \n",
       "2    -0.011850    -0.010595    -0.000447  \n",
       "3    -0.010984     0.018433     0.004039  \n",
       "4    -0.002492     0.004136    -0.002692  \n",
       "\n",
       "[5 rows x 775 columns]"
      ]
     },
     "execution_count": 17,
     "metadata": {},
     "output_type": "execute_result"
    }
   ],
   "source": [
    "pd.read_csv(\"title_text_analysis.csv\", index_col = False).head()"
   ]
  },
  {
   "cell_type": "code",
   "execution_count": 20,
   "metadata": {
    "collapsed": false,
    "deletable": true,
    "editable": true
   },
   "outputs": [
    {
     "data": {
      "text/html": [
       "<div>\n",
       "<table border=\"1\" class=\"dataframe\">\n",
       "  <thead>\n",
       "    <tr style=\"text-align: right;\">\n",
       "      <th></th>\n",
       "      <th>imdb_ids</th>\n",
       "      <th>plot outline_PC1</th>\n",
       "      <th>plot outline_PC2</th>\n",
       "      <th>plot outline_PC3</th>\n",
       "      <th>plot outline_PC4</th>\n",
       "      <th>plot outline_PC5</th>\n",
       "      <th>plot outline_PC6</th>\n",
       "      <th>plot outline_PC7</th>\n",
       "      <th>plot outline_PC8</th>\n",
       "      <th>plot outline_PC9</th>\n",
       "      <th>...</th>\n",
       "      <th>plot outline_PC654</th>\n",
       "      <th>plot outline_PC655</th>\n",
       "      <th>plot outline_PC656</th>\n",
       "      <th>plot outline_PC657</th>\n",
       "      <th>plot outline_PC658</th>\n",
       "      <th>plot outline_PC659</th>\n",
       "      <th>plot outline_PC660</th>\n",
       "      <th>plot outline_PC661</th>\n",
       "      <th>plot outline_PC662</th>\n",
       "      <th>plot outline_PC663</th>\n",
       "    </tr>\n",
       "  </thead>\n",
       "  <tbody>\n",
       "    <tr>\n",
       "      <th>0</th>\n",
       "      <td>113101</td>\n",
       "      <td>0.209100</td>\n",
       "      <td>-0.249578</td>\n",
       "      <td>0.047400</td>\n",
       "      <td>-0.189600</td>\n",
       "      <td>-0.033279</td>\n",
       "      <td>0.584439</td>\n",
       "      <td>0.639913</td>\n",
       "      <td>0.003473</td>\n",
       "      <td>0.492875</td>\n",
       "      <td>...</td>\n",
       "      <td>-0.079099</td>\n",
       "      <td>-0.069085</td>\n",
       "      <td>0.032248</td>\n",
       "      <td>-0.059841</td>\n",
       "      <td>0.002461</td>\n",
       "      <td>0.097810</td>\n",
       "      <td>0.045898</td>\n",
       "      <td>-0.018330</td>\n",
       "      <td>0.009920</td>\n",
       "      <td>0.006478</td>\n",
       "    </tr>\n",
       "    <tr>\n",
       "      <th>1</th>\n",
       "      <td>425473</td>\n",
       "      <td>0.153059</td>\n",
       "      <td>-0.020990</td>\n",
       "      <td>0.015593</td>\n",
       "      <td>0.044339</td>\n",
       "      <td>-0.026147</td>\n",
       "      <td>-0.269001</td>\n",
       "      <td>-0.040621</td>\n",
       "      <td>0.342156</td>\n",
       "      <td>0.378050</td>\n",
       "      <td>...</td>\n",
       "      <td>0.008880</td>\n",
       "      <td>-0.027237</td>\n",
       "      <td>0.048239</td>\n",
       "      <td>-0.019864</td>\n",
       "      <td>0.025719</td>\n",
       "      <td>-0.010047</td>\n",
       "      <td>-0.045511</td>\n",
       "      <td>0.012958</td>\n",
       "      <td>0.004631</td>\n",
       "      <td>-0.038099</td>\n",
       "    </tr>\n",
       "    <tr>\n",
       "      <th>2</th>\n",
       "      <td>76759</td>\n",
       "      <td>0.251558</td>\n",
       "      <td>-0.273051</td>\n",
       "      <td>-0.429282</td>\n",
       "      <td>0.388496</td>\n",
       "      <td>-0.151535</td>\n",
       "      <td>-0.519481</td>\n",
       "      <td>0.157246</td>\n",
       "      <td>-0.325777</td>\n",
       "      <td>-0.095891</td>\n",
       "      <td>...</td>\n",
       "      <td>0.121514</td>\n",
       "      <td>0.045545</td>\n",
       "      <td>0.056450</td>\n",
       "      <td>0.130087</td>\n",
       "      <td>-0.045059</td>\n",
       "      <td>0.070075</td>\n",
       "      <td>0.036093</td>\n",
       "      <td>-0.074553</td>\n",
       "      <td>0.025525</td>\n",
       "      <td>-0.083808</td>\n",
       "    </tr>\n",
       "    <tr>\n",
       "      <th>3</th>\n",
       "      <td>266543</td>\n",
       "      <td>0.123136</td>\n",
       "      <td>-0.115940</td>\n",
       "      <td>-0.011230</td>\n",
       "      <td>-0.167630</td>\n",
       "      <td>-0.033700</td>\n",
       "      <td>0.041143</td>\n",
       "      <td>-0.028941</td>\n",
       "      <td>-0.046633</td>\n",
       "      <td>-0.082711</td>\n",
       "      <td>...</td>\n",
       "      <td>-0.024436</td>\n",
       "      <td>-0.019153</td>\n",
       "      <td>-0.034189</td>\n",
       "      <td>-0.007303</td>\n",
       "      <td>-0.040298</td>\n",
       "      <td>-0.019495</td>\n",
       "      <td>-0.009164</td>\n",
       "      <td>0.010500</td>\n",
       "      <td>-0.013782</td>\n",
       "      <td>-0.023802</td>\n",
       "    </tr>\n",
       "    <tr>\n",
       "      <th>4</th>\n",
       "      <td>411267</td>\n",
       "      <td>0.365535</td>\n",
       "      <td>0.746240</td>\n",
       "      <td>-0.194165</td>\n",
       "      <td>-0.104639</td>\n",
       "      <td>-0.410268</td>\n",
       "      <td>0.188274</td>\n",
       "      <td>0.093011</td>\n",
       "      <td>0.146438</td>\n",
       "      <td>-0.243281</td>\n",
       "      <td>...</td>\n",
       "      <td>-0.044182</td>\n",
       "      <td>0.080086</td>\n",
       "      <td>-0.003491</td>\n",
       "      <td>-0.021149</td>\n",
       "      <td>-0.017171</td>\n",
       "      <td>0.083459</td>\n",
       "      <td>0.030888</td>\n",
       "      <td>0.047528</td>\n",
       "      <td>0.115970</td>\n",
       "      <td>0.047451</td>\n",
       "    </tr>\n",
       "  </tbody>\n",
       "</table>\n",
       "<p>5 rows × 664 columns</p>\n",
       "</div>"
      ],
      "text/plain": [
       "   imdb_ids  plot outline_PC1  plot outline_PC2  plot outline_PC3  \\\n",
       "0    113101          0.209100         -0.249578          0.047400   \n",
       "1    425473          0.153059         -0.020990          0.015593   \n",
       "2     76759          0.251558         -0.273051         -0.429282   \n",
       "3    266543          0.123136         -0.115940         -0.011230   \n",
       "4    411267          0.365535          0.746240         -0.194165   \n",
       "\n",
       "   plot outline_PC4  plot outline_PC5  plot outline_PC6  plot outline_PC7  \\\n",
       "0         -0.189600         -0.033279          0.584439          0.639913   \n",
       "1          0.044339         -0.026147         -0.269001         -0.040621   \n",
       "2          0.388496         -0.151535         -0.519481          0.157246   \n",
       "3         -0.167630         -0.033700          0.041143         -0.028941   \n",
       "4         -0.104639         -0.410268          0.188274          0.093011   \n",
       "\n",
       "   plot outline_PC8  plot outline_PC9         ...          plot outline_PC654  \\\n",
       "0          0.003473          0.492875         ...                   -0.079099   \n",
       "1          0.342156          0.378050         ...                    0.008880   \n",
       "2         -0.325777         -0.095891         ...                    0.121514   \n",
       "3         -0.046633         -0.082711         ...                   -0.024436   \n",
       "4          0.146438         -0.243281         ...                   -0.044182   \n",
       "\n",
       "   plot outline_PC655  plot outline_PC656  plot outline_PC657  \\\n",
       "0           -0.069085            0.032248           -0.059841   \n",
       "1           -0.027237            0.048239           -0.019864   \n",
       "2            0.045545            0.056450            0.130087   \n",
       "3           -0.019153           -0.034189           -0.007303   \n",
       "4            0.080086           -0.003491           -0.021149   \n",
       "\n",
       "   plot outline_PC658  plot outline_PC659  plot outline_PC660  \\\n",
       "0            0.002461            0.097810            0.045898   \n",
       "1            0.025719           -0.010047           -0.045511   \n",
       "2           -0.045059            0.070075            0.036093   \n",
       "3           -0.040298           -0.019495           -0.009164   \n",
       "4           -0.017171            0.083459            0.030888   \n",
       "\n",
       "   plot outline_PC661  plot outline_PC662  plot outline_PC663  \n",
       "0           -0.018330            0.009920            0.006478  \n",
       "1            0.012958            0.004631           -0.038099  \n",
       "2           -0.074553            0.025525           -0.083808  \n",
       "3            0.010500           -0.013782           -0.023802  \n",
       "4            0.047528            0.115970            0.047451  \n",
       "\n",
       "[5 rows x 664 columns]"
      ]
     },
     "execution_count": 20,
     "metadata": {},
     "output_type": "execute_result"
    }
   ],
   "source": [
    "pd.read_csv(\"plot_outline_text_analysis.csv\", index_col = False).head()"
   ]
  },
  {
   "cell_type": "code",
   "execution_count": 10,
   "metadata": {
    "collapsed": false,
    "deletable": true,
    "editable": true
   },
   "outputs": [
    {
     "data": {
      "text/html": [
       "<div>\n",
       "<table border=\"1\" class=\"dataframe\">\n",
       "  <thead>\n",
       "    <tr style=\"text-align: right;\">\n",
       "      <th></th>\n",
       "      <th>imdb_ids</th>\n",
       "      <th>mpaa_reason_PC1</th>\n",
       "      <th>mpaa_reason_PC2</th>\n",
       "      <th>mpaa_reason_PC3</th>\n",
       "      <th>mpaa_reason_PC4</th>\n",
       "      <th>mpaa_reason_PC5</th>\n",
       "      <th>mpaa_reason_PC6</th>\n",
       "    </tr>\n",
       "  </thead>\n",
       "  <tbody>\n",
       "    <tr>\n",
       "      <th>0</th>\n",
       "      <td>113101</td>\n",
       "      <td>1.524211</td>\n",
       "      <td>0.039434</td>\n",
       "      <td>0.950530</td>\n",
       "      <td>-1.191170</td>\n",
       "      <td>-0.305996</td>\n",
       "      <td>-0.390907</td>\n",
       "    </tr>\n",
       "    <tr>\n",
       "      <th>1</th>\n",
       "      <td>425473</td>\n",
       "      <td>-0.267575</td>\n",
       "      <td>0.005658</td>\n",
       "      <td>0.020702</td>\n",
       "      <td>-0.003143</td>\n",
       "      <td>0.002229</td>\n",
       "      <td>-0.003595</td>\n",
       "    </tr>\n",
       "    <tr>\n",
       "      <th>2</th>\n",
       "      <td>76759</td>\n",
       "      <td>1.403732</td>\n",
       "      <td>-0.580523</td>\n",
       "      <td>-0.618520</td>\n",
       "      <td>0.167422</td>\n",
       "      <td>-0.242381</td>\n",
       "      <td>-0.169628</td>\n",
       "    </tr>\n",
       "    <tr>\n",
       "      <th>3</th>\n",
       "      <td>266543</td>\n",
       "      <td>-0.267575</td>\n",
       "      <td>0.005658</td>\n",
       "      <td>0.020702</td>\n",
       "      <td>-0.003143</td>\n",
       "      <td>0.002229</td>\n",
       "      <td>-0.003595</td>\n",
       "    </tr>\n",
       "    <tr>\n",
       "      <th>4</th>\n",
       "      <td>411267</td>\n",
       "      <td>0.971957</td>\n",
       "      <td>0.014142</td>\n",
       "      <td>-0.661134</td>\n",
       "      <td>-0.315824</td>\n",
       "      <td>0.124360</td>\n",
       "      <td>0.139904</td>\n",
       "    </tr>\n",
       "  </tbody>\n",
       "</table>\n",
       "</div>"
      ],
      "text/plain": [
       "   imdb_ids  mpaa_reason_PC1  mpaa_reason_PC2  mpaa_reason_PC3  \\\n",
       "0    113101         1.524211         0.039434         0.950530   \n",
       "1    425473        -0.267575         0.005658         0.020702   \n",
       "2     76759         1.403732        -0.580523        -0.618520   \n",
       "3    266543        -0.267575         0.005658         0.020702   \n",
       "4    411267         0.971957         0.014142        -0.661134   \n",
       "\n",
       "   mpaa_reason_PC4  mpaa_reason_PC5  mpaa_reason_PC6  \n",
       "0        -1.191170        -0.305996        -0.390907  \n",
       "1        -0.003143         0.002229        -0.003595  \n",
       "2         0.167422        -0.242381        -0.169628  \n",
       "3        -0.003143         0.002229        -0.003595  \n",
       "4        -0.315824         0.124360         0.139904  "
      ]
     },
     "execution_count": 10,
     "metadata": {},
     "output_type": "execute_result"
    }
   ],
   "source": [
    "pd.read_csv(\"mpaa_reason_text_analysis.csv\", index_col = False).head()"
   ]
  },
  {
   "cell_type": "code",
   "execution_count": 12,
   "metadata": {
    "collapsed": false,
    "deletable": true,
    "editable": true
   },
   "outputs": [
    {
     "data": {
      "text/html": [
       "<div>\n",
       "<table border=\"1\" class=\"dataframe\">\n",
       "  <thead>\n",
       "    <tr style=\"text-align: right;\">\n",
       "      <th></th>\n",
       "      <th>imdb_ids</th>\n",
       "      <th>tagline_TMDB_PC1</th>\n",
       "      <th>tagline_TMDB_PC2</th>\n",
       "      <th>tagline_TMDB_PC3</th>\n",
       "      <th>tagline_TMDB_PC4</th>\n",
       "      <th>tagline_TMDB_PC5</th>\n",
       "      <th>tagline_TMDB_PC6</th>\n",
       "      <th>tagline_TMDB_PC7</th>\n",
       "      <th>tagline_TMDB_PC8</th>\n",
       "      <th>tagline_TMDB_PC9</th>\n",
       "      <th>...</th>\n",
       "      <th>tagline_TMDB_PC310</th>\n",
       "      <th>tagline_TMDB_PC311</th>\n",
       "      <th>tagline_TMDB_PC312</th>\n",
       "      <th>tagline_TMDB_PC313</th>\n",
       "      <th>tagline_TMDB_PC314</th>\n",
       "      <th>tagline_TMDB_PC315</th>\n",
       "      <th>tagline_TMDB_PC316</th>\n",
       "      <th>tagline_TMDB_PC317</th>\n",
       "      <th>tagline_TMDB_PC318</th>\n",
       "      <th>tagline_TMDB_PC319</th>\n",
       "    </tr>\n",
       "  </thead>\n",
       "  <tbody>\n",
       "    <tr>\n",
       "      <th>0</th>\n",
       "      <td>113101</td>\n",
       "      <td>0.802156</td>\n",
       "      <td>0.967163</td>\n",
       "      <td>0.010791</td>\n",
       "      <td>0.905897</td>\n",
       "      <td>0.379563</td>\n",
       "      <td>0.040879</td>\n",
       "      <td>-0.088245</td>\n",
       "      <td>0.076809</td>\n",
       "      <td>-0.499168</td>\n",
       "      <td>...</td>\n",
       "      <td>0.017968</td>\n",
       "      <td>8.948101e-02</td>\n",
       "      <td>-0.039735</td>\n",
       "      <td>-0.032340</td>\n",
       "      <td>0.081521</td>\n",
       "      <td>0.027271</td>\n",
       "      <td>-0.050627</td>\n",
       "      <td>-2.728212e-02</td>\n",
       "      <td>-0.082120</td>\n",
       "      <td>0.014426</td>\n",
       "    </tr>\n",
       "    <tr>\n",
       "      <th>1</th>\n",
       "      <td>425473</td>\n",
       "      <td>-0.360715</td>\n",
       "      <td>0.003423</td>\n",
       "      <td>0.002612</td>\n",
       "      <td>-0.000076</td>\n",
       "      <td>0.000819</td>\n",
       "      <td>-0.000073</td>\n",
       "      <td>0.000691</td>\n",
       "      <td>0.000786</td>\n",
       "      <td>0.000031</td>\n",
       "      <td>...</td>\n",
       "      <td>-0.000005</td>\n",
       "      <td>3.204457e-07</td>\n",
       "      <td>0.000006</td>\n",
       "      <td>-0.000003</td>\n",
       "      <td>0.000002</td>\n",
       "      <td>-0.000001</td>\n",
       "      <td>0.000004</td>\n",
       "      <td>-5.825354e-07</td>\n",
       "      <td>-0.000003</td>\n",
       "      <td>-0.000006</td>\n",
       "    </tr>\n",
       "    <tr>\n",
       "      <th>2</th>\n",
       "      <td>76759</td>\n",
       "      <td>0.672340</td>\n",
       "      <td>-0.042455</td>\n",
       "      <td>-0.052670</td>\n",
       "      <td>0.018598</td>\n",
       "      <td>-0.115342</td>\n",
       "      <td>0.036442</td>\n",
       "      <td>-0.069255</td>\n",
       "      <td>0.124322</td>\n",
       "      <td>0.901564</td>\n",
       "      <td>...</td>\n",
       "      <td>0.065282</td>\n",
       "      <td>-1.788911e-02</td>\n",
       "      <td>0.000713</td>\n",
       "      <td>0.001416</td>\n",
       "      <td>0.016457</td>\n",
       "      <td>-0.048913</td>\n",
       "      <td>0.050363</td>\n",
       "      <td>6.186969e-02</td>\n",
       "      <td>0.030200</td>\n",
       "      <td>0.057874</td>\n",
       "    </tr>\n",
       "    <tr>\n",
       "      <th>3</th>\n",
       "      <td>266543</td>\n",
       "      <td>0.718510</td>\n",
       "      <td>0.864992</td>\n",
       "      <td>-0.082092</td>\n",
       "      <td>0.100358</td>\n",
       "      <td>-0.334478</td>\n",
       "      <td>-0.064106</td>\n",
       "      <td>-0.015041</td>\n",
       "      <td>-0.097238</td>\n",
       "      <td>-0.181998</td>\n",
       "      <td>...</td>\n",
       "      <td>-0.022166</td>\n",
       "      <td>-7.018963e-02</td>\n",
       "      <td>-0.062207</td>\n",
       "      <td>-0.159878</td>\n",
       "      <td>0.134652</td>\n",
       "      <td>0.027290</td>\n",
       "      <td>0.017872</td>\n",
       "      <td>-1.442054e-01</td>\n",
       "      <td>-0.086918</td>\n",
       "      <td>-0.032794</td>\n",
       "    </tr>\n",
       "    <tr>\n",
       "      <th>4</th>\n",
       "      <td>411267</td>\n",
       "      <td>0.775551</td>\n",
       "      <td>1.846033</td>\n",
       "      <td>-0.066730</td>\n",
       "      <td>0.181479</td>\n",
       "      <td>-0.468725</td>\n",
       "      <td>0.072262</td>\n",
       "      <td>-0.001543</td>\n",
       "      <td>-0.088735</td>\n",
       "      <td>-0.095463</td>\n",
       "      <td>...</td>\n",
       "      <td>0.004478</td>\n",
       "      <td>2.395810e-04</td>\n",
       "      <td>-0.010762</td>\n",
       "      <td>0.033077</td>\n",
       "      <td>-0.002389</td>\n",
       "      <td>-0.026293</td>\n",
       "      <td>-0.014057</td>\n",
       "      <td>1.063111e-02</td>\n",
       "      <td>-0.030362</td>\n",
       "      <td>0.026218</td>\n",
       "    </tr>\n",
       "  </tbody>\n",
       "</table>\n",
       "<p>5 rows × 320 columns</p>\n",
       "</div>"
      ],
      "text/plain": [
       "   imdb_ids  tagline_TMDB_PC1  tagline_TMDB_PC2  tagline_TMDB_PC3  \\\n",
       "0    113101          0.802156          0.967163          0.010791   \n",
       "1    425473         -0.360715          0.003423          0.002612   \n",
       "2     76759          0.672340         -0.042455         -0.052670   \n",
       "3    266543          0.718510          0.864992         -0.082092   \n",
       "4    411267          0.775551          1.846033         -0.066730   \n",
       "\n",
       "   tagline_TMDB_PC4  tagline_TMDB_PC5  tagline_TMDB_PC6  tagline_TMDB_PC7  \\\n",
       "0          0.905897          0.379563          0.040879         -0.088245   \n",
       "1         -0.000076          0.000819         -0.000073          0.000691   \n",
       "2          0.018598         -0.115342          0.036442         -0.069255   \n",
       "3          0.100358         -0.334478         -0.064106         -0.015041   \n",
       "4          0.181479         -0.468725          0.072262         -0.001543   \n",
       "\n",
       "   tagline_TMDB_PC8  tagline_TMDB_PC9         ...          tagline_TMDB_PC310  \\\n",
       "0          0.076809         -0.499168         ...                    0.017968   \n",
       "1          0.000786          0.000031         ...                   -0.000005   \n",
       "2          0.124322          0.901564         ...                    0.065282   \n",
       "3         -0.097238         -0.181998         ...                   -0.022166   \n",
       "4         -0.088735         -0.095463         ...                    0.004478   \n",
       "\n",
       "   tagline_TMDB_PC311  tagline_TMDB_PC312  tagline_TMDB_PC313  \\\n",
       "0        8.948101e-02           -0.039735           -0.032340   \n",
       "1        3.204457e-07            0.000006           -0.000003   \n",
       "2       -1.788911e-02            0.000713            0.001416   \n",
       "3       -7.018963e-02           -0.062207           -0.159878   \n",
       "4        2.395810e-04           -0.010762            0.033077   \n",
       "\n",
       "   tagline_TMDB_PC314  tagline_TMDB_PC315  tagline_TMDB_PC316  \\\n",
       "0            0.081521            0.027271           -0.050627   \n",
       "1            0.000002           -0.000001            0.000004   \n",
       "2            0.016457           -0.048913            0.050363   \n",
       "3            0.134652            0.027290            0.017872   \n",
       "4           -0.002389           -0.026293           -0.014057   \n",
       "\n",
       "   tagline_TMDB_PC317  tagline_TMDB_PC318  tagline_TMDB_PC319  \n",
       "0       -2.728212e-02           -0.082120            0.014426  \n",
       "1       -5.825354e-07           -0.000003           -0.000006  \n",
       "2        6.186969e-02            0.030200            0.057874  \n",
       "3       -1.442054e-01           -0.086918           -0.032794  \n",
       "4        1.063111e-02           -0.030362            0.026218  \n",
       "\n",
       "[5 rows x 320 columns]"
      ]
     },
     "execution_count": 12,
     "metadata": {},
     "output_type": "execute_result"
    }
   ],
   "source": [
    "pd.read_csv(\"tagline_TMDB_text_analysis.csv\", index_col = False).head()"
   ]
  },
  {
   "cell_type": "markdown",
   "metadata": {
    "deletable": true,
    "editable": true
   },
   "source": [
    "---"
   ]
  },
  {
   "cell_type": "markdown",
   "metadata": {
    "deletable": true,
    "editable": true
   },
   "source": [
    "## 1. Text Analysis on Sampled Data (5k)"
   ]
  },
  {
   "cell_type": "markdown",
   "metadata": {
    "collapsed": true,
    "deletable": true,
    "editable": true
   },
   "source": [
    "### Use Tf-idf and document similarity\n",
    "[example code]\n",
    "\n",
    "training data: the first 3000 rows\n",
    "\n",
    "test data: the rest 1865 rows"
   ]
  },
  {
   "cell_type": "code",
   "execution_count": 1,
   "metadata": {
    "collapsed": false,
    "deletable": true,
    "editable": true
   },
   "outputs": [
    {
     "name": "stdout",
     "output_type": "stream",
     "text": [
      "Collecting scipy\n",
      "  Using cached scipy-0.19.0-cp27-cp27mu-manylinux1_x86_64.whl\n",
      "Collecting numpy>=1.8.2 (from scipy)\n",
      "  Using cached numpy-1.12.1-cp27-cp27mu-manylinux1_x86_64.whl\n",
      "Installing collected packages: numpy, scipy\n",
      "Successfully installed numpy-1.12.1 scipy-0.19.0\n",
      "\u001b[33mYou are using pip version 8.1.1, however version 9.0.1 is available.\n",
      "You should consider upgrading via the 'pip install --upgrade pip' command.\u001b[0m\n"
     ]
    }
   ],
   "source": [
    "## if running on AWS\n",
    "\n",
    "#!pip install scipy"
   ]
  },
  {
   "cell_type": "markdown",
   "metadata": {
    "deletable": true,
    "editable": true
   },
   "source": [
    "#### Sampled Data: X"
   ]
  },
  {
   "cell_type": "code",
   "execution_count": 43,
   "metadata": {
    "collapsed": false,
    "deletable": true,
    "editable": true
   },
   "outputs": [],
   "source": [
    "import pandas as pd\n",
    "import numpy as np\n",
    "import re\n",
    "import warnings\n",
    "warnings.filterwarnings(\"ignore\")\n",
    "    \n",
    "    \n",
    "    \n",
    "### --------------- Load X (feature) --------------- ###\n",
    "df = pd.read_csv(\"data_feature_4865.csv\")\n",
    "df_train= df.iloc[:3000, ]\n",
    "df_test = df.iloc[3000:, ]"
   ]
  },
  {
   "cell_type": "code",
   "execution_count": 44,
   "metadata": {
    "collapsed": false,
    "deletable": true,
    "editable": true
   },
   "outputs": [
    {
     "data": {
      "text/plain": [
       "array(['Unnamed: 0', 'imdb_ids', 'title', 'director', 'distributors',\n",
       "       'year', 'rating', 'votes', 'languages', 'producer', 'mpaa',\n",
       "       'writer', 'top 250 rank', 'countries', 'aspect_ratio',\n",
       "       'production companies', 'cinematographer', 'plot outline', 'plot',\n",
       "       'cast', 'animation department', 'original music',\n",
       "       'editorial department', 'mpaa_reason', 'revenue_TMDB',\n",
       "       'overview_TMDB', 'tagline_TMDB', 'vote_count_TMDB',\n",
       "       'belongs_to_collection_TMDB', 'original_language_TMDB',\n",
       "       'status_TMDB', 'release_date_TMDB', 'popularity_TMDB',\n",
       "       'budget_TMDB', 'vote_average_TMDB', 'runtime_TMDB'], dtype=object)"
      ]
     },
     "execution_count": 44,
     "metadata": {},
     "output_type": "execute_result"
    }
   ],
   "source": [
    "df_train.columns.values"
   ]
  },
  {
   "cell_type": "markdown",
   "metadata": {
    "deletable": true,
    "editable": true
   },
   "source": [
    "#### Sampled Data: y"
   ]
  },
  {
   "cell_type": "code",
   "execution_count": 45,
   "metadata": {
    "collapsed": false,
    "deletable": true,
    "editable": true
   },
   "outputs": [
    {
     "data": {
      "text/plain": [
       "(4865, 8)"
      ]
     },
     "execution_count": 45,
     "metadata": {},
     "output_type": "execute_result"
    }
   ],
   "source": [
    "### load y (genre)\n",
    "df_genre = pd.read_csv(\"data_genre_4865.csv\", index_col = None)\n",
    "df_genre = df_genre.iloc[:, 1:]\n",
    "df_genre.shape"
   ]
  },
  {
   "cell_type": "code",
   "execution_count": 46,
   "metadata": {
    "collapsed": true,
    "deletable": true,
    "editable": true
   },
   "outputs": [],
   "source": [
    "df_genre_train = df_genre.iloc[:3000, ]\n",
    "df_genre_test = df_genre.iloc[3000:, ]"
   ]
  },
  {
   "cell_type": "markdown",
   "metadata": {
    "deletable": true,
    "editable": true
   },
   "source": [
    "#### Colname for text analysis"
   ]
  },
  {
   "cell_type": "code",
   "execution_count": 47,
   "metadata": {
    "collapsed": false,
    "deletable": true,
    "editable": true
   },
   "outputs": [],
   "source": [
    "def bag_of_words(df_col):\n",
    "    \n",
    "    ## string to list\n",
    "    import re\n",
    "    col_words = []\n",
    "    \n",
    "    for i in range(len(df_col)):\n",
    "    \n",
    "        if type(df_col[i]) == str: \n",
    "            letters_only = re.sub(\"[^a-zA-Z]\", \" \" , df_col[i]) # remove non-letter\n",
    "            lower_case = letters_only.lower().split()   # Convert to lower case # Split into words\n",
    "\n",
    "            # avoid downloading nltk\n",
    "            # from NLTK stopwords https://pythonprogramming.net/stop-words-nltk-tutorial/\n",
    "            stops = {'ourselves', 'hers', 'between', 'yourself', 'but', 'again', 'there', 'about', 'once', \n",
    "                         'during', 'out', 'very', 'having', 'with', 'they', 'own', 'an', 'be', 'some', 'for', \n",
    "                         'do', 'its', 'yours', 'such', 'into', 'of', 'most', 'itself', 'other', 'off', 'is', \n",
    "                         's', 'am', 'or', 'who', 'as', 'from', 'him', 'each', 'the', 'themselves', 'until', \n",
    "                         'below', 'are', 'we', 'these', 'your', 'his', 'through', 'don', 'nor', 'me', 'were', \n",
    "                         'her', 'more', 'himself', 'this', 'down', 'should', 'our', 'their', 'while', 'above', \n",
    "                         'both', 'up', 'to', 'ours', 'had', 'she', 'all', 'no', 'when', 'at', 'any', 'before', \n",
    "                         'them', 'same', 'and', 'been', 'have', 'in', 'will', 'on', 'does', 'yourselves', 'then', \n",
    "                         'that', 'because', 'what', 'over', 'why', 'so', 'can', 'did', 'not', 'now', 'under', 'he', \n",
    "                         'you', 'herself', 'has', 'just', 'where', 'too', 'only', 'myself', 'which', 'those', 'i', \n",
    "                         'after', 'few', 'whom', 't', 'being', 'if', 'theirs', 'my', 'against', 'a', 'by', 'doing', \n",
    "                         'it', 'how', 'further', 'was', 'here', 'than'} \n",
    "            meaningful_words = [w for w in lower_case if not w in stops]  # Remove stop words from \"words\"\n",
    "\n",
    "            words = ( \" \".join(meaningful_words))\n",
    "\n",
    "        else: words = \"NA\"\n",
    "\n",
    "        col_words.append(words)\n",
    "    \n",
    "    return col_words"
   ]
  },
  {
   "cell_type": "code",
   "execution_count": 48,
   "metadata": {
    "collapsed": false,
    "deletable": true,
    "editable": true
   },
   "outputs": [],
   "source": [
    "### extract text from a single column\n",
    "\n",
    "#colname = \"overview_TMDB\"\n",
    "#col_train = df_train[colname].reset_index(drop = True)\n",
    "#col_test = df_test[colname].reset_index(drop = True)\n",
    "\n",
    "\n",
    "### combine the text in ['title', 'plot', 'plot outline', 'overview_TMDB', 'tagline_TMDB']\n",
    "\n",
    "col_train = df_train['title'].str.cat([df_train['plot'], df_train['plot outline'], \n",
    "                              df_train['overview_TMDB'], df_train['tagline_TMDB']], \n",
    "                              na_rep = \" \")\n",
    "\n",
    "\n",
    "col_test = df_test['title'].str.cat([df_test['plot'], df_test['plot outline'], \n",
    "                              df_test['overview_TMDB'], df_test['tagline_TMDB']], \n",
    "                              na_rep = \" \")\n",
    "col_test.index = col_test.index - 3000"
   ]
  },
  {
   "cell_type": "code",
   "execution_count": 49,
   "metadata": {
    "collapsed": false,
    "deletable": true,
    "editable": true
   },
   "outputs": [],
   "source": [
    "\n",
    "## --------------- Bag-of-Words --------------- ##\n",
    "    \n",
    "## string to list\n",
    "\n",
    "col_train = bag_of_words(col_train)\n",
    "col_test = bag_of_words(col_test)\n",
    "    \n",
    "## list to vector\n",
    "from sklearn.feature_extraction.text import TfidfVectorizer\n",
    "\n",
    "# Initialize the \"CountVectorizer\" object\n",
    "          # max_df: ignore terms that have a document frequency strictly higher than the given threshold\n",
    "          # min_df: ignore terms that have a document frequency strictly lower than the given threshold\n",
    "          # ngram_range: The lower and upper boundary of the range of n-values for different n-grams to be extracted\n",
    "vectorizer = TfidfVectorizer(max_df=0.8, max_features=200000,\n",
    "                                 min_df=30, stop_words='english',\n",
    "                                 use_idf=True, \n",
    "                                 #tokenizer=tokenize_and_stem, \n",
    "                                 ngram_range=(1,3))\n",
    "\n",
    "vectorizer.fit(col_train)\n",
    "\n",
    "words_train = vectorizer.transform(col_train, copy = True)\n",
    "words_train = words_train.toarray()\n",
    "\n",
    "words_test = vectorizer.transform(col_test, copy = True)\n",
    "words_test = words_test.toarray()\n"
   ]
  },
  {
   "cell_type": "code",
   "execution_count": 50,
   "metadata": {
    "collapsed": false,
    "deletable": true,
    "editable": true
   },
   "outputs": [],
   "source": [
    "## data frame with one-hot coding for each word\n",
    "text_train = pd.DataFrame(words_train, columns = vectorizer.vocabulary_ )\n",
    "text_test = pd.DataFrame(words_test, columns = vectorizer.vocabulary_ )"
   ]
  },
  {
   "cell_type": "code",
   "execution_count": 51,
   "metadata": {
    "collapsed": false,
    "deletable": true,
    "editable": true
   },
   "outputs": [
    {
     "name": "stdout",
     "output_type": "stream",
     "text": [
      "(3000, 1095)\n",
      "(1865, 1095)\n"
     ]
    }
   ],
   "source": [
    "print (text_train.shape)\n",
    "print (text_test.shape)"
   ]
  },
  {
   "cell_type": "markdown",
   "metadata": {
    "deletable": true,
    "editable": true
   },
   "source": [
    "### Bag-of-Words Dimensions\n",
    "For the 3000 training data:\n",
    "\n",
    "- [mpaa_reason]: min_df=3, 291 words, 61 PCs (80% variance)\n",
    "- [plot_outline]: min_df=5, 1477 words, 583 PCs (80% variance)\n",
    "- [tagline_TMDB]: min_df = 5, 179 words, 71 PCs (80% variance)\n",
    "- [plot]: min_df = 10, 2833 words, 794 PCs (80% variance)\n",
    "- [overview_TMDB]: min_df = 10, 1576 words, 641 PCs (80% variance)\n",
    "- all combined: min_df = 30, 1095 words, 503 PCs (80% variance)\n",
    "- all combined: min_df = 30, 1095 words, 283 PCs (60% variance)\n",
    "\n",
    "all text combined (1095 words):\n",
    "- 60% variance: 283 PCs\n",
    "- 50% variance: 206 PCs\n",
    "- 40% variance: 143 PCs\n",
    "- 30% variance: 91 PCs\n",
    "- 20% variance: 50 PCs\n",
    "- 10% variance: 19 PCs\n"
   ]
  },
  {
   "cell_type": "code",
   "execution_count": 120,
   "metadata": {
    "collapsed": false
   },
   "outputs": [
    {
     "data": {
      "image/png": "[encoded data removed]",
      "text/plain": [
       "<matplotlib.figure.Figure at 0x7fd7baa8ce10>"
      ]
     },
     "metadata": {},
     "output_type": "display_data"
    }
   ],
   "source": [
    "### Plot: number of PCs to choose for text analysis\n",
    "\n",
    "var = range(8)\n",
    "n_pc = [1095, 0, 283, 206, 143, 91, 50, 19]\n",
    "\n",
    "\n",
    "import matplotlib.pyplot as plt\n",
    "\n",
    "plt.bar(var, n_pc, align = \"center\", color = \"darkgray\")\n",
    "plt.xticks(var, [\"100\", \"\", \"60\", \"50\", \"40\", \"30\", \"20\", \"10\"])\n",
    "for i in range(8):\n",
    "    plt.text(var[i], 5+n_pc[i], str(n_pc[i]), ha = \"center\", va = \"bottom\")\n",
    "\n",
    "plt.xlabel(\"%Variance Explained\", fontsize = 12)\n",
    "plt.ylabel(\"Number of PCs\", fontsize = 12)\n",
    "plt.title(\"Choose Top PCs from Text Analysis\", fontsize = 14)\n",
    "#plt.show()\n",
    "plt.savefig(\"pca_all_text_number.png\")"
   ]
  },
  {
   "cell_type": "markdown",
   "metadata": {
    "deletable": true,
    "editable": true
   },
   "source": [
    "#### Dimensino Reduction on Train Data"
   ]
  },
  {
   "cell_type": "code",
   "execution_count": 125,
   "metadata": {
    "collapsed": false,
    "deletable": true,
    "editable": true
   },
   "outputs": [],
   "source": [
    "### MDS\n",
    "\n",
    "from sklearn.manifold import MDS\n",
    "\n",
    "mds = MDS(n_components=2, random_state = 0)\n",
    "text_train_mds = mds.fit_transform(text_train)\n",
    "\n",
    "plot_train = pd.DataFrame({\"Dim1\" : text_train_mds[:,0],\n",
    "                           \"Dim2\" : text_train_mds[:,1],\n",
    "                           \"Drama\" : df_genre_train.iloc[:,6] \n",
    "    })"
   ]
  },
  {
   "cell_type": "code",
   "execution_count": 57,
   "metadata": {
    "collapsed": false,
    "deletable": true,
    "editable": true
   },
   "outputs": [
    {
     "name": "stdout",
     "output_type": "stream",
     "text": [
      "(3000, 283)\n",
      "(1865, 283)\n"
     ]
    }
   ],
   "source": [
    "### PCA\n",
    "\n",
    "from sklearn.decomposition import PCA\n",
    "\n",
    "pca = PCA(n_components=0.6)\n",
    "text_train_pca = pca.fit_transform(text_train)\n",
    "\n",
    "plot_train = pd.DataFrame({\"Dim1\" : text_train_pca[:,0],\n",
    "                           \"Dim2\" : text_train_pca[:,1],\n",
    "                           \"Drama\" : df_genre_train.iloc[:,6] \n",
    "    })\n",
    "\n",
    "\n",
    "# transform test data\n",
    "text_test_pca = pca.transform(text_test)\n",
    "\n",
    "print (text_train_pca.shape)\n",
    "print (text_test_pca.shape)"
   ]
  },
  {
   "cell_type": "code",
   "execution_count": 76,
   "metadata": {
    "collapsed": false,
    "deletable": true,
    "editable": true
   },
   "outputs": [],
   "source": [
    "# number of PC for 60% variance\n",
    "n_pc = text_train_pca.shape[1]\n",
    "\n",
    "df_train_text = pd.DataFrame(text_train_pca, index = df_train.imdb_ids)\n",
    "df_test_text = pd.DataFrame(text_test_pca, index = df_test.imdb_ids)\n",
    "\n",
    "## rename the columns as text_PC1, text_PC2, etc. \n",
    "col_names = []\n",
    "for i in range(n_pc):\n",
    "    i_name = \"text_PC\" + str(i+1)\n",
    "    col_names.append(i_name)\n",
    "\n",
    "df_train_text.columns = col_names\n",
    "df_test_text.columns = col_names"
   ]
  },
  {
   "cell_type": "code",
   "execution_count": 78,
   "metadata": {
    "collapsed": false,
    "deletable": true,
    "editable": true
   },
   "outputs": [],
   "source": [
    "## save data for feature 'text'\n",
    "df_train_text.to_csv(\"data_text_4865_train.csv\")\n",
    "df_test_text.to_csv(\"data_text_4865_test.csv\")"
   ]
  },
  {
   "cell_type": "code",
   "execution_count": 60,
   "metadata": {
    "collapsed": false,
    "deletable": true,
    "editable": true
   },
   "outputs": [],
   "source": [
    "### TSNE\n",
    "\n",
    "from sklearn.manifold import TSNE\n",
    "\n",
    "tsne = TSNE(n_components=2, random_state = 0)\n",
    "text_train_tsne = tsne.fit_transform(text_train)\n",
    "\n",
    "plot_train = pd.DataFrame({\"Dim1\" : text_train_tsne[:,0],\n",
    "                           \"Dim2\" : text_train_tsne[:,1],\n",
    "                           \"Drama\" : df_genre_train.iloc[:,6] \n",
    "    })"
   ]
  },
  {
   "cell_type": "markdown",
   "metadata": {
    "deletable": true,
    "editable": true
   },
   "source": [
    "#### Split `Drama` and `non-Drama` genre"
   ]
  },
  {
   "cell_type": "code",
   "execution_count": 63,
   "metadata": {
    "collapsed": false,
    "deletable": true,
    "editable": true
   },
   "outputs": [
    {
     "data": {
      "image/png": "[encoded data removed]",
      "text/plain": [
       "<matplotlib.figure.Figure at 0x7efc41458dd0>"
      ]
     },
     "metadata": {},
     "output_type": "display_data"
    }
   ],
   "source": [
    "import matplotlib.pyplot as plt\n",
    "%matplotlib inline\n",
    "\n",
    "plot_train_drama = plot_train[plot_train[\"Drama\"] == 1]\n",
    "plot_train_nondrama = plot_train[plot_train[\"Drama\"] == 0]\n",
    "\n",
    "\n",
    "plt.scatter(plot_train_drama[\"Dim1\"], plot_train_drama[\"Dim2\"], \n",
    "            color = \"Red\", alpha = 0.8, s = 1, label = \"Drama\")\n",
    "plt.scatter(plot_train_nondrama[\"Dim1\"], plot_train_nondrama[\"Dim2\"], \n",
    "            color = \"darkgray\", alpha = 0.8, s = 1, label = \"Others\")\n",
    "plt.xlabel(\"Dim1\", fontsize = 12)\n",
    "plt.ylabel(\"Dim2\", fontsize = 12)\n",
    "plt.title(\"PCA: Text Analysis\", fontsize = 14)\n",
    "plt.legend()\n",
    "plt.show()\n",
    "#plt.savefig(\"pca_all_text.png\")"
   ]
  },
  {
   "cell_type": "code",
   "execution_count": null,
   "metadata": {
    "collapsed": true,
    "deletable": true,
    "editable": true
   },
   "outputs": [],
   "source": []
  },
  {
   "cell_type": "markdown",
   "metadata": {
    "deletable": true,
    "editable": true
   },
   "source": [
    "## 2. Text Analysis on Full Data (25k)"
   ]
  },
  {
   "cell_type": "code",
   "execution_count": 2,
   "metadata": {
    "collapsed": false,
    "deletable": true,
    "editable": true
   },
   "outputs": [
    {
     "name": "stdout",
     "output_type": "stream",
     "text": [
      "Collecting scipy\n",
      "  Using cached scipy-0.19.0-cp27-cp27mu-manylinux1_x86_64.whl\n",
      "Collecting numpy>=1.8.2 (from scipy)\n",
      "  Using cached numpy-1.12.1-cp27-cp27mu-manylinux1_x86_64.whl\n",
      "Installing collected packages: numpy, scipy\n",
      "Successfully installed numpy-1.12.1 scipy-0.19.0\n",
      "\u001b[33mYou are using pip version 8.1.1, however version 9.0.1 is available.\n",
      "You should consider upgrading via the 'pip install --upgrade pip' command.\u001b[0m\n"
     ]
    }
   ],
   "source": [
    "## if running on AWS\n",
    "\n",
    "#!pip install scipy"
   ]
  },
  {
   "cell_type": "code",
   "execution_count": 3,
   "metadata": {
    "collapsed": true,
    "deletable": true,
    "editable": true
   },
   "outputs": [],
   "source": [
    "import pandas as pd\n",
    "import numpy as np\n",
    "import re\n",
    "import warnings\n",
    "warnings.filterwarnings(\"ignore\")"
   ]
  },
  {
   "cell_type": "code",
   "execution_count": 4,
   "metadata": {
    "collapsed": false,
    "deletable": true,
    "editable": true
   },
   "outputs": [],
   "source": [
    "df_x = pd.read_csv(\"feature_final.csv\", index_col = None)\n",
    "df_y = pd.read_csv(\"genre_final.csv\", index_col = None)\n",
    "df_y = df_y[[\"Drama\"]]"
   ]
  },
  {
   "cell_type": "code",
   "execution_count": 121,
   "metadata": {
    "collapsed": true
   },
   "outputs": [],
   "source": [
    "col_x = df_x['title'].str.cat([df_x['plot'], df_x['plot outline'], \n",
    "                              df_x['overview_TMDB'], df_x['tagline_TMDB']], \n",
    "                              na_rep = \" \")"
   ]
  },
  {
   "cell_type": "code",
   "execution_count": 27,
   "metadata": {
    "collapsed": true,
    "deletable": true,
    "editable": true
   },
   "outputs": [],
   "source": [
    "#colname = \"overview_TMDB\""
   ]
  },
  {
   "cell_type": "code",
   "execution_count": 125,
   "metadata": {
    "collapsed": false,
    "deletable": true,
    "editable": true
   },
   "outputs": [],
   "source": [
    "## text into word vector\n",
    "\n",
    "#col_x = df_x[colname].reset_index(drop = True)\n",
    "\n",
    "## --------------- Bag-of-Words --------------- ##\n",
    "    \n",
    "## string to list\n",
    "\n",
    "col_x = bag_of_words(col_x)\n",
    "    \n",
    "## list to vector\n",
    "from sklearn.feature_extraction.text import TfidfVectorizer\n",
    "\n",
    "# Initialize the \"CountVectorizer\" object\n",
    "          # max_df: ignore terms that have a document frequency strictly higher than the given threshold\n",
    "          # min_df: ignore terms that have a document frequency strictly lower than the given threshold\n",
    "          # ngram_range: The lower and upper boundary of the range of n-values for different n-grams to be extracted\n",
    "vectorizer = TfidfVectorizer(max_df=0.8, max_features=200000,\n",
    "                                 min_df=40, stop_words='english',\n",
    "                                 use_idf=True, \n",
    "                                 #tokenizer=tokenize_and_stem, \n",
    "                                 ngram_range=(1,3))\n",
    "\n",
    "vectorizer.fit(col_x)\n",
    "\n",
    "words_x = vectorizer.transform(col_x, copy = True)\n",
    "words_x = words_x.toarray()\n"
   ]
  },
  {
   "cell_type": "code",
   "execution_count": 126,
   "metadata": {
    "collapsed": false,
    "deletable": true,
    "editable": true
   },
   "outputs": [],
   "source": [
    "## data frame with one-hot coding for each word\n",
    "text_x = pd.DataFrame(words_x, columns = vectorizer.vocabulary_ )"
   ]
  },
  {
   "cell_type": "code",
   "execution_count": 127,
   "metadata": {
    "collapsed": false,
    "deletable": true,
    "editable": true
   },
   "outputs": [
    {
     "name": "stdout",
     "output_type": "stream",
     "text": [
      "(24333, 6318)\n"
     ]
    }
   ],
   "source": [
    "print (text_x.shape)"
   ]
  },
  {
   "cell_type": "markdown",
   "metadata": {
    "deletable": true,
    "editable": true
   },
   "source": [
    "#### Bag-of-Words Dimensions\n",
    "For the 25k training data:\n",
    "\n",
    "- [mpaa_reason]: min_df=5, 946 words, 164 PCs (80% variance)\n",
    "- [plot_outline]: min_df=20, 2438 words, 1183 PCs (80% variance)\n",
    "- [tagline_TMDB]: min_df=10,  709 words, 251 PCs (80% variance)\n",
    "- [plot]: min_df=30, 6375 words, 2355 PCs (80% variance)\n",
    "- [overview_TMDB]: min_df=30, 3962 words, 1854 PCs (80% variance)\n",
    "\n",
    "- all text: min_df = 30, 8072 words, 3107 PCs (80% variance)\n",
    "- all text: min_df = 40, 6318 words,  PCs (80% variance)"
   ]
  },
  {
   "cell_type": "code",
   "execution_count": 39,
   "metadata": {
    "collapsed": false,
    "deletable": true,
    "editable": true
   },
   "outputs": [
    {
     "name": "stdout",
     "output_type": "stream",
     "text": [
      "(24333, 3107)\n"
     ]
    }
   ],
   "source": [
    "### PCA\n",
    "\n",
    "from sklearn.decomposition import PCA\n",
    "\n",
    "pca = PCA(n_components=0.8)\n",
    "text_x_pca = pca.fit_transform(text_x)\n",
    "\n",
    "plot_x = pd.DataFrame({\"Dim1\" : text_x_pca[:,0],\n",
    "                        \"Dim2\" : text_x_pca[:,1],\n",
    "                        \"Drama\" : df_y[\"Drama\"]})\n",
    "\n",
    "print (text_x_pca.shape)"
   ]
  },
  {
   "cell_type": "code",
   "execution_count": 14,
   "metadata": {
    "collapsed": false,
    "deletable": true,
    "editable": true
   },
   "outputs": [],
   "source": [
    "### TSNE\n",
    "\n",
    "from sklearn.manifold import TSNE\n",
    "\n",
    "tsne = TSNE(n_components=2, random_state = 0)\n",
    "text_x_tsne = tsne.fit_transform(text_x)\n",
    "\n",
    "plot_x = pd.DataFrame({\"Dim1\" : text_x_tsne[:,0],\n",
    "                           \"Dim2\" : text_x_tsne[:,1],\n",
    "                           \"Drama\" : df_y[\"Drama\"]\n",
    "    })"
   ]
  },
  {
   "cell_type": "code",
   "execution_count": 42,
   "metadata": {
    "collapsed": false,
    "deletable": true,
    "editable": true
   },
   "outputs": [
    {
     "data": {
      "image/png": "[encoded data removed]",
      "text/plain": [
       "<matplotlib.figure.Figure at 0x7fd7bc091750>"
      ]
     },
     "metadata": {},
     "output_type": "display_data"
    }
   ],
   "source": [
    "## plot\n",
    "\n",
    "import matplotlib.pyplot as plt\n",
    "%matplotlib inline\n",
    "\n",
    "plot_x_drama = plot_x[plot_x[\"Drama\"] == 1]\n",
    "plot_x_nondrama = plot_x[plot_x[\"Drama\"] == 0]\n",
    "\n",
    "\n",
    "plt.scatter(plot_x_drama[\"Dim1\"], plot_x_drama[\"Dim2\"], \n",
    "            color = \"Red\", alpha = 0.5, s = 0.5, label = \"Drama\")\n",
    "plt.scatter(plot_x_nondrama[\"Dim1\"], plot_x_nondrama[\"Dim2\"], \n",
    "            color = \"darkgray\", alpha = 0.5, s = 0.5, label = \"Others\")\n",
    "plt.xlabel(\"Dim1\", fontsize = 12)\n",
    "plt.ylabel(\"Dim2\", fontsize = 12)\n",
    "plt.title(\"tSNE: Text Analysis\", fontsize = 14)\n",
    "plt.legend()\n",
    "#plt.show()\n",
    "plt.savefig(\"tsne_all_text_25k.png\")"
   ]
  },
  {
   "cell_type": "code",
   "execution_count": null,
   "metadata": {
    "collapsed": true,
    "deletable": true,
    "editable": true
   },
   "outputs": [],
   "source": []
  }
 ],
 "metadata": {
  "anaconda-cloud": {},
  "kernelspec": {
   "display_name": "Python 2",
   "language": "python",
   "name": "python2"
  },
  "language_info": {
   "codemirror_mode": {
    "name": "ipython",
    "version": 2
   },
   "file_extension": ".py",
   "mimetype": "text/x-python",
   "name": "python",
   "nbconvert_exporter": "python",
   "pygments_lexer": "ipython2",
   "version": "2.7.12"
  }
 },
 "nbformat": 4,
 "nbformat_minor": 0
}
