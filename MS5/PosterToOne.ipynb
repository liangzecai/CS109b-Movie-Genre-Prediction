{
 "cells": [
  {
   "cell_type": "markdown",
   "metadata": {},
   "source": [
    "# CS109b Final Project\n",
    "\n",
    "# Milestone5\n",
    "by Danqing Wang, Wenshan Zheng, Zecai Liang"
   ]
  },
  {
   "cell_type": "code",
   "execution_count": 1,
   "metadata": {
    "collapsed": false
   },
   "outputs": [],
   "source": [
    "import pandas as pd\n",
    "import numpy as np\n",
    "import urllib\n",
    "from bs4 import BeautifulSoup\n",
    "import time\n",
    "import re\n",
    "# Use package tmdbsimple to extract data\n",
    "import tmdbsimple as tmdb\n",
    "# use \"!pip install tmdbsimple\" to install\n",
    "tmdb.API_KEY = '302f3815bea132a8bfe0d7301c9065dd'\n",
    "import random\n",
    "import sys\n",
    "import time\n",
    "import matplotlib.pyplot as plt\n",
    "%matplotlib inline\n",
    "import seaborn as sns\n",
    "import csv"
   ]
  },
  {
   "cell_type": "code",
   "execution_count": 4,
   "metadata": {
    "collapsed": false
   },
   "outputs": [],
   "source": [
    "# read in genre dataframe\n",
    "y_train = pd.read_csv('y_train.csv', index_col=0)\n",
    "y_test = pd.read_csv('y_test.csv', index_col=0)"
   ]
  },
  {
   "cell_type": "code",
   "execution_count": 5,
   "metadata": {
    "collapsed": true
   },
   "outputs": [],
   "source": [
    "y_full = y_train.append(y_test)"
   ]
  },
  {
   "cell_type": "code",
   "execution_count": 6,
   "metadata": {
    "collapsed": false
   },
   "outputs": [],
   "source": [
    "y_full.to_csv('y_full.csv')"
   ]
  },
  {
   "cell_type": "code",
   "execution_count": 7,
   "metadata": {
    "collapsed": false
   },
   "outputs": [],
   "source": [
    "# read in each image, use following code\n",
    "# read in sampled genre dataframe\n",
    "genre = pd.read_csv('y_full.csv', index_col=0)\n",
    "data_genre = np.array(genre)\n",
    "\n",
    "# create a dataframe to store information of image\n",
    "index = genre.index.values\n",
    "data_image = []\n",
    "\n",
    "for i in range(len(index)):\n",
    "    x = np.load('npy/' + str(genre.index.values[i]) + '.npy')\n",
    "    data_image.append(x.flatten())\n",
    "\n",
    "data_image = np.array(data_image)\n",
    "\n",
    "# center each poster by subtracting the mean of each row\n",
    "data_image = data_image - np.mean(data_image, axis = 1).reshape(-1,1)"
   ]
  },
  {
   "cell_type": "code",
   "execution_count": 8,
   "metadata": {
    "collapsed": false
   },
   "outputs": [
    {
     "name": "stdout",
     "output_type": "stream",
     "text": [
      "float16\n"
     ]
    }
   ],
   "source": [
    "## change data type\n",
    "data_image = np.float16(data_image)\n",
    "print (data_image.dtype)"
   ]
  },
  {
   "cell_type": "code",
   "execution_count": 9,
   "metadata": {
    "collapsed": false
   },
   "outputs": [
    {
     "name": "stdout",
     "output_type": "stream",
     "text": [
      "(4865L, 150528L)\n"
     ]
    }
   ],
   "source": [
    "## check dimension\n",
    "print (data_image.shape)"
   ]
  },
  {
   "cell_type": "code",
   "execution_count": 10,
   "metadata": {
    "collapsed": true
   },
   "outputs": [],
   "source": [
    "## save data\n",
    "np.save('data_image_5000.npy', data_image)"
   ]
  },
  {
   "cell_type": "markdown",
   "metadata": {},
   "source": [
    "-------"
   ]
  }
 ],
 "metadata": {
  "anaconda-cloud": {},
  "kernelspec": {
   "display_name": "Python [default]",
   "language": "python",
   "name": "python2"
  },
  "language_info": {
   "codemirror_mode": {
    "name": "ipython",
    "version": 2
   },
   "file_extension": ".py",
   "mimetype": "text/x-python",
   "name": "python",
   "nbconvert_exporter": "python",
   "pygments_lexer": "ipython2",
   "version": "2.7.12"
  }
 },
 "nbformat": 4,
 "nbformat_minor": 0
}
