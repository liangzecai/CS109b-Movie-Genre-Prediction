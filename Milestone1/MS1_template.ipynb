{
 "cells": [
  {
   "cell_type": "markdown",
   "metadata": {},
   "source": [
    "# CS109b Final Project"
   ]
  },
  {
   "cell_type": "markdown",
   "metadata": {},
   "source": [
    "# Milestone1"
   ]
  },
  {
   "cell_type": "markdown",
   "metadata": {},
   "source": [
    "by Danqing Wang, Wenshan Zheng, Zecai Liang"
   ]
  },
  {
   "cell_type": "markdown",
   "metadata": {},
   "source": [
    "## 1. Data Extraction"
   ]
  },
  {
   "cell_type": "markdown",
   "metadata": {},
   "source": [
    "#### 1.1 API code to access the genre and movie poster your favorite movie from TMDB"
   ]
  },
  {
   "cell_type": "code",
   "execution_count": null,
   "metadata": {
    "collapsed": true
   },
   "outputs": [],
   "source": [
    "## whenshan"
   ]
  },
  {
   "cell_type": "markdown",
   "metadata": {},
   "source": [
    "#### 1.2 Extract genre and other information for this movie from IMDb"
   ]
  },
  {
   "cell_type": "code",
   "execution_count": null,
   "metadata": {
    "collapsed": true
   },
   "outputs": [],
   "source": [
    "## Danqing"
   ]
  },
  {
   "cell_type": "markdown",
   "metadata": {},
   "source": [
    "#### 1.3 A list of the 10 most popular movies of 2016 from TMDb, and their genre obtained via the API, and confirm if the genre is consistent with IMDB data"
   ]
  },
  {
   "cell_type": "code",
   "execution_count": null,
   "metadata": {
    "collapsed": true
   },
   "outputs": [],
   "source": [
    "## wenshan"
   ]
  },
  {
   "cell_type": "markdown",
   "metadata": {},
   "source": [
    "## 2. Exploratory Analysis "
   ]
  },
  {
   "cell_type": "markdown",
   "metadata": {},
   "source": [
    "Hints: \n",
    "- Code to generate the movie genre pairs and a suitable visualization of the result\n",
    "- Additional visualization sketches and EDA with a focus on movie genres\n",
    "- A list of questions you could answer with this and related data."
   ]
  },
  {
   "cell_type": "markdown",
   "metadata": {},
   "source": [
    "### 2.1 genre VS other variables"
   ]
  },
  {
   "cell_type": "code",
   "execution_count": null,
   "metadata": {
    "collapsed": true
   },
   "outputs": [],
   "source": [
    "## Zecai"
   ]
  },
  {
   "cell_type": "markdown",
   "metadata": {},
   "source": [
    "#### 2.1.1 basic statistics about genre\n",
    "\n",
    "numbers from the website: http://www.imdb.com/stats\n",
    "\n",
    "- how many genres in total\n",
    "27\n",
    "\n",
    "Drama (1,027,694)\tRomance (279,500)\n",
    "Short (171,957)\tComedy (149,370)\n",
    "Crime (113,705)\tMystery (73,774)\n",
    "Thriller (71,517)\tAction (62,583)\n",
    "Family (59,820)\tAdventure (35,465)\n",
    "Fantasy (33,367)\tSci-Fi (28,056)\n",
    "Animation (25,175)\tHistory (18,998)\n",
    "Horror (18,919)\tDocumentary (15,374)\n",
    "War (14,986)\tMusic (14,634)\n",
    "Biography (12,950)\tMusical (9,596)\n",
    "Sport (7,341)\tReality-TV (6,728)\n",
    "Talk-Show (5,986)\tWestern (4,843)\n",
    "News (1,623)\tFilm-Noir (629)\n",
    "Game-Show (156)\n",
    "\n",
    "- how many movies (by ID)\n",
    "2404998\n",
    "\n",
    "- number  of genres for a single movie (distribution)"
   ]
  },
  {
   "cell_type": "markdown",
   "metadata": {},
   "source": [
    "#### 2.1.2 Heatmap between genrens"
   ]
  },
  {
   "cell_type": "code",
   "execution_count": null,
   "metadata": {
    "collapsed": true
   },
   "outputs": [],
   "source": [
    "###  Zecai"
   ]
  },
  {
   "cell_type": "markdown",
   "metadata": {},
   "source": [
    "### 2.1.2 correlation with other variables"
   ]
  },
  {
   "cell_type": "markdown",
   "metadata": {},
   "source": [
    "Quantitative: Danqing\n",
    "- year of release\n",
    "- rating\n",
    "- voting\n",
    "- runtime\n",
    "- production cost\n",
    "\n",
    "Qualitative: Zecai\n",
    "- language\n",
    "- country of release\n",
    "- MAPP   \n",
    "\n",
    "Production related: (1 sample) Wenshan\n",
    "- director\n",
    "- writer\n",
    "- distributor (company)\n",
    "- major cast\n",
    "\n",
    "Text Analysis: (not now)\n",
    "- plot outline\n",
    "- plot\n",
    "- title\n",
    "- MPAA rating (with reason)"
   ]
  },
  {
   "cell_type": "markdown",
   "metadata": {},
   "source": [
    "## 3. Challenges for Next Step \n",
    "\n",
    "Hints:\n",
    "Comments on what challenges you see for predicting movie genre based on the data you have, and how to address them"
   ]
  },
  {
   "cell_type": "markdown",
   "metadata": {
    "collapsed": true
   },
   "source": [
    "Zecai\n",
    "- multiple genres / how many genres to predict\n",
    "- assemble data (how much to sample? download the whole?\n",
    "\n",
    "Danqing\n",
    "- missing information / sparse data for some genres\n",
    "- merge/combine two database (inconsistency)\n",
    "\n",
    "Wenshan\n",
    "- feature selection? \n",
    "- whether text analysis?"
   ]
  },
  {
   "cell_type": "code",
   "execution_count": null,
   "metadata": {
    "collapsed": true
   },
   "outputs": [],
   "source": []
  }
 ],
 "metadata": {
  "anaconda-cloud": {},
  "kernelspec": {
   "display_name": "Python [ipykernel_py2]",
   "language": "python",
   "name": "Python [ipykernel_py2]"
  },
  "language_info": {
   "codemirror_mode": {
    "name": "ipython",
    "version": 2
   },
   "file_extension": ".py",
   "mimetype": "text/x-python",
   "name": "python",
   "nbconvert_exporter": "python",
   "pygments_lexer": "ipython2",
   "version": "2.7.12"
  }
 },
 "nbformat": 4,
 "nbformat_minor": 0
}
