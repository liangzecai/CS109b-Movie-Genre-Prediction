{
 "cells": [
  {
   "cell_type": "markdown",
   "metadata": {},
   "source": [
    "# CS109b Final Project"
   ]
  },
  {
   "cell_type": "markdown",
   "metadata": {},
   "source": [
    "# Milestone1"
   ]
  },
  {
   "cell_type": "markdown",
   "metadata": {},
   "source": [
    "by Danqing Wang, Wenshan Zheng, Zecai Liang\n",
    "______________"
   ]
  },
  {
   "cell_type": "code",
   "execution_count": 24,
   "metadata": {
    "collapsed": false
   },
   "outputs": [],
   "source": [
    "# import libraries\n",
    "import numpy as np \n",
    "import pandas as pd\n",
    "import matplotlib\n",
    "import matplotlib.pyplot as plt\n",
    "import random\n",
    "\n",
    "%matplotlib inline\n",
    "\n",
    "import warnings\n",
    "warnings.filterwarnings('ignore')\n",
    "import urllib\n",
    "from bs4 import BeautifulSoup\n",
    "import time\n",
    "import re\n",
    "import tmdbsimple as tmdb\n",
    "tmdb.API_KEY = '4074d0170761c40d9c07d9016ddd4965'\n",
    "from collections import Counter\n",
    "\n",
    "from imdb import IMDb\n",
    "ia = IMDb()"
   ]
  },
  {
   "cell_type": "markdown",
   "metadata": {},
   "source": [
    "## 1. Data Extraction"
   ]
  },
  {
   "cell_type": "markdown",
   "metadata": {},
   "source": [
    "\n",
    "### 1.1 Accessing TMDB and IMDB Data"
   ]
  },
  {
   "cell_type": "markdown",
   "metadata": {},
   "source": [
    "#### 1.1.1 API code to access the genre and movie poster your favorite movie from TMDB"
   ]
  },
  {
   "cell_type": "code",
   "execution_count": 25,
   "metadata": {
    "collapsed": true
   },
   "outputs": [],
   "source": [
    "# set up some basic url link strings, to be used later\n",
    "APIKeyZ = \"api_key=4074d0170761c40d9c07d9016ddd4965\"\n",
    "base_url_search = \"https://api.themoviedb.org/3/discover/movie?\"\n",
    "popular_desc = \"&sort_by=popularity.desc\"\n",
    "year =  \"&primary_release_year={}\"\n",
    "page_number = '&page={}'\n",
    "query_url = 'https://api.themoviedb.org/3/movie/{}?'\n",
    "poster_url = \"http://image.tmdb.org/t/p/{size}/{path}\"\n",
    "poster_size = [\"w92\", \"w154\", \"w185\", \"w342\", \"w500\", \"w780\", \"original\"]"
   ]
  },
  {
   "cell_type": "code",
   "execution_count": 26,
   "metadata": {
    "collapsed": false
   },
   "outputs": [
    {
     "name": "stdout",
     "output_type": "stream",
     "text": [
      "Movie ID is: 321612\n"
     ]
    }
   ],
   "source": [
    "# use Beauty and Beast (released in 2017) as an example\n",
    "movie_name = \"beauty and the beast\"\n",
    "# set up the link to search for the movie\n",
    "movie_url = base_url_search + APIKeyZ + \"&query=\" + movie_name + year.format(2017)\n",
    "\n",
    "# take out the TMDB ID and extract details about the movie\n",
    "page = urllib.urlopen(movie_url).read()\n",
    "soup = BeautifulSoup(page, \"lxml\")\n",
    "prettified = soup.prettify()\n",
    "id_index = prettified.find('\"id\"') #find the index for TMDB ID\n",
    "# Extract ID information\n",
    "j_beginning = 5\n",
    "movie_id = ''\n",
    "while (prettified[id_index + j_beginning].isdigit()):\n",
    "    movie_id += str(prettified[id_index + j_beginning])\n",
    "    j_beginning += 1\n",
    "print \"Movie ID is:\", movie_id"
   ]
  },
  {
   "cell_type": "code",
   "execution_count": 27,
   "metadata": {
    "collapsed": false
   },
   "outputs": [
    {
     "data": {
      "text/plain": [
       "[{u'id': 14, u'name': u'Fantasy'},\n",
       " {u'id': 10402, u'name': u'Music'},\n",
       " {u'id': 10749, u'name': u'Romance'}]"
      ]
     },
     "execution_count": 27,
     "metadata": {},
     "output_type": "execute_result"
    }
   ],
   "source": [
    "# search movie by ID and access genres\n",
    "movie = tmdb.Movies(movie_id)\n",
    "response = movie.info()\n",
    "movie.genres # seems that it returns genre id and corresponding genre"
   ]
  },
  {
   "cell_type": "code",
   "execution_count": 28,
   "metadata": {
    "collapsed": false
   },
   "outputs": [
    {
     "data": {
      "text/plain": [
       "'http://image.tmdb.org/t/p/original//tWqifoYuwLETmmasnGHO7xBjEtt.jpg'"
      ]
     },
     "execution_count": 28,
     "metadata": {},
     "output_type": "execute_result"
    }
   ],
   "source": [
    "# download movie poster\n",
    "f = open('Beauty_and_Beast.jpg','wb')\n",
    "f.write(urllib.urlopen(poster_url.format(size = poster_size[6], path = str(movie.poster_path))).read())\n",
    "f.close()\n",
    "poster_url.format(size = poster_size[6], path = str(movie.poster_path))"
   ]
  },
  {
   "cell_type": "markdown",
   "metadata": {},
   "source": [
    "<img src=\"Beauty_and_Beast.jpg\">"
   ]
  },
  {
   "cell_type": "markdown",
   "metadata": {},
   "source": [
    "#### 1.1.2 Extract genre and other information for this movie from IMDb"
   ]
  },
  {
   "cell_type": "code",
   "execution_count": 29,
   "metadata": {
    "collapsed": false
   },
   "outputs": [
    {
     "name": "stdout",
     "output_type": "stream",
     "text": [
      "[u'music department', 'sound crew', 'camera and electrical department', u'distributors', 'rating', 'runtimes', 'costume designer', u'thanks', 'make up', 'year', 'production design', 'miscellaneous crew', 'color info', u'casting department', 'languages', 'votes', 'producer', 'title', 'mpaa', 'assistant director', 'writer', 'casting director', 'visual effects', 'production manager', 'set decoration', 'editor', 'certificates', u'costume department', 'country codes', 'language codes', 'cover url', u'special effects department', 'special effects companies', 'sound mix', u'location management', 'genres', 'director', 'stunt performer', 'miscellaneous companies', 'cinematographer', 'art direction', 'akas', 'aspect ratio', u'production companies', 'kind', u'art department', 'countries', u'transportation department', 'plot outline', 'plot', 'cast', u'animation department', 'original music', u'editorial department', 'canonical title', 'long imdb title', 'long imdb canonical title', 'smart canonical title', 'smart long imdb canonical title', 'full-size cover url']\n"
     ]
    }
   ],
   "source": [
    "# As am example, we search for the movie Beauty and the Beast\n",
    "s_result = ia.search_movie('Beauty and the Beast')\n",
    "\n",
    "# Select the top result, Beauty and the Beast (2017)\n",
    "the_unt = s_result[0]\n",
    "ia.update(the_unt)\n",
    "print the_unt.keys() # all possible keys"
   ]
  },
  {
   "cell_type": "code",
   "execution_count": 30,
   "metadata": {
    "collapsed": false
   },
   "outputs": [
    {
     "data": {
      "text/plain": [
       "u'Beauty and the Beast'"
      ]
     },
     "execution_count": 30,
     "metadata": {},
     "output_type": "execute_result"
    }
   ],
   "source": [
    "the_unt['title']"
   ]
  },
  {
   "cell_type": "code",
   "execution_count": 31,
   "metadata": {
    "collapsed": false
   },
   "outputs": [
    {
     "data": {
      "text/plain": [
       "2017"
      ]
     },
     "execution_count": 31,
     "metadata": {},
     "output_type": "execute_result"
    }
   ],
   "source": [
    "the_unt['year']"
   ]
  },
  {
   "cell_type": "code",
   "execution_count": 32,
   "metadata": {
    "collapsed": false
   },
   "outputs": [
    {
     "data": {
      "text/plain": [
       "[u'Family', u'Fantasy', u'Musical', u'Romance']"
      ]
     },
     "execution_count": 32,
     "metadata": {},
     "output_type": "execute_result"
    }
   ],
   "source": [
    "the_unt['genres']"
   ]
  },
  {
   "cell_type": "markdown",
   "metadata": {},
   "source": [
    "The genres labeled by IMDb for `Beauty and the Beast` are `family`, `Fantasy`, `Musical`, and `Romance`. "
   ]
  },
  {
   "cell_type": "markdown",
   "metadata": {},
   "source": [
    "#### 1.1.3 A list of the 10 most popular movies of 2016 from TMDb, and their genre obtained via the API, and confirm if the genre is consistent with IMDB data"
   ]
  },
  {
   "cell_type": "markdown",
   "metadata": {},
   "source": [
    "#### TMDb"
   ]
  },
  {
   "cell_type": "code",
   "execution_count": 33,
   "metadata": {
    "collapsed": true
   },
   "outputs": [],
   "source": [
    "# first extract TMDB ID of each movie, then use package tmdbsimple to obtain genre information\n",
    "popular_movies_2016 =  base_url_search + APIKeyZ + popular_desc + year.format(2016)\n",
    "page = urllib.urlopen(popular_movies_2016).read()\n",
    "soup = BeautifulSoup(page, \"lxml\")\n",
    "prettified = soup.prettify()\n",
    "movie_list = [m.start() for m in re.finditer('\"id\"', prettified)] # this finds all indexes of occurences of \"id\"\n",
    "movie_id_list = []\n",
    "for i in range(10):\n",
    "    i_beginning = 5\n",
    "    movie_id_temp = ''\n",
    "    while (prettified[movie_list[i] + i_beginning].isdigit()):\n",
    "        movie_id_temp += str(prettified[movie_list[i] + i_beginning])\n",
    "        i_beginning += 1\n",
    "    movie_id_list += [int(movie_id_temp)]"
   ]
  },
  {
   "cell_type": "code",
   "execution_count": 34,
   "metadata": {
    "collapsed": true
   },
   "outputs": [],
   "source": [
    "movie_data = [] # to store movie information\n",
    "for i in range(len(movie_id_list)):\n",
    "    movie = tmdb.Movies(movie_id_list[i])\n",
    "    response = movie.info()\n",
    "    movie_data += [response]"
   ]
  },
  {
   "cell_type": "code",
   "execution_count": 35,
   "metadata": {
    "collapsed": true
   },
   "outputs": [],
   "source": [
    "# Extract IMDB ID\n",
    "IMDB_ID = []\n",
    "for i in range(len(movie_data)):\n",
    "    IMDB_ID += [int(str(movie_data[i]['imdb_id'])[2:])]"
   ]
  },
  {
   "cell_type": "code",
   "execution_count": 36,
   "metadata": {
    "collapsed": false,
    "scrolled": true
   },
   "outputs": [
    {
     "data": {
      "text/plain": [
       "[['Animation', 'Comedy', 'Drama', 'Family', 'Music'],\n",
       " ['Adventure', 'Action', 'Fantasy'],\n",
       " ['Adventure', 'Animation', 'Comedy', 'Family'],\n",
       " ['Action', 'Adventure', 'Comedy', 'Romance'],\n",
       " ['Action', 'Drama', 'Science Fiction', 'War'],\n",
       " ['Action', 'Adventure', 'Fantasy', 'Science Fiction'],\n",
       " ['Drama', 'Science Fiction'],\n",
       " ['Action', 'Science Fiction'],\n",
       " ['Action', 'Horror'],\n",
       " ['Drama']]"
      ]
     },
     "execution_count": 36,
     "metadata": {},
     "output_type": "execute_result"
    }
   ],
   "source": [
    "TMDB_genre_list = [] # to store genre information from TMDB\n",
    "for i in range(len(movie_data)):\n",
    "    genre_temp = []\n",
    "    for k in range(len(movie_data[i]['genres'])):\n",
    "        genre_temp += [str((movie_data[i]['genres'][k]['name']))]\n",
    "    TMDB_genre_list += [genre_temp]\n",
    "TMDB_genre_list"
   ]
  },
  {
   "cell_type": "markdown",
   "metadata": {},
   "source": [
    "#### IMDb"
   ]
  },
  {
   "cell_type": "code",
   "execution_count": 37,
   "metadata": {
    "collapsed": false
   },
   "outputs": [],
   "source": [
    "## Store genre information into dataframe\n",
    "IMDb_genre_list = []\n",
    "title = []\n",
    "for i in range(0, 10):\n",
    "    movie = ia.get_movie(IMDB_ID[i]) # grab movie data by id\n",
    "    ia.update(movie)\n",
    "    title += [str(movie['title'])]\n",
    "    genre_temp = []\n",
    "    for j in range(len(movie['genres'])):\n",
    "        genre_temp += [str(movie['genres'][j])]\n",
    "    IMDb_genre_list += [sorted(genre_temp)]    "
   ]
  },
  {
   "cell_type": "code",
   "execution_count": 38,
   "metadata": {
    "collapsed": false
   },
   "outputs": [
    {
     "data": {
      "text/plain": [
       "[['Animation', 'Comedy', 'Family', 'Music'],\n",
       " ['Adventure', 'Family', 'Fantasy'],\n",
       " ['Adventure', 'Animation', 'Comedy', 'Family'],\n",
       " ['Action', 'Adventure', 'Comedy', 'Romance', 'Sci-Fi'],\n",
       " ['Action', 'Adventure', 'Sci-Fi'],\n",
       " ['Action', 'Adventure', 'Fantasy', 'Sci-Fi'],\n",
       " ['Drama', 'Mystery', 'Sci-Fi', 'Thriller'],\n",
       " ['Action', 'Adventure', 'Sci-Fi'],\n",
       " ['Action', 'Horror'],\n",
       " ['Biography', 'Drama']]"
      ]
     },
     "execution_count": 38,
     "metadata": {},
     "output_type": "execute_result"
    }
   ],
   "source": [
    "IMDb_genre_list"
   ]
  },
  {
   "cell_type": "markdown",
   "metadata": {},
   "source": [
    "#### Comparing TMDb and IMDb genre labels:"
   ]
  },
  {
   "cell_type": "code",
   "execution_count": null,
   "metadata": {
    "collapsed": true
   },
   "outputs": [],
   "source": []
  },
  {
   "cell_type": "code",
   "execution_count": null,
   "metadata": {
    "collapsed": true
   },
   "outputs": [],
   "source": []
  },
  {
   "cell_type": "markdown",
   "metadata": {},
   "source": [
    "_______________________\n",
    "\n",
    "### 1.2 Larger Scale: Extract Top 500 Movie\n",
    "We import the list of top 500 movies from TMDb and extract infomation for these movies from the IMDb database. We use this data in our exploratory data analysis in section 2."
   ]
  },
  {
   "cell_type": "markdown",
   "metadata": {},
   "source": [
    "#### 1.2.1 Extract Top 500 Movie from TMDB"
   ]
  },
  {
   "cell_type": "code",
   "execution_count": 39,
   "metadata": {
    "collapsed": true
   },
   "outputs": [],
   "source": [
    "# get top 500 popular movies ID, to be used for further search of IMDB ID\n",
    "number_page = 0\n",
    "movie_id_list = []\n",
    "for i in range(1, 26):\n",
    "    popular_movies =  base_url_search + APIKeyZ + popular_desc + page_number.format(i)\n",
    "    page = urllib.urlopen(popular_movies).read()\n",
    "    soup = BeautifulSoup(page, \"lxml\")\n",
    "    prettified = soup.prettify()\n",
    "    movie_list = [m.start() for m in re.finditer('\"id\"', prettified)] # this finds all indexes of occurences of \"id\"\n",
    "    \n",
    "    for j in range(len(movie_list)):\n",
    "        j_beginning = 5\n",
    "        movie_id_temp = ''\n",
    "        while (prettified[movie_list[j] + j_beginning].isdigit()):\n",
    "            movie_id_temp += str(prettified[movie_list[j] + j_beginning])\n",
    "            j_beginning += 1\n",
    "        movie_id_list += [int(movie_id_temp)]\n",
    "    if i % 40 == 0:\n",
    "        time.sleep(10)\n",
    "    "
   ]
  },
  {
   "cell_type": "code",
   "execution_count": 40,
   "metadata": {
    "collapsed": true
   },
   "outputs": [],
   "source": [
    "# query each movie by TMDB ID and get IMDB ID\n",
    "movie_id_list_IMDB = []\n",
    "for i in range(len(movie_id_list)):\n",
    "    page_url = query_url.format(movie_id_list[i]) + APIKeyZ\n",
    "    page = urllib.urlopen(page_url).read()\n",
    "    soup = BeautifulSoup(page, \"lxml\")\n",
    "    prettified = soup.prettify()\n",
    "    imdb_id_index = prettified.find('\"imdb_id\"')\n",
    "    j_beginning = 13\n",
    "    movie_id_temp = ''\n",
    "    while (prettified[prettified.find('\"imdb_id\"') + j_beginning].isdigit()):\n",
    "        movie_id_temp += str(prettified[prettified.find('\"imdb_id\"') + j_beginning])\n",
    "        j_beginning += 1\n",
    "    movie_id_list_IMDB += [movie_id_temp]\n",
    "    if i % 40 == 39:\n",
    "        time.sleep(10.1)"
   ]
  },
  {
   "cell_type": "code",
   "execution_count": 41,
   "metadata": {
    "collapsed": true
   },
   "outputs": [],
   "source": [
    "# Write out movie TMDB IDs\n",
    "thefile = open('popular_tmdb_id.txt', 'w')\n",
    "for item in movie_id_list:\n",
    "    thefile.write(\"%s\\n\" % item)\n",
    "thefile.close()"
   ]
  },
  {
   "cell_type": "code",
   "execution_count": 42,
   "metadata": {
    "collapsed": true
   },
   "outputs": [],
   "source": [
    "# Write out movie IMDB IDs \n",
    "thefile = open('popular_imdb_id.txt', 'w')\n",
    "for item in movie_id_list_IMDB:\n",
    "    thefile.write(\"%s\\n\" % item)\n",
    "thefile.close()"
   ]
  },
  {
   "cell_type": "code",
   "execution_count": 43,
   "metadata": {
    "collapsed": true
   },
   "outputs": [],
   "source": [
    "# search one movie by ID and create list of column names\n",
    "movie = tmdb.Movies(movie_id_list[0])\n",
    "response = movie.info()\n",
    "columns = []\n",
    "for i in range(len(response)):\n",
    "    column_temp = [str(response.items()[i][0])]\n",
    "    columns += column_temp"
   ]
  },
  {
   "cell_type": "code",
   "execution_count": 44,
   "metadata": {
    "collapsed": true
   },
   "outputs": [],
   "source": [
    "# create a dataframe to store information of top 500 popular movies\n",
    "index = range(0, len(movie_id_list)) \n",
    "df = pd.DataFrame(index = index, columns=columns)\n",
    "df = df.fillna(0)"
   ]
  },
  {
   "cell_type": "code",
   "execution_count": 45,
   "metadata": {
    "collapsed": false
   },
   "outputs": [
    {
     "data": {
      "text/html": [
       "<div>\n",
       "<table border=\"1\" class=\"dataframe\">\n",
       "  <thead>\n",
       "    <tr style=\"text-align: right;\">\n",
       "      <th></th>\n",
       "      <th>poster_path</th>\n",
       "      <th>production_countries</th>\n",
       "      <th>revenue</th>\n",
       "      <th>overview</th>\n",
       "      <th>video</th>\n",
       "      <th>id</th>\n",
       "      <th>genres</th>\n",
       "      <th>title</th>\n",
       "      <th>tagline</th>\n",
       "      <th>vote_count</th>\n",
       "      <th>...</th>\n",
       "      <th>imdb_id</th>\n",
       "      <th>adult</th>\n",
       "      <th>backdrop_path</th>\n",
       "      <th>production_companies</th>\n",
       "      <th>release_date</th>\n",
       "      <th>popularity</th>\n",
       "      <th>original_title</th>\n",
       "      <th>budget</th>\n",
       "      <th>vote_average</th>\n",
       "      <th>runtime</th>\n",
       "    </tr>\n",
       "  </thead>\n",
       "  <tbody>\n",
       "    <tr>\n",
       "      <th>0</th>\n",
       "      <td>/tWqifoYuwLETmmasnGHO7xBjEtt.jpg</td>\n",
       "      <td>[u'United States of America']</td>\n",
       "      <td>886404735</td>\n",
       "      <td>A live-action adaptation of Disney's version o...</td>\n",
       "      <td>False</td>\n",
       "      <td>321612</td>\n",
       "      <td>[u'Fantasy', u'Music', u'Romance']</td>\n",
       "      <td>Beauty and the Beast</td>\n",
       "      <td>Be our guest.</td>\n",
       "      <td>1287</td>\n",
       "      <td>...</td>\n",
       "      <td>tt2771200</td>\n",
       "      <td>False</td>\n",
       "      <td>/6aUWe0GSl69wMTSWWexsorMIvwU.jpg</td>\n",
       "      <td>[u'Walt Disney Pictures', u'Mandeville Films']</td>\n",
       "      <td>2017-03-17</td>\n",
       "      <td>180.799244</td>\n",
       "      <td>Beauty and the Beast</td>\n",
       "      <td>160000000</td>\n",
       "      <td>7.1</td>\n",
       "      <td>129</td>\n",
       "    </tr>\n",
       "    <tr>\n",
       "      <th>1</th>\n",
       "      <td>/45Y1G5FEgttPAwjTYic6czC9xCn.jpg</td>\n",
       "      <td>[u'United States of America']</td>\n",
       "      <td>586061420</td>\n",
       "      <td>In the near future, a weary Logan cares for an...</td>\n",
       "      <td>False</td>\n",
       "      <td>263115</td>\n",
       "      <td>[u'Action', u'Drama', u'Science Fiction']</td>\n",
       "      <td>Logan</td>\n",
       "      <td>His Time Has Come</td>\n",
       "      <td>2124</td>\n",
       "      <td>...</td>\n",
       "      <td>tt3315342</td>\n",
       "      <td>False</td>\n",
       "      <td>/5pAGnkFYSsFJ99ZxDIYnhQbQFXs.jpg</td>\n",
       "      <td>[u'Twentieth Century Fox Film Corporation', u\"...</td>\n",
       "      <td>2017-02-28</td>\n",
       "      <td>111.854142</td>\n",
       "      <td>Logan</td>\n",
       "      <td>97000000</td>\n",
       "      <td>7.6</td>\n",
       "      <td>141</td>\n",
       "    </tr>\n",
       "    <tr>\n",
       "      <th>2</th>\n",
       "      <td>/s9ye87pvq2IaDvjv9x4IOXVjvA7.jpg</td>\n",
       "      <td>[u'United States of America']</td>\n",
       "      <td>601303829</td>\n",
       "      <td>A koala named Buster recruits his best friend ...</td>\n",
       "      <td>False</td>\n",
       "      <td>335797</td>\n",
       "      <td>[u'Animation', u'Comedy', u'Drama', u'Family',...</td>\n",
       "      <td>Sing</td>\n",
       "      <td>Auditions begin 2016.</td>\n",
       "      <td>1022</td>\n",
       "      <td>...</td>\n",
       "      <td>tt3470600</td>\n",
       "      <td>False</td>\n",
       "      <td>/fxDXp8un4qNY9b1dLd7SH6CKzC.jpg</td>\n",
       "      <td>[u'Universal Pictures', u'Fuji Television Netw...</td>\n",
       "      <td>2016-11-23</td>\n",
       "      <td>75.005907</td>\n",
       "      <td>Sing</td>\n",
       "      <td>75000000</td>\n",
       "      <td>6.7</td>\n",
       "      <td>108</td>\n",
       "    </tr>\n",
       "    <tr>\n",
       "      <th>3</th>\n",
       "      <td>/5wBbdNb0NdGiZQJYoKHRv6VbiOr.jpg</td>\n",
       "      <td>[u'United States of America']</td>\n",
       "      <td>479628833</td>\n",
       "      <td>Explore the mysterious and dangerous home of t...</td>\n",
       "      <td>False</td>\n",
       "      <td>293167</td>\n",
       "      <td>[u'Science Fiction', u'Action', u'Adventure', ...</td>\n",
       "      <td>Kong: Skull Island</td>\n",
       "      <td>All hail the king</td>\n",
       "      <td>889</td>\n",
       "      <td>...</td>\n",
       "      <td>tt3731562</td>\n",
       "      <td>False</td>\n",
       "      <td>/pGwChWiAY1bdoxL79sXmaFBlYJH.jpg</td>\n",
       "      <td>[u'Warner Bros.', u'Legendary Entertainment']</td>\n",
       "      <td>2017-03-08</td>\n",
       "      <td>56.579741</td>\n",
       "      <td>Kong: Skull Island</td>\n",
       "      <td>190000000</td>\n",
       "      <td>6.1</td>\n",
       "      <td>118</td>\n",
       "    </tr>\n",
       "    <tr>\n",
       "      <th>4</th>\n",
       "      <td>/myRzRzCxdfUWjkJWgpHHZ1oGkJd.jpg</td>\n",
       "      <td>[u'United States of America']</td>\n",
       "      <td>60100336</td>\n",
       "      <td>In the near future, Major is the first of her ...</td>\n",
       "      <td>False</td>\n",
       "      <td>315837</td>\n",
       "      <td>[u'Action', u'Drama', u'Science Fiction']</td>\n",
       "      <td>Ghost in the Shell</td>\n",
       "      <td></td>\n",
       "      <td>264</td>\n",
       "      <td>...</td>\n",
       "      <td>tt1219827</td>\n",
       "      <td>False</td>\n",
       "      <td>/lsRhmB7m36pEX0UHpkpJSE48BW5.jpg</td>\n",
       "      <td>[u'Paramount Pictures', u'DreamWorks SKG', u'G...</td>\n",
       "      <td>2017-03-29</td>\n",
       "      <td>52.868110</td>\n",
       "      <td>Ghost in the Shell</td>\n",
       "      <td>110000000</td>\n",
       "      <td>6.4</td>\n",
       "      <td>106</td>\n",
       "    </tr>\n",
       "  </tbody>\n",
       "</table>\n",
       "<p>5 rows × 25 columns</p>\n",
       "</div>"
      ],
      "text/plain": [
       "                        poster_path           production_countries    revenue  \\\n",
       "0  /tWqifoYuwLETmmasnGHO7xBjEtt.jpg  [u'United States of America']  886404735   \n",
       "1  /45Y1G5FEgttPAwjTYic6czC9xCn.jpg  [u'United States of America']  586061420   \n",
       "2  /s9ye87pvq2IaDvjv9x4IOXVjvA7.jpg  [u'United States of America']  601303829   \n",
       "3  /5wBbdNb0NdGiZQJYoKHRv6VbiOr.jpg  [u'United States of America']  479628833   \n",
       "4  /myRzRzCxdfUWjkJWgpHHZ1oGkJd.jpg  [u'United States of America']   60100336   \n",
       "\n",
       "                                            overview  video      id  \\\n",
       "0  A live-action adaptation of Disney's version o...  False  321612   \n",
       "1  In the near future, a weary Logan cares for an...  False  263115   \n",
       "2  A koala named Buster recruits his best friend ...  False  335797   \n",
       "3  Explore the mysterious and dangerous home of t...  False  293167   \n",
       "4  In the near future, Major is the first of her ...  False  315837   \n",
       "\n",
       "                                              genres                 title  \\\n",
       "0                 [u'Fantasy', u'Music', u'Romance']  Beauty and the Beast   \n",
       "1          [u'Action', u'Drama', u'Science Fiction']                 Logan   \n",
       "2  [u'Animation', u'Comedy', u'Drama', u'Family',...                  Sing   \n",
       "3  [u'Science Fiction', u'Action', u'Adventure', ...    Kong: Skull Island   \n",
       "4          [u'Action', u'Drama', u'Science Fiction']    Ghost in the Shell   \n",
       "\n",
       "                 tagline  vote_count   ...      imdb_id  adult  \\\n",
       "0          Be our guest.        1287   ...    tt2771200  False   \n",
       "1      His Time Has Come        2124   ...    tt3315342  False   \n",
       "2  Auditions begin 2016.        1022   ...    tt3470600  False   \n",
       "3      All hail the king         889   ...    tt3731562  False   \n",
       "4                                264   ...    tt1219827  False   \n",
       "\n",
       "                      backdrop_path  \\\n",
       "0  /6aUWe0GSl69wMTSWWexsorMIvwU.jpg   \n",
       "1  /5pAGnkFYSsFJ99ZxDIYnhQbQFXs.jpg   \n",
       "2   /fxDXp8un4qNY9b1dLd7SH6CKzC.jpg   \n",
       "3  /pGwChWiAY1bdoxL79sXmaFBlYJH.jpg   \n",
       "4  /lsRhmB7m36pEX0UHpkpJSE48BW5.jpg   \n",
       "\n",
       "                                production_companies release_date  popularity  \\\n",
       "0     [u'Walt Disney Pictures', u'Mandeville Films']   2017-03-17  180.799244   \n",
       "1  [u'Twentieth Century Fox Film Corporation', u\"...   2017-02-28  111.854142   \n",
       "2  [u'Universal Pictures', u'Fuji Television Netw...   2016-11-23   75.005907   \n",
       "3      [u'Warner Bros.', u'Legendary Entertainment']   2017-03-08   56.579741   \n",
       "4  [u'Paramount Pictures', u'DreamWorks SKG', u'G...   2017-03-29   52.868110   \n",
       "\n",
       "         original_title     budget vote_average runtime  \n",
       "0  Beauty and the Beast  160000000          7.1     129  \n",
       "1                 Logan   97000000          7.6     141  \n",
       "2                  Sing   75000000          6.7     108  \n",
       "3    Kong: Skull Island  190000000          6.1     118  \n",
       "4    Ghost in the Shell  110000000          6.4     106  \n",
       "\n",
       "[5 rows x 25 columns]"
      ]
     },
     "execution_count": 45,
     "metadata": {},
     "output_type": "execute_result"
    }
   ],
   "source": [
    "# store information into dataframe, some information received is stroed as a list thus we convert it into strings\n",
    "for i in range(len(index)):\n",
    "    movie = tmdb.Movies(movie_id_list[i])\n",
    "    response = movie.info()\n",
    "    if i % 40 == 39:\n",
    "        time.sleep(11)\n",
    "    for j in range(0, len(columns)):\n",
    "        if j == 1:\n",
    "            country_temp = []\n",
    "            for k in range(len(response[columns[j]])):\n",
    "                country_temp += [(response[columns[j]][k]['name'])]\n",
    "            df.iloc[i,j] = str(country_temp)\n",
    "        elif j == 6:\n",
    "            genre_temp = []\n",
    "            for k in range(len(response[columns[j]])):\n",
    "                genre_temp += [(response[columns[j]][k]['name'])]\n",
    "            df.iloc[i,j] = str(genre_temp)\n",
    "        elif j == 11:\n",
    "            if response[columns[j]] != None:\n",
    "                df.iloc[i,j] = str(response[columns[j]])\n",
    "        elif j == 14:\n",
    "            language_temp = []\n",
    "            for k in range(len(response[columns[j]])):\n",
    "                language_temp += [(response[columns[j]][k]['iso_639_1'])]\n",
    "            df.iloc[i,j] = str(language_temp)\n",
    "        elif j == 18:\n",
    "            company_temp = []\n",
    "            for k in range(len(response[columns[j]])):\n",
    "                company_temp += [(response[columns[j]][k]['name'])]\n",
    "            df.iloc[i,j] = str(company_temp)\n",
    "        else:\n",
    "            df.iloc[i,j] = response[columns[j]]\n",
    "df.head()"
   ]
  },
  {
   "cell_type": "code",
   "execution_count": 46,
   "metadata": {
    "collapsed": true
   },
   "outputs": [],
   "source": [
    "# write the dataframe out\n",
    "df.to_csv('TMDb_data.txt', encoding='utf-8')"
   ]
  },
  {
   "cell_type": "markdown",
   "metadata": {},
   "source": [
    "#### 1.2.2 Extract Data of the Same Top 500 Movie from IMDB"
   ]
  },
  {
   "cell_type": "code",
   "execution_count": 25,
   "metadata": {
    "collapsed": true
   },
   "outputs": [],
   "source": [
    "# Import TMDb top 500 movies using imdb_ids\n",
    "id_list = pd.read_csv('popular_imdb_id.txt', header=None)\n",
    "ID = np.array(id_list)"
   ]
  },
  {
   "cell_type": "code",
   "execution_count": 26,
   "metadata": {
    "collapsed": true
   },
   "outputs": [],
   "source": [
    "# Prepare an empty dataframe to record data \n",
    "# Among the different variables, we select the following variables of interest in our analysis  \n",
    "columns = ['title','genres', 'director', 'distributors', 'year', 'rating', 'votes', 'runtimes', \n",
    "          'language codes', 'languages', 'producer', 'mpaa', 'writer', 'top 250 rank', 'kind', \n",
    "           'country codes', 'countries', 'cover url', 'aspect_ratio', 'production companies', \n",
    "           'cinematographer', 'plot outline', 'plot', 'cast', 'animation department', 'original music',\n",
    "           'canonical title', 'editorial department', 'canonical title', 'long imdb title',\n",
    "           'long imdb canonical title', 'smart canonical title', 'smart long imdb canonical title',\n",
    "           'full-size cover url']\n",
    "index = range(1, len(ID)+1) \n",
    "\n",
    "df = pd.DataFrame(index = index, columns=columns)\n",
    "df = df.fillna(0)"
   ]
  },
  {
   "cell_type": "code",
   "execution_count": null,
   "metadata": {
    "collapsed": true
   },
   "outputs": [],
   "source": [
    "######################################\n",
    "######################################\n",
    "### DO NOT RUN THIS BLOCK OF CODES ###\n",
    "######################################\n",
    "# Run this block of codes takes a long\n",
    "# time, only do so when IMDb_data.txt\n",
    "# is not availabe locally. \n",
    "######################################\n",
    "######################################\n",
    "\n",
    "\n",
    "# Fill in dataframe df \n",
    "for i in range(0, len(index)):\n",
    "    movie = ia.get_movie(ID[i]) # grab movie data by id\n",
    "    ia.update(movie)\n",
    "    keys = movie.keys() # generate the available keys of this particular movie \n",
    "    \n",
    "    for j in range(0, len(columns)):\n",
    "        if columns[j] in keys:\n",
    "            if type(movie[columns[j]]) == list:\n",
    "                result = str(movie[columns[j]])\n",
    "            else:\n",
    "                result = movie[columns[j]]\n",
    "            df.iloc[i,j] = result\n",
    "        else:\n",
    "            df.iloc[i,j] = 'nan'\n",
    "\n",
    "# add column if IDs to the dataframe\n",
    "df['imdb_ids'] = pd.Series(ID.reshape(500,), index = df.index)\n",
    "\n",
    "# export dataframe to txt file\n",
    "df.to_csv('IMDb_data.txt', encoding='utf-8')"
   ]
  },
  {
   "cell_type": "markdown",
   "metadata": {},
   "source": [
    "----------------------------------------------\n",
    "\n",
    "## 2. Exploratory Analysis "
   ]
  },
  {
   "cell_type": "markdown",
   "metadata": {},
   "source": [
    "Next, we want to take a look the two database about the most popular 500 movies, and perform some exploratory analysis. \n",
    "\n",
    "The data from TMDB is saved locally as \"TMDB_data.txt\", and the data from IMDB is saved locally as \"IMDB.txt\"."
   ]
  },
  {
   "cell_type": "markdown",
   "metadata": {},
   "source": [
    "### 2.1 Genre"
   ]
  },
  {
   "cell_type": "markdown",
   "metadata": {},
   "source": [
    "#### 2.1.1 Genre Information from the IMDB Website"
   ]
  },
  {
   "cell_type": "markdown",
   "metadata": {},
   "source": [
    "We know from the IMDB website (http://www.imdb.com) that the website categorize movies into 27 genres, as seen in the following picture:\n",
    "<img src=\"IMDB_web_genre.PNG\">"
   ]
  },
  {
   "cell_type": "markdown",
   "metadata": {},
   "source": [
    "We saved the information to a local file \"IMDB_web_genre.txt\", and would compare the information on the website to the two dataset we extracted from TMDB and IMDB."
   ]
  },
  {
   "cell_type": "code",
   "execution_count": 27,
   "metadata": {
    "collapsed": false
   },
   "outputs": [
    {
     "ename": "IOError",
     "evalue": "File IMDB_web_genre.csv does not exist",
     "output_type": "error",
     "traceback": [
      "\u001b[0;31m---------------------------------------------------------------------------\u001b[0m",
      "\u001b[0;31mIOError\u001b[0m                                   Traceback (most recent call last)",
      "\u001b[0;32m<ipython-input-27-91b6162f2f2c>\u001b[0m in \u001b[0;36m<module>\u001b[0;34m()\u001b[0m\n\u001b[0;32m----> 1\u001b[0;31m \u001b[0mtop500_IMDB_web\u001b[0m \u001b[0;34m=\u001b[0m \u001b[0mpd\u001b[0m\u001b[0;34m.\u001b[0m\u001b[0mread_csv\u001b[0m\u001b[0;34m(\u001b[0m\u001b[0;34m'IMDB_web_genre.csv'\u001b[0m\u001b[0;34m)\u001b[0m\u001b[0;34m\u001b[0m\u001b[0m\n\u001b[0m",
      "\u001b[0;32m/Users/wdq/anaconda2/lib/python2.7/site-packages/pandas/io/parsers.pyc\u001b[0m in \u001b[0;36mparser_f\u001b[0;34m(filepath_or_buffer, sep, delimiter, header, names, index_col, usecols, squeeze, prefix, mangle_dupe_cols, dtype, engine, converters, true_values, false_values, skipinitialspace, skiprows, skipfooter, nrows, na_values, keep_default_na, na_filter, verbose, skip_blank_lines, parse_dates, infer_datetime_format, keep_date_col, date_parser, dayfirst, iterator, chunksize, compression, thousands, decimal, lineterminator, quotechar, quoting, escapechar, comment, encoding, dialect, tupleize_cols, error_bad_lines, warn_bad_lines, skip_footer, doublequote, delim_whitespace, as_recarray, compact_ints, use_unsigned, low_memory, buffer_lines, memory_map, float_precision)\u001b[0m\n\u001b[1;32m    560\u001b[0m                     skip_blank_lines=skip_blank_lines)\n\u001b[1;32m    561\u001b[0m \u001b[0;34m\u001b[0m\u001b[0m\n\u001b[0;32m--> 562\u001b[0;31m         \u001b[0;32mreturn\u001b[0m \u001b[0m_read\u001b[0m\u001b[0;34m(\u001b[0m\u001b[0mfilepath_or_buffer\u001b[0m\u001b[0;34m,\u001b[0m \u001b[0mkwds\u001b[0m\u001b[0;34m)\u001b[0m\u001b[0;34m\u001b[0m\u001b[0m\n\u001b[0m\u001b[1;32m    563\u001b[0m \u001b[0;34m\u001b[0m\u001b[0m\n\u001b[1;32m    564\u001b[0m     \u001b[0mparser_f\u001b[0m\u001b[0;34m.\u001b[0m\u001b[0m__name__\u001b[0m \u001b[0;34m=\u001b[0m \u001b[0mname\u001b[0m\u001b[0;34m\u001b[0m\u001b[0m\n",
      "\u001b[0;32m/Users/wdq/anaconda2/lib/python2.7/site-packages/pandas/io/parsers.pyc\u001b[0m in \u001b[0;36m_read\u001b[0;34m(filepath_or_buffer, kwds)\u001b[0m\n\u001b[1;32m    313\u001b[0m \u001b[0;34m\u001b[0m\u001b[0m\n\u001b[1;32m    314\u001b[0m     \u001b[0;31m# Create the parser.\u001b[0m\u001b[0;34m\u001b[0m\u001b[0;34m\u001b[0m\u001b[0m\n\u001b[0;32m--> 315\u001b[0;31m     \u001b[0mparser\u001b[0m \u001b[0;34m=\u001b[0m \u001b[0mTextFileReader\u001b[0m\u001b[0;34m(\u001b[0m\u001b[0mfilepath_or_buffer\u001b[0m\u001b[0;34m,\u001b[0m \u001b[0;34m**\u001b[0m\u001b[0mkwds\u001b[0m\u001b[0;34m)\u001b[0m\u001b[0;34m\u001b[0m\u001b[0m\n\u001b[0m\u001b[1;32m    316\u001b[0m \u001b[0;34m\u001b[0m\u001b[0m\n\u001b[1;32m    317\u001b[0m     \u001b[0;32mif\u001b[0m \u001b[0;34m(\u001b[0m\u001b[0mnrows\u001b[0m \u001b[0;32mis\u001b[0m \u001b[0;32mnot\u001b[0m \u001b[0mNone\u001b[0m\u001b[0;34m)\u001b[0m \u001b[0;32mand\u001b[0m \u001b[0;34m(\u001b[0m\u001b[0mchunksize\u001b[0m \u001b[0;32mis\u001b[0m \u001b[0;32mnot\u001b[0m \u001b[0mNone\u001b[0m\u001b[0;34m)\u001b[0m\u001b[0;34m:\u001b[0m\u001b[0;34m\u001b[0m\u001b[0m\n",
      "\u001b[0;32m/Users/wdq/anaconda2/lib/python2.7/site-packages/pandas/io/parsers.pyc\u001b[0m in \u001b[0;36m__init__\u001b[0;34m(self, f, engine, **kwds)\u001b[0m\n\u001b[1;32m    643\u001b[0m             \u001b[0mself\u001b[0m\u001b[0;34m.\u001b[0m\u001b[0moptions\u001b[0m\u001b[0;34m[\u001b[0m\u001b[0;34m'has_index_names'\u001b[0m\u001b[0;34m]\u001b[0m \u001b[0;34m=\u001b[0m \u001b[0mkwds\u001b[0m\u001b[0;34m[\u001b[0m\u001b[0;34m'has_index_names'\u001b[0m\u001b[0;34m]\u001b[0m\u001b[0;34m\u001b[0m\u001b[0m\n\u001b[1;32m    644\u001b[0m \u001b[0;34m\u001b[0m\u001b[0m\n\u001b[0;32m--> 645\u001b[0;31m         \u001b[0mself\u001b[0m\u001b[0;34m.\u001b[0m\u001b[0m_make_engine\u001b[0m\u001b[0;34m(\u001b[0m\u001b[0mself\u001b[0m\u001b[0;34m.\u001b[0m\u001b[0mengine\u001b[0m\u001b[0;34m)\u001b[0m\u001b[0;34m\u001b[0m\u001b[0m\n\u001b[0m\u001b[1;32m    646\u001b[0m \u001b[0;34m\u001b[0m\u001b[0m\n\u001b[1;32m    647\u001b[0m     \u001b[0;32mdef\u001b[0m \u001b[0mclose\u001b[0m\u001b[0;34m(\u001b[0m\u001b[0mself\u001b[0m\u001b[0;34m)\u001b[0m\u001b[0;34m:\u001b[0m\u001b[0;34m\u001b[0m\u001b[0m\n",
      "\u001b[0;32m/Users/wdq/anaconda2/lib/python2.7/site-packages/pandas/io/parsers.pyc\u001b[0m in \u001b[0;36m_make_engine\u001b[0;34m(self, engine)\u001b[0m\n\u001b[1;32m    797\u001b[0m     \u001b[0;32mdef\u001b[0m \u001b[0m_make_engine\u001b[0m\u001b[0;34m(\u001b[0m\u001b[0mself\u001b[0m\u001b[0;34m,\u001b[0m \u001b[0mengine\u001b[0m\u001b[0;34m=\u001b[0m\u001b[0;34m'c'\u001b[0m\u001b[0;34m)\u001b[0m\u001b[0;34m:\u001b[0m\u001b[0;34m\u001b[0m\u001b[0m\n\u001b[1;32m    798\u001b[0m         \u001b[0;32mif\u001b[0m \u001b[0mengine\u001b[0m \u001b[0;34m==\u001b[0m \u001b[0;34m'c'\u001b[0m\u001b[0;34m:\u001b[0m\u001b[0;34m\u001b[0m\u001b[0m\n\u001b[0;32m--> 799\u001b[0;31m             \u001b[0mself\u001b[0m\u001b[0;34m.\u001b[0m\u001b[0m_engine\u001b[0m \u001b[0;34m=\u001b[0m \u001b[0mCParserWrapper\u001b[0m\u001b[0;34m(\u001b[0m\u001b[0mself\u001b[0m\u001b[0;34m.\u001b[0m\u001b[0mf\u001b[0m\u001b[0;34m,\u001b[0m \u001b[0;34m**\u001b[0m\u001b[0mself\u001b[0m\u001b[0;34m.\u001b[0m\u001b[0moptions\u001b[0m\u001b[0;34m)\u001b[0m\u001b[0;34m\u001b[0m\u001b[0m\n\u001b[0m\u001b[1;32m    800\u001b[0m         \u001b[0;32melse\u001b[0m\u001b[0;34m:\u001b[0m\u001b[0;34m\u001b[0m\u001b[0m\n\u001b[1;32m    801\u001b[0m             \u001b[0;32mif\u001b[0m \u001b[0mengine\u001b[0m \u001b[0;34m==\u001b[0m \u001b[0;34m'python'\u001b[0m\u001b[0;34m:\u001b[0m\u001b[0;34m\u001b[0m\u001b[0m\n",
      "\u001b[0;32m/Users/wdq/anaconda2/lib/python2.7/site-packages/pandas/io/parsers.pyc\u001b[0m in \u001b[0;36m__init__\u001b[0;34m(self, src, **kwds)\u001b[0m\n\u001b[1;32m   1211\u001b[0m         \u001b[0mkwds\u001b[0m\u001b[0;34m[\u001b[0m\u001b[0;34m'allow_leading_cols'\u001b[0m\u001b[0;34m]\u001b[0m \u001b[0;34m=\u001b[0m \u001b[0mself\u001b[0m\u001b[0;34m.\u001b[0m\u001b[0mindex_col\u001b[0m \u001b[0;32mis\u001b[0m \u001b[0;32mnot\u001b[0m \u001b[0mFalse\u001b[0m\u001b[0;34m\u001b[0m\u001b[0m\n\u001b[1;32m   1212\u001b[0m \u001b[0;34m\u001b[0m\u001b[0m\n\u001b[0;32m-> 1213\u001b[0;31m         \u001b[0mself\u001b[0m\u001b[0;34m.\u001b[0m\u001b[0m_reader\u001b[0m \u001b[0;34m=\u001b[0m \u001b[0m_parser\u001b[0m\u001b[0;34m.\u001b[0m\u001b[0mTextReader\u001b[0m\u001b[0;34m(\u001b[0m\u001b[0msrc\u001b[0m\u001b[0;34m,\u001b[0m \u001b[0;34m**\u001b[0m\u001b[0mkwds\u001b[0m\u001b[0;34m)\u001b[0m\u001b[0;34m\u001b[0m\u001b[0m\n\u001b[0m\u001b[1;32m   1214\u001b[0m \u001b[0;34m\u001b[0m\u001b[0m\n\u001b[1;32m   1215\u001b[0m         \u001b[0;31m# XXX\u001b[0m\u001b[0;34m\u001b[0m\u001b[0;34m\u001b[0m\u001b[0m\n",
      "\u001b[0;32mpandas/parser.pyx\u001b[0m in \u001b[0;36mpandas.parser.TextReader.__cinit__ (pandas/parser.c:3427)\u001b[0;34m()\u001b[0m\n",
      "\u001b[0;32mpandas/parser.pyx\u001b[0m in \u001b[0;36mpandas.parser.TextReader._setup_parser_source (pandas/parser.c:6861)\u001b[0;34m()\u001b[0m\n",
      "\u001b[0;31mIOError\u001b[0m: File IMDB_web_genre.csv does not exist"
     ]
    }
   ],
   "source": [
    "top500_IMDB_web = pd.read_csv('IMDB_web_genre.csv')"
   ]
  },
  {
   "cell_type": "code",
   "execution_count": 15,
   "metadata": {
    "collapsed": false
   },
   "outputs": [
    {
     "data": {
      "text/html": [
       "<div>\n",
       "<table border=\"1\" class=\"dataframe\">\n",
       "  <thead>\n",
       "    <tr style=\"text-align: right;\">\n",
       "      <th></th>\n",
       "      <th>Genre</th>\n",
       "      <th>Count</th>\n",
       "    </tr>\n",
       "  </thead>\n",
       "  <tbody>\n",
       "    <tr>\n",
       "      <th>0</th>\n",
       "      <td>Drama</td>\n",
       "      <td>1027694</td>\n",
       "    </tr>\n",
       "    <tr>\n",
       "      <th>1</th>\n",
       "      <td>Romance</td>\n",
       "      <td>279500</td>\n",
       "    </tr>\n",
       "    <tr>\n",
       "      <th>2</th>\n",
       "      <td>Short</td>\n",
       "      <td>171957</td>\n",
       "    </tr>\n",
       "    <tr>\n",
       "      <th>3</th>\n",
       "      <td>Comedy</td>\n",
       "      <td>149370</td>\n",
       "    </tr>\n",
       "    <tr>\n",
       "      <th>4</th>\n",
       "      <td>Crime</td>\n",
       "      <td>113705</td>\n",
       "    </tr>\n",
       "  </tbody>\n",
       "</table>\n",
       "</div>"
      ],
      "text/plain": [
       "     Genre    Count\n",
       "0    Drama  1027694\n",
       "1  Romance   279500\n",
       "2    Short   171957\n",
       "3   Comedy   149370\n",
       "4    Crime   113705"
      ]
     },
     "execution_count": 15,
     "metadata": {},
     "output_type": "execute_result"
    }
   ],
   "source": [
    "top500_IMDB_web.head()"
   ]
  },
  {
   "cell_type": "markdown",
   "metadata": {},
   "source": [
    "---\n",
    "#### 2.1.2 Genre Information from the IMDB Database\n",
    "Next we calculate the genre information from the [top 500 movie data] (saved as \"IMDB_data.txt\") sampled from IMDB database."
   ]
  },
  {
   "cell_type": "code",
   "execution_count": 28,
   "metadata": {
    "collapsed": false
   },
   "outputs": [
    {
     "data": {
      "text/plain": [
       "array(['Unnamed: 0', 'title', 'genres', 'director', 'distributors', 'year',\n",
       "       'rating', 'votes', 'runtimes', 'language codes', 'languages',\n",
       "       'producer', 'mpaa', 'writer', 'top 250 rank', 'kind',\n",
       "       'country codes', 'countries', 'cover url', 'aspect_ratio',\n",
       "       'production companies', 'cinematographer', 'plot outline', 'plot',\n",
       "       'cast', 'animation department', 'original music', 'canonical title',\n",
       "       'editorial department', 'canonical title.1', 'long imdb title',\n",
       "       'long imdb canonical title', 'smart canonical title',\n",
       "       'smart long imdb canonical title', 'full-size cover url', 'imdb_ids'], dtype=object)"
      ]
     },
     "execution_count": 28,
     "metadata": {},
     "output_type": "execute_result"
    }
   ],
   "source": [
    "## data frame extracted from IMDB by movieID (top-500 in TMDB)\n",
    "top500_IMDB = pd.read_csv(\"IMDB_data.txt\")\n",
    "\n",
    "top500_IMDB.columns.values"
   ]
  },
  {
   "cell_type": "markdown",
   "metadata": {},
   "source": [
    "#### Parse `genres` into dummy coding\n"
   ]
  },
  {
   "cell_type": "code",
   "execution_count": 29,
   "metadata": {
    "collapsed": false
   },
   "outputs": [
    {
     "data": {
      "text/html": [
       "<div>\n",
       "<table border=\"1\" class=\"dataframe\">\n",
       "  <thead>\n",
       "    <tr style=\"text-align: right;\">\n",
       "      <th></th>\n",
       "      <th>Action</th>\n",
       "      <th>Adult</th>\n",
       "      <th>Adventure</th>\n",
       "      <th>Animation</th>\n",
       "      <th>Biography</th>\n",
       "      <th>Comedy</th>\n",
       "      <th>Crime</th>\n",
       "      <th>Documentary</th>\n",
       "      <th>Drama</th>\n",
       "      <th>Family</th>\n",
       "      <th>...</th>\n",
       "      <th>Musical</th>\n",
       "      <th>Mystery</th>\n",
       "      <th>Romance</th>\n",
       "      <th>Sci-Fi</th>\n",
       "      <th>Short</th>\n",
       "      <th>Sport</th>\n",
       "      <th>Thriller</th>\n",
       "      <th>War</th>\n",
       "      <th>Western</th>\n",
       "      <th>imdb_id</th>\n",
       "    </tr>\n",
       "  </thead>\n",
       "  <tbody>\n",
       "    <tr>\n",
       "      <th>0</th>\n",
       "      <td>0</td>\n",
       "      <td>0</td>\n",
       "      <td>0</td>\n",
       "      <td>0</td>\n",
       "      <td>0</td>\n",
       "      <td>0</td>\n",
       "      <td>0</td>\n",
       "      <td>0</td>\n",
       "      <td>0</td>\n",
       "      <td>1</td>\n",
       "      <td>...</td>\n",
       "      <td>1</td>\n",
       "      <td>0</td>\n",
       "      <td>1</td>\n",
       "      <td>0</td>\n",
       "      <td>0</td>\n",
       "      <td>0</td>\n",
       "      <td>0</td>\n",
       "      <td>0</td>\n",
       "      <td>0</td>\n",
       "      <td>2771200</td>\n",
       "    </tr>\n",
       "    <tr>\n",
       "      <th>1</th>\n",
       "      <td>1</td>\n",
       "      <td>0</td>\n",
       "      <td>0</td>\n",
       "      <td>0</td>\n",
       "      <td>0</td>\n",
       "      <td>0</td>\n",
       "      <td>0</td>\n",
       "      <td>0</td>\n",
       "      <td>1</td>\n",
       "      <td>0</td>\n",
       "      <td>...</td>\n",
       "      <td>0</td>\n",
       "      <td>0</td>\n",
       "      <td>0</td>\n",
       "      <td>1</td>\n",
       "      <td>0</td>\n",
       "      <td>0</td>\n",
       "      <td>1</td>\n",
       "      <td>0</td>\n",
       "      <td>0</td>\n",
       "      <td>3315342</td>\n",
       "    </tr>\n",
       "    <tr>\n",
       "      <th>2</th>\n",
       "      <td>0</td>\n",
       "      <td>0</td>\n",
       "      <td>0</td>\n",
       "      <td>1</td>\n",
       "      <td>0</td>\n",
       "      <td>1</td>\n",
       "      <td>0</td>\n",
       "      <td>0</td>\n",
       "      <td>0</td>\n",
       "      <td>1</td>\n",
       "      <td>...</td>\n",
       "      <td>0</td>\n",
       "      <td>0</td>\n",
       "      <td>0</td>\n",
       "      <td>0</td>\n",
       "      <td>0</td>\n",
       "      <td>0</td>\n",
       "      <td>0</td>\n",
       "      <td>0</td>\n",
       "      <td>0</td>\n",
       "      <td>3470600</td>\n",
       "    </tr>\n",
       "    <tr>\n",
       "      <th>3</th>\n",
       "      <td>1</td>\n",
       "      <td>0</td>\n",
       "      <td>1</td>\n",
       "      <td>0</td>\n",
       "      <td>0</td>\n",
       "      <td>0</td>\n",
       "      <td>0</td>\n",
       "      <td>0</td>\n",
       "      <td>0</td>\n",
       "      <td>0</td>\n",
       "      <td>...</td>\n",
       "      <td>0</td>\n",
       "      <td>0</td>\n",
       "      <td>0</td>\n",
       "      <td>1</td>\n",
       "      <td>0</td>\n",
       "      <td>0</td>\n",
       "      <td>0</td>\n",
       "      <td>0</td>\n",
       "      <td>0</td>\n",
       "      <td>3731562</td>\n",
       "    </tr>\n",
       "    <tr>\n",
       "      <th>4</th>\n",
       "      <td>1</td>\n",
       "      <td>0</td>\n",
       "      <td>1</td>\n",
       "      <td>0</td>\n",
       "      <td>0</td>\n",
       "      <td>0</td>\n",
       "      <td>0</td>\n",
       "      <td>0</td>\n",
       "      <td>0</td>\n",
       "      <td>0</td>\n",
       "      <td>...</td>\n",
       "      <td>0</td>\n",
       "      <td>0</td>\n",
       "      <td>0</td>\n",
       "      <td>1</td>\n",
       "      <td>0</td>\n",
       "      <td>0</td>\n",
       "      <td>0</td>\n",
       "      <td>0</td>\n",
       "      <td>0</td>\n",
       "      <td>369610</td>\n",
       "    </tr>\n",
       "  </tbody>\n",
       "</table>\n",
       "<p>5 rows × 24 columns</p>\n",
       "</div>"
      ],
      "text/plain": [
       "   Action  Adult  Adventure  Animation  Biography  Comedy  Crime  Documentary  \\\n",
       "0       0      0          0          0          0       0      0            0   \n",
       "1       1      0          0          0          0       0      0            0   \n",
       "2       0      0          0          1          0       1      0            0   \n",
       "3       1      0          1          0          0       0      0            0   \n",
       "4       1      0          1          0          0       0      0            0   \n",
       "\n",
       "   Drama  Family   ...     Musical  Mystery  Romance  Sci-Fi  Short  Sport  \\\n",
       "0      0       1   ...           1        0        1       0      0      0   \n",
       "1      1       0   ...           0        0        0       1      0      0   \n",
       "2      0       1   ...           0        0        0       0      0      0   \n",
       "3      0       0   ...           0        0        0       1      0      0   \n",
       "4      0       0   ...           0        0        0       1      0      0   \n",
       "\n",
       "   Thriller  War  Western  imdb_id  \n",
       "0         0    0        0  2771200  \n",
       "1         1    0        0  3315342  \n",
       "2         0    0        0  3470600  \n",
       "3         0    0        0  3731562  \n",
       "4         0    0        0   369610  \n",
       "\n",
       "[5 rows x 24 columns]"
      ]
     },
     "execution_count": 29,
     "metadata": {},
     "output_type": "execute_result"
    }
   ],
   "source": [
    "## ideally coule package this code into a function of spliting all variables, input:\n",
    "# 1. head and tail characters to delet\n",
    "# 2. split by\n",
    "\n",
    "gr = top500_IMDB.ix[:, 'genres']\n",
    "\n",
    "## Split variable `Genres` into list of strings\n",
    "\n",
    "for i in range(len(gr)):\n",
    "        # each row in 'genres' column\n",
    "    st = gr[i]\n",
    "#### -------------------------- for spliting other variables, change here -------------------------\n",
    "        # delete the first three character \" [u' \", and the last two charactor \" '] \"\n",
    "        # split by \" ' u \"\n",
    "    ls = st[3:-2].split(\"', u'\") \n",
    "        # return a list to the 'genres' column\n",
    "    gr[i] = ls\n",
    "    \n",
    "top500_IMDB_genre = pd.DataFrame(gr)[\"genres\"].str.join(sep='*').str.get_dummies(sep='*')\n",
    "top500_IMDB_genre['imdb_id'] = top500_IMDB['imdb_ids']\n",
    "\n",
    "top500_IMDB_genre.head()"
   ]
  },
  {
   "cell_type": "code",
   "execution_count": 31,
   "metadata": {
    "collapsed": false
   },
   "outputs": [
    {
     "data": {
      "text/plain": [
       "Action       210\n",
       "Adult          1\n",
       "Adventure    220\n",
       "Animation     55\n",
       "Biography     22\n",
       "dtype: int64"
      ]
     },
     "execution_count": 31,
     "metadata": {},
     "output_type": "execute_result"
    }
   ],
   "source": [
    "## count number of labels for each genre\n",
    "top500_IMDB_genre_count = top500_IMDB_genre.sum(axis = 0)\n",
    "top500_IMDB_genre_count.head()"
   ]
  },
  {
   "cell_type": "code",
   "execution_count": 32,
   "metadata": {
    "collapsed": true
   },
   "outputs": [],
   "source": [
    "## save as local files\n",
    "top500_IMDB_genre.to_csv('IMDB_split_genre.txt') # include 'imdb_id'\n",
    "top500_IMDB_genre_count.to_csv('IMDB_split_genre_count.txt')"
   ]
  },
  {
   "cell_type": "markdown",
   "metadata": {},
   "source": [
    "---\n",
    "#### 2.1.2 Genre Information from the TMDB Database\n",
    "Similarly we organize the genre information from the [top 500 movie data] (saved as \"TMDB_data.txt\") sampled from TMDB database."
   ]
  },
  {
   "cell_type": "code",
   "execution_count": 35,
   "metadata": {
    "collapsed": false
   },
   "outputs": [
    {
     "data": {
      "text/plain": [
       "array(['Unnamed: 0', 'poster_path', 'production_countries', 'revenue',\n",
       "       'overview', 'video', 'id', 'genres', 'title', 'tagline',\n",
       "       'vote_count', 'homepage', 'belongs_to_collection',\n",
       "       'original_language', 'status', 'spoken_languages', 'imdb_id',\n",
       "       'adult', 'backdrop_path', 'production_companies', 'release_date',\n",
       "       'popularity', 'original_title', 'budget', 'vote_average', 'runtime'], dtype=object)"
      ]
     },
     "execution_count": 35,
     "metadata": {},
     "output_type": "execute_result"
    }
   ],
   "source": [
    "## data frame extracted from TMDB by movieID\n",
    "top500_TMDB = pd.read_csv(\"TMDB_data.txt\")\n",
    "\n",
    "top500_TMDB.columns.values"
   ]
  },
  {
   "cell_type": "code",
   "execution_count": 36,
   "metadata": {
    "collapsed": false
   },
   "outputs": [
    {
     "data": {
      "text/html": [
       "<div>\n",
       "<table border=\"1\" class=\"dataframe\">\n",
       "  <thead>\n",
       "    <tr style=\"text-align: right;\">\n",
       "      <th></th>\n",
       "      <th>Action</th>\n",
       "      <th>Adventure</th>\n",
       "      <th>Animation</th>\n",
       "      <th>Comedy</th>\n",
       "      <th>Crime</th>\n",
       "      <th>Documentary</th>\n",
       "      <th>Drama</th>\n",
       "      <th>Family</th>\n",
       "      <th>Fantasy</th>\n",
       "      <th>History</th>\n",
       "      <th>Horror</th>\n",
       "      <th>Music</th>\n",
       "      <th>Mystery</th>\n",
       "      <th>Romance</th>\n",
       "      <th>Science Fiction</th>\n",
       "      <th>TV Movie</th>\n",
       "      <th>Thriller</th>\n",
       "      <th>War</th>\n",
       "      <th>Western</th>\n",
       "      <th>imdb_id</th>\n",
       "    </tr>\n",
       "  </thead>\n",
       "  <tbody>\n",
       "    <tr>\n",
       "      <th>0</th>\n",
       "      <td>0</td>\n",
       "      <td>0</td>\n",
       "      <td>0</td>\n",
       "      <td>0</td>\n",
       "      <td>0</td>\n",
       "      <td>0</td>\n",
       "      <td>0</td>\n",
       "      <td>0</td>\n",
       "      <td>1</td>\n",
       "      <td>0</td>\n",
       "      <td>0</td>\n",
       "      <td>1</td>\n",
       "      <td>0</td>\n",
       "      <td>1</td>\n",
       "      <td>0</td>\n",
       "      <td>0</td>\n",
       "      <td>0</td>\n",
       "      <td>0</td>\n",
       "      <td>0</td>\n",
       "      <td>2771200</td>\n",
       "    </tr>\n",
       "    <tr>\n",
       "      <th>1</th>\n",
       "      <td>1</td>\n",
       "      <td>0</td>\n",
       "      <td>0</td>\n",
       "      <td>0</td>\n",
       "      <td>0</td>\n",
       "      <td>0</td>\n",
       "      <td>1</td>\n",
       "      <td>0</td>\n",
       "      <td>0</td>\n",
       "      <td>0</td>\n",
       "      <td>0</td>\n",
       "      <td>0</td>\n",
       "      <td>0</td>\n",
       "      <td>0</td>\n",
       "      <td>1</td>\n",
       "      <td>0</td>\n",
       "      <td>0</td>\n",
       "      <td>0</td>\n",
       "      <td>0</td>\n",
       "      <td>3315342</td>\n",
       "    </tr>\n",
       "    <tr>\n",
       "      <th>2</th>\n",
       "      <td>0</td>\n",
       "      <td>0</td>\n",
       "      <td>1</td>\n",
       "      <td>1</td>\n",
       "      <td>0</td>\n",
       "      <td>0</td>\n",
       "      <td>1</td>\n",
       "      <td>1</td>\n",
       "      <td>0</td>\n",
       "      <td>0</td>\n",
       "      <td>0</td>\n",
       "      <td>1</td>\n",
       "      <td>0</td>\n",
       "      <td>0</td>\n",
       "      <td>0</td>\n",
       "      <td>0</td>\n",
       "      <td>0</td>\n",
       "      <td>0</td>\n",
       "      <td>0</td>\n",
       "      <td>3470600</td>\n",
       "    </tr>\n",
       "    <tr>\n",
       "      <th>3</th>\n",
       "      <td>1</td>\n",
       "      <td>1</td>\n",
       "      <td>0</td>\n",
       "      <td>0</td>\n",
       "      <td>0</td>\n",
       "      <td>0</td>\n",
       "      <td>0</td>\n",
       "      <td>0</td>\n",
       "      <td>1</td>\n",
       "      <td>0</td>\n",
       "      <td>0</td>\n",
       "      <td>0</td>\n",
       "      <td>0</td>\n",
       "      <td>0</td>\n",
       "      <td>1</td>\n",
       "      <td>0</td>\n",
       "      <td>0</td>\n",
       "      <td>0</td>\n",
       "      <td>0</td>\n",
       "      <td>3731562</td>\n",
       "    </tr>\n",
       "    <tr>\n",
       "      <th>4</th>\n",
       "      <td>1</td>\n",
       "      <td>1</td>\n",
       "      <td>0</td>\n",
       "      <td>0</td>\n",
       "      <td>0</td>\n",
       "      <td>0</td>\n",
       "      <td>0</td>\n",
       "      <td>0</td>\n",
       "      <td>0</td>\n",
       "      <td>0</td>\n",
       "      <td>0</td>\n",
       "      <td>0</td>\n",
       "      <td>0</td>\n",
       "      <td>0</td>\n",
       "      <td>1</td>\n",
       "      <td>0</td>\n",
       "      <td>1</td>\n",
       "      <td>0</td>\n",
       "      <td>0</td>\n",
       "      <td>369610</td>\n",
       "    </tr>\n",
       "  </tbody>\n",
       "</table>\n",
       "</div>"
      ],
      "text/plain": [
       "   Action  Adventure  Animation  Comedy  Crime  Documentary  Drama  Family  \\\n",
       "0       0          0          0       0      0            0      0       0   \n",
       "1       1          0          0       0      0            0      1       0   \n",
       "2       0          0          1       1      0            0      1       1   \n",
       "3       1          1          0       0      0            0      0       0   \n",
       "4       1          1          0       0      0            0      0       0   \n",
       "\n",
       "   Fantasy  History  Horror  Music  Mystery  Romance  Science Fiction  \\\n",
       "0        1        0       0      1        0        1                0   \n",
       "1        0        0       0      0        0        0                1   \n",
       "2        0        0       0      1        0        0                0   \n",
       "3        1        0       0      0        0        0                1   \n",
       "4        0        0       0      0        0        0                1   \n",
       "\n",
       "   TV Movie  Thriller  War  Western  imdb_id  \n",
       "0         0         0    0        0  2771200  \n",
       "1         0         0    0        0  3315342  \n",
       "2         0         0    0        0  3470600  \n",
       "3         0         0    0        0  3731562  \n",
       "4         0         1    0        0   369610  "
      ]
     },
     "execution_count": 36,
     "metadata": {},
     "output_type": "execute_result"
    }
   ],
   "source": [
    "## ideally coule package this code into a function of spliting all variables, input:\n",
    "# 1. head and tail characters to delet\n",
    "# 2. split by\n",
    "\n",
    "gr = top500_TMDB.ix[:, 'genres']\n",
    "\n",
    "## Split variable `Genres` into list of strings\n",
    " \n",
    "for i in range(len(gr)):\n",
    "        # each row in 'genres' column\n",
    "    st = gr[i]\n",
    "#### -------------------------- for spliting other variables, change here -------------------------\n",
    "        # delete the first three character \" [u' \", and the last two charactor \" '] \"\n",
    "        # split by \" ' u \"\n",
    "    ls = st[3:-2].split(\"', u'\") \n",
    "        # return a list to the 'genres' column\n",
    "    gr[i] = ls\n",
    "    \n",
    "top500_TMDB_genre = pd.DataFrame(gr)[\"genres\"].str.join(sep='*').str.get_dummies(sep='*')\n",
    "top500_TMDB_genre['imdb_id'] = top500_IMDB['imdb_ids']\n",
    "\n",
    "top500_TMDB_genre.head()"
   ]
  },
  {
   "cell_type": "code",
   "execution_count": 37,
   "metadata": {
    "collapsed": false
   },
   "outputs": [
    {
     "data": {
      "text/plain": [
       "Action       217\n",
       "Adventure    190\n",
       "Animation     54\n",
       "Comedy       101\n",
       "Crime         73\n",
       "dtype: int64"
      ]
     },
     "execution_count": 37,
     "metadata": {},
     "output_type": "execute_result"
    }
   ],
   "source": [
    "## count number of labels for each genre\n",
    "top500_TMDB_genre_count = top500_TMDB_genre.sum(axis = 0)\n",
    "top500_TMDB_genre_count.head()"
   ]
  },
  {
   "cell_type": "code",
   "execution_count": 38,
   "metadata": {
    "collapsed": true
   },
   "outputs": [],
   "source": [
    "## save as local files\n",
    "top500_TMDB_genre.to_csv('TMDB_split_genre.txt') # include 'imdb_id'\n",
    "top500_TMDB_genre_count.to_csv('TMDB_split_genre_count.txt')"
   ]
  },
  {
   "cell_type": "markdown",
   "metadata": {
    "collapsed": true
   },
   "source": [
    "---\n",
    "#### 2.1.3 Basic statistics about genre"
   ]
  },
  {
   "cell_type": "markdown",
   "metadata": {},
   "source": [
    "#### Q. How many genres in total? \n",
    "Check the differences between the three information sources: IMDB website, IMDB database, TMDB database."
   ]
  },
  {
   "cell_type": "code",
   "execution_count": 41,
   "metadata": {
    "collapsed": false
   },
   "outputs": [
    {
     "name": "stdout",
     "output_type": "stream",
     "text": [
      " Total Number of Genres from the IMDB website:"
     ]
    },
    {
     "ename": "NameError",
     "evalue": "name 'top500_IMDB_web' is not defined",
     "output_type": "error",
     "traceback": [
      "\u001b[0;31m---------------------------------------------------------------------------\u001b[0m",
      "\u001b[0;31mNameError\u001b[0m                                 Traceback (most recent call last)",
      "\u001b[0;32m<ipython-input-41-b6b791d27023>\u001b[0m in \u001b[0;36m<module>\u001b[0;34m()\u001b[0m\n\u001b[1;32m      1\u001b[0m \u001b[0;31m## total number of genres\u001b[0m\u001b[0;34m\u001b[0m\u001b[0;34m\u001b[0m\u001b[0m\n\u001b[0;32m----> 2\u001b[0;31m \u001b[0;32mprint\u001b[0m \u001b[0;34m\"Total Number of Genres from the IMDB website:\"\u001b[0m\u001b[0;34m,\u001b[0m \u001b[0mtop500_IMDB_web\u001b[0m\u001b[0;34m.\u001b[0m\u001b[0mshape\u001b[0m\u001b[0;34m[\u001b[0m\u001b[0;36m0\u001b[0m\u001b[0;34m]\u001b[0m\u001b[0;34m\u001b[0m\u001b[0m\n\u001b[0m\u001b[1;32m      3\u001b[0m \u001b[0;32mprint\u001b[0m \u001b[0;34m\"Total Number of Genres from the IMDB database:\"\u001b[0m \u001b[0;34m,\u001b[0m \u001b[0;34m(\u001b[0m\u001b[0mtop500_IMDB_genre\u001b[0m\u001b[0;34m.\u001b[0m\u001b[0mshape\u001b[0m\u001b[0;34m[\u001b[0m\u001b[0;36m1\u001b[0m\u001b[0;34m]\u001b[0m \u001b[0;34m-\u001b[0m \u001b[0;36m1\u001b[0m\u001b[0;34m)\u001b[0m\u001b[0;34m\u001b[0m\u001b[0m\n\u001b[1;32m      4\u001b[0m \u001b[0;32mprint\u001b[0m \u001b[0;34m\"Total Number of Genres from the RMDB database:\"\u001b[0m \u001b[0;34m,\u001b[0m \u001b[0;34m(\u001b[0m\u001b[0mtop500_TMDB_genre\u001b[0m\u001b[0;34m.\u001b[0m\u001b[0mshape\u001b[0m\u001b[0;34m[\u001b[0m\u001b[0;36m1\u001b[0m\u001b[0;34m]\u001b[0m \u001b[0;34m-\u001b[0m \u001b[0;36m1\u001b[0m\u001b[0;34m)\u001b[0m\u001b[0;34m\u001b[0m\u001b[0m\n",
      "\u001b[0;31mNameError\u001b[0m: name 'top500_IMDB_web' is not defined"
     ]
    }
   ],
   "source": [
    "## total number of genres\n",
    "print \"Total Number of Genres from the IMDB website:\", top500_IMDB_web.shape[0]\n",
    "print \"Total Number of Genres from the IMDB database:\" , (top500_IMDB_genre.shape[1] - 1)\n",
    "print \"Total Number of Genres from the RMDB database:\" , (top500_TMDB_genre.shape[1] - 1)"
   ]
  },
  {
   "cell_type": "markdown",
   "metadata": {},
   "source": [
    "#### Q. How many movies for each genre?\n",
    "Check the differences between the three information sources: IMDB website, IMDB database, TMDB database."
   ]
  },
  {
   "cell_type": "code",
   "execution_count": null,
   "metadata": {
    "collapsed": true
   },
   "outputs": [],
   "source": []
  },
  {
   "cell_type": "code",
   "execution_count": 34,
   "metadata": {
    "collapsed": true
   },
   "outputs": [],
   "source": [
    "## number of genres for each movie, saved in variable 'n_genre'\n",
    "top500_IMDB_genre['n_genre'] = top500_IMDB_genre.sum(axis = 1)"
   ]
  },
  {
   "cell_type": "markdown",
   "metadata": {},
   "source": [
    "#### Q. How many genre labels for each movie?\n",
    "Check the differences between the three information sources: IMDB website, IMDB database, TMDB database."
   ]
  },
  {
   "cell_type": "markdown",
   "metadata": {},
   "source": [
    "#### 2.1.2 Heatmap between genrens"
   ]
  },
  {
   "cell_type": "code",
   "execution_count": null,
   "metadata": {
    "collapsed": true
   },
   "outputs": [],
   "source": [
    "###  Zecai"
   ]
  },
  {
   "cell_type": "markdown",
   "metadata": {},
   "source": [
    "### 2.2 Genre vs Other Variables"
   ]
  },
  {
   "cell_type": "markdown",
   "metadata": {},
   "source": [
    "#### 2.2.1 Quantitative:"
   ]
  },
  {
   "cell_type": "markdown",
   "metadata": {},
   "source": [
    "#### A. Year of Release"
   ]
  },
  {
   "cell_type": "code",
   "execution_count": 46,
   "metadata": {
    "collapsed": true
   },
   "outputs": [],
   "source": [
    "## Extracting the year column\n",
    "top500_IMDB_year = top500_IMDB.ix[:, 'year']\n",
    "\n",
    "## Create a new dataframe containing information of genre and year\n",
    "top500_IMDB_genre_year = top500_IMDB_genre.ix[:, :-1].copy()\n",
    "top500_IMDB_genre_year['year'] = pd.Series(top500_IMDB_year, index = top500_IMDB_genre_year.index)"
   ]
  },
  {
   "cell_type": "code",
   "execution_count": 47,
   "metadata": {
    "collapsed": true
   },
   "outputs": [],
   "source": [
    "year_list = sorted(top500_IMDB_genre_year['year'].unique())\n",
    "df_genre_year = pd.DataFrame(columns=year_list)\n",
    "\n",
    "# Create a dataframe with number of films for a particular genre and year \n",
    "for i in range(0, len(year_list)):\n",
    "    temp = top500_IMDB_genre.ix[:, :-1][top500_IMDB_genre_year['year'] == year_list[i]]\n",
    "    temp.sum(axis = 0)\n",
    "    df_genre_year.iloc[:, i] = temp.sum(axis = 0)"
   ]
  },
  {
   "cell_type": "code",
   "execution_count": 48,
   "metadata": {
    "collapsed": false
   },
   "outputs": [
    {
     "data": {
      "image/png": "[encoded data removed]",
      "text/plain": [
       "<matplotlib.figure.Figure at 0x114787b50>"
      ]
     },
     "metadata": {},
     "output_type": "display_data"
    }
   ],
   "source": [
    "import seaborn as sns\n",
    "sns.heatmap(df_genre_year)\n",
    "plt.show()"
   ]
  },
  {
   "cell_type": "markdown",
   "metadata": {},
   "source": [
    "#### B. Rating"
   ]
  },
  {
   "cell_type": "code",
   "execution_count": 50,
   "metadata": {
    "collapsed": true
   },
   "outputs": [],
   "source": [
    "## Extracting the year column\n",
    "top500_IMDB_rating = top500_IMDB.ix[:, 'rating']\n",
    "\n",
    "## Create a new dataframe containing information of genre and rating\n",
    "top500_IMDB_genre_rating = top500_IMDB_genre.ix[:, :-1].copy()\n",
    "top500_IMDB_genre_rating['rating'] = pd.Series(top500_IMDB_rating, index = top500_IMDB_genre_rating.index)"
   ]
  },
  {
   "cell_type": "code",
   "execution_count": 51,
   "metadata": {
    "collapsed": false
   },
   "outputs": [
    {
     "data": {
      "text/plain": [
       "(3.8999999999999999, 9.3000000000000007)"
      ]
     },
     "execution_count": 51,
     "metadata": {},
     "output_type": "execute_result"
    }
   ],
   "source": [
    "rating_list = sorted(top500_IMDB_genre_rating['rating'].unique())\n",
    "min(rating_list), max(rating_list)"
   ]
  },
  {
   "cell_type": "code",
   "execution_count": 52,
   "metadata": {
    "collapsed": true
   },
   "outputs": [],
   "source": [
    "rating_list = [0.5, 1.5, 2.5, 3.5, 4.5, 5.5, 6.5, 7.5, 8.5, 9.5]"
   ]
  },
  {
   "cell_type": "code",
   "execution_count": 53,
   "metadata": {
    "collapsed": true
   },
   "outputs": [],
   "source": [
    "df_genre_rating = pd.DataFrame(columns=rating_list)\n",
    "\n",
    "# Create a dataframe with number of films for a particular genre and year \n",
    "for i in range(0, len(rating_list)):\n",
    "    temp = top500_IMDB_genre.ix[:, :-1][top500_IMDB_genre_rating['rating'] > rating_list[i]-0.5][top500_IMDB_genre_rating['rating'] < rating_list[i]+0.5]\n",
    "    temp.sum(axis = 0)\n",
    "    df_genre_rating.iloc[:, i] = temp.sum(axis = 0)"
   ]
  },
  {
   "cell_type": "code",
   "execution_count": 54,
   "metadata": {
    "collapsed": false
   },
   "outputs": [
    {
     "data": {
      "image/png": "[encoded data removed]",
      "text/plain": [
       "<matplotlib.figure.Figure at 0x11c77f050>"
      ]
     },
     "metadata": {},
     "output_type": "display_data"
    }
   ],
   "source": [
    "sns.heatmap(df_genre_rating)\n",
    "plt.show()"
   ]
  },
  {
   "cell_type": "markdown",
   "metadata": {},
   "source": [
    "#### C. Votes"
   ]
  },
  {
   "cell_type": "code",
   "execution_count": 55,
   "metadata": {
    "collapsed": true
   },
   "outputs": [],
   "source": [
    "## Extracting the year column\n",
    "top500_IMDB_votes = top500_IMDB.ix[:, 'votes']\n",
    "\n",
    "## Create a new dataframe containing information of genre and rating\n",
    "top500_IMDB_genre_votes = top500_IMDB_genre.ix[:, :-1].copy()\n",
    "top500_IMDB_genre_votes['votes'] = pd.Series(top500_IMDB_votes, index = top500_IMDB_genre_votes.index)"
   ]
  },
  {
   "cell_type": "code",
   "execution_count": 56,
   "metadata": {
    "collapsed": true
   },
   "outputs": [],
   "source": [
    "top500_IMDB_genre_votes = top500_IMDB_genre_votes[pd.notnull(top500_IMDB_votes)]"
   ]
  },
  {
   "cell_type": "code",
   "execution_count": 60,
   "metadata": {
    "collapsed": false
   },
   "outputs": [],
   "source": [
    "votes_list = np.linspace(0, 1800000, 19)\n"
   ]
  },
  {
   "cell_type": "code",
   "execution_count": 58,
   "metadata": {
    "collapsed": true
   },
   "outputs": [],
   "source": [
    "df_genre_votes = pd.DataFrame(columns=votes_list[:-1])\n",
    "\n",
    "# Create a dataframe with number of films for a particular genre and year \n",
    "for i in range(0, len(votes_list)-1):\n",
    "    temp = top500_IMDB_genre_votes.ix[:, :-1][top500_IMDB_genre_votes['votes'] > votes_list[i]][top500_IMDB_genre_votes['votes'] < votes_list[i+1]]\n",
    "    temp.sum(axis = 0)\n",
    "    df_genre_votes.iloc[:, i] = temp.sum(axis = 0)"
   ]
  },
  {
   "cell_type": "code",
   "execution_count": 59,
   "metadata": {
    "collapsed": false
   },
   "outputs": [
    {
     "data": {
      "image/png": "[encoded data removed]",
      "text/plain": [
       "<matplotlib.figure.Figure at 0x11c899550>"
      ]
     },
     "metadata": {},
     "output_type": "display_data"
    }
   ],
   "source": [
    "sns.heatmap(df_genre_votes)\n",
    "plt.show()"
   ]
  },
  {
   "cell_type": "markdown",
   "metadata": {},
   "source": [
    "#### 2.2.2 Qualitative:\n",
    "- language\n",
    "- country of release\n",
    "- MAPP   "
   ]
  },
  {
   "cell_type": "code",
   "execution_count": null,
   "metadata": {
    "collapsed": true
   },
   "outputs": [],
   "source": [
    "# Zecai"
   ]
  },
  {
   "cell_type": "markdown",
   "metadata": {},
   "source": [
    "#### 2.2.3 Production related:\n",
    "- director\n",
    "- writer\n",
    "- distributor (company)\n",
    "- major cast"
   ]
  },
  {
   "cell_type": "markdown",
   "metadata": {
    "collapsed": true
   },
   "source": [
    "We suspect that some distributors are more likely to produce movies with specific styles thus can be tightly correlated with some kinds of genres. The same goes with directors, writers, actors/actresses and so on. Here, with production company \"Walt Disney Pictures\", director Martin Scorsese and actor Arnold Schwarzenegger as examples, we check if there is this kind of correlations."
   ]
  },
  {
   "cell_type": "markdown",
   "metadata": {},
   "source": [
    "###  Genres of Walt Disney Pictures"
   ]
  },
  {
   "cell_type": "code",
   "execution_count": 62,
   "metadata": {
    "collapsed": true
   },
   "outputs": [],
   "source": [
    "# API request url for Walt Disney Pictures movies\n",
    "company_url = base_url_search + APIKeyZ + popular_desc + \"&with_companies=2\""
   ]
  },
  {
   "cell_type": "code",
   "execution_count": 63,
   "metadata": {
    "collapsed": false
   },
   "outputs": [
    {
     "data": {
      "text/plain": [
       "<matplotlib.axes._subplots.AxesSubplot at 0xb84b128>"
      ]
     },
     "execution_count": 63,
     "metadata": {},
     "output_type": "execute_result"
    },
    {
     "data": {
      "image/png": "[encoded data removed]",
      "text/plain": [
       "<matplotlib.figure.Figure at 0xca266a0>"
      ]
     },
     "metadata": {},
     "output_type": "display_data"
    }
   ],
   "source": [
    "# get top 100 popular movies IDs by Walt Disney Pictures, to be used for further search of genres\n",
    "number_page = 0\n",
    "WDP_movie_id_list = []\n",
    "for i in range(1, 6):\n",
    "    WDP_movies =  company_url + page_number.format(i)\n",
    "    page = urllib.urlopen(WDP_movies).read()\n",
    "    soup = BeautifulSoup(page, \"lxml\")\n",
    "    prettified = soup.prettify()\n",
    "    movie_list = [m.start() for m in re.finditer('\"id\"', prettified)] # this finds all indexes of occurences of \"id\"\n",
    "    \n",
    "    for j in range(len(movie_list)):\n",
    "        j_beginning = 5\n",
    "        movie_id_temp = ''\n",
    "        while (prettified[movie_list[j] + j_beginning].isdigit()):\n",
    "            movie_id_temp += str(prettified[movie_list[j] + j_beginning])\n",
    "            j_beginning += 1\n",
    "        WDP_movie_id_list += [int(movie_id_temp)]\n",
    "    if i % 40 == 39:\n",
    "        time.sleep(10)\n",
    "time.sleep(10)        \n",
    "# store movie information\n",
    "WDP_movie_data = [] # to store movie information\n",
    "for i in range(len(WDP_movie_id_list)):\n",
    "    movie = tmdb.Movies(WDP_movie_id_list[i])\n",
    "    response = movie.info()\n",
    "    WDP_movie_data += [response]\n",
    "    if i % 40 == 39:\n",
    "        time.sleep(11)\n",
    "\n",
    "# store genre information of all movies\n",
    "WDP_genre_list = [] # to store genre information from TMDB\n",
    "for i in range(len(WDP_movie_data)):\n",
    "    genre_temp = []\n",
    "    for k in range(len(WDP_movie_data[i]['genres'])):\n",
    "        genre_temp += [str((WDP_movie_data[i]['genres'][k]['name']))]\n",
    "    WDP_genre_list += genre_temp\n",
    "WDP_genre_list[:5]\n",
    "\n",
    "# make histogram of genres\n",
    "genre_counts = Counter(WDP_genre_list)\n",
    "df = pd.DataFrame.from_dict(genre_counts, orient='index')\n",
    "df.plot(kind='bar')"
   ]
  },
  {
   "cell_type": "markdown",
   "metadata": {},
   "source": [
    "Clearly seen from above histogram, movies from Walt Disney Pictures tend to be in genres Family, Animation, Adventure and Comedy."
   ]
  },
  {
   "cell_type": "markdown",
   "metadata": {},
   "source": [
    "###  Genres of Martin Scorsese movies"
   ]
  },
  {
   "cell_type": "code",
   "execution_count": 64,
   "metadata": {
    "collapsed": true
   },
   "outputs": [],
   "source": [
    "# API request url for Martin Scorsese movies\n",
    "director_url = base_url_search + APIKeyZ + popular_desc + \"&with_people=1032\""
   ]
  },
  {
   "cell_type": "code",
   "execution_count": 65,
   "metadata": {
    "collapsed": false
   },
   "outputs": [
    {
     "data": {
      "text/plain": [
       "<matplotlib.axes._subplots.AxesSubplot at 0xd6b87f0>"
      ]
     },
     "execution_count": 65,
     "metadata": {},
     "output_type": "execute_result"
    },
    {
     "data": {
      "image/png": "[encoded data removed]",
      "text/plain": [
       "<matplotlib.figure.Figure at 0xca3a390>"
      ]
     },
     "metadata": {},
     "output_type": "display_data"
    }
   ],
   "source": [
    "# get all movie IDs by Martin Scorsese, to be used for further search of genres\n",
    "number_page = 0\n",
    "MS_movie_id_list = []\n",
    "for i in range(1, 9):\n",
    "    MS_movies =  director_url + page_number.format(i)\n",
    "    page = urllib.urlopen(MS_movies).read()\n",
    "    soup = BeautifulSoup(page, \"lxml\")\n",
    "    prettified = soup.prettify()\n",
    "    movie_list = [m.start() for m in re.finditer('\"id\"', prettified)] # this finds all indexes of occurences of \"id\"\n",
    "    \n",
    "    for j in range(len(movie_list)):\n",
    "        j_beginning = 5\n",
    "        movie_id_temp = ''\n",
    "        while (prettified[movie_list[j] + j_beginning].isdigit()):\n",
    "            movie_id_temp += str(prettified[movie_list[j] + j_beginning])\n",
    "            j_beginning += 1\n",
    "        MS_movie_id_list += [int(movie_id_temp)]\n",
    "    if i % 40 == 39:\n",
    "        time.sleep(10)    \n",
    "time.sleep(10)        \n",
    "# store movie information\n",
    "MS_movie_data = [] # to store movie information\n",
    "MS_movie_id_list.remove(MS_movie_id_list[107]) # The 107 value returns an error, remove this value\n",
    "for i in range(len(MS_movie_id_list)):\n",
    "    movie = tmdb.Movies(MS_movie_id_list[i])\n",
    "    response = movie.info()\n",
    "    MS_movie_data += [response]\n",
    "    if i % 40 == 39:\n",
    "        time.sleep(11)\n",
    "        \n",
    "# store genre information of all movies\n",
    "MS_genre_list = [] # to store genre information from TMDB\n",
    "for i in range(len(MS_movie_data)):\n",
    "    genre_temp = []\n",
    "    for k in range(len(MS_movie_data[i]['genres'])):\n",
    "        genre_temp += [str((MS_movie_data[i]['genres'][k]['name']))]\n",
    "    MS_genre_list += genre_temp\n",
    "MS_genre_list[:5]\n",
    "\n",
    "# make histogram of genres\n",
    "genre_counts = Counter(MS_genre_list)\n",
    "df = pd.DataFrame.from_dict(genre_counts, orient='index')\n",
    "df.plot(kind='bar')"
   ]
  },
  {
   "cell_type": "markdown",
   "metadata": {},
   "source": [
    "Clearly seen from above histogram, movies related to Martin Scorsese tend to be in genres Documentary and Drama."
   ]
  },
  {
   "cell_type": "markdown",
   "metadata": {},
   "source": [
    "###  Genres of Arnold Schwarzenegger movies"
   ]
  },
  {
   "cell_type": "code",
   "execution_count": 66,
   "metadata": {
    "collapsed": true
   },
   "outputs": [],
   "source": [
    "# API request url for Arnold Schwarzenegger movies\n",
    "actor_url = base_url_search + APIKeyZ + popular_desc + \"&with_people=1100\""
   ]
  },
  {
   "cell_type": "code",
   "execution_count": 67,
   "metadata": {
    "collapsed": false
   },
   "outputs": [
    {
     "data": {
      "text/plain": [
       "<matplotlib.axes._subplots.AxesSubplot at 0xca3aa90>"
      ]
     },
     "execution_count": 67,
     "metadata": {},
     "output_type": "execute_result"
    },
    {
     "data": {
      "image/png": "[encoded data removed]",
      "text/plain": [
       "<matplotlib.figure.Figure at 0xb734128>"
      ]
     },
     "metadata": {},
     "output_type": "display_data"
    }
   ],
   "source": [
    "# get all movie IDs by Arnold Schwarzenegger, to be used for further search of genres\n",
    "number_page = 0\n",
    "AS_movie_id_list = []\n",
    "for i in range(1, 5):\n",
    "    AS_movies =  actor_url + page_number.format(i)\n",
    "    page = urllib.urlopen(AS_movies).read()\n",
    "    soup = BeautifulSoup(page, \"lxml\")\n",
    "    prettified = soup.prettify()\n",
    "    movie_list = [m.start() for m in re.finditer('\"id\"', prettified)] # this finds all indexes of occurences of \"id\"\n",
    "    \n",
    "    for j in range(len(movie_list)):\n",
    "        j_beginning = 5\n",
    "        movie_id_temp = ''\n",
    "        while (prettified[movie_list[j] + j_beginning].isdigit()):\n",
    "            movie_id_temp += str(prettified[movie_list[j] + j_beginning])\n",
    "            j_beginning += 1\n",
    "        AS_movie_id_list += [int(movie_id_temp)]\n",
    "    if i % 40 == 39:\n",
    "        time.sleep(10)    \n",
    "time.sleep(10)\n",
    "# store movie information\n",
    "AS_movie_data = [] # to store movie information\n",
    "for i in range(len(AS_movie_id_list)):\n",
    "    movie = tmdb.Movies(AS_movie_id_list[i])\n",
    "    response = movie.info()\n",
    "    AS_movie_data += [response]\n",
    "    if i % 40 == 39:\n",
    "        time.sleep(11)\n",
    "        \n",
    "# store genre information of all movies\n",
    "AS_genre_list = [] # to store genre information from TMDB\n",
    "for i in range(len(AS_movie_data)):\n",
    "    genre_temp = []\n",
    "    for k in range(len(AS_movie_data[i]['genres'])):\n",
    "        genre_temp += [str((AS_movie_data[i]['genres'][k]['name']))]\n",
    "    AS_genre_list += genre_temp\n",
    "AS_genre_list[:5]\n",
    "\n",
    "# make histogram of genres\n",
    "genre_counts = Counter(AS_genre_list)\n",
    "df = pd.DataFrame.from_dict(genre_counts, orient='index')\n",
    "df.plot(kind='bar')"
   ]
  },
  {
   "cell_type": "markdown",
   "metadata": {},
   "source": [
    "Clearly seen from above histogram, Arnold Schwarzenegger movies are most likely to be in genre Action, a few other genres such as Thriller, Documentary and Comedy are also common."
   ]
  },
  {
   "cell_type": "markdown",
   "metadata": {},
   "source": [
    "From above 3 examples, we found that movies from specific companies, directors and actors/actresses tend to be in one or a few genres, there is a strong correlations between the crew/production company of a movie and the genre(s) of a movie. Crew members and production companies can be good variables to predict genres of a movie. "
   ]
  },
  {
   "cell_type": "markdown",
   "metadata": {},
   "source": [
    "#### 2.2.4 Text Analysis:\n",
    "- plot outline\n",
    "- plot\n",
    "- title\n",
    "- reason for MPAA rating"
   ]
  },
  {
   "cell_type": "code",
   "execution_count": 2,
   "metadata": {
    "collapsed": true
   },
   "outputs": [],
   "source": [
    "# not now"
   ]
  },
  {
   "cell_type": "markdown",
   "metadata": {},
   "source": [
    "--------\n",
    "\n",
    "## 3. Challenges for Next Step \n",
    "\n",
    "Hints:\n",
    "Comments on what challenges you see for predicting movie genre based on the data you have, and how to address them"
   ]
  },
  {
   "cell_type": "markdown",
   "metadata": {
    "collapsed": true
   },
   "source": [
    "Zecai\n",
    "- multiple genres / how many genres to predict\n",
    "- assemble data (how much to sample? download the whole?\n",
    "\n",
    "Danqing\n",
    "- missing information / sparse data for some genres\n",
    "- merge/combine two database (inconsistency)\n",
    "\n",
    "Wenshan\n",
    "- feature selection? \n",
    "- whether text analysis?"
   ]
  },
  {
   "cell_type": "markdown",
   "metadata": {},
   "source": [
    "### Feature Selection"
   ]
  },
  {
   "cell_type": "markdown",
   "metadata": {
    "collapsed": true
   },
   "source": [
    "Another possible problem is to select features. This can be very necessary because for each movie, APIs only return 25 and 36 variables from TMDB and IMDB, respectively. Furthermore, there are lots of other resources such as Wikipedia and forums which provide tons of information about each movie. If we use all available predictors, not only it will be very time-consuming to train prediction models but also the models will become unstable. \n",
    "\n",
    "\n",
    "As of now, we tentatively separate predictors as numeric variables, categorical variables, texts and posters. To select numeric and categorical variables, we can train models with different variables and compare models to see if some variables are necessary. For texts, we think that official abstract, Wikipedia abstract, plots and highlighted comments from forums can concise and we will see if this is true.  For posters, we don’t have much experience yet, but most popular or official posters can be better predictors for models."
   ]
  }
 ],
 "metadata": {
  "anaconda-cloud": {},
  "kernelspec": {
   "display_name": "Python [conda root]",
   "language": "python",
   "name": "conda-root-py"
  },
  "language_info": {
   "codemirror_mode": {
    "name": "ipython",
    "version": 2
   },
   "file_extension": ".py",
   "mimetype": "text/x-python",
   "name": "python",
   "nbconvert_exporter": "python",
   "pygments_lexer": "ipython2",
   "version": "2.7.12"
  }
 },
 "nbformat": 4,
 "nbformat_minor": 0
}
