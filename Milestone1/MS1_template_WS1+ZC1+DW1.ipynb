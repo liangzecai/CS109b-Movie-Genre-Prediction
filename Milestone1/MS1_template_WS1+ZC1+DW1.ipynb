{
 "cells": [
  {
   "cell_type": "markdown",
   "metadata": {},
   "source": [
    "# CS109b Final Project"
   ]
  },
  {
   "cell_type": "markdown",
   "metadata": {},
   "source": [
    "# Milestone1"
   ]
  },
  {
   "cell_type": "markdown",
   "metadata": {},
   "source": [
    "by Danqing Wang, Wenshan Zheng, Zecai Liang\n",
    "______________"
   ]
  },
  {
   "cell_type": "code",
   "execution_count": 8,
   "metadata": {
    "collapsed": false
   },
   "outputs": [],
   "source": [
    "# import libraries\n",
    "import numpy as np \n",
    "import pandas as pd\n",
    "import matplotlib\n",
    "import matplotlib.pyplot as plt\n",
    "import random\n",
    "\n",
    "%matplotlib inline\n",
    "\n",
    "import warnings\n",
    "warnings.filterwarnings('ignore')"
   ]
  },
  {
   "cell_type": "markdown",
   "metadata": {},
   "source": [
    "## 1. Data Extraction"
   ]
  },
  {
   "cell_type": "markdown",
   "metadata": {},
   "source": [
    "\n",
    "### 1.1 Accessing TMDB and IMDB Data"
   ]
  },
  {
   "cell_type": "markdown",
   "metadata": {},
   "source": [
    "#### 1.1.1 API code to access the genre and movie poster your favorite movie from TMDB"
   ]
  },
  {
   "cell_type": "code",
   "execution_count": 9,
   "metadata": {
    "collapsed": true
   },
   "outputs": [],
   "source": [
    "# import libraries\n",
    "import urllib\n",
    "from bs4 import BeautifulSoup\n",
    "import time\n",
    "import re\n",
    "import tmdbsimple as tmdb\n",
    "tmdb.API_KEY = '4074d0170761c40d9c07d9016ddd4965'"
   ]
  },
  {
   "cell_type": "code",
   "execution_count": 10,
   "metadata": {
    "collapsed": true
   },
   "outputs": [],
   "source": [
    "# set up some basic url link strings, to be used later\n",
    "APIKeyZ = \"api_key=4074d0170761c40d9c07d9016ddd4965\"\n",
    "base_url_search = \"https://api.themoviedb.org/3/discover/movie?\"\n",
    "popular_desc = \"&sort_by=popularity.desc\"\n",
    "year =  \"&primary_release_year={}\"\n",
    "page_number = '&page={}'\n",
    "query_url = 'https://api.themoviedb.org/3/movie/{}?'\n",
    "poster_url = \"http://image.tmdb.org/t/p/{size}/{path}\"\n",
    "poster_size = [\"w92\", \"w154\", \"w185\", \"w342\", \"w500\", \"w780\", \"original\"]"
   ]
  },
  {
   "cell_type": "code",
   "execution_count": 11,
   "metadata": {
    "collapsed": false
   },
   "outputs": [
    {
     "name": "stdout",
     "output_type": "stream",
     "text": [
      "Movie ID is: 321612\n"
     ]
    }
   ],
   "source": [
    "# use Beauty and Beast (released in 2017) as an example\n",
    "movie_name = \"beauty and the beast\"\n",
    "# set up the link to search for the movie\n",
    "movie_url = base_url_search + APIKeyZ + \"&query=\" + movie_name + year.format(2017)\n",
    "\n",
    "# take out the TMDB ID and extract details about the movie\n",
    "page = urllib.urlopen(movie_url).read()\n",
    "soup = BeautifulSoup(page, \"lxml\")\n",
    "prettified = soup.prettify()\n",
    "id_index = prettified.find('\"id\"') #find the index for TMDB ID\n",
    "# Extract ID information\n",
    "j_beginning = 5\n",
    "movie_id = ''\n",
    "while (prettified[id_index + j_beginning].isdigit()):\n",
    "    movie_id += str(prettified[id_index + j_beginning])\n",
    "    j_beginning += 1\n",
    "print \"Movie ID is:\", movie_id"
   ]
  },
  {
   "cell_type": "code",
   "execution_count": 12,
   "metadata": {
    "collapsed": false
   },
   "outputs": [
    {
     "data": {
      "text/plain": [
       "[{u'id': 14, u'name': u'Fantasy'},\n",
       " {u'id': 10402, u'name': u'Music'},\n",
       " {u'id': 10749, u'name': u'Romance'}]"
      ]
     },
     "execution_count": 12,
     "metadata": {},
     "output_type": "execute_result"
    }
   ],
   "source": [
    "# search movie by ID and access genres\n",
    "movie = tmdb.Movies(movie_id)\n",
    "response = movie.info()\n",
    "movie.genres # seems that it returns genre id and corresponding genre"
   ]
  },
  {
   "cell_type": "code",
   "execution_count": 13,
   "metadata": {
    "collapsed": false
   },
   "outputs": [
    {
     "data": {
      "text/plain": [
       "'http://image.tmdb.org/t/p/original//tWqifoYuwLETmmasnGHO7xBjEtt.jpg'"
      ]
     },
     "execution_count": 13,
     "metadata": {},
     "output_type": "execute_result"
    }
   ],
   "source": [
    "# download movie poster\n",
    "f = open('Beauty_and_Beast.jpg','wb')\n",
    "f.write(urllib.urlopen(poster_url.format(size = poster_size[6], path = str(movie.poster_path))).read())\n",
    "f.close()\n",
    "poster_url.format(size = poster_size[6], path = str(movie.poster_path))"
   ]
  },
  {
   "cell_type": "markdown",
   "metadata": {},
   "source": [
    "#### 1.1.2 Extract genre and other information for this movie from IMDb"
   ]
  },
  {
   "cell_type": "code",
   "execution_count": 14,
   "metadata": {
    "collapsed": true
   },
   "outputs": [],
   "source": [
    "from imdb import IMDb\n",
    "import numpy as np\n",
    "import pandas as pd \n",
    "ia = IMDb()"
   ]
  },
  {
   "cell_type": "code",
   "execution_count": 15,
   "metadata": {
    "collapsed": false
   },
   "outputs": [
    {
     "name": "stdout",
     "output_type": "stream",
     "text": [
      "[u'music department', 'sound crew', 'camera and electrical department', u'distributors', 'rating', 'runtimes', 'costume designer', u'thanks', 'make up', 'year', 'production design', 'miscellaneous crew', 'color info', u'casting department', 'languages', 'votes', 'producer', 'title', 'mpaa', 'assistant director', 'writer', 'casting director', 'visual effects', 'production manager', 'set decoration', 'editor', 'certificates', u'costume department', 'country codes', 'language codes', 'cover url', u'special effects department', 'special effects companies', 'sound mix', u'location management', 'genres', 'director', 'stunt performer', 'miscellaneous companies', 'cinematographer', 'art direction', 'akas', 'aspect ratio', u'production companies', 'kind', u'art department', 'countries', u'transportation department', 'plot outline', 'plot', 'cast', u'animation department', 'original music', u'editorial department', 'canonical title', 'long imdb title', 'long imdb canonical title', 'smart canonical title', 'smart long imdb canonical title', 'full-size cover url']\n"
     ]
    }
   ],
   "source": [
    "# As am example, we search for the movie Beauty and the Beast\n",
    "s_result = ia.search_movie('Beauty and the Beast')\n",
    "\n",
    "# Select the top result, Beauty and the Beast (2017)\n",
    "the_unt = s_result[0]\n",
    "ia.update(the_unt)\n",
    "print the_unt.keys() # all possible keys"
   ]
  },
  {
   "cell_type": "code",
   "execution_count": 16,
   "metadata": {
    "collapsed": false
   },
   "outputs": [
    {
     "data": {
      "text/plain": [
       "u'Beauty and the Beast'"
      ]
     },
     "execution_count": 16,
     "metadata": {},
     "output_type": "execute_result"
    }
   ],
   "source": [
    "the_unt['title']"
   ]
  },
  {
   "cell_type": "code",
   "execution_count": 17,
   "metadata": {
    "collapsed": false
   },
   "outputs": [
    {
     "data": {
      "text/plain": [
       "2017"
      ]
     },
     "execution_count": 17,
     "metadata": {},
     "output_type": "execute_result"
    }
   ],
   "source": [
    "the_unt['year']"
   ]
  },
  {
   "cell_type": "code",
   "execution_count": 18,
   "metadata": {
    "collapsed": false
   },
   "outputs": [
    {
     "data": {
      "text/plain": [
       "[u'Family', u'Fantasy', u'Musical', u'Romance']"
      ]
     },
     "execution_count": 18,
     "metadata": {},
     "output_type": "execute_result"
    }
   ],
   "source": [
    "the_unt['genres']"
   ]
  },
  {
   "cell_type": "markdown",
   "metadata": {},
   "source": [
    "The genres labeled by IMDb for `Beauty and the Beast` are `family`, `Fantasy`, `Musical`, and `Romance`. "
   ]
  },
  {
   "cell_type": "markdown",
   "metadata": {},
   "source": [
    "#### 1.1.3 A list of the 10 most popular movies of 2016 from TMDb, and their genre obtained via the API, and confirm if the genre is consistent with IMDB data"
   ]
  },
  {
   "cell_type": "markdown",
   "metadata": {},
   "source": [
    "#### TMDb"
   ]
  },
  {
   "cell_type": "code",
   "execution_count": 19,
   "metadata": {
    "collapsed": true
   },
   "outputs": [],
   "source": [
    "# first extract TMDB ID of each movie, then use package tmdbsimple to obtain genre information\n",
    "popular_movies_2016 =  base_url_search + APIKeyZ + popular_desc + year.format(2016)\n",
    "page = urllib.urlopen(popular_movies_2016).read()\n",
    "soup = BeautifulSoup(page, \"lxml\")\n",
    "prettified = soup.prettify()\n",
    "movie_list = [m.start() for m in re.finditer('\"id\"', prettified)] # this finds all indexes of occurences of \"id\"\n",
    "movie_id_list = []\n",
    "for i in range(10):\n",
    "    i_beginning = 5\n",
    "    movie_id_temp = ''\n",
    "    while (prettified[movie_list[i] + i_beginning].isdigit()):\n",
    "        movie_id_temp += str(prettified[movie_list[i] + i_beginning])\n",
    "        i_beginning += 1\n",
    "    movie_id_list += [int(movie_id_temp)]"
   ]
  },
  {
   "cell_type": "code",
   "execution_count": 20,
   "metadata": {
    "collapsed": true
   },
   "outputs": [],
   "source": [
    "movie_data = [] # to store movie information\n",
    "for i in range(len(movie_id_list)):\n",
    "    movie = tmdb.Movies(movie_id_list[i])\n",
    "    response = movie.info()\n",
    "    movie_data += [response]"
   ]
  },
  {
   "cell_type": "code",
   "execution_count": 21,
   "metadata": {
    "collapsed": true
   },
   "outputs": [],
   "source": [
    "# Extract IMDB ID\n",
    "IMDB_ID = []\n",
    "for i in range(len(movie_data)):\n",
    "    IMDB_ID += [int(str(movie_data[i]['imdb_id'])[2:])]"
   ]
  },
  {
   "cell_type": "code",
   "execution_count": 22,
   "metadata": {
    "collapsed": false,
    "scrolled": true
   },
   "outputs": [
    {
     "data": {
      "text/plain": [
       "[['Animation', 'Comedy', 'Drama', 'Family', 'Music'],\n",
       " ['Animation', 'Comedy', 'Drama'],\n",
       " ['Animation', 'Comedy', 'Drama', 'Family'],\n",
       " ['Animation', 'Comedy', 'Drama', 'Family'],\n",
       " ['Animation', 'Comedy', 'Drama', 'Family'],\n",
       " ['Animation', 'Comedy', 'Drama', 'Family'],\n",
       " ['Animation', 'Comedy'],\n",
       " ['Animation', 'Comedy'],\n",
       " ['Animation', 'Comedy'],\n",
       " ['Animation']]"
      ]
     },
     "execution_count": 22,
     "metadata": {},
     "output_type": "execute_result"
    }
   ],
   "source": [
    "TMDB_genre_list = [] # to store genre information from TMDB\n",
    "for i in range(len(movie_data)):\n",
    "    genre_temp = []\n",
    "    for k in range(len(movie_data[i]['genres'])):\n",
    "        genre_temp += [str((movie_data[0]['genres'][k]['name']))]\n",
    "    TMDB_genre_list += [genre_temp]\n",
    "TMDB_genre_list"
   ]
  },
  {
   "cell_type": "markdown",
   "metadata": {},
   "source": [
    "#### IMDb"
   ]
  },
  {
   "cell_type": "code",
   "execution_count": 23,
   "metadata": {
    "collapsed": false
   },
   "outputs": [],
   "source": [
    "## Store genre information into dataframe\n",
    "IMDb_genre_list = []\n",
    "title = []\n",
    "for i in range(0, 10):\n",
    "    movie = ia.get_movie(IMDB_ID[i]) # grab movie data by id\n",
    "    ia.update(movie)\n",
    "    title += [str(movie['title'])]\n",
    "    genre_temp = []\n",
    "    for j in range(len(movie['genres'])):\n",
    "        genre_temp += [str(movie['genres'][j])]\n",
    "    IMDb_genre_list += [sorted(genre_temp)]    "
   ]
  },
  {
   "cell_type": "code",
   "execution_count": 24,
   "metadata": {
    "collapsed": false
   },
   "outputs": [
    {
     "data": {
      "text/plain": [
       "[['Animation', 'Comedy', 'Family', 'Music'],\n",
       " ['Adventure', 'Family', 'Fantasy'],\n",
       " ['Adventure', 'Animation', 'Comedy', 'Family'],\n",
       " ['Action', 'Adventure', 'Comedy', 'Romance', 'Sci-Fi'],\n",
       " ['Action', 'Adventure', 'Sci-Fi'],\n",
       " ['Action', 'Adventure', 'Fantasy', 'Sci-Fi'],\n",
       " ['Drama', 'Mystery', 'Sci-Fi', 'Thriller'],\n",
       " ['Action', 'Adventure', 'Sci-Fi'],\n",
       " ['Action', 'Horror'],\n",
       " ['Biography', 'Drama']]"
      ]
     },
     "execution_count": 24,
     "metadata": {},
     "output_type": "execute_result"
    }
   ],
   "source": [
    "IMDb_genre_list"
   ]
  },
  {
   "cell_type": "markdown",
   "metadata": {},
   "source": [
    "#### Comparing TMDb and IMDb genre labels:"
   ]
  },
  {
   "cell_type": "code",
   "execution_count": null,
   "metadata": {
    "collapsed": true
   },
   "outputs": [],
   "source": []
  },
  {
   "cell_type": "code",
   "execution_count": null,
   "metadata": {
    "collapsed": true
   },
   "outputs": [],
   "source": []
  },
  {
   "cell_type": "markdown",
   "metadata": {},
   "source": [
    "_______________________\n",
    "\n",
    "### 1.2 Larger Scale: Extract Top 500 Movie\n",
    "We import the list of top 500 movies from TMDb and extract infomation for these movies from the IMDb database. We use this data in our exploratory data analysis in section 2."
   ]
  },
  {
   "cell_type": "markdown",
   "metadata": {},
   "source": [
    "#### 1.2.1 Extract Top 500 Movie from TMDB"
   ]
  },
  {
   "cell_type": "code",
   "execution_count": null,
   "metadata": {
    "collapsed": true
   },
   "outputs": [],
   "source": [
    "# Wenshan"
   ]
  },
  {
   "cell_type": "markdown",
   "metadata": {},
   "source": [
    "#### 1.2.2 Extract Data of the Same Top 500 Movie from IMDB"
   ]
  },
  {
   "cell_type": "code",
   "execution_count": 25,
   "metadata": {
    "collapsed": true
   },
   "outputs": [],
   "source": [
    "# Import TMDb top 500 movies using imdb_ids\n",
    "id_list = pd.read_csv('popular_imdb_id.txt', header=None)\n",
    "ID = np.array(id_list)"
   ]
  },
  {
   "cell_type": "code",
   "execution_count": 26,
   "metadata": {
    "collapsed": true
   },
   "outputs": [],
   "source": [
    "# Prepare an empty dataframe to record data \n",
    "# Among the different variables, we select the following variables of interest in our analysis  \n",
    "columns = ['title','genres', 'director', 'distributors', 'year', 'rating', 'votes', 'runtimes', \n",
    "          'language codes', 'languages', 'producer', 'mpaa', 'writer', 'top 250 rank', 'kind', \n",
    "           'country codes', 'countries', 'cover url', 'aspect_ratio', 'production companies', \n",
    "           'cinematographer', 'plot outline', 'plot', 'cast', 'animation department', 'original music',\n",
    "           'canonical title', 'editorial department', 'canonical title', 'long imdb title',\n",
    "           'long imdb canonical title', 'smart canonical title', 'smart long imdb canonical title',\n",
    "           'full-size cover url']\n",
    "index = range(1, len(ID)+1) \n",
    "\n",
    "df = pd.DataFrame(index = index, columns=columns)\n",
    "df = df.fillna(0)"
   ]
  },
  {
   "cell_type": "code",
   "execution_count": null,
   "metadata": {
    "collapsed": true
   },
   "outputs": [],
   "source": [
    "######################################\n",
    "######################################\n",
    "### DO NOT RUN THIS BLOCK OF CODES ###\n",
    "######################################\n",
    "# Run this block of codes takes a long\n",
    "# time, only do so when IMDb_data.txt\n",
    "# is not availabe locally. \n",
    "######################################\n",
    "######################################\n",
    "\n",
    "\n",
    "# Fill in dataframe df \n",
    "for i in range(0, len(index)):\n",
    "    movie = ia.get_movie(ID[i]) # grab movie data by id\n",
    "    ia.update(movie)\n",
    "    keys = movie.keys() # generate the available keys of this particular movie \n",
    "    \n",
    "    for j in range(0, len(columns)):\n",
    "        if columns[j] in keys:\n",
    "            if type(movie[columns[j]]) == list:\n",
    "                result = str(movie[columns[j]])\n",
    "            else:\n",
    "                result = movie[columns[j]]\n",
    "            df.iloc[i,j] = result\n",
    "        else:\n",
    "            df.iloc[i,j] = 'nan'\n",
    "\n",
    "# add column if IDs to the dataframe\n",
    "df['imdb_ids'] = pd.Series(ID.reshape(500,), index = df.index)\n",
    "\n",
    "# export dataframe to txt file\n",
    "df.to_csv('IMDb_data.txt', encoding='utf-8')"
   ]
  },
  {
   "cell_type": "markdown",
   "metadata": {},
   "source": [
    "----------------------------------------------\n",
    "\n",
    "## 2. Exploratory Analysis "
   ]
  },
  {
   "cell_type": "markdown",
   "metadata": {},
   "source": [
    "Next, we want to take a look the two database about the most popular 500 movies, and perform some exploratory analysis. \n",
    "\n",
    "The data from TMDB is saved locally as \"TMDB_data.txt\", and the data from IMDB is saved locally as \"IMDB.txt\"."
   ]
  },
  {
   "cell_type": "markdown",
   "metadata": {},
   "source": [
    "### 2.1 Genre"
   ]
  },
  {
   "cell_type": "markdown",
   "metadata": {},
   "source": [
    "#### 2.1.1 Genre Information from the IMDB Website"
   ]
  },
  {
   "cell_type": "markdown",
   "metadata": {},
   "source": [
    "We know from the IMDB website (http://www.imdb.com) that the website categorize movies into 27 genres, as seen in the following picture:\n",
    "<img src=\"IMDB_web_genre.PNG\">"
   ]
  },
  {
   "cell_type": "markdown",
   "metadata": {},
   "source": [
    "We saved the information to a local file \"IMDB_web_genre.txt\", and would compare the information on the website to the two dataset we extracted from TMDB and IMDB."
   ]
  },
  {
   "cell_type": "code",
   "execution_count": 27,
   "metadata": {
    "collapsed": false
   },
   "outputs": [
    {
     "ename": "IOError",
     "evalue": "File IMDB_web_genre.csv does not exist",
     "output_type": "error",
     "traceback": [
      "\u001b[0;31m---------------------------------------------------------------------------\u001b[0m",
      "\u001b[0;31mIOError\u001b[0m                                   Traceback (most recent call last)",
      "\u001b[0;32m<ipython-input-27-91b6162f2f2c>\u001b[0m in \u001b[0;36m<module>\u001b[0;34m()\u001b[0m\n\u001b[0;32m----> 1\u001b[0;31m \u001b[0mtop500_IMDB_web\u001b[0m \u001b[0;34m=\u001b[0m \u001b[0mpd\u001b[0m\u001b[0;34m.\u001b[0m\u001b[0mread_csv\u001b[0m\u001b[0;34m(\u001b[0m\u001b[0;34m'IMDB_web_genre.csv'\u001b[0m\u001b[0;34m)\u001b[0m\u001b[0;34m\u001b[0m\u001b[0m\n\u001b[0m",
      "\u001b[0;32m/Users/wdq/anaconda2/lib/python2.7/site-packages/pandas/io/parsers.pyc\u001b[0m in \u001b[0;36mparser_f\u001b[0;34m(filepath_or_buffer, sep, delimiter, header, names, index_col, usecols, squeeze, prefix, mangle_dupe_cols, dtype, engine, converters, true_values, false_values, skipinitialspace, skiprows, skipfooter, nrows, na_values, keep_default_na, na_filter, verbose, skip_blank_lines, parse_dates, infer_datetime_format, keep_date_col, date_parser, dayfirst, iterator, chunksize, compression, thousands, decimal, lineterminator, quotechar, quoting, escapechar, comment, encoding, dialect, tupleize_cols, error_bad_lines, warn_bad_lines, skip_footer, doublequote, delim_whitespace, as_recarray, compact_ints, use_unsigned, low_memory, buffer_lines, memory_map, float_precision)\u001b[0m\n\u001b[1;32m    560\u001b[0m                     skip_blank_lines=skip_blank_lines)\n\u001b[1;32m    561\u001b[0m \u001b[0;34m\u001b[0m\u001b[0m\n\u001b[0;32m--> 562\u001b[0;31m         \u001b[0;32mreturn\u001b[0m \u001b[0m_read\u001b[0m\u001b[0;34m(\u001b[0m\u001b[0mfilepath_or_buffer\u001b[0m\u001b[0;34m,\u001b[0m \u001b[0mkwds\u001b[0m\u001b[0;34m)\u001b[0m\u001b[0;34m\u001b[0m\u001b[0m\n\u001b[0m\u001b[1;32m    563\u001b[0m \u001b[0;34m\u001b[0m\u001b[0m\n\u001b[1;32m    564\u001b[0m     \u001b[0mparser_f\u001b[0m\u001b[0;34m.\u001b[0m\u001b[0m__name__\u001b[0m \u001b[0;34m=\u001b[0m \u001b[0mname\u001b[0m\u001b[0;34m\u001b[0m\u001b[0m\n",
      "\u001b[0;32m/Users/wdq/anaconda2/lib/python2.7/site-packages/pandas/io/parsers.pyc\u001b[0m in \u001b[0;36m_read\u001b[0;34m(filepath_or_buffer, kwds)\u001b[0m\n\u001b[1;32m    313\u001b[0m \u001b[0;34m\u001b[0m\u001b[0m\n\u001b[1;32m    314\u001b[0m     \u001b[0;31m# Create the parser.\u001b[0m\u001b[0;34m\u001b[0m\u001b[0;34m\u001b[0m\u001b[0m\n\u001b[0;32m--> 315\u001b[0;31m     \u001b[0mparser\u001b[0m \u001b[0;34m=\u001b[0m \u001b[0mTextFileReader\u001b[0m\u001b[0;34m(\u001b[0m\u001b[0mfilepath_or_buffer\u001b[0m\u001b[0;34m,\u001b[0m \u001b[0;34m**\u001b[0m\u001b[0mkwds\u001b[0m\u001b[0;34m)\u001b[0m\u001b[0;34m\u001b[0m\u001b[0m\n\u001b[0m\u001b[1;32m    316\u001b[0m \u001b[0;34m\u001b[0m\u001b[0m\n\u001b[1;32m    317\u001b[0m     \u001b[0;32mif\u001b[0m \u001b[0;34m(\u001b[0m\u001b[0mnrows\u001b[0m \u001b[0;32mis\u001b[0m \u001b[0;32mnot\u001b[0m \u001b[0mNone\u001b[0m\u001b[0;34m)\u001b[0m \u001b[0;32mand\u001b[0m \u001b[0;34m(\u001b[0m\u001b[0mchunksize\u001b[0m \u001b[0;32mis\u001b[0m \u001b[0;32mnot\u001b[0m \u001b[0mNone\u001b[0m\u001b[0;34m)\u001b[0m\u001b[0;34m:\u001b[0m\u001b[0;34m\u001b[0m\u001b[0m\n",
      "\u001b[0;32m/Users/wdq/anaconda2/lib/python2.7/site-packages/pandas/io/parsers.pyc\u001b[0m in \u001b[0;36m__init__\u001b[0;34m(self, f, engine, **kwds)\u001b[0m\n\u001b[1;32m    643\u001b[0m             \u001b[0mself\u001b[0m\u001b[0;34m.\u001b[0m\u001b[0moptions\u001b[0m\u001b[0;34m[\u001b[0m\u001b[0;34m'has_index_names'\u001b[0m\u001b[0;34m]\u001b[0m \u001b[0;34m=\u001b[0m \u001b[0mkwds\u001b[0m\u001b[0;34m[\u001b[0m\u001b[0;34m'has_index_names'\u001b[0m\u001b[0;34m]\u001b[0m\u001b[0;34m\u001b[0m\u001b[0m\n\u001b[1;32m    644\u001b[0m \u001b[0;34m\u001b[0m\u001b[0m\n\u001b[0;32m--> 645\u001b[0;31m         \u001b[0mself\u001b[0m\u001b[0;34m.\u001b[0m\u001b[0m_make_engine\u001b[0m\u001b[0;34m(\u001b[0m\u001b[0mself\u001b[0m\u001b[0;34m.\u001b[0m\u001b[0mengine\u001b[0m\u001b[0;34m)\u001b[0m\u001b[0;34m\u001b[0m\u001b[0m\n\u001b[0m\u001b[1;32m    646\u001b[0m \u001b[0;34m\u001b[0m\u001b[0m\n\u001b[1;32m    647\u001b[0m     \u001b[0;32mdef\u001b[0m \u001b[0mclose\u001b[0m\u001b[0;34m(\u001b[0m\u001b[0mself\u001b[0m\u001b[0;34m)\u001b[0m\u001b[0;34m:\u001b[0m\u001b[0;34m\u001b[0m\u001b[0m\n",
      "\u001b[0;32m/Users/wdq/anaconda2/lib/python2.7/site-packages/pandas/io/parsers.pyc\u001b[0m in \u001b[0;36m_make_engine\u001b[0;34m(self, engine)\u001b[0m\n\u001b[1;32m    797\u001b[0m     \u001b[0;32mdef\u001b[0m \u001b[0m_make_engine\u001b[0m\u001b[0;34m(\u001b[0m\u001b[0mself\u001b[0m\u001b[0;34m,\u001b[0m \u001b[0mengine\u001b[0m\u001b[0;34m=\u001b[0m\u001b[0;34m'c'\u001b[0m\u001b[0;34m)\u001b[0m\u001b[0;34m:\u001b[0m\u001b[0;34m\u001b[0m\u001b[0m\n\u001b[1;32m    798\u001b[0m         \u001b[0;32mif\u001b[0m \u001b[0mengine\u001b[0m \u001b[0;34m==\u001b[0m \u001b[0;34m'c'\u001b[0m\u001b[0;34m:\u001b[0m\u001b[0;34m\u001b[0m\u001b[0m\n\u001b[0;32m--> 799\u001b[0;31m             \u001b[0mself\u001b[0m\u001b[0;34m.\u001b[0m\u001b[0m_engine\u001b[0m \u001b[0;34m=\u001b[0m \u001b[0mCParserWrapper\u001b[0m\u001b[0;34m(\u001b[0m\u001b[0mself\u001b[0m\u001b[0;34m.\u001b[0m\u001b[0mf\u001b[0m\u001b[0;34m,\u001b[0m \u001b[0;34m**\u001b[0m\u001b[0mself\u001b[0m\u001b[0;34m.\u001b[0m\u001b[0moptions\u001b[0m\u001b[0;34m)\u001b[0m\u001b[0;34m\u001b[0m\u001b[0m\n\u001b[0m\u001b[1;32m    800\u001b[0m         \u001b[0;32melse\u001b[0m\u001b[0;34m:\u001b[0m\u001b[0;34m\u001b[0m\u001b[0m\n\u001b[1;32m    801\u001b[0m             \u001b[0;32mif\u001b[0m \u001b[0mengine\u001b[0m \u001b[0;34m==\u001b[0m \u001b[0;34m'python'\u001b[0m\u001b[0;34m:\u001b[0m\u001b[0;34m\u001b[0m\u001b[0m\n",
      "\u001b[0;32m/Users/wdq/anaconda2/lib/python2.7/site-packages/pandas/io/parsers.pyc\u001b[0m in \u001b[0;36m__init__\u001b[0;34m(self, src, **kwds)\u001b[0m\n\u001b[1;32m   1211\u001b[0m         \u001b[0mkwds\u001b[0m\u001b[0;34m[\u001b[0m\u001b[0;34m'allow_leading_cols'\u001b[0m\u001b[0;34m]\u001b[0m \u001b[0;34m=\u001b[0m \u001b[0mself\u001b[0m\u001b[0;34m.\u001b[0m\u001b[0mindex_col\u001b[0m \u001b[0;32mis\u001b[0m \u001b[0;32mnot\u001b[0m \u001b[0mFalse\u001b[0m\u001b[0;34m\u001b[0m\u001b[0m\n\u001b[1;32m   1212\u001b[0m \u001b[0;34m\u001b[0m\u001b[0m\n\u001b[0;32m-> 1213\u001b[0;31m         \u001b[0mself\u001b[0m\u001b[0;34m.\u001b[0m\u001b[0m_reader\u001b[0m \u001b[0;34m=\u001b[0m \u001b[0m_parser\u001b[0m\u001b[0;34m.\u001b[0m\u001b[0mTextReader\u001b[0m\u001b[0;34m(\u001b[0m\u001b[0msrc\u001b[0m\u001b[0;34m,\u001b[0m \u001b[0;34m**\u001b[0m\u001b[0mkwds\u001b[0m\u001b[0;34m)\u001b[0m\u001b[0;34m\u001b[0m\u001b[0m\n\u001b[0m\u001b[1;32m   1214\u001b[0m \u001b[0;34m\u001b[0m\u001b[0m\n\u001b[1;32m   1215\u001b[0m         \u001b[0;31m# XXX\u001b[0m\u001b[0;34m\u001b[0m\u001b[0;34m\u001b[0m\u001b[0m\n",
      "\u001b[0;32mpandas/parser.pyx\u001b[0m in \u001b[0;36mpandas.parser.TextReader.__cinit__ (pandas/parser.c:3427)\u001b[0;34m()\u001b[0m\n",
      "\u001b[0;32mpandas/parser.pyx\u001b[0m in \u001b[0;36mpandas.parser.TextReader._setup_parser_source (pandas/parser.c:6861)\u001b[0;34m()\u001b[0m\n",
      "\u001b[0;31mIOError\u001b[0m: File IMDB_web_genre.csv does not exist"
     ]
    }
   ],
   "source": [
    "top500_IMDB_web = pd.read_csv('IMDB_web_genre.csv')"
   ]
  },
  {
   "cell_type": "code",
   "execution_count": 15,
   "metadata": {
    "collapsed": false
   },
   "outputs": [
    {
     "data": {
      "text/html": [
       "<div>\n",
       "<table border=\"1\" class=\"dataframe\">\n",
       "  <thead>\n",
       "    <tr style=\"text-align: right;\">\n",
       "      <th></th>\n",
       "      <th>Genre</th>\n",
       "      <th>Count</th>\n",
       "    </tr>\n",
       "  </thead>\n",
       "  <tbody>\n",
       "    <tr>\n",
       "      <th>0</th>\n",
       "      <td>Drama</td>\n",
       "      <td>1027694</td>\n",
       "    </tr>\n",
       "    <tr>\n",
       "      <th>1</th>\n",
       "      <td>Romance</td>\n",
       "      <td>279500</td>\n",
       "    </tr>\n",
       "    <tr>\n",
       "      <th>2</th>\n",
       "      <td>Short</td>\n",
       "      <td>171957</td>\n",
       "    </tr>\n",
       "    <tr>\n",
       "      <th>3</th>\n",
       "      <td>Comedy</td>\n",
       "      <td>149370</td>\n",
       "    </tr>\n",
       "    <tr>\n",
       "      <th>4</th>\n",
       "      <td>Crime</td>\n",
       "      <td>113705</td>\n",
       "    </tr>\n",
       "  </tbody>\n",
       "</table>\n",
       "</div>"
      ],
      "text/plain": [
       "     Genre    Count\n",
       "0    Drama  1027694\n",
       "1  Romance   279500\n",
       "2    Short   171957\n",
       "3   Comedy   149370\n",
       "4    Crime   113705"
      ]
     },
     "execution_count": 15,
     "metadata": {},
     "output_type": "execute_result"
    }
   ],
   "source": [
    "top500_IMDB_web.head()"
   ]
  },
  {
   "cell_type": "markdown",
   "metadata": {},
   "source": [
    "---\n",
    "#### 2.1.2 Genre Information from the IMDB Database\n",
    "Next we calculate the genre information from the [top 500 movie data] (saved as \"IMDB_data.txt\") sampled from IMDB database."
   ]
  },
  {
   "cell_type": "code",
   "execution_count": 28,
   "metadata": {
    "collapsed": false
   },
   "outputs": [
    {
     "data": {
      "text/plain": [
       "array(['Unnamed: 0', 'title', 'genres', 'director', 'distributors', 'year',\n",
       "       'rating', 'votes', 'runtimes', 'language codes', 'languages',\n",
       "       'producer', 'mpaa', 'writer', 'top 250 rank', 'kind',\n",
       "       'country codes', 'countries', 'cover url', 'aspect_ratio',\n",
       "       'production companies', 'cinematographer', 'plot outline', 'plot',\n",
       "       'cast', 'animation department', 'original music', 'canonical title',\n",
       "       'editorial department', 'canonical title.1', 'long imdb title',\n",
       "       'long imdb canonical title', 'smart canonical title',\n",
       "       'smart long imdb canonical title', 'full-size cover url', 'imdb_ids'], dtype=object)"
      ]
     },
     "execution_count": 28,
     "metadata": {},
     "output_type": "execute_result"
    }
   ],
   "source": [
    "## data frame extracted from IMDB by movieID (top-500 in TMDB)\n",
    "top500_IMDB = pd.read_csv(\"IMDB_data.txt\")\n",
    "\n",
    "top500_IMDB.columns.values"
   ]
  },
  {
   "cell_type": "markdown",
   "metadata": {},
   "source": [
    "#### Parse `genres` into dummy coding\n"
   ]
  },
  {
   "cell_type": "code",
   "execution_count": 29,
   "metadata": {
    "collapsed": false
   },
   "outputs": [
    {
     "data": {
      "text/html": [
       "<div>\n",
       "<table border=\"1\" class=\"dataframe\">\n",
       "  <thead>\n",
       "    <tr style=\"text-align: right;\">\n",
       "      <th></th>\n",
       "      <th>Action</th>\n",
       "      <th>Adult</th>\n",
       "      <th>Adventure</th>\n",
       "      <th>Animation</th>\n",
       "      <th>Biography</th>\n",
       "      <th>Comedy</th>\n",
       "      <th>Crime</th>\n",
       "      <th>Documentary</th>\n",
       "      <th>Drama</th>\n",
       "      <th>Family</th>\n",
       "      <th>...</th>\n",
       "      <th>Musical</th>\n",
       "      <th>Mystery</th>\n",
       "      <th>Romance</th>\n",
       "      <th>Sci-Fi</th>\n",
       "      <th>Short</th>\n",
       "      <th>Sport</th>\n",
       "      <th>Thriller</th>\n",
       "      <th>War</th>\n",
       "      <th>Western</th>\n",
       "      <th>imdb_id</th>\n",
       "    </tr>\n",
       "  </thead>\n",
       "  <tbody>\n",
       "    <tr>\n",
       "      <th>0</th>\n",
       "      <td>0</td>\n",
       "      <td>0</td>\n",
       "      <td>0</td>\n",
       "      <td>0</td>\n",
       "      <td>0</td>\n",
       "      <td>0</td>\n",
       "      <td>0</td>\n",
       "      <td>0</td>\n",
       "      <td>0</td>\n",
       "      <td>1</td>\n",
       "      <td>...</td>\n",
       "      <td>1</td>\n",
       "      <td>0</td>\n",
       "      <td>1</td>\n",
       "      <td>0</td>\n",
       "      <td>0</td>\n",
       "      <td>0</td>\n",
       "      <td>0</td>\n",
       "      <td>0</td>\n",
       "      <td>0</td>\n",
       "      <td>2771200</td>\n",
       "    </tr>\n",
       "    <tr>\n",
       "      <th>1</th>\n",
       "      <td>1</td>\n",
       "      <td>0</td>\n",
       "      <td>0</td>\n",
       "      <td>0</td>\n",
       "      <td>0</td>\n",
       "      <td>0</td>\n",
       "      <td>0</td>\n",
       "      <td>0</td>\n",
       "      <td>1</td>\n",
       "      <td>0</td>\n",
       "      <td>...</td>\n",
       "      <td>0</td>\n",
       "      <td>0</td>\n",
       "      <td>0</td>\n",
       "      <td>1</td>\n",
       "      <td>0</td>\n",
       "      <td>0</td>\n",
       "      <td>1</td>\n",
       "      <td>0</td>\n",
       "      <td>0</td>\n",
       "      <td>3315342</td>\n",
       "    </tr>\n",
       "    <tr>\n",
       "      <th>2</th>\n",
       "      <td>0</td>\n",
       "      <td>0</td>\n",
       "      <td>0</td>\n",
       "      <td>1</td>\n",
       "      <td>0</td>\n",
       "      <td>1</td>\n",
       "      <td>0</td>\n",
       "      <td>0</td>\n",
       "      <td>0</td>\n",
       "      <td>1</td>\n",
       "      <td>...</td>\n",
       "      <td>0</td>\n",
       "      <td>0</td>\n",
       "      <td>0</td>\n",
       "      <td>0</td>\n",
       "      <td>0</td>\n",
       "      <td>0</td>\n",
       "      <td>0</td>\n",
       "      <td>0</td>\n",
       "      <td>0</td>\n",
       "      <td>3470600</td>\n",
       "    </tr>\n",
       "    <tr>\n",
       "      <th>3</th>\n",
       "      <td>1</td>\n",
       "      <td>0</td>\n",
       "      <td>1</td>\n",
       "      <td>0</td>\n",
       "      <td>0</td>\n",
       "      <td>0</td>\n",
       "      <td>0</td>\n",
       "      <td>0</td>\n",
       "      <td>0</td>\n",
       "      <td>0</td>\n",
       "      <td>...</td>\n",
       "      <td>0</td>\n",
       "      <td>0</td>\n",
       "      <td>0</td>\n",
       "      <td>1</td>\n",
       "      <td>0</td>\n",
       "      <td>0</td>\n",
       "      <td>0</td>\n",
       "      <td>0</td>\n",
       "      <td>0</td>\n",
       "      <td>3731562</td>\n",
       "    </tr>\n",
       "    <tr>\n",
       "      <th>4</th>\n",
       "      <td>1</td>\n",
       "      <td>0</td>\n",
       "      <td>1</td>\n",
       "      <td>0</td>\n",
       "      <td>0</td>\n",
       "      <td>0</td>\n",
       "      <td>0</td>\n",
       "      <td>0</td>\n",
       "      <td>0</td>\n",
       "      <td>0</td>\n",
       "      <td>...</td>\n",
       "      <td>0</td>\n",
       "      <td>0</td>\n",
       "      <td>0</td>\n",
       "      <td>1</td>\n",
       "      <td>0</td>\n",
       "      <td>0</td>\n",
       "      <td>0</td>\n",
       "      <td>0</td>\n",
       "      <td>0</td>\n",
       "      <td>369610</td>\n",
       "    </tr>\n",
       "  </tbody>\n",
       "</table>\n",
       "<p>5 rows × 24 columns</p>\n",
       "</div>"
      ],
      "text/plain": [
       "   Action  Adult  Adventure  Animation  Biography  Comedy  Crime  Documentary  \\\n",
       "0       0      0          0          0          0       0      0            0   \n",
       "1       1      0          0          0          0       0      0            0   \n",
       "2       0      0          0          1          0       1      0            0   \n",
       "3       1      0          1          0          0       0      0            0   \n",
       "4       1      0          1          0          0       0      0            0   \n",
       "\n",
       "   Drama  Family   ...     Musical  Mystery  Romance  Sci-Fi  Short  Sport  \\\n",
       "0      0       1   ...           1        0        1       0      0      0   \n",
       "1      1       0   ...           0        0        0       1      0      0   \n",
       "2      0       1   ...           0        0        0       0      0      0   \n",
       "3      0       0   ...           0        0        0       1      0      0   \n",
       "4      0       0   ...           0        0        0       1      0      0   \n",
       "\n",
       "   Thriller  War  Western  imdb_id  \n",
       "0         0    0        0  2771200  \n",
       "1         1    0        0  3315342  \n",
       "2         0    0        0  3470600  \n",
       "3         0    0        0  3731562  \n",
       "4         0    0        0   369610  \n",
       "\n",
       "[5 rows x 24 columns]"
      ]
     },
     "execution_count": 29,
     "metadata": {},
     "output_type": "execute_result"
    }
   ],
   "source": [
    "## ideally coule package this code into a function of spliting all variables, input:\n",
    "# 1. head and tail characters to delet\n",
    "# 2. split by\n",
    "\n",
    "gr = top500_IMDB.ix[:, 'genres']\n",
    "\n",
    "## Split variable `Genres` into list of strings\n",
    "\n",
    "for i in range(len(gr)):\n",
    "        # each row in 'genres' column\n",
    "    st = gr[i]\n",
    "#### -------------------------- for spliting other variables, change here -------------------------\n",
    "        # delete the first three character \" [u' \", and the last two charactor \" '] \"\n",
    "        # split by \" ' u \"\n",
    "    ls = st[3:-2].split(\"', u'\") \n",
    "        # return a list to the 'genres' column\n",
    "    gr[i] = ls\n",
    "    \n",
    "top500_IMDB_genre = pd.DataFrame(gr)[\"genres\"].str.join(sep='*').str.get_dummies(sep='*')\n",
    "top500_IMDB_genre['imdb_id'] = top500_IMDB['imdb_ids']\n",
    "\n",
    "top500_IMDB_genre.head()"
   ]
  },
  {
   "cell_type": "code",
   "execution_count": 31,
   "metadata": {
    "collapsed": false
   },
   "outputs": [
    {
     "data": {
      "text/plain": [
       "Action       210\n",
       "Adult          1\n",
       "Adventure    220\n",
       "Animation     55\n",
       "Biography     22\n",
       "dtype: int64"
      ]
     },
     "execution_count": 31,
     "metadata": {},
     "output_type": "execute_result"
    }
   ],
   "source": [
    "## count number of labels for each genre\n",
    "top500_IMDB_genre_count = top500_IMDB_genre.sum(axis = 0)\n",
    "top500_IMDB_genre_count.head()"
   ]
  },
  {
   "cell_type": "code",
   "execution_count": 32,
   "metadata": {
    "collapsed": true
   },
   "outputs": [],
   "source": [
    "## save as local files\n",
    "top500_IMDB_genre.to_csv('IMDB_split_genre.txt') # include 'imdb_id'\n",
    "top500_IMDB_genre_count.to_csv('IMDB_split_genre_count.txt')"
   ]
  },
  {
   "cell_type": "markdown",
   "metadata": {},
   "source": [
    "---\n",
    "#### 2.1.2 Genre Information from the TMDB Database\n",
    "Similarly we organize the genre information from the [top 500 movie data] (saved as \"TMDB_data.txt\") sampled from TMDB database."
   ]
  },
  {
   "cell_type": "code",
   "execution_count": 35,
   "metadata": {
    "collapsed": false
   },
   "outputs": [
    {
     "data": {
      "text/plain": [
       "array(['Unnamed: 0', 'poster_path', 'production_countries', 'revenue',\n",
       "       'overview', 'video', 'id', 'genres', 'title', 'tagline',\n",
       "       'vote_count', 'homepage', 'belongs_to_collection',\n",
       "       'original_language', 'status', 'spoken_languages', 'imdb_id',\n",
       "       'adult', 'backdrop_path', 'production_companies', 'release_date',\n",
       "       'popularity', 'original_title', 'budget', 'vote_average', 'runtime'], dtype=object)"
      ]
     },
     "execution_count": 35,
     "metadata": {},
     "output_type": "execute_result"
    }
   ],
   "source": [
    "## data frame extracted from TMDB by movieID\n",
    "top500_TMDB = pd.read_csv(\"TMDB_data.txt\")\n",
    "\n",
    "top500_TMDB.columns.values"
   ]
  },
  {
   "cell_type": "code",
   "execution_count": 36,
   "metadata": {
    "collapsed": false
   },
   "outputs": [
    {
     "data": {
      "text/html": [
       "<div>\n",
       "<table border=\"1\" class=\"dataframe\">\n",
       "  <thead>\n",
       "    <tr style=\"text-align: right;\">\n",
       "      <th></th>\n",
       "      <th>Action</th>\n",
       "      <th>Adventure</th>\n",
       "      <th>Animation</th>\n",
       "      <th>Comedy</th>\n",
       "      <th>Crime</th>\n",
       "      <th>Documentary</th>\n",
       "      <th>Drama</th>\n",
       "      <th>Family</th>\n",
       "      <th>Fantasy</th>\n",
       "      <th>History</th>\n",
       "      <th>Horror</th>\n",
       "      <th>Music</th>\n",
       "      <th>Mystery</th>\n",
       "      <th>Romance</th>\n",
       "      <th>Science Fiction</th>\n",
       "      <th>TV Movie</th>\n",
       "      <th>Thriller</th>\n",
       "      <th>War</th>\n",
       "      <th>Western</th>\n",
       "      <th>imdb_id</th>\n",
       "    </tr>\n",
       "  </thead>\n",
       "  <tbody>\n",
       "    <tr>\n",
       "      <th>0</th>\n",
       "      <td>0</td>\n",
       "      <td>0</td>\n",
       "      <td>0</td>\n",
       "      <td>0</td>\n",
       "      <td>0</td>\n",
       "      <td>0</td>\n",
       "      <td>0</td>\n",
       "      <td>0</td>\n",
       "      <td>1</td>\n",
       "      <td>0</td>\n",
       "      <td>0</td>\n",
       "      <td>1</td>\n",
       "      <td>0</td>\n",
       "      <td>1</td>\n",
       "      <td>0</td>\n",
       "      <td>0</td>\n",
       "      <td>0</td>\n",
       "      <td>0</td>\n",
       "      <td>0</td>\n",
       "      <td>2771200</td>\n",
       "    </tr>\n",
       "    <tr>\n",
       "      <th>1</th>\n",
       "      <td>1</td>\n",
       "      <td>0</td>\n",
       "      <td>0</td>\n",
       "      <td>0</td>\n",
       "      <td>0</td>\n",
       "      <td>0</td>\n",
       "      <td>1</td>\n",
       "      <td>0</td>\n",
       "      <td>0</td>\n",
       "      <td>0</td>\n",
       "      <td>0</td>\n",
       "      <td>0</td>\n",
       "      <td>0</td>\n",
       "      <td>0</td>\n",
       "      <td>1</td>\n",
       "      <td>0</td>\n",
       "      <td>0</td>\n",
       "      <td>0</td>\n",
       "      <td>0</td>\n",
       "      <td>3315342</td>\n",
       "    </tr>\n",
       "    <tr>\n",
       "      <th>2</th>\n",
       "      <td>0</td>\n",
       "      <td>0</td>\n",
       "      <td>1</td>\n",
       "      <td>1</td>\n",
       "      <td>0</td>\n",
       "      <td>0</td>\n",
       "      <td>1</td>\n",
       "      <td>1</td>\n",
       "      <td>0</td>\n",
       "      <td>0</td>\n",
       "      <td>0</td>\n",
       "      <td>1</td>\n",
       "      <td>0</td>\n",
       "      <td>0</td>\n",
       "      <td>0</td>\n",
       "      <td>0</td>\n",
       "      <td>0</td>\n",
       "      <td>0</td>\n",
       "      <td>0</td>\n",
       "      <td>3470600</td>\n",
       "    </tr>\n",
       "    <tr>\n",
       "      <th>3</th>\n",
       "      <td>1</td>\n",
       "      <td>1</td>\n",
       "      <td>0</td>\n",
       "      <td>0</td>\n",
       "      <td>0</td>\n",
       "      <td>0</td>\n",
       "      <td>0</td>\n",
       "      <td>0</td>\n",
       "      <td>1</td>\n",
       "      <td>0</td>\n",
       "      <td>0</td>\n",
       "      <td>0</td>\n",
       "      <td>0</td>\n",
       "      <td>0</td>\n",
       "      <td>1</td>\n",
       "      <td>0</td>\n",
       "      <td>0</td>\n",
       "      <td>0</td>\n",
       "      <td>0</td>\n",
       "      <td>3731562</td>\n",
       "    </tr>\n",
       "    <tr>\n",
       "      <th>4</th>\n",
       "      <td>1</td>\n",
       "      <td>1</td>\n",
       "      <td>0</td>\n",
       "      <td>0</td>\n",
       "      <td>0</td>\n",
       "      <td>0</td>\n",
       "      <td>0</td>\n",
       "      <td>0</td>\n",
       "      <td>0</td>\n",
       "      <td>0</td>\n",
       "      <td>0</td>\n",
       "      <td>0</td>\n",
       "      <td>0</td>\n",
       "      <td>0</td>\n",
       "      <td>1</td>\n",
       "      <td>0</td>\n",
       "      <td>1</td>\n",
       "      <td>0</td>\n",
       "      <td>0</td>\n",
       "      <td>369610</td>\n",
       "    </tr>\n",
       "  </tbody>\n",
       "</table>\n",
       "</div>"
      ],
      "text/plain": [
       "   Action  Adventure  Animation  Comedy  Crime  Documentary  Drama  Family  \\\n",
       "0       0          0          0       0      0            0      0       0   \n",
       "1       1          0          0       0      0            0      1       0   \n",
       "2       0          0          1       1      0            0      1       1   \n",
       "3       1          1          0       0      0            0      0       0   \n",
       "4       1          1          0       0      0            0      0       0   \n",
       "\n",
       "   Fantasy  History  Horror  Music  Mystery  Romance  Science Fiction  \\\n",
       "0        1        0       0      1        0        1                0   \n",
       "1        0        0       0      0        0        0                1   \n",
       "2        0        0       0      1        0        0                0   \n",
       "3        1        0       0      0        0        0                1   \n",
       "4        0        0       0      0        0        0                1   \n",
       "\n",
       "   TV Movie  Thriller  War  Western  imdb_id  \n",
       "0         0         0    0        0  2771200  \n",
       "1         0         0    0        0  3315342  \n",
       "2         0         0    0        0  3470600  \n",
       "3         0         0    0        0  3731562  \n",
       "4         0         1    0        0   369610  "
      ]
     },
     "execution_count": 36,
     "metadata": {},
     "output_type": "execute_result"
    }
   ],
   "source": [
    "## ideally coule package this code into a function of spliting all variables, input:\n",
    "# 1. head and tail characters to delet\n",
    "# 2. split by\n",
    "\n",
    "gr = top500_TMDB.ix[:, 'genres']\n",
    "\n",
    "## Split variable `Genres` into list of strings\n",
    " \n",
    "for i in range(len(gr)):\n",
    "        # each row in 'genres' column\n",
    "    st = gr[i]\n",
    "#### -------------------------- for spliting other variables, change here -------------------------\n",
    "        # delete the first three character \" [u' \", and the last two charactor \" '] \"\n",
    "        # split by \" ' u \"\n",
    "    ls = st[3:-2].split(\"', u'\") \n",
    "        # return a list to the 'genres' column\n",
    "    gr[i] = ls\n",
    "    \n",
    "top500_TMDB_genre = pd.DataFrame(gr)[\"genres\"].str.join(sep='*').str.get_dummies(sep='*')\n",
    "top500_TMDB_genre['imdb_id'] = top500_IMDB['imdb_ids']\n",
    "\n",
    "top500_TMDB_genre.head()"
   ]
  },
  {
   "cell_type": "code",
   "execution_count": 37,
   "metadata": {
    "collapsed": false
   },
   "outputs": [
    {
     "data": {
      "text/plain": [
       "Action       217\n",
       "Adventure    190\n",
       "Animation     54\n",
       "Comedy       101\n",
       "Crime         73\n",
       "dtype: int64"
      ]
     },
     "execution_count": 37,
     "metadata": {},
     "output_type": "execute_result"
    }
   ],
   "source": [
    "## count number of labels for each genre\n",
    "top500_TMDB_genre_count = top500_TMDB_genre.sum(axis = 0)\n",
    "top500_TMDB_genre_count.head()"
   ]
  },
  {
   "cell_type": "code",
   "execution_count": 38,
   "metadata": {
    "collapsed": true
   },
   "outputs": [],
   "source": [
    "## save as local files\n",
    "top500_TMDB_genre.to_csv('TMDB_split_genre.txt') # include 'imdb_id'\n",
    "top500_TMDB_genre_count.to_csv('TMDB_split_genre_count.txt')"
   ]
  },
  {
   "cell_type": "markdown",
   "metadata": {
    "collapsed": true
   },
   "source": [
    "---\n",
    "#### 2.1.3 Basic statistics about genre"
   ]
  },
  {
   "cell_type": "markdown",
   "metadata": {},
   "source": [
    "#### Q. How many genres in total? \n",
    "Check the differences between the three information sources: IMDB website, IMDB database, TMDB database."
   ]
  },
  {
   "cell_type": "code",
   "execution_count": 41,
   "metadata": {
    "collapsed": false
   },
   "outputs": [
    {
     "name": "stdout",
     "output_type": "stream",
     "text": [
      " Total Number of Genres from the IMDB website:"
     ]
    },
    {
     "ename": "NameError",
     "evalue": "name 'top500_IMDB_web' is not defined",
     "output_type": "error",
     "traceback": [
      "\u001b[0;31m---------------------------------------------------------------------------\u001b[0m",
      "\u001b[0;31mNameError\u001b[0m                                 Traceback (most recent call last)",
      "\u001b[0;32m<ipython-input-41-b6b791d27023>\u001b[0m in \u001b[0;36m<module>\u001b[0;34m()\u001b[0m\n\u001b[1;32m      1\u001b[0m \u001b[0;31m## total number of genres\u001b[0m\u001b[0;34m\u001b[0m\u001b[0;34m\u001b[0m\u001b[0m\n\u001b[0;32m----> 2\u001b[0;31m \u001b[0;32mprint\u001b[0m \u001b[0;34m\"Total Number of Genres from the IMDB website:\"\u001b[0m\u001b[0;34m,\u001b[0m \u001b[0mtop500_IMDB_web\u001b[0m\u001b[0;34m.\u001b[0m\u001b[0mshape\u001b[0m\u001b[0;34m[\u001b[0m\u001b[0;36m0\u001b[0m\u001b[0;34m]\u001b[0m\u001b[0;34m\u001b[0m\u001b[0m\n\u001b[0m\u001b[1;32m      3\u001b[0m \u001b[0;32mprint\u001b[0m \u001b[0;34m\"Total Number of Genres from the IMDB database:\"\u001b[0m \u001b[0;34m,\u001b[0m \u001b[0;34m(\u001b[0m\u001b[0mtop500_IMDB_genre\u001b[0m\u001b[0;34m.\u001b[0m\u001b[0mshape\u001b[0m\u001b[0;34m[\u001b[0m\u001b[0;36m1\u001b[0m\u001b[0;34m]\u001b[0m \u001b[0;34m-\u001b[0m \u001b[0;36m1\u001b[0m\u001b[0;34m)\u001b[0m\u001b[0;34m\u001b[0m\u001b[0m\n\u001b[1;32m      4\u001b[0m \u001b[0;32mprint\u001b[0m \u001b[0;34m\"Total Number of Genres from the RMDB database:\"\u001b[0m \u001b[0;34m,\u001b[0m \u001b[0;34m(\u001b[0m\u001b[0mtop500_TMDB_genre\u001b[0m\u001b[0;34m.\u001b[0m\u001b[0mshape\u001b[0m\u001b[0;34m[\u001b[0m\u001b[0;36m1\u001b[0m\u001b[0;34m]\u001b[0m \u001b[0;34m-\u001b[0m \u001b[0;36m1\u001b[0m\u001b[0;34m)\u001b[0m\u001b[0;34m\u001b[0m\u001b[0m\n",
      "\u001b[0;31mNameError\u001b[0m: name 'top500_IMDB_web' is not defined"
     ]
    }
   ],
   "source": [
    "## total number of genres\n",
    "print \"Total Number of Genres from the IMDB website:\", top500_IMDB_web.shape[0]\n",
    "print \"Total Number of Genres from the IMDB database:\" , (top500_IMDB_genre.shape[1] - 1)\n",
    "print \"Total Number of Genres from the RMDB database:\" , (top500_TMDB_genre.shape[1] - 1)"
   ]
  },
  {
   "cell_type": "markdown",
   "metadata": {},
   "source": [
    "#### Q. How many movies for each genre?\n",
    "Check the differences between the three information sources: IMDB website, IMDB database, TMDB database."
   ]
  },
  {
   "cell_type": "code",
   "execution_count": null,
   "metadata": {
    "collapsed": true
   },
   "outputs": [],
   "source": []
  },
  {
   "cell_type": "code",
   "execution_count": 34,
   "metadata": {
    "collapsed": true
   },
   "outputs": [],
   "source": [
    "## number of genres for each movie, saved in variable 'n_genre'\n",
    "top500_IMDB_genre['n_genre'] = top500_IMDB_genre.sum(axis = 1)"
   ]
  },
  {
   "cell_type": "markdown",
   "metadata": {},
   "source": [
    "#### Q. How many genre labels for each movie?\n",
    "Check the differences between the three information sources: IMDB website, IMDB database, TMDB database."
   ]
  },
  {
   "cell_type": "markdown",
   "metadata": {},
   "source": [
    "#### 2.1.2 Heatmap between genrens"
   ]
  },
  {
   "cell_type": "code",
   "execution_count": null,
   "metadata": {
    "collapsed": true
   },
   "outputs": [],
   "source": [
    "###  Zecai"
   ]
  },
  {
   "cell_type": "markdown",
   "metadata": {},
   "source": [
    "### 2.2 Genre vs Other Variables"
   ]
  },
  {
   "cell_type": "markdown",
   "metadata": {},
   "source": [
    "#### 2.2.1 Quantitative:"
   ]
  },
  {
   "cell_type": "markdown",
   "metadata": {},
   "source": [
    "#### A. Year of Release"
   ]
  },
  {
   "cell_type": "code",
   "execution_count": 46,
   "metadata": {
    "collapsed": true
   },
   "outputs": [],
   "source": [
    "## Extracting the year column\n",
    "top500_IMDB_year = top500_IMDB.ix[:, 'year']\n",
    "\n",
    "## Create a new dataframe containing information of genre and year\n",
    "top500_IMDB_genre_year = top500_IMDB_genre.ix[:, :-1].copy()\n",
    "top500_IMDB_genre_year['year'] = pd.Series(top500_IMDB_year, index = top500_IMDB_genre_year.index)"
   ]
  },
  {
   "cell_type": "code",
   "execution_count": 47,
   "metadata": {
    "collapsed": true
   },
   "outputs": [],
   "source": [
    "year_list = sorted(top500_IMDB_genre_year['year'].unique())\n",
    "df_genre_year = pd.DataFrame(columns=year_list)\n",
    "\n",
    "# Create a dataframe with number of films for a particular genre and year \n",
    "for i in range(0, len(year_list)):\n",
    "    temp = top500_IMDB_genre.ix[:, :-1][top500_IMDB_genre_year['year'] == year_list[i]]\n",
    "    temp.sum(axis = 0)\n",
    "    df_genre_year.iloc[:, i] = temp.sum(axis = 0)"
   ]
  },
  {
   "cell_type": "code",
   "execution_count": 48,
   "metadata": {
    "collapsed": false
   },
   "outputs": [
    {
     "data": {
      "image/png": "[encoded data removed]",
      "text/plain": [
       "<matplotlib.figure.Figure at 0x114787b50>"
      ]
     },
     "metadata": {},
     "output_type": "display_data"
    }
   ],
   "source": [
    "import seaborn as sns\n",
    "sns.heatmap(df_genre_year)\n",
    "plt.show()"
   ]
  },
  {
   "cell_type": "markdown",
   "metadata": {},
   "source": [
    "#### B. Rating"
   ]
  },
  {
   "cell_type": "code",
   "execution_count": 50,
   "metadata": {
    "collapsed": true
   },
   "outputs": [],
   "source": [
    "## Extracting the year column\n",
    "top500_IMDB_rating = top500_IMDB.ix[:, 'rating']\n",
    "\n",
    "## Create a new dataframe containing information of genre and rating\n",
    "top500_IMDB_genre_rating = top500_IMDB_genre.ix[:, :-1].copy()\n",
    "top500_IMDB_genre_rating['rating'] = pd.Series(top500_IMDB_rating, index = top500_IMDB_genre_rating.index)"
   ]
  },
  {
   "cell_type": "code",
   "execution_count": 51,
   "metadata": {
    "collapsed": false
   },
   "outputs": [
    {
     "data": {
      "text/plain": [
       "(3.8999999999999999, 9.3000000000000007)"
      ]
     },
     "execution_count": 51,
     "metadata": {},
     "output_type": "execute_result"
    }
   ],
   "source": [
    "rating_list = sorted(top500_IMDB_genre_rating['rating'].unique())\n",
    "min(rating_list), max(rating_list)"
   ]
  },
  {
   "cell_type": "code",
   "execution_count": 52,
   "metadata": {
    "collapsed": true
   },
   "outputs": [],
   "source": [
    "rating_list = [0.5, 1.5, 2.5, 3.5, 4.5, 5.5, 6.5, 7.5, 8.5, 9.5]"
   ]
  },
  {
   "cell_type": "code",
   "execution_count": 53,
   "metadata": {
    "collapsed": true
   },
   "outputs": [],
   "source": [
    "df_genre_rating = pd.DataFrame(columns=rating_list)\n",
    "\n",
    "# Create a dataframe with number of films for a particular genre and year \n",
    "for i in range(0, len(rating_list)):\n",
    "    temp = top500_IMDB_genre.ix[:, :-1][top500_IMDB_genre_rating['rating'] > rating_list[i]-0.5][top500_IMDB_genre_rating['rating'] < rating_list[i]+0.5]\n",
    "    temp.sum(axis = 0)\n",
    "    df_genre_rating.iloc[:, i] = temp.sum(axis = 0)"
   ]
  },
  {
   "cell_type": "code",
   "execution_count": 54,
   "metadata": {
    "collapsed": false
   },
   "outputs": [
    {
     "data": {
      "image/png": "[encoded data removed]",
      "text/plain": [
       "<matplotlib.figure.Figure at 0x11c77f050>"
      ]
     },
     "metadata": {},
     "output_type": "display_data"
    }
   ],
   "source": [
    "sns.heatmap(df_genre_rating)\n",
    "plt.show()"
   ]
  },
  {
   "cell_type": "markdown",
   "metadata": {},
   "source": [
    "#### C. Votes"
   ]
  },
  {
   "cell_type": "code",
   "execution_count": 55,
   "metadata": {
    "collapsed": true
   },
   "outputs": [],
   "source": [
    "## Extracting the year column\n",
    "top500_IMDB_votes = top500_IMDB.ix[:, 'votes']\n",
    "\n",
    "## Create a new dataframe containing information of genre and rating\n",
    "top500_IMDB_genre_votes = top500_IMDB_genre.ix[:, :-1].copy()\n",
    "top500_IMDB_genre_votes['votes'] = pd.Series(top500_IMDB_votes, index = top500_IMDB_genre_votes.index)"
   ]
  },
  {
   "cell_type": "code",
   "execution_count": 56,
   "metadata": {
    "collapsed": true
   },
   "outputs": [],
   "source": [
    "top500_IMDB_genre_votes = top500_IMDB_genre_votes[pd.notnull(top500_IMDB_votes)]"
   ]
  },
  {
   "cell_type": "code",
   "execution_count": 60,
   "metadata": {
    "collapsed": false
   },
   "outputs": [],
   "source": [
    "votes_list = np.linspace(0, 1800000, 19)\n"
   ]
  },
  {
   "cell_type": "code",
   "execution_count": 58,
   "metadata": {
    "collapsed": true
   },
   "outputs": [],
   "source": [
    "df_genre_votes = pd.DataFrame(columns=votes_list[:-1])\n",
    "\n",
    "# Create a dataframe with number of films for a particular genre and year \n",
    "for i in range(0, len(votes_list)-1):\n",
    "    temp = top500_IMDB_genre_votes.ix[:, :-1][top500_IMDB_genre_votes['votes'] > votes_list[i]][top500_IMDB_genre_votes['votes'] < votes_list[i+1]]\n",
    "    temp.sum(axis = 0)\n",
    "    df_genre_votes.iloc[:, i] = temp.sum(axis = 0)"
   ]
  },
  {
   "cell_type": "code",
   "execution_count": 59,
   "metadata": {
    "collapsed": false
   },
   "outputs": [
    {
     "data": {
      "image/png": "[encoded data removed]",
      "text/plain": [
       "<matplotlib.figure.Figure at 0x11c899550>"
      ]
     },
     "metadata": {},
     "output_type": "display_data"
    }
   ],
   "source": [
    "sns.heatmap(df_genre_votes)\n",
    "plt.show()"
   ]
  },
  {
   "cell_type": "markdown",
   "metadata": {},
   "source": [
    "#### 2.2.2 Qualitative:\n",
    "- language\n",
    "- country of release\n",
    "- MAPP   "
   ]
  },
  {
   "cell_type": "code",
   "execution_count": null,
   "metadata": {
    "collapsed": true
   },
   "outputs": [],
   "source": [
    "# Zecai"
   ]
  },
  {
   "cell_type": "markdown",
   "metadata": {},
   "source": [
    "#### 2.2.3 Production related:\n",
    "- director\n",
    "- writer\n",
    "- distributor (company)\n",
    "- major cast"
   ]
  },
  {
   "cell_type": "code",
   "execution_count": 1,
   "metadata": {
    "collapsed": true
   },
   "outputs": [],
   "source": [
    "# (1 sample) Wenshan"
   ]
  },
  {
   "cell_type": "markdown",
   "metadata": {},
   "source": [
    "#### 2.2.4 Text Analysis:\n",
    "- plot outline\n",
    "- plot\n",
    "- title\n",
    "- reason for MPAA rating"
   ]
  },
  {
   "cell_type": "code",
   "execution_count": 2,
   "metadata": {
    "collapsed": true
   },
   "outputs": [],
   "source": [
    "# not now"
   ]
  },
  {
   "cell_type": "markdown",
   "metadata": {},
   "source": [
    "--------\n",
    "\n",
    "## 3. Challenges for Next Step \n",
    "\n",
    "Hints:\n",
    "Comments on what challenges you see for predicting movie genre based on the data you have, and how to address them"
   ]
  },
  {
   "cell_type": "markdown",
   "metadata": {
    "collapsed": true
   },
   "source": [
    "Zecai\n",
    "- multiple genres / how many genres to predict\n",
    "- assemble data (how much to sample? download the whole?\n",
    "\n",
    "Danqing\n",
    "- missing information / sparse data for some genres\n",
    "- merge/combine two database (inconsistency)\n",
    "\n",
    "Wenshan\n",
    "- feature selection? \n",
    "- whether text analysis?"
   ]
  },
  {
   "cell_type": "code",
   "execution_count": null,
   "metadata": {
    "collapsed": true
   },
   "outputs": [],
   "source": []
  }
 ],
 "metadata": {
  "anaconda-cloud": {},
  "kernelspec": {
   "display_name": "Python [Root]",
   "language": "python",
   "name": "Python [Root]"
  },
  "language_info": {
   "codemirror_mode": {
    "name": "ipython",
    "version": 2
   },
   "file_extension": ".py",
   "mimetype": "text/x-python",
   "name": "python",
   "nbconvert_exporter": "python",
   "pygments_lexer": "ipython2",
   "version": "2.7.12"
  }
 },
 "nbformat": 4,
 "nbformat_minor": 0
}
