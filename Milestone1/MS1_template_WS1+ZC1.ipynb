{
 "cells": [
  {
   "cell_type": "markdown",
   "metadata": {},
   "source": [
    "# CS109b Final Project"
   ]
  },
  {
   "cell_type": "markdown",
   "metadata": {},
   "source": [
    "# Milestone1"
   ]
  },
  {
   "cell_type": "markdown",
   "metadata": {},
   "source": [
    "by Danqing Wang, Wenshan Zheng, Zecai Liang\n",
    "______________"
   ]
  },
  {
   "cell_type": "code",
   "execution_count": 46,
   "metadata": {
    "collapsed": false
   },
   "outputs": [],
   "source": [
    "# import libraries\n",
    "import numpy as np \n",
    "import pandas as pd\n",
    "import matplotlib\n",
    "import matplotlib.pyplot as plt\n",
    "import random\n",
    "\n",
    "%matplotlib inline\n",
    "\n",
    "import warnings\n",
    "warnings.filterwarnings('ignore')"
   ]
  },
  {
   "cell_type": "markdown",
   "metadata": {},
   "source": [
    "## 1. Data Extraction"
   ]
  },
  {
   "cell_type": "markdown",
   "metadata": {},
   "source": [
    "\n",
    "### 1.1 Accessing TMDB and IMDB Data"
   ]
  },
  {
   "cell_type": "markdown",
   "metadata": {},
   "source": [
    "#### 1.1.1 API code to access the genre and movie poster your favorite movie from TMDB"
   ]
  },
  {
   "cell_type": "code",
   "execution_count": null,
   "metadata": {
    "collapsed": true
   },
   "outputs": [],
   "source": [
    "# import libraries\n",
    "import urllib\n",
    "from bs4 import BeautifulSoup\n",
    "import time\n",
    "import re\n",
    "import tmdbsimple as tmdb\n",
    "tmdb.API_KEY = '4074d0170761c40d9c07d9016ddd4965'"
   ]
  },
  {
   "cell_type": "code",
   "execution_count": 2,
   "metadata": {
    "collapsed": true
   },
   "outputs": [],
   "source": [
    "# set up some basic url link strings, to be used later\n",
    "APIKeyZ = \"api_key=4074d0170761c40d9c07d9016ddd4965\"\n",
    "base_url_search = \"https://api.themoviedb.org/3/discover/movie?\"\n",
    "popular_desc = \"&sort_by=popularity.desc\"\n",
    "year =  \"&primary_release_year={}\"\n",
    "page_number = '&page={}'\n",
    "query_url = 'https://api.themoviedb.org/3/movie/{}?'\n",
    "poster_url = \"http://image.tmdb.org/t/p/{size}/{path}\"\n",
    "poster_size = [\"w92\", \"w154\", \"w185\", \"w342\", \"w500\", \"w780\", \"original\"]"
   ]
  },
  {
   "cell_type": "code",
   "execution_count": 3,
   "metadata": {
    "collapsed": false
   },
   "outputs": [
    {
     "name": "stdout",
     "output_type": "stream",
     "text": [
      "Movie ID is: 321612\n"
     ]
    }
   ],
   "source": [
    "# use Beauty and Beast (released in 2017) as an example\n",
    "movie_name = \"beauty and the beast\"\n",
    "# set up the link to search for the movie\n",
    "movie_url = base_url_search + APIKeyZ + \"&query=\" + movie_name + year.format(2017)\n",
    "\n",
    "# take out the TMDB ID and extract details about the movie\n",
    "page = urllib.urlopen(movie_url).read()\n",
    "soup = BeautifulSoup(page, \"lxml\")\n",
    "prettified = soup.prettify()\n",
    "id_index = prettified.find('\"id\"') #find the index for TMDB ID\n",
    "# Extract ID information\n",
    "j_beginning = 5\n",
    "movie_id = ''\n",
    "while (prettified[id_index + j_beginning].isdigit()):\n",
    "    movie_id += str(prettified[id_index + j_beginning])\n",
    "    j_beginning += 1\n",
    "print \"Movie ID is:\", movie_id"
   ]
  },
  {
   "cell_type": "code",
   "execution_count": 4,
   "metadata": {
    "collapsed": false
   },
   "outputs": [
    {
     "data": {
      "text/plain": [
       "[{u'id': 14, u'name': u'Fantasy'},\n",
       " {u'id': 10402, u'name': u'Music'},\n",
       " {u'id': 10749, u'name': u'Romance'}]"
      ]
     },
     "execution_count": 4,
     "metadata": {},
     "output_type": "execute_result"
    }
   ],
   "source": [
    "# search movie by ID and access genres\n",
    "movie = tmdb.Movies(movie_id)\n",
    "response = movie.info()\n",
    "movie.genres # seems that it returns genre id and corresponding genre"
   ]
  },
  {
   "cell_type": "code",
   "execution_count": 5,
   "metadata": {
    "collapsed": false
   },
   "outputs": [
    {
     "data": {
      "text/plain": [
       "'http://image.tmdb.org/t/p/original//tWqifoYuwLETmmasnGHO7xBjEtt.jpg'"
      ]
     },
     "execution_count": 5,
     "metadata": {},
     "output_type": "execute_result"
    }
   ],
   "source": [
    "# download movie poster\n",
    "f = open('Beauty_and_Beast.jpg','wb')\n",
    "f.write(urllib.urlopen(poster_url.format(size = poster_size[6], path = str(movie.poster_path))).read())\n",
    "f.close()\n",
    "poster_url.format(size = poster_size[6], path = str(movie.poster_path))"
   ]
  },
  {
   "cell_type": "markdown",
   "metadata": {},
   "source": [
    "#### 1.1.2 Extract genre and other information for this movie from IMDb"
   ]
  },
  {
   "cell_type": "code",
   "execution_count": 6,
   "metadata": {
    "collapsed": true
   },
   "outputs": [],
   "source": [
    "## Danqing"
   ]
  },
  {
   "cell_type": "markdown",
   "metadata": {},
   "source": [
    "#### 1.1.3 A list of the 10 most popular movies of 2016 from TMDb, and their genre obtained via the API, and confirm if the genre is consistent with IMDB data"
   ]
  },
  {
   "cell_type": "code",
   "execution_count": 7,
   "metadata": {
    "collapsed": true
   },
   "outputs": [],
   "source": [
    "# first extract TMDB ID of each movie, then use package tmdbsimple to obtain genre information\n",
    "popular_movies_2016 =  base_url_search + APIKeyZ + popular_desc + year.format(2016)\n",
    "page = urllib.urlopen(popular_movies_2016).read()\n",
    "soup = BeautifulSoup(page, \"lxml\")\n",
    "prettified = soup.prettify()\n",
    "movie_list = [m.start() for m in re.finditer('\"id\"', prettified)] # this finds all indexes of occurences of \"id\"\n",
    "movie_id_list = []\n",
    "for i in range(10):\n",
    "    i_beginning = 5\n",
    "    movie_id_temp = ''\n",
    "    while (prettified[movie_list[i] + i_beginning].isdigit()):\n",
    "        movie_id_temp += str(prettified[movie_list[i] + i_beginning])\n",
    "        i_beginning += 1\n",
    "    movie_id_list += [int(movie_id_temp)]"
   ]
  },
  {
   "cell_type": "code",
   "execution_count": 8,
   "metadata": {
    "collapsed": true
   },
   "outputs": [],
   "source": [
    "movie_data = [] # to store movie information\n",
    "for i in range(len(movie_id_list)):\n",
    "    movie = tmdb.Movies(movie_id_list[i])\n",
    "    response = movie.info()\n",
    "    movie_data += [response]"
   ]
  },
  {
   "cell_type": "code",
   "execution_count": 9,
   "metadata": {
    "collapsed": true
   },
   "outputs": [],
   "source": [
    "# Extract IMDB ID\n",
    "IMDB_ID = []\n",
    "for i in range(len(movie_data)):\n",
    "    IMDB_ID += [int(str(movie_data[i]['imdb_id'])[2:])]"
   ]
  },
  {
   "cell_type": "code",
   "execution_count": 10,
   "metadata": {
    "collapsed": false
   },
   "outputs": [
    {
     "data": {
      "text/plain": [
       "[['Animation', 'Comedy', 'Drama', 'Family', 'Music'],\n",
       " ['Animation', 'Comedy', 'Drama'],\n",
       " ['Animation', 'Comedy', 'Drama', 'Family'],\n",
       " ['Animation', 'Comedy'],\n",
       " ['Animation', 'Comedy', 'Drama', 'Family'],\n",
       " ['Animation', 'Comedy'],\n",
       " ['Animation', 'Comedy', 'Drama', 'Family'],\n",
       " ['Animation', 'Comedy'],\n",
       " ['Animation', 'Comedy', 'Drama', 'Family'],\n",
       " ['Animation', 'Comedy', 'Drama', 'Family']]"
      ]
     },
     "execution_count": 10,
     "metadata": {},
     "output_type": "execute_result"
    }
   ],
   "source": [
    "TMDB_genre_list = [] # to store genre information from TMDB\n",
    "for i in range(len(movie_data)):\n",
    "    genre_temp = []\n",
    "    for k in range(len(movie_data[i]['genres'])):\n",
    "        genre_temp += [str((movie_data[0]['genres'][k]['name']))]\n",
    "    TMDB_genre_list += [genre_temp]\n",
    "TMDB_genre_list"
   ]
  },
  {
   "cell_type": "markdown",
   "metadata": {},
   "source": [
    "_______________________\n",
    "\n",
    "### 1.2 Larger Scale: Extract Top 500 Movie"
   ]
  },
  {
   "cell_type": "markdown",
   "metadata": {},
   "source": [
    "#### 1.2.1 Extract Top 500 Movie from TMDB"
   ]
  },
  {
   "cell_type": "code",
   "execution_count": null,
   "metadata": {
    "collapsed": true
   },
   "outputs": [],
   "source": [
    "# Wenshan"
   ]
  },
  {
   "cell_type": "markdown",
   "metadata": {},
   "source": [
    "#### 1.2.2 Extract Data of the Same Top 500 Movie from IMDB"
   ]
  },
  {
   "cell_type": "code",
   "execution_count": null,
   "metadata": {
    "collapsed": true
   },
   "outputs": [],
   "source": [
    "# Danqing"
   ]
  },
  {
   "cell_type": "markdown",
   "metadata": {},
   "source": [
    "----------------------------------------------\n",
    "\n",
    "## 2. Exploratory Analysis "
   ]
  },
  {
   "cell_type": "markdown",
   "metadata": {},
   "source": [
    "Next, we want to take a look the two database about the most popular 500 movies, and perform some exploratory analysis. \n",
    "\n",
    "The data from TMDB is saved locally as \"TMDB_data.txt\", and the data from IMDB is saved locally as \"IMDB.txt\"."
   ]
  },
  {
   "cell_type": "markdown",
   "metadata": {},
   "source": [
    "### 2.1 Genre"
   ]
  },
  {
   "cell_type": "markdown",
   "metadata": {},
   "source": [
    "#### 2.1.1 Genre Information from the IMDB Website"
   ]
  },
  {
   "cell_type": "markdown",
   "metadata": {},
   "source": [
    "We know from the IMDB website (http://www.imdb.com) that the website categorize movies into 27 genres, as seen in the following picture:\n",
    "<img src=\"IMDB_web_genre.PNG\">"
   ]
  },
  {
   "cell_type": "markdown",
   "metadata": {},
   "source": [
    "We saved the information to a local file \"IMDB_web_genre.txt\", and would compare the information on the website to the two dataset we extracted from TMDB and IMDB."
   ]
  },
  {
   "cell_type": "code",
   "execution_count": 13,
   "metadata": {
    "collapsed": false
   },
   "outputs": [],
   "source": [
    "top500_IMDB_web = pd.read_csv('IMDB_web_genre.csv')"
   ]
  },
  {
   "cell_type": "code",
   "execution_count": 15,
   "metadata": {
    "collapsed": false
   },
   "outputs": [
    {
     "data": {
      "text/html": [
       "<div>\n",
       "<table border=\"1\" class=\"dataframe\">\n",
       "  <thead>\n",
       "    <tr style=\"text-align: right;\">\n",
       "      <th></th>\n",
       "      <th>Genre</th>\n",
       "      <th>Count</th>\n",
       "    </tr>\n",
       "  </thead>\n",
       "  <tbody>\n",
       "    <tr>\n",
       "      <th>0</th>\n",
       "      <td>Drama</td>\n",
       "      <td>1027694</td>\n",
       "    </tr>\n",
       "    <tr>\n",
       "      <th>1</th>\n",
       "      <td>Romance</td>\n",
       "      <td>279500</td>\n",
       "    </tr>\n",
       "    <tr>\n",
       "      <th>2</th>\n",
       "      <td>Short</td>\n",
       "      <td>171957</td>\n",
       "    </tr>\n",
       "    <tr>\n",
       "      <th>3</th>\n",
       "      <td>Comedy</td>\n",
       "      <td>149370</td>\n",
       "    </tr>\n",
       "    <tr>\n",
       "      <th>4</th>\n",
       "      <td>Crime</td>\n",
       "      <td>113705</td>\n",
       "    </tr>\n",
       "  </tbody>\n",
       "</table>\n",
       "</div>"
      ],
      "text/plain": [
       "     Genre    Count\n",
       "0    Drama  1027694\n",
       "1  Romance   279500\n",
       "2    Short   171957\n",
       "3   Comedy   149370\n",
       "4    Crime   113705"
      ]
     },
     "execution_count": 15,
     "metadata": {},
     "output_type": "execute_result"
    }
   ],
   "source": [
    "top500_IMDB_web.head()"
   ]
  },
  {
   "cell_type": "markdown",
   "metadata": {},
   "source": [
    "---\n",
    "#### 2.1.2 Genre Information from the IMDB Database\n",
    "Next we calculate the genre information from the [top 500 movie data] (saved as \"IMDB_data.txt\") sampled from IMDB database."
   ]
  },
  {
   "cell_type": "code",
   "execution_count": 53,
   "metadata": {
    "collapsed": false
   },
   "outputs": [
    {
     "data": {
      "text/plain": [
       "array(['Unnamed: 0', 'title', 'genres', 'director', 'distributors', 'year',\n",
       "       'rating', 'votes', 'runtimes', 'language codes', 'languages',\n",
       "       'producer', 'mpaa', 'writer', 'top 250 rank', 'kind',\n",
       "       'country codes', 'countries', 'cover url', 'aspect_ratio',\n",
       "       'production companies', 'cinematographer', 'plot outline', 'plot',\n",
       "       'cast', 'animation department', 'original music', 'canonical title',\n",
       "       'editorial department', 'canonical title.1', 'long imdb title',\n",
       "       'long imdb canonical title', 'smart canonical title',\n",
       "       'smart long imdb canonical title', 'full-size cover url', 'imdb_ids'], dtype=object)"
      ]
     },
     "execution_count": 53,
     "metadata": {},
     "output_type": "execute_result"
    }
   ],
   "source": [
    "## data frame extracted from IMDB by movieID (top-500 in TMDB)\n",
    "top500_IMDB = pd.read_csv(\"IMDB_data.txt\")\n",
    "\n",
    "top500_IMDB.columns.values"
   ]
  },
  {
   "cell_type": "markdown",
   "metadata": {},
   "source": [
    "#### Parse `genres` into dummy coding\n"
   ]
  },
  {
   "cell_type": "code",
   "execution_count": 54,
   "metadata": {
    "collapsed": false
   },
   "outputs": [
    {
     "data": {
      "text/html": [
       "<div>\n",
       "<table border=\"1\" class=\"dataframe\">\n",
       "  <thead>\n",
       "    <tr style=\"text-align: right;\">\n",
       "      <th></th>\n",
       "      <th>Action</th>\n",
       "      <th>Adult</th>\n",
       "      <th>Adventure</th>\n",
       "      <th>Animation</th>\n",
       "      <th>Biography</th>\n",
       "      <th>Comedy</th>\n",
       "      <th>Crime</th>\n",
       "      <th>Documentary</th>\n",
       "      <th>Drama</th>\n",
       "      <th>Family</th>\n",
       "      <th>...</th>\n",
       "      <th>Musical</th>\n",
       "      <th>Mystery</th>\n",
       "      <th>Romance</th>\n",
       "      <th>Sci-Fi</th>\n",
       "      <th>Short</th>\n",
       "      <th>Sport</th>\n",
       "      <th>Thriller</th>\n",
       "      <th>War</th>\n",
       "      <th>Western</th>\n",
       "      <th>imdb_id</th>\n",
       "    </tr>\n",
       "  </thead>\n",
       "  <tbody>\n",
       "    <tr>\n",
       "      <th>0</th>\n",
       "      <td>0</td>\n",
       "      <td>0</td>\n",
       "      <td>0</td>\n",
       "      <td>0</td>\n",
       "      <td>0</td>\n",
       "      <td>0</td>\n",
       "      <td>0</td>\n",
       "      <td>0</td>\n",
       "      <td>0</td>\n",
       "      <td>1</td>\n",
       "      <td>...</td>\n",
       "      <td>1</td>\n",
       "      <td>0</td>\n",
       "      <td>1</td>\n",
       "      <td>0</td>\n",
       "      <td>0</td>\n",
       "      <td>0</td>\n",
       "      <td>0</td>\n",
       "      <td>0</td>\n",
       "      <td>0</td>\n",
       "      <td>2771200</td>\n",
       "    </tr>\n",
       "    <tr>\n",
       "      <th>1</th>\n",
       "      <td>1</td>\n",
       "      <td>0</td>\n",
       "      <td>0</td>\n",
       "      <td>0</td>\n",
       "      <td>0</td>\n",
       "      <td>0</td>\n",
       "      <td>0</td>\n",
       "      <td>0</td>\n",
       "      <td>1</td>\n",
       "      <td>0</td>\n",
       "      <td>...</td>\n",
       "      <td>0</td>\n",
       "      <td>0</td>\n",
       "      <td>0</td>\n",
       "      <td>1</td>\n",
       "      <td>0</td>\n",
       "      <td>0</td>\n",
       "      <td>1</td>\n",
       "      <td>0</td>\n",
       "      <td>0</td>\n",
       "      <td>3315342</td>\n",
       "    </tr>\n",
       "    <tr>\n",
       "      <th>2</th>\n",
       "      <td>0</td>\n",
       "      <td>0</td>\n",
       "      <td>0</td>\n",
       "      <td>1</td>\n",
       "      <td>0</td>\n",
       "      <td>1</td>\n",
       "      <td>0</td>\n",
       "      <td>0</td>\n",
       "      <td>0</td>\n",
       "      <td>1</td>\n",
       "      <td>...</td>\n",
       "      <td>0</td>\n",
       "      <td>0</td>\n",
       "      <td>0</td>\n",
       "      <td>0</td>\n",
       "      <td>0</td>\n",
       "      <td>0</td>\n",
       "      <td>0</td>\n",
       "      <td>0</td>\n",
       "      <td>0</td>\n",
       "      <td>3470600</td>\n",
       "    </tr>\n",
       "    <tr>\n",
       "      <th>3</th>\n",
       "      <td>1</td>\n",
       "      <td>0</td>\n",
       "      <td>1</td>\n",
       "      <td>0</td>\n",
       "      <td>0</td>\n",
       "      <td>0</td>\n",
       "      <td>0</td>\n",
       "      <td>0</td>\n",
       "      <td>0</td>\n",
       "      <td>0</td>\n",
       "      <td>...</td>\n",
       "      <td>0</td>\n",
       "      <td>0</td>\n",
       "      <td>0</td>\n",
       "      <td>1</td>\n",
       "      <td>0</td>\n",
       "      <td>0</td>\n",
       "      <td>0</td>\n",
       "      <td>0</td>\n",
       "      <td>0</td>\n",
       "      <td>3731562</td>\n",
       "    </tr>\n",
       "    <tr>\n",
       "      <th>4</th>\n",
       "      <td>1</td>\n",
       "      <td>0</td>\n",
       "      <td>1</td>\n",
       "      <td>0</td>\n",
       "      <td>0</td>\n",
       "      <td>0</td>\n",
       "      <td>0</td>\n",
       "      <td>0</td>\n",
       "      <td>0</td>\n",
       "      <td>0</td>\n",
       "      <td>...</td>\n",
       "      <td>0</td>\n",
       "      <td>0</td>\n",
       "      <td>0</td>\n",
       "      <td>1</td>\n",
       "      <td>0</td>\n",
       "      <td>0</td>\n",
       "      <td>0</td>\n",
       "      <td>0</td>\n",
       "      <td>0</td>\n",
       "      <td>369610</td>\n",
       "    </tr>\n",
       "  </tbody>\n",
       "</table>\n",
       "<p>5 rows × 24 columns</p>\n",
       "</div>"
      ],
      "text/plain": [
       "   Action  Adult  Adventure  Animation  Biography  Comedy  Crime  Documentary  \\\n",
       "0       0      0          0          0          0       0      0            0   \n",
       "1       1      0          0          0          0       0      0            0   \n",
       "2       0      0          0          1          0       1      0            0   \n",
       "3       1      0          1          0          0       0      0            0   \n",
       "4       1      0          1          0          0       0      0            0   \n",
       "\n",
       "   Drama  Family   ...     Musical  Mystery  Romance  Sci-Fi  Short  Sport  \\\n",
       "0      0       1   ...           1        0        1       0      0      0   \n",
       "1      1       0   ...           0        0        0       1      0      0   \n",
       "2      0       1   ...           0        0        0       0      0      0   \n",
       "3      0       0   ...           0        0        0       1      0      0   \n",
       "4      0       0   ...           0        0        0       1      0      0   \n",
       "\n",
       "   Thriller  War  Western  imdb_id  \n",
       "0         0    0        0  2771200  \n",
       "1         1    0        0  3315342  \n",
       "2         0    0        0  3470600  \n",
       "3         0    0        0  3731562  \n",
       "4         0    0        0   369610  \n",
       "\n",
       "[5 rows x 24 columns]"
      ]
     },
     "execution_count": 54,
     "metadata": {},
     "output_type": "execute_result"
    }
   ],
   "source": [
    "## ideally coule package this code into a function of spliting all variables, input:\n",
    "# 1. head and tail characters to delet\n",
    "# 2. split by\n",
    "\n",
    "gr = top500_IMDB.ix[:, 'genres']\n",
    "\n",
    "## Split variable `Genres` into list of strings\n",
    "\n",
    "for i in range(len(gr)):\n",
    "        # each row in 'genres' column\n",
    "    st = gr[i]\n",
    "#### -------------------------- for spliting other variables, change here -------------------------\n",
    "        # delete the first three character \" [u' \", and the last two charactor \" '] \"\n",
    "        # split by \" ' u \"\n",
    "    ls = st[3:-2].split(\"', u'\") \n",
    "        # return a list to the 'genres' column\n",
    "    gr[i] = ls\n",
    "    \n",
    "top500_IMDB_genre = pd.DataFrame(gr)[\"genres\"].str.join(sep='*').str.get_dummies(sep='*')\n",
    "top500_IMDB_genre['imdb_id'] = top500_IMDB['imdb_ids']\n",
    "\n",
    "top500_IMDB_genre.head()"
   ]
  },
  {
   "cell_type": "code",
   "execution_count": 55,
   "metadata": {
    "collapsed": false
   },
   "outputs": [
    {
     "data": {
      "text/plain": [
       "Action       210\n",
       "Adult          1\n",
       "Adventure    220\n",
       "Animation     55\n",
       "Biography     22\n",
       "dtype: int64"
      ]
     },
     "execution_count": 55,
     "metadata": {},
     "output_type": "execute_result"
    }
   ],
   "source": [
    "## count number of labels for each genre\n",
    "top500_IMDB_genre_count = top500_IMDB_genre.sum(axis = 0)\n",
    "top500_IMDB_genre_count.head()"
   ]
  },
  {
   "cell_type": "code",
   "execution_count": 56,
   "metadata": {
    "collapsed": true
   },
   "outputs": [],
   "source": [
    "## save as local files\n",
    "top500_IMDB_genre.to_csv('IMDB_split_genre.txt') # include 'imdb_id'\n",
    "top500_IMDB_genre_count.to_csv('IMDB_split_genre_count.txt')"
   ]
  },
  {
   "cell_type": "markdown",
   "metadata": {},
   "source": [
    "---\n",
    "#### 2.1.2 Genre Information from the IMDB Database\n",
    "Similarly we organize the genre information from the [top 500 movie data] (saved as \"TMDB_data.txt\") sampled from TMDB database."
   ]
  },
  {
   "cell_type": "code",
   "execution_count": 58,
   "metadata": {
    "collapsed": false
   },
   "outputs": [
    {
     "data": {
      "text/plain": [
       "array(['Unnamed: 0', 'poster_path', 'production_countries', 'revenue',\n",
       "       'overview', 'video', 'id', 'genres', 'title', 'tagline',\n",
       "       'vote_count', 'homepage', 'belongs_to_collection',\n",
       "       'original_language', 'status', 'spoken_languages', 'imdb_id',\n",
       "       'adult', 'backdrop_path', 'production_companies', 'release_date',\n",
       "       'popularity', 'original_title', 'budget', 'vote_average', 'runtime'], dtype=object)"
      ]
     },
     "execution_count": 58,
     "metadata": {},
     "output_type": "execute_result"
    }
   ],
   "source": [
    "## data frame extracted from TMDB by movieID\n",
    "top500_TMDB = pd.read_csv(\"TMDB_data.txt\")\n",
    "\n",
    "top500_TMDB.columns.values"
   ]
  },
  {
   "cell_type": "code",
   "execution_count": 59,
   "metadata": {
    "collapsed": false
   },
   "outputs": [
    {
     "data": {
      "text/html": [
       "<div>\n",
       "<table border=\"1\" class=\"dataframe\">\n",
       "  <thead>\n",
       "    <tr style=\"text-align: right;\">\n",
       "      <th></th>\n",
       "      <th>Action</th>\n",
       "      <th>Adventure</th>\n",
       "      <th>Animation</th>\n",
       "      <th>Comedy</th>\n",
       "      <th>Crime</th>\n",
       "      <th>Documentary</th>\n",
       "      <th>Drama</th>\n",
       "      <th>Family</th>\n",
       "      <th>Fantasy</th>\n",
       "      <th>History</th>\n",
       "      <th>Horror</th>\n",
       "      <th>Music</th>\n",
       "      <th>Mystery</th>\n",
       "      <th>Romance</th>\n",
       "      <th>Science Fiction</th>\n",
       "      <th>TV Movie</th>\n",
       "      <th>Thriller</th>\n",
       "      <th>War</th>\n",
       "      <th>Western</th>\n",
       "      <th>imdb_id</th>\n",
       "    </tr>\n",
       "  </thead>\n",
       "  <tbody>\n",
       "    <tr>\n",
       "      <th>0</th>\n",
       "      <td>0</td>\n",
       "      <td>0</td>\n",
       "      <td>0</td>\n",
       "      <td>0</td>\n",
       "      <td>0</td>\n",
       "      <td>0</td>\n",
       "      <td>0</td>\n",
       "      <td>0</td>\n",
       "      <td>1</td>\n",
       "      <td>0</td>\n",
       "      <td>0</td>\n",
       "      <td>1</td>\n",
       "      <td>0</td>\n",
       "      <td>1</td>\n",
       "      <td>0</td>\n",
       "      <td>0</td>\n",
       "      <td>0</td>\n",
       "      <td>0</td>\n",
       "      <td>0</td>\n",
       "      <td>2771200</td>\n",
       "    </tr>\n",
       "    <tr>\n",
       "      <th>1</th>\n",
       "      <td>1</td>\n",
       "      <td>0</td>\n",
       "      <td>0</td>\n",
       "      <td>0</td>\n",
       "      <td>0</td>\n",
       "      <td>0</td>\n",
       "      <td>1</td>\n",
       "      <td>0</td>\n",
       "      <td>0</td>\n",
       "      <td>0</td>\n",
       "      <td>0</td>\n",
       "      <td>0</td>\n",
       "      <td>0</td>\n",
       "      <td>0</td>\n",
       "      <td>1</td>\n",
       "      <td>0</td>\n",
       "      <td>0</td>\n",
       "      <td>0</td>\n",
       "      <td>0</td>\n",
       "      <td>3315342</td>\n",
       "    </tr>\n",
       "    <tr>\n",
       "      <th>2</th>\n",
       "      <td>0</td>\n",
       "      <td>0</td>\n",
       "      <td>1</td>\n",
       "      <td>1</td>\n",
       "      <td>0</td>\n",
       "      <td>0</td>\n",
       "      <td>1</td>\n",
       "      <td>1</td>\n",
       "      <td>0</td>\n",
       "      <td>0</td>\n",
       "      <td>0</td>\n",
       "      <td>1</td>\n",
       "      <td>0</td>\n",
       "      <td>0</td>\n",
       "      <td>0</td>\n",
       "      <td>0</td>\n",
       "      <td>0</td>\n",
       "      <td>0</td>\n",
       "      <td>0</td>\n",
       "      <td>3470600</td>\n",
       "    </tr>\n",
       "    <tr>\n",
       "      <th>3</th>\n",
       "      <td>1</td>\n",
       "      <td>1</td>\n",
       "      <td>0</td>\n",
       "      <td>0</td>\n",
       "      <td>0</td>\n",
       "      <td>0</td>\n",
       "      <td>0</td>\n",
       "      <td>0</td>\n",
       "      <td>1</td>\n",
       "      <td>0</td>\n",
       "      <td>0</td>\n",
       "      <td>0</td>\n",
       "      <td>0</td>\n",
       "      <td>0</td>\n",
       "      <td>1</td>\n",
       "      <td>0</td>\n",
       "      <td>0</td>\n",
       "      <td>0</td>\n",
       "      <td>0</td>\n",
       "      <td>3731562</td>\n",
       "    </tr>\n",
       "    <tr>\n",
       "      <th>4</th>\n",
       "      <td>1</td>\n",
       "      <td>1</td>\n",
       "      <td>0</td>\n",
       "      <td>0</td>\n",
       "      <td>0</td>\n",
       "      <td>0</td>\n",
       "      <td>0</td>\n",
       "      <td>0</td>\n",
       "      <td>0</td>\n",
       "      <td>0</td>\n",
       "      <td>0</td>\n",
       "      <td>0</td>\n",
       "      <td>0</td>\n",
       "      <td>0</td>\n",
       "      <td>1</td>\n",
       "      <td>0</td>\n",
       "      <td>1</td>\n",
       "      <td>0</td>\n",
       "      <td>0</td>\n",
       "      <td>369610</td>\n",
       "    </tr>\n",
       "  </tbody>\n",
       "</table>\n",
       "</div>"
      ],
      "text/plain": [
       "   Action  Adventure  Animation  Comedy  Crime  Documentary  Drama  Family  \\\n",
       "0       0          0          0       0      0            0      0       0   \n",
       "1       1          0          0       0      0            0      1       0   \n",
       "2       0          0          1       1      0            0      1       1   \n",
       "3       1          1          0       0      0            0      0       0   \n",
       "4       1          1          0       0      0            0      0       0   \n",
       "\n",
       "   Fantasy  History  Horror  Music  Mystery  Romance  Science Fiction  \\\n",
       "0        1        0       0      1        0        1                0   \n",
       "1        0        0       0      0        0        0                1   \n",
       "2        0        0       0      1        0        0                0   \n",
       "3        1        0       0      0        0        0                1   \n",
       "4        0        0       0      0        0        0                1   \n",
       "\n",
       "   TV Movie  Thriller  War  Western  imdb_id  \n",
       "0         0         0    0        0  2771200  \n",
       "1         0         0    0        0  3315342  \n",
       "2         0         0    0        0  3470600  \n",
       "3         0         0    0        0  3731562  \n",
       "4         0         1    0        0   369610  "
      ]
     },
     "execution_count": 59,
     "metadata": {},
     "output_type": "execute_result"
    }
   ],
   "source": [
    "## ideally coule package this code into a function of spliting all variables, input:\n",
    "# 1. head and tail characters to delet\n",
    "# 2. split by\n",
    "\n",
    "gr = top500_TMDB.ix[:, 'genres']\n",
    "\n",
    "## Split variable `Genres` into list of strings\n",
    " \n",
    "for i in range(len(gr)):\n",
    "        # each row in 'genres' column\n",
    "    st = gr[i]\n",
    "#### -------------------------- for spliting other variables, change here -------------------------\n",
    "        # delete the first three character \" [u' \", and the last two charactor \" '] \"\n",
    "        # split by \" ' u \"\n",
    "    ls = st[3:-2].split(\"', u'\") \n",
    "        # return a list to the 'genres' column\n",
    "    gr[i] = ls\n",
    "    \n",
    "top500_TMDB_genre = pd.DataFrame(gr)[\"genres\"].str.join(sep='*').str.get_dummies(sep='*')\n",
    "top500_TMDB_genre['imdb_id'] = top500_IMDB['imdb_ids']\n",
    "\n",
    "top500_TMDB_genre.head()"
   ]
  },
  {
   "cell_type": "code",
   "execution_count": 60,
   "metadata": {
    "collapsed": false
   },
   "outputs": [
    {
     "data": {
      "text/plain": [
       "Action       217\n",
       "Adventure    190\n",
       "Animation     54\n",
       "Comedy       101\n",
       "Crime         73\n",
       "dtype: int64"
      ]
     },
     "execution_count": 60,
     "metadata": {},
     "output_type": "execute_result"
    }
   ],
   "source": [
    "## count number of labels for each genre\n",
    "top500_TMDB_genre_count = top500_TMDB_genre.sum(axis = 0)\n",
    "top500_TMDB_genre_count.head()"
   ]
  },
  {
   "cell_type": "code",
   "execution_count": 61,
   "metadata": {
    "collapsed": true
   },
   "outputs": [],
   "source": [
    "## save as local files\n",
    "top500_TMDB_genre.to_csv('TMDB_split_genre.txt') # include 'imdb_id'\n",
    "top500_TMDB_genre_count.to_csv('TMDB_split_genre_count.txt')"
   ]
  },
  {
   "cell_type": "markdown",
   "metadata": {
    "collapsed": true
   },
   "source": [
    "---\n",
    "#### 2.1.3 Basic statistics about genre"
   ]
  },
  {
   "cell_type": "markdown",
   "metadata": {},
   "source": [
    "#### Q. How many genres in total? \n",
    "Check the differences between the three information sources: IMDB website, IMDB database, TMDB database."
   ]
  },
  {
   "cell_type": "code",
   "execution_count": 45,
   "metadata": {
    "collapsed": false
   },
   "outputs": [
    {
     "name": "stdout",
     "output_type": "stream",
     "text": [
      "Total Number of Genres from the IMDB website: 27\n",
      "Total Number of Genres from the IMDB database: 24\n",
      "Total Number of Genres from the RMDB database: 19\n"
     ]
    }
   ],
   "source": [
    "## total number of genres\n",
    "print \"Total Number of Genres from the IMDB website:\", top500_IMDB_web.shape[0]\n",
    "print \"Total Number of Genres from the IMDB database:\" , (top500_IMDB_genre.shape[1] - 1)\n",
    "print \"Total Number of Genres from the RMDB database:\" , (top500_TMDB_genre.shape[1] - 1)"
   ]
  },
  {
   "cell_type": "markdown",
   "metadata": {},
   "source": [
    "#### Q. How many movies for each genre?\n",
    "Check the differences between the three information sources: IMDB website, IMDB database, TMDB database."
   ]
  },
  {
   "cell_type": "code",
   "execution_count": null,
   "metadata": {
    "collapsed": true
   },
   "outputs": [],
   "source": []
  },
  {
   "cell_type": "code",
   "execution_count": 34,
   "metadata": {
    "collapsed": true
   },
   "outputs": [],
   "source": [
    "## number of genres for each movie, saved in variable 'n_genre'\n",
    "top500_IMDB_genre['n_genre'] = top500_IMDB_genre.sum(axis = 1)"
   ]
  },
  {
   "cell_type": "markdown",
   "metadata": {},
   "source": [
    "#### Q. How many genre labels for each movie?\n",
    "Check the differences between the three information sources: IMDB website, IMDB database, TMDB database."
   ]
  },
  {
   "cell_type": "markdown",
   "metadata": {},
   "source": [
    "#### 2.1.2 Heatmap between genrens"
   ]
  },
  {
   "cell_type": "code",
   "execution_count": null,
   "metadata": {
    "collapsed": true
   },
   "outputs": [],
   "source": [
    "###  Zecai"
   ]
  },
  {
   "cell_type": "markdown",
   "metadata": {},
   "source": [
    "### 2.2 Genre vs Other Variables"
   ]
  },
  {
   "cell_type": "markdown",
   "metadata": {},
   "source": [
    "#### 2.2.1 Quantitative:\n",
    "- year of release\n",
    "- rating\n",
    "- voting\n",
    "- runtime\n",
    "- production cost"
   ]
  },
  {
   "cell_type": "code",
   "execution_count": null,
   "metadata": {
    "collapsed": true
   },
   "outputs": [],
   "source": [
    "# Danqing"
   ]
  },
  {
   "cell_type": "markdown",
   "metadata": {},
   "source": [
    "#### 2.2.2 Qualitative:\n",
    "- language\n",
    "- country of release\n",
    "- MAPP   "
   ]
  },
  {
   "cell_type": "code",
   "execution_count": null,
   "metadata": {
    "collapsed": true
   },
   "outputs": [],
   "source": [
    "# Zecai"
   ]
  },
  {
   "cell_type": "markdown",
   "metadata": {},
   "source": [
    "#### 2.2.3 Production related:\n",
    "- director\n",
    "- writer\n",
    "- distributor (company)\n",
    "- major cast"
   ]
  },
  {
   "cell_type": "code",
   "execution_count": 1,
   "metadata": {
    "collapsed": true
   },
   "outputs": [],
   "source": [
    "# (1 sample) Wenshan"
   ]
  },
  {
   "cell_type": "markdown",
   "metadata": {},
   "source": [
    "#### 2.2.4 Text Analysis:\n",
    "- plot outline\n",
    "- plot\n",
    "- title\n",
    "- reason for MPAA rating"
   ]
  },
  {
   "cell_type": "code",
   "execution_count": 2,
   "metadata": {
    "collapsed": true
   },
   "outputs": [],
   "source": [
    "# not now"
   ]
  },
  {
   "cell_type": "markdown",
   "metadata": {},
   "source": [
    "--------\n",
    "\n",
    "## 3. Challenges for Next Step \n",
    "\n",
    "Hints:\n",
    "Comments on what challenges you see for predicting movie genre based on the data you have, and how to address them"
   ]
  },
  {
   "cell_type": "markdown",
   "metadata": {
    "collapsed": true
   },
   "source": [
    "Zecai\n",
    "- multiple genres / how many genres to predict\n",
    "- assemble data (how much to sample? download the whole?\n",
    "\n",
    "Danqing\n",
    "- missing information / sparse data for some genres\n",
    "- merge/combine two database (inconsistency)\n",
    "\n",
    "Wenshan\n",
    "- feature selection? \n",
    "- whether text analysis?"
   ]
  },
  {
   "cell_type": "code",
   "execution_count": null,
   "metadata": {
    "collapsed": true
   },
   "outputs": [],
   "source": []
  }
 ],
 "metadata": {
  "anaconda-cloud": {},
  "kernelspec": {
   "display_name": "Python [ipykernel_py2]",
   "language": "python",
   "name": "Python [ipykernel_py2]"
  },
  "language_info": {
   "codemirror_mode": {
    "name": "ipython",
    "version": 2
   },
   "file_extension": ".py",
   "mimetype": "text/x-python",
   "name": "python",
   "nbconvert_exporter": "python",
   "pygments_lexer": "ipython2",
   "version": "2.7.12"
  }
 },
 "nbformat": 4,
 "nbformat_minor": 0
}
