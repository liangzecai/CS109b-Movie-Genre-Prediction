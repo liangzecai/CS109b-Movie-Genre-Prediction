{
 "cells": [
  {
   "cell_type": "markdown",
   "metadata": {},
   "source": [
    "# CS109b Final Project\n",
    "\n",
    "# Milestone 5 CLASSICAL Models\n",
    "\n",
    "\n",
    "by Danqing Wang, Wenshan Zheng, Zecai Liang\n",
    "\n",
    "\n",
    "---"
   ]
  },
  {
   "cell_type": "code",
   "execution_count": 49,
   "metadata": {},
   "outputs": [],
   "source": [
    "import pandas as pd\n",
    "# import all data other than converted text data\n",
    "x_full = pd.read_csv('data_feature_4865.csv')\n",
    "y_full = pd.read_csv('y_full.csv')"
   ]
  },
  {
   "cell_type": "code",
   "execution_count": 50,
   "metadata": {},
   "outputs": [
    {
     "name": "stdout",
     "output_type": "stream",
     "text": [
      "(3000, 284)\n",
      "(1865, 284)\n"
     ]
    }
   ],
   "source": [
    "# import converted text data from zecai\n",
    "text_train = pd.read_csv('data_text_4865_train.csv')\n",
    "text_test = pd.read_csv('data_text_4865_test.csv')\n",
    "text_train.index = text_train['imdb_ids']\n",
    "text_test.index = text_test['imdb_ids']\n",
    "print text_train.shape\n",
    "print text_test.shape"
   ]
  },
  {
   "cell_type": "code",
   "execution_count": 58,
   "metadata": {},
   "outputs": [],
   "source": [
    "######### Run supplement functions block below before running this cell ########\n",
    "x_train_notext, x_test_notext, y_train, y_test = generate_train_test_data(x_full, y_full)"
   ]
  },
  {
   "cell_type": "code",
   "execution_count": 59,
   "metadata": {},
   "outputs": [],
   "source": [
    "x_train = pd.concat([x_train_notext, text_train], axis=1)\n",
    "x_test = pd.concat([x_test_notext, text_test], axis=1)"
   ]
  },
  {
   "cell_type": "code",
   "execution_count": 61,
   "metadata": {
    "collapsed": true
   },
   "outputs": [],
   "source": [
    "x_train.to_csv(\"x_train.csv\")\n",
    "x_test.to_csv(\"x_test.csv\")\n",
    "y_train.to_csv(\"y_train.csv\")\n",
    "y_test.to_csv(\"y_test.csv\")"
   ]
  },
  {
   "cell_type": "markdown",
   "metadata": {},
   "source": [
    "## Supplement: functions that are used in the above meta-function:"
   ]
  },
  {
   "cell_type": "code",
   "execution_count": 51,
   "metadata": {
    "collapsed": true
   },
   "outputs": [],
   "source": [
    "##### part of the function to apply text analysis to a data series #####\n",
    "#### to transform a text paragraph to bag-of-words than to one-hot coding\n",
    "\n",
    "\n",
    "#----------------------------------------------------------------------------------------------------\n",
    "### Input ###\n",
    "        # data: a series for text analysis\n",
    "\n",
    "        \n",
    "### Output ###\n",
    "        # the transformed data in one-hot coding\n",
    "#----------------------------------------------------------------------------------------------------        \n",
    "\n",
    "\n",
    "\n",
    "def text_to_matrix(data):\n",
    "    \n",
    "    import pandas as pd\n",
    "    import numpy as np\n",
    "    import re\n",
    "    import warnings\n",
    "    warnings.filterwarnings(\"ignore\")\n",
    "    \n",
    "    \n",
    "    \n",
    "    ## --------------- Bag-of-Words --------------- ##\n",
    "    \n",
    "    ## string to list\n",
    "    import re\n",
    "    col_words = []\n",
    "    \n",
    "    for i in range(data.shape[0]):\n",
    "    \n",
    "        if type(data.iloc[i,0]) == str: \n",
    "            letters_only = re.sub(\"[^a-zA-Z]\", \" \" , data.iloc[i,0]) # remove non-letter\n",
    "            lower_case = letters_only.lower().split()   # Convert to lower case # Split into words\n",
    "            \n",
    "            # avoid downloading nltk\n",
    "            # from NLTK stopwords https://pythonprogramming.net/stop-words-nltk-tutorial/\n",
    "            stops = {'ourselves', 'hers', 'between', 'yourself', 'but', 'again', 'there', 'about', 'once', \n",
    "                     'during', 'out', 'very', 'having', 'with', 'they', 'own', 'an', 'be', 'some', 'for', \n",
    "                     'do', 'its', 'yours', 'such', 'into', 'of', 'most', 'itself', 'other', 'off', 'is', \n",
    "                     's', 'am', 'or', 'who', 'as', 'from', 'him', 'each', 'the', 'themselves', 'until', \n",
    "                     'below', 'are', 'we', 'these', 'your', 'his', 'through', 'don', 'nor', 'me', 'were', \n",
    "                     'her', 'more', 'himself', 'this', 'down', 'should', 'our', 'their', 'while', 'above', \n",
    "                     'both', 'up', 'to', 'ours', 'had', 'she', 'all', 'no', 'when', 'at', 'any', 'before', \n",
    "                     'them', 'same', 'and', 'been', 'have', 'in', 'will', 'on', 'does', 'yourselves', 'then', \n",
    "                     'that', 'because', 'what', 'over', 'why', 'so', 'can', 'did', 'not', 'now', 'under', 'he', \n",
    "                     'you', 'herself', 'has', 'just', 'where', 'too', 'only', 'myself', 'which', 'those', 'i', \n",
    "                     'after', 'few', 'whom', 't', 'being', 'if', 'theirs', 'my', 'against', 'a', 'by', 'doing', \n",
    "                     'it', 'how', 'further', 'was', 'here', 'than'} \n",
    "            meaningful_words = [w for w in lower_case if not w in stops]  # Remove stop words from \"words\"\n",
    "            \n",
    "            words = ( \" \".join(meaningful_words))\n",
    "    \n",
    "        else: words = \"NA\"\n",
    "       \n",
    "        col_words.append(words)\n",
    "        \n",
    "        \n",
    "    \n",
    "    ## list to vector\n",
    "    from sklearn.feature_extraction.text import CountVectorizer\n",
    "\n",
    "    # Initialize the \"CountVectorizer\" object\n",
    "    vectorizer = CountVectorizer(analyzer = \"word\",   \n",
    "                                 tokenizer = None,    \n",
    "                                 preprocessor = None, \n",
    "                                 stop_words = None,   \n",
    "                                 max_features = 20000)\n",
    "\n",
    "    data_array = vectorizer.fit_transform(col_words)\n",
    "    data_array = pd.DataFrame(data_array.toarray())\n",
    "    data_array.columns = vectorizer.get_feature_names()\n",
    "    \n",
    "    return data_array\n",
    "    "
   ]
  },
  {
   "cell_type": "markdown",
   "metadata": {},
   "source": [
    "### Function for Variable ['title', 'plot', 'plot outline', 'overview_TMDB', 'tagline_TMDB', 'mpaa_reason']"
   ]
  },
  {
   "cell_type": "code",
   "execution_count": 52,
   "metadata": {
    "collapsed": true
   },
   "outputs": [],
   "source": [
    "##### Function to apply text analysis to a column with `colname` in the data file `filename`\n",
    "\n",
    "\n",
    "#----------------------------------------------------------------------------------------------------\n",
    "### Input ###\n",
    "        # train: the train data in one-hot coding\n",
    "        # test: the test data in one-hot coding\n",
    "        # val_name:  variable name that's used in naming the columns as \"val_name_PCi\"\n",
    "        # n_components: if value is int, the number of PCs to return\n",
    "                       # if value between (0,1), the variance explained by the PCs returnd\n",
    "        \n",
    "### Output ###\n",
    "        # data matrix of engineered feature, one for train data and one for test data\n",
    "#----------------------------------------------------------------------------------------------------        \n",
    "\n",
    "\n",
    "def text_analysis(train, test, val_name, n_components):\n",
    "    \n",
    "    ## turn each text paragraph into one-hot coding\n",
    "    train_array = text_to_matrix(train)\n",
    "    test_array = text_to_matrix(test)\n",
    "    \n",
    "    ## take the union set of words in train and text data as column\n",
    "    ## words that don't show up are assigned 0\n",
    "    align_column = pd.concat([train_array,test_array], axis=0).fillna(0)\n",
    "    # keep only the gas-of-words from training data\n",
    "    align_column = align_column[train_array.columns]\n",
    "    \n",
    "    ## split into train and text after aligning the columns\n",
    "    train_array = align_column.iloc[0:train_array.shape[0], ]\n",
    "    test_array = align_column.iloc[train_array.shape[0]:, ]\n",
    "    \n",
    "    ## PCA\n",
    "    from sklearn.decomposition import PCA\n",
    "    pca = PCA(n_components = n_components)\n",
    "    pca.fit(train_array)\n",
    "    train_new = pd.DataFrame(pca.transform(train_array), index = train.index)\n",
    "    test_new = pd.DataFrame(pca.transform(test_array), index = test.index)\n",
    "    test_new = test_new.fillna(value = 0)\n",
    "    \n",
    "    col_names = []\n",
    "    for i in range(train_new.shape[1]):\n",
    "        i_name = val_name + \"_PC\" + str(i+1)\n",
    "        col_names.append(i_name)\n",
    "        \n",
    "    train_new.columns = col_names\n",
    "    test_new.columns = col_names\n",
    "    \n",
    "    return (train_new, test_new)\n",
    "    "
   ]
  },
  {
   "cell_type": "markdown",
   "metadata": {},
   "source": [
    "### Function used in the following functions"
   ]
  },
  {
   "cell_type": "code",
   "execution_count": 250,
   "metadata": {
    "collapsed": true
   },
   "outputs": [],
   "source": [
    "### Function to convert to string list [u'Action', u'Adventure', u'Fantasy'] into dummy coding\n",
    "## input: \n",
    "           # data = orignal data frame, \n",
    "           # val_name = name of the variable\n",
    "## output: a data frame\n",
    "\n",
    "def string_to_vector(data, val_name):\n",
    "    \n",
    "    from sklearn.feature_extraction.text import CountVectorizer\n",
    "    \n",
    "    # convert any np.nan to a string 'nan'\n",
    "    data[val_name][pd.isnull(data[val_name])] = 'nan'\n",
    "    \n",
    "    vectorizer = CountVectorizer(analyzer = \"word\",   \n",
    "                                             tokenizer = None,    \n",
    "                                             preprocessor = None, \n",
    "                                             stop_words = None,   \n",
    "                                             max_features = 50000)\n",
    "\n",
    "    val_data = vectorizer.fit_transform(data[val_name])\n",
    "    df_val = pd.DataFrame(val_data.toarray())\n",
    "    df_val.columns = vectorizer.get_feature_names()\n",
    "    df_val.index = data.index\n",
    "    \n",
    "    return df_val"
   ]
  },
  {
   "cell_type": "markdown",
   "metadata": {},
   "source": [
    "### Function for Variable ['director', 'writer']"
   ]
  },
  {
   "cell_type": "code",
   "execution_count": 251,
   "metadata": {
    "collapsed": true
   },
   "outputs": [],
   "source": [
    "### Function considers a particular feature of interest (e.g. director, writer) \n",
    "### and picks out the top val_n most important value in each genre\n",
    "### Input: \n",
    "# - train_feature: df with 2500 train observations, all feature columns, indexed with imdb_ids\n",
    "# - train_genre: df with 2500 train observations, all genre columns, indexed with imdb_ids\n",
    "# - test_feature: df with 2500 test observations, all feature columns, indexed with imdb_ids \n",
    "# - test_genre: df with 2500 test observations, all genre columns, indexed with imdb_ids\n",
    "# - val_name # feature of interest, eg. director\n",
    "# - val_n # number of top values to take, eg. 1\n",
    "### Output:\n",
    "# - train_val: df with 2500 train observations, new columns of top directors, indexed with imdb_ids\n",
    "# - test_val: df with 2500 test observations, new columns of top directors, indexed with imdb_ids\n",
    "\n",
    "def top_features(train_feature, train_genre, test_feature, test_genre,\n",
    "                val_name = 'director', val_n = 1):\n",
    "\n",
    "    # convert feature of interest into dummy variables in train set and test set\n",
    "    feature_val_train = string_to_vector(train_feature, val_name)\n",
    "    feature_val_test = string_to_vector(test_feature, val_name)\n",
    "\n",
    "    # create a dataframe with columns consisting of all directors and all genres, rows are movie entries \n",
    "    feature_val_genre = pd.concat([feature_val_train, train_genre], axis = 1)\n",
    "    \n",
    "    # generate list of top directors in each genre \n",
    "    val_list = []\n",
    "    for i in train_genre.columns:\n",
    "        sum_val_in_genre = feature_val_genre.ix[feature_val_genre[i] == 1, range(feature_val_train.shape[1]-1)].sum(axis = 0)\n",
    "        sum_val_in_genre_sorted = sum_val_in_genre.sort(inplace=False, ascending = False)\n",
    "        for j in range(val_n):\n",
    "            top_val_in_genre = sum_val_in_genre_sorted.index[j]\n",
    "            val_list.append(top_val_in_genre)      \n",
    "\n",
    "    # output dataframes of movies with new columns\n",
    "    train_val = feature_val_train.ix[:, val_list] \n",
    "    test_val = feature_val_test.ix[:, val_list]\n",
    "    \n",
    "    # replace any NA vaalues in the test set with 0\n",
    "    test_val = test_val.fillna(value = 0)\n",
    "    \n",
    "    # rename columns as director1, director2, etc\n",
    "    col_names = []\n",
    "    for i in range(train_val.shape[1]):\n",
    "            i_name = val_name + str(i)\n",
    "            col_names.append(i_name)\n",
    "    train_val.columns = col_names\n",
    "    test_val.columns = col_names\n",
    "\n",
    "    return(train_val, test_val)"
   ]
  },
  {
   "cell_type": "code",
   "execution_count": 254,
   "metadata": {},
   "outputs": [
    {
     "data": {
      "text/plain": [
       "Index([u'year', u'rating', u'votes', u'popularity_TMDB', u'runtime_TMDB',\n",
       "       u'mpaa_PC1', u'mpaa_PC2', u'mpaa_PC3', u'mpaa_PC4', u'mpaa_PC5',\n",
       "       ...\n",
       "       u'text_PC274', u'text_PC275', u'text_PC276', u'text_PC277',\n",
       "       u'text_PC278', u'text_PC279', u'text_PC280', u'text_PC281',\n",
       "       u'text_PC282', u'text_PC283'],\n",
       "      dtype='object', length=344)"
      ]
     },
     "execution_count": 254,
     "metadata": {},
     "output_type": "execute_result"
    }
   ],
   "source": [
    "x_train.columns"
   ]
  },
  {
   "cell_type": "markdown",
   "metadata": {},
   "source": [
    "### Function for Variable ['cast','production company']"
   ]
  },
  {
   "cell_type": "code",
   "execution_count": 55,
   "metadata": {
    "collapsed": true
   },
   "outputs": [],
   "source": [
    "### Function considers a particular feature of interest (e.g. cast, production companies) \n",
    "### and picks out the top val_n most important value in each genre\n",
    "### and then performs PCA, picks out the top pca_n numbers of components\n",
    "### Input: \n",
    "# - train_feature: df with 2500 train observations, all feature columns, indexed with imdb_ids\n",
    "# - train_genre: df with 2500 train observations, all genre columns, indexed with imdb_ids\n",
    "# - test_feature: df with 2500 test observations, all feature columns, indexed with imdb_ids \n",
    "# - test_genre: df with 2500 test observations, all genre columns, indexed with imdb_ids\n",
    "# - val_name # feature of interest, eg. director\n",
    "# - val_n # number of top values to take, eg. 5\n",
    "# - pca_n # number of pca components to retain, eg. 5\n",
    "### Output:\n",
    "# - train_val: df with 3000 train observations, columns as pca components, indexed with imdb_ids\n",
    "# - test_val: df with 2000 test observations, columns as pca components, indexed with imdb_ids\n",
    "\n",
    "def top_features_pca(train_feature, train_genre, test_feature, test_genre,\n",
    "                     val_name = 'cast',\n",
    "                     val_n = 5,\n",
    "                     pca_n = 5):\n",
    "    \n",
    "    ## Step 1, pick top casts in each genre using top_feature function \n",
    "    train_val, test_val = top_features(train_feature = train_feature,\n",
    "                    train_genre = train_genre,\n",
    "                    test_feature = test_feature,\n",
    "                    test_genre = test_genre,\n",
    "                    val_name = val_name,\n",
    "                    val_n = val_n)\n",
    "    \n",
    "    # replace any NA values in test set with 0 (or will have problem in pca.transform)\n",
    "    test_val = test_val.fillna(value=0)\n",
    "\n",
    "    ## Step 2, perform PCA\n",
    "    from sklearn.decomposition import PCA\n",
    "    \n",
    "    pca = PCA(n_components = pca_n, svd_solver = \"full\") # keep the first pca_n PCs\n",
    "    pca = pca.fit(train_val)\n",
    "    train_pca = pd.DataFrame(pca.transform(train_val), index = train_val.index)\n",
    "    test_pca = pd.DataFrame(pca.transform(test_val), index = test_val.index)\n",
    "\n",
    "    ## Step 3, rename the columns as cast_PC1, cast_PC2, etc. \n",
    "    col_names = []\n",
    "    for i in range(pca_n):\n",
    "            i_name = val_name + \"_PC\" + str(i+1)\n",
    "            col_names.append(i_name)\n",
    "    train_pca.columns = col_names\n",
    "    test_pca.columns = col_names\n",
    "\n",
    "    return (train_pca, test_pca)"
   ]
  },
  {
   "cell_type": "markdown",
   "metadata": {},
   "source": [
    "### Function for Variable ['animatino department', 'original music']"
   ]
  },
  {
   "cell_type": "code",
   "execution_count": 56,
   "metadata": {
    "collapsed": true
   },
   "outputs": [],
   "source": [
    "### Function considers a particular feature of interest (e.g. animation department, original music) \n",
    "### and counts the number of member occurance in each movie \n",
    "### Input: \n",
    "# - train_feature: df with 2500 train observations, all feature columns, indexed with imdb_ids\n",
    "# - test_feature: df with 2500 test observations, all feature columns, indexed with imdb_ids \n",
    "# - val_name # feature of interest, eg. animation department\n",
    "### Output:\n",
    "# - train_count: df with 2500 train observations, new column of count, indexed with imdb_ids\n",
    "# - test_count: df with 2500 test observations, new column of count, indexed with imdb_ids\n",
    "\n",
    "def feature_to_count(train_feature, train_genre, test_feature, test_genre,\n",
    "                val_name = 'animation department'):\n",
    "    \n",
    "    # convert column to number of counts of members \n",
    "    train_count = pd.DataFrame(string_to_vector(train_feature, val_name).ix[:,:-1].sum(axis=1), \n",
    "                               columns = {val_name + ' count'})\n",
    "    test_count = pd.DataFrame(string_to_vector(test_feature, val_name).ix[:,:-1].sum(axis=1), \n",
    "                              columns = {val_name + ' count'})\n",
    "    \n",
    "    return(train_count, test_count)"
   ]
  },
  {
   "cell_type": "markdown",
   "metadata": {},
   "source": [
    "## Function to combine everything other than text"
   ]
  },
  {
   "cell_type": "code",
   "execution_count": 57,
   "metadata": {
    "collapsed": true
   },
   "outputs": [],
   "source": [
    "###### Function to generate train and test data for classification models #######\n",
    "### ------ Input ---------- ###\n",
    "# feature_data: a data frame with original features from IMDB and TMDB\n",
    "# genre_data: a data grame with genres (already merged turned into one-hot coding), \n",
    "#             matching the feature_data by 'imdb_ids'\n",
    "# n_sample: the number of data points to sample from the input data frame to fit model\n",
    "# train_ratio: the percentage of training data among sampled data\n",
    "# ran_state: seed for random sampling\n",
    "\n",
    "\n",
    "def generate_train_test_data(x_full, y_full):\n",
    "    \n",
    "    import pandas as pd\n",
    "    import numpy as np\n",
    "    import re\n",
    "    import random\n",
    "    import warnings\n",
    "    warnings.filterwarnings(\"ignore\")\n",
    "\n",
    "    # ------------------------------------------------------------------------------------------------------ #     \n",
    "    \n",
    "    ### split into train and test data ###\n",
    "    \n",
    "    x_train = x_full[:3000]\n",
    "    x_test = x_full[3000:]\n",
    "    y_train = y_full[:3000]\n",
    "    y_test = y_full[3000:]\n",
    "    \n",
    "    \n",
    "    # ------------------------------------------------------------------------------------------------------ # \n",
    "    ### Variable Group 1: ['year', 'rating', 'votes', 'popularity_TMDB', 'runtime_TMDB'] ###\n",
    "\n",
    "    val_group1 = ['year', 'rating', 'votes', 'popularity_TMDB', 'runtime_TMDB']\n",
    "    \n",
    "    ## missing value imputation ##\n",
    "    # use the mean from train data to fill test data \n",
    "\n",
    "    # 'year', 'rating', 'votes' have missing values as 'NaN', fill by column mean\n",
    "    x_train.ix[x_train['year'].isnull(), 'year'] = x_train['year'].mean()\n",
    "    x_test.ix[x_test['year'].isnull(), 'year'] = x_train['year'].mean()\n",
    "\n",
    "    x_train.ix[x_train['rating'].isnull(), 'rating'] = x_train['rating'].mean()\n",
    "    x_test.ix[x_test['rating'].isnull(), 'rating'] = x_train['rating'].mean()\n",
    "\n",
    "    x_train.ix[x_train['votes'].isnull(), 'votes'] = x_train['votes'].mean()\n",
    "    x_test.ix[x_test['votes'].isnull(), 'votes'] = x_train['votes'].mean()\n",
    "\n",
    "    # 'popularity_TMDB' have missing values as 0, replace by column mean\n",
    "    x_train.ix[x_train['popularity_TMDB'] == 0, 'popularity_TMDB'] = x_train['popularity_TMDB'].mean()\n",
    "    x_test.ix[x_test['popularity_TMDB'] == 0, 'popularity_TMDB'] = x_train['popularity_TMDB'].mean()\n",
    "    \n",
    "    # 'runtime_TMDB' have missing values as 0 and 'NaN'\n",
    "    value = x_train['runtime_TMDB'].mean()\n",
    "    x_train.ix[x_train['runtime_TMDB'] == 0, 'runtime_TMDB'] = value\n",
    "    x_train.ix[x_train['runtime_TMDB'].isnull(), 'runtime_TMDB'] = value\n",
    "    x_test.ix[x_test['runtime_TMDB'] == 0, 'runtime_TMDB'] = value\n",
    "    x_test.ix[x_test['runtime_TMDB'].isnull(), 'runtime_TMDB'] = value\n",
    "    \n",
    "    \n",
    "    ## use x_train_new, x_test_new to record the transformed data\n",
    "    x_train_group1 = x_train[val_group1]\n",
    "    x_test_group1 = x_test[val_group1]\n",
    "\n",
    "    \n",
    "    # ------------------------------------------------------------------------------------------------------ # \n",
    "    ### Variables Group 2: ['title', 'plot', 'plot outline', 'overview_TMDB', 'tagline_TMDB', 'mpaa_reason'] ###\n",
    "\n",
    "    ## combine the text in ['title', 'plot', 'plot outline', 'overview_TMDB', 'tagline_TMDB']\n",
    "\n",
    "#     x_train_text = x_train['title'].str.cat([x_train['plot'], x_train['plot outline'], \n",
    "#                               x_train['overview_TMDB'], x_train['tagline_TMDB']], \n",
    "#                               na_rep = \" \")\n",
    "#     x_train_text = pd.DataFrame(x_train_text, index = x_train.index)\n",
    "\n",
    "#     x_test_text = x_test['title'].str.cat([x_test['plot'], x_train['plot outline'], \n",
    "#                               x_test['overview_TMDB'], x_test['tagline_TMDB']], \n",
    "#                               na_rep = \" \")\n",
    "#     x_test_text = pd.DataFrame(x_test_text, index = x_test.index)\n",
    "\n",
    "#     ## apply text analysis on combined text and return the top 30 PCs\n",
    "#     x_train_group2, x_test_group2 = text_analysis(x_train_text, x_test_text,\n",
    "#                                              val_name = 'text', n_components = 30)\n",
    "\n",
    "    \n",
    "    # ------------------------------------------------------------------------------------------------------ # \n",
    "    ### Variables Group 3: [mpaa_reason'] ###\n",
    "\n",
    "    ## apply text analysis on 'mpaa_reason' and return thr PCs that cover 60% variance\n",
    "    x_train_mpaa = pd.DataFrame(x_train['mpaa_reason'], index = x_train.index)\n",
    "    x_test_mpaa = pd.DataFrame(x_test['mpaa_reason'], index = x_test.index)\n",
    "    \n",
    "    x_train_group3, x_test_group3 = text_analysis(x_train_mpaa, x_test_mpaa,\n",
    "                                             val_name = 'mpaa', n_components = 10)\n",
    "    \n",
    "    \n",
    "    # ------------------------------------------------------------------------------------------------------ # \n",
    "    ### Variables Group 4: ['director', 'cast', 'production company', 'writer'] ###\n",
    "    \n",
    "    x_train_group4_1, x_test_group4_1 = top_features(train_feature = x_train, train_genre = y_train,\n",
    "                                        test_feature = x_test, test_genre = y_test,\n",
    "                                        val_name = 'director',\n",
    "                                        val_n = 1)\n",
    "    \n",
    "    x_train_group4_2, x_test_group4_2 = top_features(train_feature = x_train, train_genre = y_train,\n",
    "                                        test_feature = x_test, test_genre = y_test,\n",
    "                                        val_name = 'writer',\n",
    "                                        val_n = 1)\n",
    "\n",
    "    x_train_group4_3, x_test_group4_3 = top_features_pca(train_feature = x_train, train_genre = y_train,\n",
    "                                        test_feature = x_test, test_genre = y_test,\n",
    "                                         val_name = 'cast',\n",
    "                                         val_n = 5,\n",
    "                                         pca_n = 10)\n",
    "\n",
    "    x_train_group4_4, x_test_group4_4 = top_features_pca(train_feature = x_train, train_genre = y_train,\n",
    "                                        test_feature = x_test, test_genre = y_test,\n",
    "                                         val_name = 'production companies',\n",
    "                                         val_n = 5,\n",
    "                                         pca_n = 5)\n",
    "     \n",
    "    x_train_group4 = pd.concat([x_train_group4_1, x_train_group4_2,\n",
    "                               x_train_group4_3, x_train_group4_4], axis = 1)\n",
    "    x_test_group4 = pd.concat([x_test_group4_1, x_test_group4_2,\n",
    "                               x_test_group4_3, x_test_group4_4], axis = 1)\n",
    "    \n",
    "    # ------------------------------------------------------------------------------------------------------ # \n",
    "    ### Variables Group 5: ['animation department', 'original music'] ###\n",
    "    \n",
    "    # return x_train_group5, x_test_group5\n",
    "    \n",
    "    x_train_group5_1, x_test_group5_1 = feature_to_count(train_feature = x_train, train_genre = y_train,\n",
    "                                        test_feature = x_test, test_genre = y_test,\n",
    "                                        val_name = 'animation department')\n",
    "\n",
    "    x_train_group5_2, x_test_group5_2 = feature_to_count(train_feature = x_train, train_genre = y_train,\n",
    "                                        test_feature = x_test, test_genre = y_test,\n",
    "                                        val_name = 'original music')\n",
    "    \n",
    "    \n",
    "    x_train_group5 = pd.concat([x_train_group5_1, x_train_group5_2], axis = 1)\n",
    "    x_test_group5 = pd.concat([x_test_group5_1, x_test_group5_2], axis = 1)\n",
    "    \n",
    "    \n",
    "    # ------------------------------------------------------------------------------------------------------ # \n",
    "    ### Variables Group 6: ['countries'] ###\n",
    "    x_train_country = text_to_matrix(pd.DataFrame(x_train['countries'], index = x_train.index))\n",
    "    x_test_country = text_to_matrix(pd.DataFrame(x_test['countries'], index = x_test.index))\n",
    "    \n",
    "    x_train_country.index = x_train.index\n",
    "    x_test_country.index = x_test.index\n",
    "    \n",
    "      # count the number of countries for each movie\n",
    "    x_train_group6_1 = pd.DataFrame(x_train_country.sum(axis = 1), columns = ['country_n'])\n",
    "    x_test_group6_1 = pd.DataFrame(x_test_country.sum(axis = 1), columns = ['country_n'])\n",
    "    \n",
    "      # keep the information of major countries\n",
    "    country_major = ['usa', 'france', 'uk', 'germany', 'italy', 'canada', 'japan', 'india', 'spain']\n",
    "    x_train_group6_2 = x_train_country[country_major]\n",
    "    x_train_group6_2.columns = ['country_usa', 'country_france', \n",
    "                                 'country_uk', 'country_germany',\n",
    "                                 'country_italy', 'country_canada', \n",
    "                                 'country_japan', 'country_india', 'country_spain'] \n",
    "    x_test_group6_2 = x_test_country[country_major]\n",
    "    x_test_group6_2.columns = ['country_usa', 'country_france', \n",
    "                                 'country_uk', 'country_germany',\n",
    "                                 'country_italy', 'country_canada', \n",
    "                                 'country_japan', 'country_india', 'country_spain']\n",
    "    \n",
    "    # ------------------------------------------------------------------------------------------------------ # \n",
    "    ### Combine Engineered Features ###\n",
    "    x_train_new = pd.concat([x_train_group1, x_train_group3, \n",
    "                             x_train_group4, x_train_group5,\n",
    "                             x_train_group6_1, x_train_group6_2], axis=1)\n",
    "    \n",
    "    x_test_new = pd.concat([x_test_group1, x_test_group3, \n",
    "                             x_test_group4, x_test_group5,\n",
    "                            x_test_group6_1, x_test_group6_2], axis=1)\n",
    "    \n",
    "    x_train_new.index = x_train['imdb_ids']\n",
    "    x_test_new.index = x_test['imdb_ids']\n",
    "    \n",
    "     \n",
    "    return (x_train_new, x_test_new, y_train, y_test)"
   ]
  },
  {
   "cell_type": "markdown",
   "metadata": {},
   "source": [
    "---\n",
    "# Part 2. Performance Metrics"
   ]
  },
  {
   "cell_type": "markdown",
   "metadata": {},
   "source": [
    "ref: http://scikit-learn.org/stable/modules/generated/sklearn.metrics.f1_score.html\n",
    "\n",
    "We considered three metircs to use:\n",
    "\n",
    "#### F1 Score: #### \n",
    "- For each movie to be predicted, we use the `f1_score` function from `sklearn.metrics` package to compare the predicted value (23-long vector with 0 and 1 for each genre) and true value. To start with, we can calculate metrics for each label, and find their unweighted mean. This does not take label imbalance into account.\n",
    "- We choose F1 score because we care about both false positive and false negative mistakes. For now we are giving them the same weights, so we take the harmonic mean of precision and recall. But this can be further adjusted depending on the application of this prediction (whether it's worse to mis-classified a genre or to miss a genre).\n",
    "\n",
    "#### weighted F1 Score: #### \n",
    "- We can also use the 'weighted average' for F1 score: calculate metrics for each label, and find their average, weighted by support (the number of true instances for each label). This accounts for inbalanced data.\n",
    "\n",
    "#### IoU Score ####\n",
    "- We also exlored another metric: Intersection over Union (IoU). Accuracy score here is defined as (intersection between real and predicted vectors) / (union between real and predicted vectors). It also moniters both false positive and false negtive mistakes.\n",
    "\n",
    "For the following model tuning, we'll use unweighted F1 score."
   ]
  },
  {
   "cell_type": "markdown",
   "metadata": {},
   "source": [
    "#### The function to calculate averaged F1 score:"
   ]
  },
  {
   "cell_type": "code",
   "execution_count": 64,
   "metadata": {
    "collapsed": true
   },
   "outputs": [],
   "source": [
    "# Function f1_genre\n",
    "# input: two pandas dataframes, \n",
    "    # genre_real: predicted values\n",
    "    # genre_predict: real values\n",
    "# output: mean f1 score of each class\n",
    "def f1_genres(genre_real, genre_predict):\n",
    "    count_row = len(genre_real)\n",
    "    if count_row == 0:\n",
    "        print \"No data in dataframe!\"\n",
    "        return\n",
    "    if count_row != len(genre_predict):\n",
    "        print \"Different length of predicted and real dataframes!\"\n",
    "        return\n",
    "    count_col = len(genre_real.columns)\n",
    "    if count_col == 0:\n",
    "        print \"No data in dataframe!\"\n",
    "        return\n",
    "    if count_col != len(genre_predict.columns):\n",
    "        print \"Different genres of predicted and real dataframes!\"\n",
    "        return\n",
    "    score = 0\n",
    "    for i in range(count_col):\n",
    "        score += f1_score(genre_real[genre_real.columns.values[i]], genre_predict[genre_predict.columns.values[i]])\n",
    "    score = score/count_col\n",
    "    return(score)"
   ]
  },
  {
   "cell_type": "markdown",
   "metadata": {},
   "source": [
    "#### Function to calculate the aveage IoU score:"
   ]
  },
  {
   "cell_type": "code",
   "execution_count": 65,
   "metadata": {
    "collapsed": true
   },
   "outputs": [],
   "source": [
    "# Function score_genre\n",
    "# input: two pandas dataframes, \n",
    "    # genre_real: predicted values\n",
    "    # genre_predict: real values\n",
    "# output: mean accuracy of prediction\n",
    "# accuracy score here is defined as \n",
    "    # (intersection between real and predicted vectors) / (union between real and predicted vectors)\n",
    "\n",
    "def score_genre(genre_real, genre_predict):\n",
    "    count_row = len(genre_real)\n",
    "    if count_row == 0:\n",
    "        print \"No data in dataframe!\"\n",
    "        return\n",
    "    if count_row != len(genre_predict):\n",
    "        print \"Different length of predicted and real dataframes!\"\n",
    "        return\n",
    "    count_col = len(genre_real.columns)\n",
    "    if count_col == 0:\n",
    "        print \"No data in dataframe!\"\n",
    "        return\n",
    "    if count_col != len(genre_predict.columns):\n",
    "        print \"Different genres of predicted and real dataframes!\"\n",
    "        return\n",
    "    accuracy_genre = 0.0\n",
    "    for i in range(count_row):\n",
    "        count_intersection = 0.0\n",
    "        count_unity = 0.0\n",
    "        accuracy_temp = 0.0\n",
    "        for j in range(len(genre_real.columns)):\n",
    "            if genre_real.iloc[i][j] == 1 or genre_predict.iloc[i][j] == 1:\n",
    "                count_unity += 1.0\n",
    "            if genre_real.iloc[i][j] == 1 and genre_predict.iloc[i][j] == 1:\n",
    "                count_intersection += 1.0 \n",
    "        if count_unity == 0: # a few ovservations has no genre assigned, delete these values from evaluation\n",
    "            count_row = count_row - 1\n",
    "        else:\n",
    "            accuracy_temp = count_intersection / count_unity\n",
    "            accuracy_genre += accuracy_temp\n",
    "    if count_row <= 0:\n",
    "        print \"No meaning value!\"\n",
    "        return\n",
    "    return (accuracy_genre/count_row)"
   ]
  },
  {
   "cell_type": "markdown",
   "metadata": {},
   "source": [
    "---\n",
    "# Part 3. Benchmark Models"
   ]
  },
  {
   "cell_type": "code",
   "execution_count": 185,
   "metadata": {},
   "outputs": [],
   "source": [
    "import pandas as pd\n",
    "import numpy as np\n",
    "import random\n",
    "\n",
    "import matplotlib.pyplot as plt\n",
    "%matplotlib inline\n",
    "import seaborn as sns\n",
    "\n",
    "from sklearn.metrics import f1_score\n",
    "import scipy as sp\n",
    "from sklearn.cross_validation import KFold\n",
    "from sklearn import preprocessing\n",
    "from sklearn.linear_model import LogisticRegression\n",
    "from sklearn.discriminant_analysis import LinearDiscriminantAnalysis as LDA\n",
    "from sklearn.discriminant_analysis import QuadraticDiscriminantAnalysis as QDA\n",
    "from sklearn.neighbors import KNeighborsClassifier as KNN\n",
    "from sklearn.tree import DecisionTreeClassifier as DecisionTree\n",
    "from sklearn.ensemble import RandomForestClassifier as RandomForest\n",
    "from sklearn.svm import SVC\n",
    "from sklearn.model_selection import cross_val_score"
   ]
  },
  {
   "cell_type": "code",
   "execution_count": 186,
   "metadata": {},
   "outputs": [],
   "source": [
    "## read in datasets\n",
    "x_test = pd.read_csv('x_test.csv',index_col=0)\n",
    "x_train = pd.read_csv('x_train.csv',index_col=0)\n",
    "y_test = pd.read_csv('y_test.csv',index_col=0)\n",
    "y_train = pd.read_csv('y_train.csv',index_col=0)\n",
    "\n",
    "y_train.index = y_train['Unnamed: 0.1']\n",
    "y_train = y_train.ix[:,1:]\n",
    "y_test.index = y_test['Unnamed: 0.1']\n",
    "y_test = y_test.ix[:,1:]"
   ]
  },
  {
   "cell_type": "code",
   "execution_count": 187,
   "metadata": {},
   "outputs": [
    {
     "data": {
      "text/html": [
       "<div>\n",
       "<table border=\"1\" class=\"dataframe\">\n",
       "  <thead>\n",
       "    <tr style=\"text-align: right;\">\n",
       "      <th></th>\n",
       "      <th>year</th>\n",
       "      <th>rating</th>\n",
       "      <th>votes</th>\n",
       "      <th>popularity_TMDB</th>\n",
       "      <th>runtime_TMDB</th>\n",
       "      <th>mpaa_PC1</th>\n",
       "      <th>mpaa_PC2</th>\n",
       "      <th>mpaa_PC3</th>\n",
       "      <th>mpaa_PC4</th>\n",
       "      <th>mpaa_PC5</th>\n",
       "      <th>...</th>\n",
       "      <th>text_PC274</th>\n",
       "      <th>text_PC275</th>\n",
       "      <th>text_PC276</th>\n",
       "      <th>text_PC277</th>\n",
       "      <th>text_PC278</th>\n",
       "      <th>text_PC279</th>\n",
       "      <th>text_PC280</th>\n",
       "      <th>text_PC281</th>\n",
       "      <th>text_PC282</th>\n",
       "      <th>text_PC283</th>\n",
       "    </tr>\n",
       "    <tr>\n",
       "      <th>imdb_ids</th>\n",
       "      <th></th>\n",
       "      <th></th>\n",
       "      <th></th>\n",
       "      <th></th>\n",
       "      <th></th>\n",
       "      <th></th>\n",
       "      <th></th>\n",
       "      <th></th>\n",
       "      <th></th>\n",
       "      <th></th>\n",
       "      <th></th>\n",
       "      <th></th>\n",
       "      <th></th>\n",
       "      <th></th>\n",
       "      <th></th>\n",
       "      <th></th>\n",
       "      <th></th>\n",
       "      <th></th>\n",
       "      <th></th>\n",
       "      <th></th>\n",
       "      <th></th>\n",
       "    </tr>\n",
       "  </thead>\n",
       "  <tbody>\n",
       "    <tr>\n",
       "      <th>220440</th>\n",
       "      <td>1982.0</td>\n",
       "      <td>7.8</td>\n",
       "      <td>15.0</td>\n",
       "      <td>0.000008</td>\n",
       "      <td>60.000000</td>\n",
       "      <td>-0.266757</td>\n",
       "      <td>0.003165</td>\n",
       "      <td>-0.020917</td>\n",
       "      <td>-0.003125</td>\n",
       "      <td>-0.002995</td>\n",
       "      <td>...</td>\n",
       "      <td>-0.023968</td>\n",
       "      <td>0.036881</td>\n",
       "      <td>-0.025464</td>\n",
       "      <td>-0.015310</td>\n",
       "      <td>0.031323</td>\n",
       "      <td>0.004171</td>\n",
       "      <td>-0.016361</td>\n",
       "      <td>-0.019913</td>\n",
       "      <td>-0.037601</td>\n",
       "      <td>0.002096</td>\n",
       "    </tr>\n",
       "    <tr>\n",
       "      <th>136227</th>\n",
       "      <td>1987.0</td>\n",
       "      <td>7.4</td>\n",
       "      <td>9.0</td>\n",
       "      <td>0.033750</td>\n",
       "      <td>75.000000</td>\n",
       "      <td>-0.266757</td>\n",
       "      <td>0.003165</td>\n",
       "      <td>-0.020917</td>\n",
       "      <td>-0.003125</td>\n",
       "      <td>-0.002995</td>\n",
       "      <td>...</td>\n",
       "      <td>0.015472</td>\n",
       "      <td>-0.050069</td>\n",
       "      <td>0.015762</td>\n",
       "      <td>-0.035380</td>\n",
       "      <td>-0.033916</td>\n",
       "      <td>-0.018753</td>\n",
       "      <td>-0.004565</td>\n",
       "      <td>0.013226</td>\n",
       "      <td>-0.064336</td>\n",
       "      <td>0.003758</td>\n",
       "    </tr>\n",
       "    <tr>\n",
       "      <th>1686303</th>\n",
       "      <td>2010.0</td>\n",
       "      <td>2.5</td>\n",
       "      <td>127.0</td>\n",
       "      <td>0.000715</td>\n",
       "      <td>92.000000</td>\n",
       "      <td>-0.266757</td>\n",
       "      <td>0.003165</td>\n",
       "      <td>-0.020917</td>\n",
       "      <td>-0.003125</td>\n",
       "      <td>-0.002995</td>\n",
       "      <td>...</td>\n",
       "      <td>0.002609</td>\n",
       "      <td>-0.027212</td>\n",
       "      <td>-0.008744</td>\n",
       "      <td>0.016721</td>\n",
       "      <td>-0.057564</td>\n",
       "      <td>0.060930</td>\n",
       "      <td>-0.001269</td>\n",
       "      <td>-0.062099</td>\n",
       "      <td>-0.033340</td>\n",
       "      <td>0.029117</td>\n",
       "    </tr>\n",
       "    <tr>\n",
       "      <th>1103253</th>\n",
       "      <td>2007.0</td>\n",
       "      <td>6.9</td>\n",
       "      <td>12.0</td>\n",
       "      <td>0.001205</td>\n",
       "      <td>87.957095</td>\n",
       "      <td>-0.266757</td>\n",
       "      <td>0.003165</td>\n",
       "      <td>-0.020917</td>\n",
       "      <td>-0.003125</td>\n",
       "      <td>-0.002995</td>\n",
       "      <td>...</td>\n",
       "      <td>-0.004630</td>\n",
       "      <td>0.001137</td>\n",
       "      <td>0.015534</td>\n",
       "      <td>-0.007925</td>\n",
       "      <td>0.007900</td>\n",
       "      <td>-0.011010</td>\n",
       "      <td>0.000130</td>\n",
       "      <td>0.011633</td>\n",
       "      <td>-0.006502</td>\n",
       "      <td>-0.009786</td>\n",
       "    </tr>\n",
       "    <tr>\n",
       "      <th>459149</th>\n",
       "      <td>1968.0</td>\n",
       "      <td>6.6</td>\n",
       "      <td>13.0</td>\n",
       "      <td>0.000215</td>\n",
       "      <td>5.000000</td>\n",
       "      <td>-0.266757</td>\n",
       "      <td>0.003165</td>\n",
       "      <td>-0.020917</td>\n",
       "      <td>-0.003125</td>\n",
       "      <td>-0.002995</td>\n",
       "      <td>...</td>\n",
       "      <td>0.021210</td>\n",
       "      <td>-0.000370</td>\n",
       "      <td>-0.027514</td>\n",
       "      <td>-0.022457</td>\n",
       "      <td>-0.006109</td>\n",
       "      <td>0.012290</td>\n",
       "      <td>-0.035121</td>\n",
       "      <td>-0.010789</td>\n",
       "      <td>-0.024256</td>\n",
       "      <td>0.001676</td>\n",
       "    </tr>\n",
       "  </tbody>\n",
       "</table>\n",
       "<p>5 rows × 344 columns</p>\n",
       "</div>"
      ],
      "text/plain": [
       "            year  rating  votes  popularity_TMDB  runtime_TMDB  mpaa_PC1  \\\n",
       "imdb_ids                                                                   \n",
       "220440    1982.0     7.8   15.0         0.000008     60.000000 -0.266757   \n",
       "136227    1987.0     7.4    9.0         0.033750     75.000000 -0.266757   \n",
       "1686303   2010.0     2.5  127.0         0.000715     92.000000 -0.266757   \n",
       "1103253   2007.0     6.9   12.0         0.001205     87.957095 -0.266757   \n",
       "459149    1968.0     6.6   13.0         0.000215      5.000000 -0.266757   \n",
       "\n",
       "          mpaa_PC2  mpaa_PC3  mpaa_PC4  mpaa_PC5     ...      text_PC274  \\\n",
       "imdb_ids                                             ...                   \n",
       "220440    0.003165 -0.020917 -0.003125 -0.002995     ...       -0.023968   \n",
       "136227    0.003165 -0.020917 -0.003125 -0.002995     ...        0.015472   \n",
       "1686303   0.003165 -0.020917 -0.003125 -0.002995     ...        0.002609   \n",
       "1103253   0.003165 -0.020917 -0.003125 -0.002995     ...       -0.004630   \n",
       "459149    0.003165 -0.020917 -0.003125 -0.002995     ...        0.021210   \n",
       "\n",
       "          text_PC275  text_PC276  text_PC277  text_PC278  text_PC279  \\\n",
       "imdb_ids                                                               \n",
       "220440      0.036881   -0.025464   -0.015310    0.031323    0.004171   \n",
       "136227     -0.050069    0.015762   -0.035380   -0.033916   -0.018753   \n",
       "1686303    -0.027212   -0.008744    0.016721   -0.057564    0.060930   \n",
       "1103253     0.001137    0.015534   -0.007925    0.007900   -0.011010   \n",
       "459149     -0.000370   -0.027514   -0.022457   -0.006109    0.012290   \n",
       "\n",
       "          text_PC280  text_PC281  text_PC282  text_PC283  \n",
       "imdb_ids                                                  \n",
       "220440     -0.016361   -0.019913   -0.037601    0.002096  \n",
       "136227     -0.004565    0.013226   -0.064336    0.003758  \n",
       "1686303    -0.001269   -0.062099   -0.033340    0.029117  \n",
       "1103253     0.000130    0.011633   -0.006502   -0.009786  \n",
       "459149     -0.035121   -0.010789   -0.024256    0.001676  \n",
       "\n",
       "[5 rows x 344 columns]"
      ]
     },
     "execution_count": 187,
     "metadata": {},
     "output_type": "execute_result"
    }
   ],
   "source": [
    "x_train.head()"
   ]
  },
  {
   "cell_type": "code",
   "execution_count": 188,
   "metadata": {},
   "outputs": [
    {
     "data": {
      "text/html": [
       "<div>\n",
       "<table border=\"1\" class=\"dataframe\">\n",
       "  <thead>\n",
       "    <tr style=\"text-align: right;\">\n",
       "      <th></th>\n",
       "      <th>Act_Adven_West</th>\n",
       "      <th>Mus_Bio_His_War_Doc</th>\n",
       "      <th>Sh_Ani_Fam</th>\n",
       "      <th>Fant_SF</th>\n",
       "      <th>Mys_Cri_Hor_Thr</th>\n",
       "      <th>Romance</th>\n",
       "      <th>Drama</th>\n",
       "      <th>Comedy</th>\n",
       "    </tr>\n",
       "    <tr>\n",
       "      <th>Unnamed: 0.1</th>\n",
       "      <th></th>\n",
       "      <th></th>\n",
       "      <th></th>\n",
       "      <th></th>\n",
       "      <th></th>\n",
       "      <th></th>\n",
       "      <th></th>\n",
       "      <th></th>\n",
       "    </tr>\n",
       "  </thead>\n",
       "  <tbody>\n",
       "    <tr>\n",
       "      <th>220440</th>\n",
       "      <td>0</td>\n",
       "      <td>1</td>\n",
       "      <td>0</td>\n",
       "      <td>0</td>\n",
       "      <td>0</td>\n",
       "      <td>0</td>\n",
       "      <td>0</td>\n",
       "      <td>0</td>\n",
       "    </tr>\n",
       "    <tr>\n",
       "      <th>136227</th>\n",
       "      <td>0</td>\n",
       "      <td>0</td>\n",
       "      <td>0</td>\n",
       "      <td>0</td>\n",
       "      <td>0</td>\n",
       "      <td>0</td>\n",
       "      <td>0</td>\n",
       "      <td>0</td>\n",
       "    </tr>\n",
       "    <tr>\n",
       "      <th>1686303</th>\n",
       "      <td>0</td>\n",
       "      <td>0</td>\n",
       "      <td>0</td>\n",
       "      <td>0</td>\n",
       "      <td>1</td>\n",
       "      <td>0</td>\n",
       "      <td>0</td>\n",
       "      <td>1</td>\n",
       "    </tr>\n",
       "    <tr>\n",
       "      <th>1103253</th>\n",
       "      <td>0</td>\n",
       "      <td>0</td>\n",
       "      <td>0</td>\n",
       "      <td>0</td>\n",
       "      <td>0</td>\n",
       "      <td>0</td>\n",
       "      <td>1</td>\n",
       "      <td>0</td>\n",
       "    </tr>\n",
       "    <tr>\n",
       "      <th>459149</th>\n",
       "      <td>1</td>\n",
       "      <td>0</td>\n",
       "      <td>1</td>\n",
       "      <td>0</td>\n",
       "      <td>0</td>\n",
       "      <td>0</td>\n",
       "      <td>1</td>\n",
       "      <td>0</td>\n",
       "    </tr>\n",
       "  </tbody>\n",
       "</table>\n",
       "</div>"
      ],
      "text/plain": [
       "              Act_Adven_West  Mus_Bio_His_War_Doc  Sh_Ani_Fam  Fant_SF  \\\n",
       "Unnamed: 0.1                                                             \n",
       "220440                     0                    1           0        0   \n",
       "136227                     0                    0           0        0   \n",
       "1686303                    0                    0           0        0   \n",
       "1103253                    0                    0           0        0   \n",
       "459149                     1                    0           1        0   \n",
       "\n",
       "              Mys_Cri_Hor_Thr  Romance  Drama  Comedy  \n",
       "Unnamed: 0.1                                           \n",
       "220440                      0        0      0       0  \n",
       "136227                      0        0      0       0  \n",
       "1686303                     1        0      0       1  \n",
       "1103253                     0        0      1       0  \n",
       "459149                      0        0      1       0  "
      ]
     },
     "execution_count": 188,
     "metadata": {},
     "output_type": "execute_result"
    }
   ],
   "source": [
    "y_train.head()"
   ]
  },
  {
   "cell_type": "code",
   "execution_count": 189,
   "metadata": {
    "collapsed": true
   },
   "outputs": [],
   "source": [
    "### standardize\n",
    "scaler = preprocessing .StandardScaler().fit(x_train)\n",
    "x_train_np = scaler.transform(x_train)\n",
    "x_test_np = scaler.transform(x_test)\n",
    "\n",
    "indexs_train = x_train.index\n",
    "indexs_test = x_test.index\n",
    "x_train = pd.DataFrame(x_train_np, index = indexs_train, columns = x_train.columns)\n",
    "x_test = pd.DataFrame(x_test_np, index = indexs_test, columns = x_test.columns)"
   ]
  },
  {
   "cell_type": "markdown",
   "metadata": {},
   "source": [
    "## 3.1 Baseline Model\n",
    "We'll quickly go through classification models without feature selection or model tuning, and have a sense of their base peformance."
   ]
  },
  {
   "cell_type": "markdown",
   "metadata": {},
   "source": [
    "#### methods support multilabel classification:"
   ]
  },
  {
   "cell_type": "code",
   "execution_count": 190,
   "metadata": {},
   "outputs": [
    {
     "name": "stdout",
     "output_type": "stream",
     "text": [
      "F1 Score: 0.243856036762\n"
     ]
    }
   ],
   "source": [
    "# KNN\n",
    "random.seed(0)\n",
    "knn = KNN(n_neighbors=1)\n",
    "knn.fit(x_train, y_train)\n",
    "y_pred = knn.predict(x_test)\n",
    "y_pred= pd.DataFrame(y_pred, columns = y_test.columns.values)\n",
    "\n",
    "score_knn = f1_genres(y_test, y_pred)\n",
    "print \"F1 Score:\", score_knn"
   ]
  },
  {
   "cell_type": "code",
   "execution_count": 191,
   "metadata": {},
   "outputs": [
    {
     "name": "stdout",
     "output_type": "stream",
     "text": [
      "F1 Score: 0.394552430286\n"
     ]
    }
   ],
   "source": [
    "# Decision Tree\n",
    "random.seed(0)\n",
    "tree = DecisionTree(max_depth=6)\n",
    "tree.fit(x_train, y_train)\n",
    "\n",
    "y_pred = tree.predict(x_test)\n",
    "y_pred= pd.DataFrame(y_pred, columns = y_test.columns.values)\n",
    "\n",
    "score_tree = f1_genres(y_test, y_pred)\n",
    "print \"F1 Score:\", score_tree"
   ]
  },
  {
   "cell_type": "code",
   "execution_count": 193,
   "metadata": {},
   "outputs": [
    {
     "name": "stdout",
     "output_type": "stream",
     "text": [
      "F1 Score: 0.275903020404\n"
     ]
    }
   ],
   "source": [
    "# Random Forest\n",
    "random.seed(0)\n",
    "rf = RandomForest()\n",
    "rf.fit(x_train, y_train)\n",
    "\n",
    "y_pred = rf.predict(x_test)\n",
    "y_pred= pd.DataFrame(y_pred, columns = y_test.columns.values)\n",
    "\n",
    "score_rf = f1_genres(y_test, y_pred)\n",
    "print \"F1 Score:\", score_rf"
   ]
  },
  {
   "cell_type": "markdown",
   "metadata": {},
   "source": [
    "#### Other classifiers that don't support multilabel classification, thus need to fit classifier for each genre, then combine:"
   ]
  },
  {
   "cell_type": "code",
   "execution_count": 194,
   "metadata": {},
   "outputs": [
    {
     "name": "stdout",
     "output_type": "stream",
     "text": [
      "F1 Score: 0.586089398948\n"
     ]
    }
   ],
   "source": [
    "# Unweighted logistic regression\n",
    "random.seed(123)\n",
    "\n",
    "genre_pred = pd.DataFrame(index = x_test.index) # dataframe to store predicted values\n",
    "\n",
    "for col in y_train.columns:\n",
    "    unweighted_logistic = LogisticRegression()\n",
    "    unweighted_logistic.fit(x_train, y_train[col])\n",
    "    genre_pred[col]= unweighted_logistic.predict(x_test)\n",
    "\n",
    "score_unweighted_log = f1_genres(y_test, genre_pred)\n",
    "print \"F1 Score:\", score_unweighted_log"
   ]
  },
  {
   "cell_type": "code",
   "execution_count": 195,
   "metadata": {},
   "outputs": [
    {
     "name": "stdout",
     "output_type": "stream",
     "text": [
      "F1 Score: 0.587911244622\n"
     ]
    }
   ],
   "source": [
    "# weighted logistic regression\n",
    "random.seed(42)\n",
    "genre_pred = pd.DataFrame(index = x_test.index) # dataframe to store predicted values\n",
    "\n",
    "for col in y_train.columns:\n",
    "    weighted_logistic = LogisticRegression(class_weight='balanced')\n",
    "    weighted_logistic.fit(x_train, y_train[col])\n",
    "    genre_pred[col]= weighted_logistic.predict(x_test)\n",
    "\n",
    "score_weighted_log = f1_genres(y_test, genre_pred)\n",
    "print \"F1 Score:\", score_weighted_log"
   ]
  },
  {
   "cell_type": "code",
   "execution_count": 196,
   "metadata": {},
   "outputs": [
    {
     "name": "stdout",
     "output_type": "stream",
     "text": [
      "F1 Score: 0.579513501777\n"
     ]
    }
   ],
   "source": [
    "#LDA\n",
    "random.seed(0)\n",
    "genre_pred = pd.DataFrame(index = x_test.index) # dataframe to store predicted values\n",
    "\n",
    "for col in y_train.columns:\n",
    "    lda = LDA()\n",
    "    lda.fit(x_train, y_train[col])\n",
    "    genre_pred[col]= lda.predict(x_test)\n",
    "\n",
    "score_lda = f1_genres(y_test, genre_pred)\n",
    "print \"F1 Score:\", score_lda"
   ]
  },
  {
   "cell_type": "code",
   "execution_count": 197,
   "metadata": {},
   "outputs": [
    {
     "name": "stdout",
     "output_type": "stream",
     "text": [
      "F1 Score: 0.369604677961\n"
     ]
    }
   ],
   "source": [
    "#QDA\n",
    "random.seed(0)\n",
    "genre_pred = pd.DataFrame(index = x_test.index) # dataframe to store predicted values\n",
    "\n",
    "for col in y_train.columns:\n",
    "    qda = QDA()\n",
    "    qda.fit(x_train, y_train[col])\n",
    "    genre_pred[col]= qda.predict(x_test)\n",
    "\n",
    "score_qda = f1_genres(y_test, genre_pred)\n",
    "print \"F1 Score:\", score_qda"
   ]
  },
  {
   "cell_type": "code",
   "execution_count": 274,
   "metadata": {},
   "outputs": [
    {
     "name": "stdout",
     "output_type": "stream",
     "text": [
      "F1 Score: 0.577339818939\n"
     ]
    }
   ],
   "source": [
    "# SVM\n",
    "random.seed(0)\n",
    "genre_pred = pd.DataFrame(index = x_test.index) # dataframe to store predicted values\n",
    "\n",
    "for col in y_train.columns:\n",
    "    svm = SVC(C=5, class_weight='balanced')\n",
    "    svm.fit(x_train, y_train[col])\n",
    "    genre_pred[col]= svm.predict(x_test)\n",
    "\n",
    "score_svm_nottuned = f1_genres(y_test, genre_pred)\n",
    "print \"F1 Score:\", score_svm_nottuned"
   ]
  },
  {
   "cell_type": "code",
   "execution_count": 275,
   "metadata": {},
   "outputs": [
    {
     "data": {
      "text/html": [
       "<div>\n",
       "<table border=\"1\" class=\"dataframe\">\n",
       "  <thead>\n",
       "    <tr style=\"text-align: right;\">\n",
       "      <th></th>\n",
       "      <th>KNN</th>\n",
       "      <th>LDA</th>\n",
       "      <th>QDA</th>\n",
       "      <th>RF</th>\n",
       "      <th>Tree</th>\n",
       "      <th>Tuned SVM</th>\n",
       "      <th>Unweighted Logistic</th>\n",
       "      <th>Weighted Logistic</th>\n",
       "      <th>Weighted SVM</th>\n",
       "    </tr>\n",
       "  </thead>\n",
       "  <tbody>\n",
       "    <tr>\n",
       "      <th>f1_score</th>\n",
       "      <td>0.243856</td>\n",
       "      <td>0.579514</td>\n",
       "      <td>0.369605</td>\n",
       "      <td>0.275903</td>\n",
       "      <td>0.394552</td>\n",
       "      <td>0.608692</td>\n",
       "      <td>0.586089</td>\n",
       "      <td>0.587911</td>\n",
       "      <td>0.57734</td>\n",
       "    </tr>\n",
       "  </tbody>\n",
       "</table>\n",
       "</div>"
      ],
      "text/plain": [
       "               KNN       LDA       QDA        RF      Tree  Tuned SVM  \\\n",
       "f1_score  0.243856  0.579514  0.369605  0.275903  0.394552   0.608692   \n",
       "\n",
       "          Unweighted Logistic  Weighted Logistic  Weighted SVM  \n",
       "f1_score             0.586089           0.587911       0.57734  "
      ]
     },
     "execution_count": 275,
     "metadata": {},
     "output_type": "execute_result"
    }
   ],
   "source": [
    "#Score Dataframe\n",
    "score_df = pd.DataFrame({'KNN': score_knn, \n",
    "                         'Tree': score_tree,\n",
    "                         'RF': score_rf,\n",
    "                         'Unweighted Logistic': score_unweighted_log,\n",
    "                         'Weighted Logistic': score_weighted_log,\n",
    "                         'LDA': score_lda,\n",
    "                         'QDA': score_qda,                        \n",
    "                         'Weighted SVM': score_svm_nottuned,\n",
    "                        'Tuned SVM':score_svm}, index = ['f1_score'])\n",
    "score_df"
   ]
  },
  {
   "cell_type": "code",
   "execution_count": 279,
   "metadata": {},
   "outputs": [
    {
     "data": {
      "image/png": "[encoded data removed]",
      "text/plain": [
       "<matplotlib.figure.Figure at 0x116c7ce50>"
      ]
     },
     "metadata": {},
     "output_type": "display_data"
    }
   ],
   "source": [
    "# score_df.plot(kind = \"bar\")\n",
    "# plt.title(\"Model Score for Un-tuned Baseline Models\")\n",
    "# plt.show()\n",
    "\n",
    "\n",
    "\n",
    "fig, ax = plt.subplots(figsize=(18,5))\n",
    "\n",
    "ax = sns.barplot(data=score_df,\n",
    "                 order = ['KNN', 'RF', 'QDA', 'Tree',\n",
    "                          'Weighted SVM', 'LDA', 'Unweighted Logistic', 'Weighted Logistic','Tuned SVM'])\n",
    "ax.set_ylabel('Score', fontsize = 25)\n",
    "ax.set_title('Model Score for Baseline Models', fontsize = 25)\n",
    "plt.xticks(rotation=10,fontsize = 25)\n",
    "plt.show()\n"
   ]
  },
  {
   "cell_type": "markdown",
   "metadata": {},
   "source": [
    "## 3.2 SVM"
   ]
  },
  {
   "cell_type": "code",
   "execution_count": 271,
   "metadata": {},
   "outputs": [
    {
     "name": "stdout",
     "output_type": "stream",
     "text": [
      "Act_Adven_West 1\n",
      "Mus_Bio_His_War_Doc 1\n",
      "Sh_Ani_Fam 1\n",
      "Fant_SF 1\n",
      "Mys_Cri_Hor_Thr 1\n",
      "Romance 1\n",
      "Drama 1\n",
      "Comedy 1\n",
      "0.608691818274\n"
     ]
    }
   ],
   "source": [
    "genre_pred = pd.DataFrame(index = x_test.index) # dataframe to store predicted values\n",
    "c = range(-7, 7)\n",
    "\n",
    "for col in y_train.columns:\n",
    "    k_cv = 5\n",
    "    score_cv = []\n",
    "    for i in range(len(c)):\n",
    "        # fit regularized logistic regression model on training set      \n",
    "        svm = SVC(C=10**c[i], class_weight='balanced')\n",
    "        score_cv += [sum(cross_val_score(svm, x_train, y_train[col], cv = k_cv, scoring = F_score_cv)) / k_cv]\n",
    "    # find best score and corresponding tuning parameter\n",
    "    C_best = 10**c[np.argmax(score_cv)]\n",
    "    print col, C_best\n",
    "    svm = SVC(class_weight='balanced',  C = C_best)\n",
    "    svm.fit(x_train, y_train[col])\n",
    "    genre_pred[col]= svm.predict(x_test)\n",
    "\n",
    "score_svm = f1_genres(y_test, genre_pred)\n",
    "print score_svm"
   ]
  },
  {
   "cell_type": "markdown",
   "metadata": {},
   "source": [
    "The F1 score of tuned SVM is: 0.6087"
   ]
  }
 ],
 "metadata": {
  "anaconda-cloud": {},
  "kernelspec": {
   "display_name": "cs109_cpu",
   "language": "python",
   "name": "cs109_cpu"
  },
  "language_info": {
   "codemirror_mode": {
    "name": "ipython",
    "version": 3
   },
   "file_extension": ".py",
   "mimetype": "text/x-python",
   "name": "python",
   "nbconvert_exporter": "python",
   "pygments_lexer": "ipython3",
   "version": "3.6.0"
  }
 },
 "nbformat": 4,
 "nbformat_minor": 1
}
